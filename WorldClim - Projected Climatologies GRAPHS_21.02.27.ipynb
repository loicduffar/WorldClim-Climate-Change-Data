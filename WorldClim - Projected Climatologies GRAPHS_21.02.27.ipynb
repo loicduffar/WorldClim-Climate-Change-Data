{
 "cells": [
  {
   "cell_type": "markdown",
   "metadata": {},
   "source": [
    "# WorlClim data : Historical & future precipitations (1970-2100) - GRAPHS\n",
    "## 4 SSP scenarios and 9 Global Climatic Models\n",
    "- Data: https://www.worldclim.org/data/index.html\n",
    "- author: Loïc Duffar https://github.com/loicduffar\n",
    "\n",
    "This python notebook uses data from the wordclim web site to compute the evolution of future precipitation on a given watershed (average of the pixels inside the polygon). The ouputs are stored in an excel file.\n",
    "\n",
    "\n",
    "### How to PROCEED ?\n",
    "The data files must be divided into different sub-folders:\n",
    "- a folder containing the 12 tif files of historical monthly interannual averages (1 file per month of the year)\n",
    "- a folder with 4 sub-folders for the various future periods (1921-1940, 1961-1981, 1981-2100). Each folder contains 4 tif files for each model (and each file contains 12 bands for the the different months).\n",
    "\n",
    "Then run cells in order:\n",
    "- <a href=#section01>1)</a> Historical interannual monthly mean 1970-2000\n",
    "- <a href=#section02>2)</a> Future precipitations\n",
    "- <a href=#section03>3)</a> Multi index by Model, Scenario and Period\n",
    "- <a href=#section04>4)</a> Concatenate historical and future precipitation in a single dataframe\n",
    "- <a href=#section05>5)</a> Plot annual evolution of annual precipitation in future, according to all SSP scenarios and all GCM\n",
    "- <a href=#section06>6)</a> Plot future evolution for each month, according to 4 SSP scenarios and 9 GCMs\n",
    "- <a href=#section07>7)</a> Store statistics in a dataframe\n",
    "- <a href=#section08>8)</a> Plot montly projections (all SSP scenarios and GCMs)\n",
    "- <a href=#section09>9)</a> Store all outputs in an excel file"
   ]
  },
  {
   "cell_type": "markdown",
   "metadata": {},
   "source": [
    "###  <a name=section01></a>1) Historical interannual monthly mean 1970-2000\n",
    "Customize the code below with...\n",
    "- folder path for historical tif files, \n",
    "- folder path for output files, \n",
    "- path of the polygon file (folder and file name) for the calculation of the mean water depth"
   ]
  },
  {
   "cell_type": "code",
   "execution_count": 2,
   "metadata": {},
   "outputs": [
    {
     "name": "stderr",
     "output_type": "stream",
     "text": [
      "Unable to open EPSG support file gcs.csv.  Try setting the GDAL_DATA environment variable to point to the directory containing EPSG csv files.\n"
     ]
    },
    {
     "name": "stdout",
     "output_type": "stream",
     "text": [
      "Process started. Please wait the ending message ... \n",
      "Process completed in  0.012135254200000152  minutes\n"
     ]
    },
    {
     "data": {
      "text/html": [
       "<div>\n",
       "<style scoped>\n",
       "    .dataframe tbody tr th:only-of-type {\n",
       "        vertical-align: middle;\n",
       "    }\n",
       "\n",
       "    .dataframe tbody tr th {\n",
       "        vertical-align: top;\n",
       "    }\n",
       "\n",
       "    .dataframe thead th {\n",
       "        text-align: right;\n",
       "    }\n",
       "</style>\n",
       "<table border=\"1\" class=\"dataframe\">\n",
       "  <thead>\n",
       "    <tr style=\"text-align: right;\">\n",
       "      <th></th>\n",
       "      <th>1</th>\n",
       "      <th>2</th>\n",
       "      <th>3</th>\n",
       "      <th>4</th>\n",
       "      <th>5</th>\n",
       "      <th>6</th>\n",
       "      <th>7</th>\n",
       "      <th>8</th>\n",
       "      <th>9</th>\n",
       "      <th>10</th>\n",
       "      <th>11</th>\n",
       "      <th>12</th>\n",
       "      <th>Annual</th>\n",
       "    </tr>\n",
       "  </thead>\n",
       "  <tbody>\n",
       "    <tr>\n",
       "      <th>1970-2000 Mean</th>\n",
       "      <td>19.2</td>\n",
       "      <td>25.0</td>\n",
       "      <td>42.6</td>\n",
       "      <td>88.8</td>\n",
       "      <td>170.7</td>\n",
       "      <td>114.8</td>\n",
       "      <td>86.1</td>\n",
       "      <td>133.3</td>\n",
       "      <td>149.4</td>\n",
       "      <td>153.3</td>\n",
       "      <td>71.6</td>\n",
       "      <td>29.8</td>\n",
       "      <td>1084.6</td>\n",
       "    </tr>\n",
       "  </tbody>\n",
       "</table>\n",
       "</div>"
      ],
      "text/plain": [
       "                   1     2     3     4      5      6     7      8      9  \\\n",
       "1970-2000 Mean  19.2  25.0  42.6  88.8  170.7  114.8  86.1  133.3  149.4   \n",
       "\n",
       "                   10    11    12  Annual  \n",
       "1970-2000 Mean  153.3  71.6  29.8  1084.6  "
      ]
     },
     "metadata": {},
     "output_type": "display_data"
    },
    {
     "data": {
      "image/png": "[encoded data removed]",
      "text/plain": [
       "<Figure size 432x288 with 1 Axes>"
      ]
     },
     "metadata": {},
     "output_type": "display_data"
    }
   ],
   "source": [
    "\"\"\"\n",
    "Created on January 2021\n",
    "@author: Loïc Duffar\n",
    "\"\"\"\n",
    "import os\n",
    "import glob2\n",
    "import rasterstats\n",
    "import pandas as pd\n",
    "import matplotlib.pyplot as plt\n",
    "import seaborn as sns\n",
    "\n",
    "# +++++++ Customization\n",
    "# ....... folder path for the historical tif files (WITHOUT \"\\\" CHARACTER AT THE END !!!)\n",
    "fld_in = r'D:\\Documents\\A\\Download\\Hydro-Climato\\WorldClim\\Min, max, moy 1970-2000\\wc2.1_30s_prec'\n",
    "# ....... folder path for the output files (WITHOUT \"\\\" CHARACTER AT THE END !!!)\n",
    "fld_out = r'C:\\Users\\duffar\\Documents\\A\\ETUDES\\2021 Yaque del Sur'\n",
    "# ....... Polygon file (shape file) for plotting and average computation (path INCLUDING folder)\n",
    "polygon_file = r'C:\\Users\\DUFFAR\\Documents\\A\\ETUDES\\2021 Yaque del Sur\\Carto\\Subcuencas_YaqueSur.shp'\n",
    "historical_period = '1970-2000'\n",
    "\n",
    "# +++++++ initialisation\n",
    "annual_label= 'Annual'\n",
    "baseline_label= historical_period + ' Mean'\n",
    "\n",
    "# +++++++ Polygon averaged\n",
    "print('Process started. Please wait the ending message ... ')\n",
    "start = timeit.default_timer()\n",
    "\n",
    "results = []\n",
    "# Loop on raster files (1 file per month)\n",
    "for raster_file in glob2.glob(os.path.join(fld_in, '*.tif')):\n",
    "    res = rasterstats.zonal_stats(polygon_file, raster_file, stats=['mean'])\n",
    "    results.append(round(res[0]['mean'], 1))\n",
    "stop = timeit.default_timer()\n",
    "print('Process completed in ', (stop - start)/60, ' minutes')\n",
    "\n",
    "df = pd.Series(results, index= range(1, 13), name= baseline_label).to_frame().transpose()\n",
    "sns.set_theme()\n",
    "df.transpose().plot(xticks= range(1, 13), grid= True,title= \"Historical mean by month (1970-2000)\", ylabel= \"mm\", legend= False)\n",
    "file_historical = 'WorldClim - historical.png'\n",
    "plt.savefig(os.path.join(fld_out, file_historical), ) # bbox_inches= 'tight' argument optionnel pour limiter la largeur des marges au minimum nécessaire\n",
    "df[annual_label] = df.sum(axis= 1)\n",
    "df_historical= df.copy()\n",
    "display(df_historical)"
   ]
  },
  {
   "cell_type": "markdown",
   "metadata": {},
   "source": [
    "### <a name=section02></a>2) Future precipitations\n",
    "Customize the code below with....\n",
    "- folder path for future tif files (folder containing 4 sub-folders for the 4 future periods)\n",
    "- Prefix of the file name (begining of the file name, depending on the version of wordclim data, and the resolution of the rasters)\n",
    "- List of the models e.g. ['BCC-CSM2-MR', 'CNRM-CM6-1', ....] (left-middle of the file name)\n",
    "- List of the SSP scenarios e.g. ['ssp126', 'ssp245', 'ssp370', 'ssp585'] (right-middle of the file name)\n",
    "- List of the future periods e.g. ['2021-2040', '2041-2060', '2061-2080', '2081-2100'] (end of the file name)"
   ]
  },
  {
   "cell_type": "code",
   "execution_count": 18,
   "metadata": {},
   "outputs": [
    {
     "name": "stdout",
     "output_type": "stream",
     "text": [
      "Process started. Please wait the ending message ... \n",
      "Period -------------- 2021-2040\n",
      "Period -------------- 2041-2060\n",
      "Period -------------- 2061-2080\n",
      "Period -------------- 2081-2100\n",
      "Process completed in  0:00:23.156141\n"
     ]
    },
    {
     "data": {
      "text/html": [
       "<div>\n",
       "<style scoped>\n",
       "    .dataframe tbody tr th:only-of-type {\n",
       "        vertical-align: middle;\n",
       "    }\n",
       "\n",
       "    .dataframe tbody tr th {\n",
       "        vertical-align: top;\n",
       "    }\n",
       "\n",
       "    .dataframe thead th {\n",
       "        text-align: right;\n",
       "    }\n",
       "</style>\n",
       "<table border=\"1\" class=\"dataframe\">\n",
       "  <thead>\n",
       "    <tr style=\"text-align: right;\">\n",
       "      <th></th>\n",
       "      <th>1</th>\n",
       "      <th>2</th>\n",
       "      <th>3</th>\n",
       "      <th>4</th>\n",
       "      <th>5</th>\n",
       "      <th>6</th>\n",
       "      <th>7</th>\n",
       "      <th>8</th>\n",
       "      <th>9</th>\n",
       "      <th>10</th>\n",
       "      <th>11</th>\n",
       "      <th>12</th>\n",
       "      <th>Annual</th>\n",
       "    </tr>\n",
       "  </thead>\n",
       "  <tbody>\n",
       "    <tr>\n",
       "      <th>2021-2040 ssp126 BCC-CSM2-MR</th>\n",
       "      <td>22.6</td>\n",
       "      <td>22.5</td>\n",
       "      <td>46.9</td>\n",
       "      <td>91.4</td>\n",
       "      <td>163.0</td>\n",
       "      <td>108.0</td>\n",
       "      <td>82.0</td>\n",
       "      <td>128.4</td>\n",
       "      <td>148.8</td>\n",
       "      <td>142.1</td>\n",
       "      <td>68.7</td>\n",
       "      <td>27.7</td>\n",
       "      <td>1052.1</td>\n",
       "    </tr>\n",
       "    <tr>\n",
       "      <th>2021-2040 ssp245 BCC-CSM2-MR</th>\n",
       "      <td>18.6</td>\n",
       "      <td>24.7</td>\n",
       "      <td>42.0</td>\n",
       "      <td>87.7</td>\n",
       "      <td>164.4</td>\n",
       "      <td>103.5</td>\n",
       "      <td>81.3</td>\n",
       "      <td>131.4</td>\n",
       "      <td>126.1</td>\n",
       "      <td>152.2</td>\n",
       "      <td>68.7</td>\n",
       "      <td>26.1</td>\n",
       "      <td>1026.7</td>\n",
       "    </tr>\n",
       "    <tr>\n",
       "      <th>2021-2040 ssp370 BCC-CSM2-MR</th>\n",
       "      <td>19.3</td>\n",
       "      <td>24.9</td>\n",
       "      <td>47.1</td>\n",
       "      <td>82.7</td>\n",
       "      <td>154.4</td>\n",
       "      <td>108.4</td>\n",
       "      <td>84.1</td>\n",
       "      <td>124.8</td>\n",
       "      <td>133.4</td>\n",
       "      <td>146.6</td>\n",
       "      <td>76.2</td>\n",
       "      <td>26.9</td>\n",
       "      <td>1028.8</td>\n",
       "    </tr>\n",
       "    <tr>\n",
       "      <th>2021-2040 ssp585 BCC-CSM2-MR</th>\n",
       "      <td>19.2</td>\n",
       "      <td>23.3</td>\n",
       "      <td>47.8</td>\n",
       "      <td>87.6</td>\n",
       "      <td>166.4</td>\n",
       "      <td>105.5</td>\n",
       "      <td>81.9</td>\n",
       "      <td>122.1</td>\n",
       "      <td>131.8</td>\n",
       "      <td>147.1</td>\n",
       "      <td>67.2</td>\n",
       "      <td>27.2</td>\n",
       "      <td>1027.1</td>\n",
       "    </tr>\n",
       "    <tr>\n",
       "      <th>2021-2040 ssp126 CNRM-CM6-1</th>\n",
       "      <td>19.6</td>\n",
       "      <td>24.6</td>\n",
       "      <td>43.5</td>\n",
       "      <td>87.0</td>\n",
       "      <td>162.9</td>\n",
       "      <td>109.4</td>\n",
       "      <td>81.4</td>\n",
       "      <td>134.5</td>\n",
       "      <td>146.4</td>\n",
       "      <td>158.3</td>\n",
       "      <td>77.7</td>\n",
       "      <td>28.6</td>\n",
       "      <td>1073.9</td>\n",
       "    </tr>\n",
       "  </tbody>\n",
       "</table>\n",
       "</div>"
      ],
      "text/plain": [
       "                                 1     2     3     4      5      6     7  \\\n",
       "2021-2040 ssp126 BCC-CSM2-MR  22.6  22.5  46.9  91.4  163.0  108.0  82.0   \n",
       "2021-2040 ssp245 BCC-CSM2-MR  18.6  24.7  42.0  87.7  164.4  103.5  81.3   \n",
       "2021-2040 ssp370 BCC-CSM2-MR  19.3  24.9  47.1  82.7  154.4  108.4  84.1   \n",
       "2021-2040 ssp585 BCC-CSM2-MR  19.2  23.3  47.8  87.6  166.4  105.5  81.9   \n",
       "2021-2040 ssp126 CNRM-CM6-1   19.6  24.6  43.5  87.0  162.9  109.4  81.4   \n",
       "\n",
       "                                  8      9     10    11    12  Annual  \n",
       "2021-2040 ssp126 BCC-CSM2-MR  128.4  148.8  142.1  68.7  27.7  1052.1  \n",
       "2021-2040 ssp245 BCC-CSM2-MR  131.4  126.1  152.2  68.7  26.1  1026.7  \n",
       "2021-2040 ssp370 BCC-CSM2-MR  124.8  133.4  146.6  76.2  26.9  1028.8  \n",
       "2021-2040 ssp585 BCC-CSM2-MR  122.1  131.8  147.1  67.2  27.2  1027.1  \n",
       "2021-2040 ssp126 CNRM-CM6-1   134.5  146.4  158.3  77.7  28.6  1073.9  "
      ]
     },
     "metadata": {},
     "output_type": "display_data"
    }
   ],
   "source": [
    "\"\"\"\n",
    "Created on January 2021\n",
    "@author: Loïc Duffar\n",
    "\"\"\"\n",
    "import math\n",
    "import datetime\n",
    "\n",
    "# +++++++ Customization\n",
    "# ....... folder path for the tif files (WITHOUT \"\\\" CHARACTER AT THE END !!!)\n",
    "fld_in = r'D:\\Documents\\A\\Download\\Hydro-Climato\\WorldClim\\Future data'\n",
    "# ....... Polygon file (shape file) for plotting and average computation (path INCLUDING folder)\n",
    "polygon_file = r'C:\\Users\\DUFFAR\\Documents\\A\\ETUDES\\2021 Yaque del Sur\\Carto\\Subcuencas_YaqueSur.shp'\n",
    "\n",
    "# ....... Composition of the tif file names\n",
    "prefix = 'wc2.1_5m_prec'\n",
    "gcm_list = ['BCC-CSM2-MR', 'CNRM-CM6-1', 'CNRM-ESM2-1', 'CanESM5', 'GFDL-ESM4']\n",
    "ssp_list = ['ssp126', 'ssp245', 'ssp370', 'ssp585']\n",
    "ssp_list_long = ['ssp1-2.6', 'ssp2-4.5', 'ssp3-7.0', 'ssp5-8.5']\n",
    "period_list = ['2021-2040', '2041-2060', '2061-2080', '2081-2100']\n",
    "\n",
    "# +++++++ Polygon averaged\n",
    "print('Process started. Please wait the ending message ... ')\n",
    "start= datetime.datetime.now()# Start Timer\n",
    "\n",
    "# +++++++ Process\n",
    "series = []\n",
    "for period in period_list:\n",
    "    path = fld_in + '/' + period\n",
    "    print('Period --------------', period)\n",
    "    for gcm in gcm_list:\n",
    "        for scenario in ssp_list:\n",
    "            file = os.path.join(path, '_'.join([prefix, gcm, scenario, period]) + '.tif')\n",
    "            if not os.path.exists(file):\n",
    "                serie= pd.Series([math.nan for i in range(1, 13)], index= range(1, 13), name= ' '.join([period, scenario, gcm]))\n",
    "            else:\n",
    "                results = []\n",
    "                # Loop over months (1 month by file band)\n",
    "                for band in range(1, 13):\n",
    "                    res = rasterstats.zonal_stats(polygon_file, file, stats=['mean'], band= band)\n",
    "                    results.append(round(res[0]['mean'], 1))\n",
    "                serie = pd.Series(results, index= range(1, 13), name= ' '.join([period, scenario, gcm]))\n",
    "            series.append(serie)\n",
    "\n",
    "df = pd.DataFrame(series)\n",
    "df[annual_label] = df.sum(axis= 1, skipna= False)\n",
    "\n",
    "stop = timeit.default_timer()\n",
    "print(\"Process completed in \", datetime.datetime.now()-start)\n",
    "df_future= df.copy()\n",
    "display(df_future.head())"
   ]
  },
  {
   "cell_type": "markdown",
   "metadata": {},
   "source": [
    "### <a name=section03></a>3) Create multi index for the dataframe (by Model, Scenario and Period)"
   ]
  },
  {
   "cell_type": "code",
   "execution_count": 4,
   "metadata": {},
   "outputs": [
    {
     "data": {
      "text/html": [
       "<div>\n",
       "<style scoped>\n",
       "    .dataframe tbody tr th:only-of-type {\n",
       "        vertical-align: middle;\n",
       "    }\n",
       "\n",
       "    .dataframe tbody tr th {\n",
       "        vertical-align: top;\n",
       "    }\n",
       "\n",
       "    .dataframe thead th {\n",
       "        text-align: right;\n",
       "    }\n",
       "</style>\n",
       "<table border=\"1\" class=\"dataframe\">\n",
       "  <thead>\n",
       "    <tr style=\"text-align: right;\">\n",
       "      <th></th>\n",
       "      <th></th>\n",
       "      <th></th>\n",
       "      <th>1</th>\n",
       "      <th>2</th>\n",
       "      <th>3</th>\n",
       "      <th>4</th>\n",
       "      <th>5</th>\n",
       "      <th>6</th>\n",
       "      <th>7</th>\n",
       "      <th>8</th>\n",
       "      <th>9</th>\n",
       "      <th>10</th>\n",
       "      <th>11</th>\n",
       "      <th>12</th>\n",
       "      <th>Annual</th>\n",
       "    </tr>\n",
       "    <tr>\n",
       "      <th>Model</th>\n",
       "      <th>Scenario</th>\n",
       "      <th>Period</th>\n",
       "      <th></th>\n",
       "      <th></th>\n",
       "      <th></th>\n",
       "      <th></th>\n",
       "      <th></th>\n",
       "      <th></th>\n",
       "      <th></th>\n",
       "      <th></th>\n",
       "      <th></th>\n",
       "      <th></th>\n",
       "      <th></th>\n",
       "      <th></th>\n",
       "      <th></th>\n",
       "    </tr>\n",
       "  </thead>\n",
       "  <tbody>\n",
       "    <tr>\n",
       "      <th rowspan=\"5\" valign=\"top\">BCC-CSM2-MR</th>\n",
       "      <th rowspan=\"4\" valign=\"top\">ssp126</th>\n",
       "      <th>2021-2040</th>\n",
       "      <td>22.6</td>\n",
       "      <td>22.5</td>\n",
       "      <td>46.9</td>\n",
       "      <td>91.4</td>\n",
       "      <td>163.0</td>\n",
       "      <td>108.0</td>\n",
       "      <td>82.0</td>\n",
       "      <td>128.4</td>\n",
       "      <td>148.8</td>\n",
       "      <td>142.1</td>\n",
       "      <td>68.7</td>\n",
       "      <td>27.7</td>\n",
       "      <td>1052.1</td>\n",
       "    </tr>\n",
       "    <tr>\n",
       "      <th>2041-2060</th>\n",
       "      <td>18.8</td>\n",
       "      <td>23.7</td>\n",
       "      <td>38.2</td>\n",
       "      <td>81.3</td>\n",
       "      <td>156.0</td>\n",
       "      <td>108.9</td>\n",
       "      <td>79.7</td>\n",
       "      <td>124.2</td>\n",
       "      <td>138.6</td>\n",
       "      <td>152.7</td>\n",
       "      <td>66.6</td>\n",
       "      <td>26.4</td>\n",
       "      <td>1015.1</td>\n",
       "    </tr>\n",
       "    <tr>\n",
       "      <th>2061-2080</th>\n",
       "      <td>18.9</td>\n",
       "      <td>27.9</td>\n",
       "      <td>45.5</td>\n",
       "      <td>96.1</td>\n",
       "      <td>155.2</td>\n",
       "      <td>107.9</td>\n",
       "      <td>79.6</td>\n",
       "      <td>126.0</td>\n",
       "      <td>134.0</td>\n",
       "      <td>139.5</td>\n",
       "      <td>68.8</td>\n",
       "      <td>28.3</td>\n",
       "      <td>1027.7</td>\n",
       "    </tr>\n",
       "    <tr>\n",
       "      <th>2081-2100</th>\n",
       "      <td>18.0</td>\n",
       "      <td>23.5</td>\n",
       "      <td>37.6</td>\n",
       "      <td>88.9</td>\n",
       "      <td>159.0</td>\n",
       "      <td>105.9</td>\n",
       "      <td>78.6</td>\n",
       "      <td>131.2</td>\n",
       "      <td>130.4</td>\n",
       "      <td>148.4</td>\n",
       "      <td>68.1</td>\n",
       "      <td>26.2</td>\n",
       "      <td>1015.8</td>\n",
       "    </tr>\n",
       "    <tr>\n",
       "      <th>ssp245</th>\n",
       "      <th>2021-2040</th>\n",
       "      <td>18.6</td>\n",
       "      <td>24.7</td>\n",
       "      <td>42.0</td>\n",
       "      <td>87.7</td>\n",
       "      <td>164.4</td>\n",
       "      <td>103.5</td>\n",
       "      <td>81.3</td>\n",
       "      <td>131.4</td>\n",
       "      <td>126.1</td>\n",
       "      <td>152.2</td>\n",
       "      <td>68.7</td>\n",
       "      <td>26.1</td>\n",
       "      <td>1026.7</td>\n",
       "    </tr>\n",
       "  </tbody>\n",
       "</table>\n",
       "</div>"
      ],
      "text/plain": [
       "                                    1     2     3     4      5      6     7  \\\n",
       "Model        Scenario Period                                                  \n",
       " BCC-CSM2-MR ssp126   2021-2040  22.6  22.5  46.9  91.4  163.0  108.0  82.0   \n",
       "                      2041-2060  18.8  23.7  38.2  81.3  156.0  108.9  79.7   \n",
       "                      2061-2080  18.9  27.9  45.5  96.1  155.2  107.9  79.6   \n",
       "                      2081-2100  18.0  23.5  37.6  88.9  159.0  105.9  78.6   \n",
       "             ssp245   2021-2040  18.6  24.7  42.0  87.7  164.4  103.5  81.3   \n",
       "\n",
       "                                     8      9     10    11    12  Annual  \n",
       "Model        Scenario Period                                              \n",
       " BCC-CSM2-MR ssp126   2021-2040  128.4  148.8  142.1  68.7  27.7  1052.1  \n",
       "                      2041-2060  124.2  138.6  152.7  66.6  26.4  1015.1  \n",
       "                      2061-2080  126.0  134.0  139.5  68.8  28.3  1027.7  \n",
       "                      2081-2100  131.2  130.4  148.4  68.1  26.2  1015.8  \n",
       "             ssp245   2021-2040  131.4  126.1  152.2  68.7  26.1  1026.7  "
      ]
     },
     "execution_count": 4,
     "metadata": {},
     "output_type": "execute_result"
    }
   ],
   "source": [
    "\"\"\"\n",
    "Created on January 2021\n",
    "@author: Loïc Duffar\n",
    "\"\"\"\n",
    "df_future['Period']= df.index.str[0:9]\n",
    "df_future['Scenario']= df.index.str[10:16]\n",
    "df_future['Model']= df.index.str[16:]\n",
    "df_future.set_index(keys= ['Model', 'Scenario', 'Period'], drop= True, inplace=True)\n",
    "df_future.sort_index(inplace= True)\n",
    "df_future.head()"
   ]
  },
  {
   "cell_type": "markdown",
   "metadata": {},
   "source": [
    "### <a name=section04></a>4) Concatenate historical and future precipitation in a single dataframe, and save it in an excel file"
   ]
  },
  {
   "cell_type": "code",
   "execution_count": 5,
   "metadata": {},
   "outputs": [
    {
     "data": {
      "text/html": [
       "<div>\n",
       "<style scoped>\n",
       "    .dataframe tbody tr th:only-of-type {\n",
       "        vertical-align: middle;\n",
       "    }\n",
       "\n",
       "    .dataframe tbody tr th {\n",
       "        vertical-align: top;\n",
       "    }\n",
       "\n",
       "    .dataframe thead th {\n",
       "        text-align: right;\n",
       "    }\n",
       "</style>\n",
       "<table border=\"1\" class=\"dataframe\">\n",
       "  <thead>\n",
       "    <tr style=\"text-align: right;\">\n",
       "      <th></th>\n",
       "      <th></th>\n",
       "      <th></th>\n",
       "      <th>1</th>\n",
       "      <th>2</th>\n",
       "      <th>3</th>\n",
       "      <th>4</th>\n",
       "      <th>5</th>\n",
       "      <th>6</th>\n",
       "      <th>7</th>\n",
       "      <th>8</th>\n",
       "      <th>9</th>\n",
       "      <th>10</th>\n",
       "      <th>11</th>\n",
       "      <th>12</th>\n",
       "      <th>Annual</th>\n",
       "    </tr>\n",
       "    <tr>\n",
       "      <th>Model</th>\n",
       "      <th>Scenario</th>\n",
       "      <th>Period</th>\n",
       "      <th></th>\n",
       "      <th></th>\n",
       "      <th></th>\n",
       "      <th></th>\n",
       "      <th></th>\n",
       "      <th></th>\n",
       "      <th></th>\n",
       "      <th></th>\n",
       "      <th></th>\n",
       "      <th></th>\n",
       "      <th></th>\n",
       "      <th></th>\n",
       "      <th></th>\n",
       "    </tr>\n",
       "  </thead>\n",
       "  <tbody>\n",
       "    <tr>\n",
       "      <th></th>\n",
       "      <th>Historical</th>\n",
       "      <th>1970-2000</th>\n",
       "      <td>19.2</td>\n",
       "      <td>25.0</td>\n",
       "      <td>42.6</td>\n",
       "      <td>88.8</td>\n",
       "      <td>170.7</td>\n",
       "      <td>114.8</td>\n",
       "      <td>86.1</td>\n",
       "      <td>133.3</td>\n",
       "      <td>149.4</td>\n",
       "      <td>153.3</td>\n",
       "      <td>71.6</td>\n",
       "      <td>29.8</td>\n",
       "      <td>1084.6</td>\n",
       "    </tr>\n",
       "    <tr>\n",
       "      <th rowspan=\"4\" valign=\"top\">BCC-CSM2-MR</th>\n",
       "      <th rowspan=\"4\" valign=\"top\">ssp126</th>\n",
       "      <th>2021-2040</th>\n",
       "      <td>22.6</td>\n",
       "      <td>22.5</td>\n",
       "      <td>46.9</td>\n",
       "      <td>91.4</td>\n",
       "      <td>163.0</td>\n",
       "      <td>108.0</td>\n",
       "      <td>82.0</td>\n",
       "      <td>128.4</td>\n",
       "      <td>148.8</td>\n",
       "      <td>142.1</td>\n",
       "      <td>68.7</td>\n",
       "      <td>27.7</td>\n",
       "      <td>1052.1</td>\n",
       "    </tr>\n",
       "    <tr>\n",
       "      <th>2041-2060</th>\n",
       "      <td>18.8</td>\n",
       "      <td>23.7</td>\n",
       "      <td>38.2</td>\n",
       "      <td>81.3</td>\n",
       "      <td>156.0</td>\n",
       "      <td>108.9</td>\n",
       "      <td>79.7</td>\n",
       "      <td>124.2</td>\n",
       "      <td>138.6</td>\n",
       "      <td>152.7</td>\n",
       "      <td>66.6</td>\n",
       "      <td>26.4</td>\n",
       "      <td>1015.1</td>\n",
       "    </tr>\n",
       "    <tr>\n",
       "      <th>2061-2080</th>\n",
       "      <td>18.9</td>\n",
       "      <td>27.9</td>\n",
       "      <td>45.5</td>\n",
       "      <td>96.1</td>\n",
       "      <td>155.2</td>\n",
       "      <td>107.9</td>\n",
       "      <td>79.6</td>\n",
       "      <td>126.0</td>\n",
       "      <td>134.0</td>\n",
       "      <td>139.5</td>\n",
       "      <td>68.8</td>\n",
       "      <td>28.3</td>\n",
       "      <td>1027.7</td>\n",
       "    </tr>\n",
       "    <tr>\n",
       "      <th>2081-2100</th>\n",
       "      <td>18.0</td>\n",
       "      <td>23.5</td>\n",
       "      <td>37.6</td>\n",
       "      <td>88.9</td>\n",
       "      <td>159.0</td>\n",
       "      <td>105.9</td>\n",
       "      <td>78.6</td>\n",
       "      <td>131.2</td>\n",
       "      <td>130.4</td>\n",
       "      <td>148.4</td>\n",
       "      <td>68.1</td>\n",
       "      <td>26.2</td>\n",
       "      <td>1015.8</td>\n",
       "    </tr>\n",
       "    <tr>\n",
       "      <th>...</th>\n",
       "      <th>...</th>\n",
       "      <th>...</th>\n",
       "      <td>...</td>\n",
       "      <td>...</td>\n",
       "      <td>...</td>\n",
       "      <td>...</td>\n",
       "      <td>...</td>\n",
       "      <td>...</td>\n",
       "      <td>...</td>\n",
       "      <td>...</td>\n",
       "      <td>...</td>\n",
       "      <td>...</td>\n",
       "      <td>...</td>\n",
       "      <td>...</td>\n",
       "      <td>...</td>\n",
       "    </tr>\n",
       "    <tr>\n",
       "      <th rowspan=\"5\" valign=\"top\">GFDL-ESM4</th>\n",
       "      <th>ssp370</th>\n",
       "      <th>2081-2100</th>\n",
       "      <td>17.2</td>\n",
       "      <td>22.7</td>\n",
       "      <td>39.2</td>\n",
       "      <td>84.0</td>\n",
       "      <td>159.8</td>\n",
       "      <td>91.7</td>\n",
       "      <td>55.9</td>\n",
       "      <td>105.4</td>\n",
       "      <td>105.0</td>\n",
       "      <td>137.2</td>\n",
       "      <td>72.2</td>\n",
       "      <td>27.9</td>\n",
       "      <td>918.2</td>\n",
       "    </tr>\n",
       "    <tr>\n",
       "      <th rowspan=\"4\" valign=\"top\">ssp585</th>\n",
       "      <th>2021-2040</th>\n",
       "      <td>18.5</td>\n",
       "      <td>22.2</td>\n",
       "      <td>45.0</td>\n",
       "      <td>69.5</td>\n",
       "      <td>178.6</td>\n",
       "      <td>109.9</td>\n",
       "      <td>78.9</td>\n",
       "      <td>122.3</td>\n",
       "      <td>149.2</td>\n",
       "      <td>161.4</td>\n",
       "      <td>87.9</td>\n",
       "      <td>28.8</td>\n",
       "      <td>1072.2</td>\n",
       "    </tr>\n",
       "    <tr>\n",
       "      <th>2041-2060</th>\n",
       "      <td>19.8</td>\n",
       "      <td>23.2</td>\n",
       "      <td>39.9</td>\n",
       "      <td>79.8</td>\n",
       "      <td>180.6</td>\n",
       "      <td>105.0</td>\n",
       "      <td>71.0</td>\n",
       "      <td>133.1</td>\n",
       "      <td>137.0</td>\n",
       "      <td>189.7</td>\n",
       "      <td>83.7</td>\n",
       "      <td>26.5</td>\n",
       "      <td>1089.3</td>\n",
       "    </tr>\n",
       "    <tr>\n",
       "      <th>2061-2080</th>\n",
       "      <td>19.5</td>\n",
       "      <td>22.8</td>\n",
       "      <td>38.7</td>\n",
       "      <td>71.4</td>\n",
       "      <td>172.1</td>\n",
       "      <td>111.1</td>\n",
       "      <td>56.3</td>\n",
       "      <td>112.1</td>\n",
       "      <td>112.6</td>\n",
       "      <td>134.1</td>\n",
       "      <td>92.7</td>\n",
       "      <td>28.3</td>\n",
       "      <td>971.7</td>\n",
       "    </tr>\n",
       "    <tr>\n",
       "      <th>2081-2100</th>\n",
       "      <td>19.9</td>\n",
       "      <td>24.9</td>\n",
       "      <td>39.9</td>\n",
       "      <td>82.2</td>\n",
       "      <td>142.2</td>\n",
       "      <td>103.3</td>\n",
       "      <td>49.9</td>\n",
       "      <td>98.0</td>\n",
       "      <td>105.8</td>\n",
       "      <td>149.6</td>\n",
       "      <td>89.0</td>\n",
       "      <td>31.0</td>\n",
       "      <td>935.7</td>\n",
       "    </tr>\n",
       "  </tbody>\n",
       "</table>\n",
       "<p>81 rows × 13 columns</p>\n",
       "</div>"
      ],
      "text/plain": [
       "                                      1     2     3     4      5      6     7  \\\n",
       "Model        Scenario   Period                                                  \n",
       "             Historical 1970-2000  19.2  25.0  42.6  88.8  170.7  114.8  86.1   \n",
       " BCC-CSM2-MR ssp126     2021-2040  22.6  22.5  46.9  91.4  163.0  108.0  82.0   \n",
       "                        2041-2060  18.8  23.7  38.2  81.3  156.0  108.9  79.7   \n",
       "                        2061-2080  18.9  27.9  45.5  96.1  155.2  107.9  79.6   \n",
       "                        2081-2100  18.0  23.5  37.6  88.9  159.0  105.9  78.6   \n",
       "...                                 ...   ...   ...   ...    ...    ...   ...   \n",
       " GFDL-ESM4   ssp370     2081-2100  17.2  22.7  39.2  84.0  159.8   91.7  55.9   \n",
       "             ssp585     2021-2040  18.5  22.2  45.0  69.5  178.6  109.9  78.9   \n",
       "                        2041-2060  19.8  23.2  39.9  79.8  180.6  105.0  71.0   \n",
       "                        2061-2080  19.5  22.8  38.7  71.4  172.1  111.1  56.3   \n",
       "                        2081-2100  19.9  24.9  39.9  82.2  142.2  103.3  49.9   \n",
       "\n",
       "                                       8      9     10    11    12  Annual  \n",
       "Model        Scenario   Period                                              \n",
       "             Historical 1970-2000  133.3  149.4  153.3  71.6  29.8  1084.6  \n",
       " BCC-CSM2-MR ssp126     2021-2040  128.4  148.8  142.1  68.7  27.7  1052.1  \n",
       "                        2041-2060  124.2  138.6  152.7  66.6  26.4  1015.1  \n",
       "                        2061-2080  126.0  134.0  139.5  68.8  28.3  1027.7  \n",
       "                        2081-2100  131.2  130.4  148.4  68.1  26.2  1015.8  \n",
       "...                                  ...    ...    ...   ...   ...     ...  \n",
       " GFDL-ESM4   ssp370     2081-2100  105.4  105.0  137.2  72.2  27.9   918.2  \n",
       "             ssp585     2021-2040  122.3  149.2  161.4  87.9  28.8  1072.2  \n",
       "                        2041-2060  133.1  137.0  189.7  83.7  26.5  1089.3  \n",
       "                        2061-2080  112.1  112.6  134.1  92.7  28.3   971.7  \n",
       "                        2081-2100   98.0  105.8  149.6  89.0  31.0   935.7  \n",
       "\n",
       "[81 rows x 13 columns]"
      ]
     },
     "metadata": {},
     "output_type": "display_data"
    }
   ],
   "source": [
    "\"\"\"\n",
    "Created on January 2021\n",
    "@author: Loïc Duffar\n",
    "\"\"\"\n",
    "df_historical= df_historical.copy()\n",
    "df_historical['Model']= ''\n",
    "df_historical['Scenario']= 'Historical'\n",
    "df_historical['Period']= historical_period\n",
    "df_historical.set_index(keys= ['Model', 'Scenario', 'Period'], inplace= True, drop= True)\n",
    "df_total= df_future.append(df_historical)\n",
    "df_total= df_total.sort_index()\n",
    "display(df_total)"
   ]
  },
  {
   "cell_type": "markdown",
   "metadata": {},
   "source": [
    "### <a name=section05></a>5) Plot future evolution of annual precipitation (4 SSP scenarios and 9 GCMs)"
   ]
  },
  {
   "cell_type": "code",
   "execution_count": 7,
   "metadata": {},
   "outputs": [
    {
     "name": "stdout",
     "output_type": "stream",
     "text": [
      "Plotly version:  4.14.1\n"
     ]
    },
    {
     "data": {
      "application/vnd.plotly.v1+json": {
       "config": {
        "plotlyServerURL": "https://plot.ly"
       },
       "data": [
        {
         "legendgroup": "ssp126",
         "line": {
          "color": "rgb(10, 10, 150)"
         },
         "mode": "lines",
         "name": "ssp1-2.6 Median of 9 GCMs",
         "type": "scatter",
         "x": [
          "1970-2000",
          "2021-2040",
          "2041-2060",
          "2061-2080",
          "2081-2100"
         ],
         "y": [
          1084.6,
          1053.1999999999998,
          1044.3999999999999,
          1027.7,
          1037.2
         ]
        },
        {
         "hoverlabel": {
          "bgcolor": "rgb(10, 10, 150)",
          "font": {
           "color": "white"
          }
         },
         "legendgroup": "ssp126",
         "line": {
          "width": 0
         },
         "marker": {
          "color": "#444"
         },
         "mode": "lines",
         "name": "ssp1-2.6 Min.",
         "showlegend": false,
         "type": "scatter",
         "x": [
          "1970-2000",
          "2021-2040",
          "2041-2060",
          "2061-2080",
          "2081-2100"
         ],
         "y": [
          1084.6,
          1017.7,
          1014.0000000000001,
          994.1,
          1015.8000000000001
         ]
        },
        {
         "fill": "tonexty",
         "fillcolor": "rgba(10, 10, 150, 0.2)",
         "hoverlabel": {
          "bgcolor": "rgb(10, 10, 150)",
          "font": {
           "color": "white"
          }
         },
         "legendgroup": "ssp126",
         "line": {
          "width": 0
         },
         "marker": {
          "color": "#444"
         },
         "mode": "lines",
         "name": "ssp1-2.6 Min.Max.",
         "showlegend": true,
         "type": "scatter",
         "x": [
          "1970-2000",
          "2021-2040",
          "2041-2060",
          "2061-2080",
          "2081-2100"
         ],
         "y": [
          1084.6,
          1130,
          1092.2,
          1072.1,
          1080.1999999999998
         ]
        },
        {
         "legendgroup": "ssp245",
         "line": {
          "color": "rgb(150, 10, 10)"
         },
         "mode": "lines",
         "name": "ssp2-4.5 Median of 9 GCMs",
         "type": "scatter",
         "x": [
          "1970-2000",
          "2021-2040",
          "2041-2060",
          "2061-2080",
          "2081-2100"
         ],
         "y": [
          1084.6,
          1039.9,
          1034.35,
          1010.2,
          1011.7500000000001
         ]
        },
        {
         "hoverlabel": {
          "bgcolor": "rgb(150, 10, 10)",
          "font": {
           "color": "white"
          }
         },
         "legendgroup": "ssp245",
         "line": {
          "width": 0
         },
         "marker": {
          "color": "#444"
         },
         "mode": "lines",
         "name": "ssp2-4.5 Min.",
         "showlegend": false,
         "type": "scatter",
         "x": [
          "1970-2000",
          "2021-2040",
          "2041-2060",
          "2061-2080",
          "2081-2100"
         ],
         "y": [
          1084.6,
          1003.6999999999998,
          934.3000000000001,
          921.6,
          933.8
         ]
        },
        {
         "fill": "tonexty",
         "fillcolor": "rgba(255, 10, 10, 0.1)",
         "hoverlabel": {
          "bgcolor": "rgb(150, 10, 10)",
          "font": {
           "color": "white"
          }
         },
         "legendgroup": "ssp245",
         "line": {
          "width": 0
         },
         "marker": {
          "color": "#444"
         },
         "mode": "lines",
         "name": "ssp2-4.5 Min.Max.",
         "showlegend": true,
         "type": "scatter",
         "x": [
          "1970-2000",
          "2021-2040",
          "2041-2060",
          "2061-2080",
          "2081-2100"
         ],
         "y": [
          1084.6,
          1116.8000000000002,
          1085.8,
          1035.5,
          1063.5
         ]
        },
        {
         "legendgroup": "ssp370",
         "line": {
          "color": "rgb(10, 150, 10)"
         },
         "mode": "lines",
         "name": "ssp3-7.0 Median of 9 GCMs",
         "type": "scatter",
         "x": [
          "1970-2000",
          "2021-2040",
          "2041-2060",
          "2061-2080",
          "2081-2100"
         ],
         "y": [
          1084.6,
          1046.8,
          987.2,
          951.8999999999999,
          918.1999999999999
         ]
        },
        {
         "hoverlabel": {
          "bgcolor": "rgb(10, 150, 10)",
          "font": {
           "color": "white"
          }
         },
         "legendgroup": "ssp370",
         "line": {
          "width": 0
         },
         "marker": {
          "color": "#444"
         },
         "mode": "lines",
         "name": "ssp3-7.0 Min.",
         "showlegend": false,
         "type": "scatter",
         "x": [
          "1970-2000",
          "2021-2040",
          "2041-2060",
          "2061-2080",
          "2081-2100"
         ],
         "y": [
          1084.6,
          960.5,
          851.7,
          743.0999999999999,
          628.9000000000001
         ]
        },
        {
         "fill": "tonexty",
         "fillcolor": "rgba(10, 150, 10, 0.1)",
         "hoverlabel": {
          "bgcolor": "rgb(10, 150, 10)",
          "font": {
           "color": "white"
          }
         },
         "legendgroup": "ssp370",
         "line": {
          "width": 0
         },
         "marker": {
          "color": "#444"
         },
         "mode": "lines",
         "name": "ssp3-7.0 Min.Max.",
         "showlegend": true,
         "type": "scatter",
         "x": [
          "1970-2000",
          "2021-2040",
          "2041-2060",
          "2061-2080",
          "2081-2100"
         ],
         "y": [
          1084.6,
          1069.3000000000002,
          1039.0000000000002,
          996.6000000000001,
          958.3
         ]
        },
        {
         "legendgroup": "ssp585",
         "line": {
          "color": "rgb(250, 170, 60)"
         },
         "mode": "lines",
         "name": "ssp5-8.5 Median of 9 GCMs",
         "type": "scatter",
         "x": [
          "1970-2000",
          "2021-2040",
          "2041-2060",
          "2061-2080",
          "2081-2100"
         ],
         "y": [
          1084.6,
          1058.6,
          1010.0000000000001,
          945.9,
          898.1999999999999
         ]
        },
        {
         "hoverlabel": {
          "bgcolor": "rgb(250, 170, 60)",
          "font": {
           "color": "white"
          }
         },
         "legendgroup": "ssp585",
         "line": {
          "width": 0
         },
         "marker": {
          "color": "#444"
         },
         "mode": "lines",
         "name": "ssp5-8.5 Min.",
         "showlegend": false,
         "type": "scatter",
         "x": [
          "1970-2000",
          "2021-2040",
          "2041-2060",
          "2061-2080",
          "2081-2100"
         ],
         "y": [
          1084.6,
          967.4000000000001,
          881.6000000000001,
          730.8000000000001,
          620
         ]
        },
        {
         "fill": "tonexty",
         "fillcolor": "rgba(200, 200, 0, 0.2)",
         "hoverlabel": {
          "bgcolor": "rgb(250, 170, 60)",
          "font": {
           "color": "white"
          }
         },
         "legendgroup": "ssp585",
         "line": {
          "width": 0
         },
         "marker": {
          "color": "#444"
         },
         "mode": "lines",
         "name": "ssp5-8.5 Min.Max.",
         "showlegend": true,
         "type": "scatter",
         "x": [
          "1970-2000",
          "2021-2040",
          "2041-2060",
          "2061-2080",
          "2081-2100"
         ],
         "y": [
          1084.6,
          1095.3,
          1089.3,
          979.5000000000002,
          935.6999999999999
         ]
        }
       ],
       "layout": {
        "height": 700,
        "legend": {
         "x": 0.05,
         "xanchor": "left",
         "y": 0.05,
         "yanchor": "bottom"
        },
        "template": {
         "data": {
          "bar": [
           {
            "error_x": {
             "color": "#2a3f5f"
            },
            "error_y": {
             "color": "#2a3f5f"
            },
            "marker": {
             "line": {
              "color": "#E5ECF6",
              "width": 0.5
             }
            },
            "type": "bar"
           }
          ],
          "barpolar": [
           {
            "marker": {
             "line": {
              "color": "#E5ECF6",
              "width": 0.5
             }
            },
            "type": "barpolar"
           }
          ],
          "carpet": [
           {
            "aaxis": {
             "endlinecolor": "#2a3f5f",
             "gridcolor": "white",
             "linecolor": "white",
             "minorgridcolor": "white",
             "startlinecolor": "#2a3f5f"
            },
            "baxis": {
             "endlinecolor": "#2a3f5f",
             "gridcolor": "white",
             "linecolor": "white",
             "minorgridcolor": "white",
             "startlinecolor": "#2a3f5f"
            },
            "type": "carpet"
           }
          ],
          "choropleth": [
           {
            "colorbar": {
             "outlinewidth": 0,
             "ticks": ""
            },
            "type": "choropleth"
           }
          ],
          "contour": [
           {
            "colorbar": {
             "outlinewidth": 0,
             "ticks": ""
            },
            "colorscale": [
             [
              0,
              "#0d0887"
             ],
             [
              0.1111111111111111,
              "#46039f"
             ],
             [
              0.2222222222222222,
              "#7201a8"
             ],
             [
              0.3333333333333333,
              "#9c179e"
             ],
             [
              0.4444444444444444,
              "#bd3786"
             ],
             [
              0.5555555555555556,
              "#d8576b"
             ],
             [
              0.6666666666666666,
              "#ed7953"
             ],
             [
              0.7777777777777778,
              "#fb9f3a"
             ],
             [
              0.8888888888888888,
              "#fdca26"
             ],
             [
              1,
              "#f0f921"
             ]
            ],
            "type": "contour"
           }
          ],
          "contourcarpet": [
           {
            "colorbar": {
             "outlinewidth": 0,
             "ticks": ""
            },
            "type": "contourcarpet"
           }
          ],
          "heatmap": [
           {
            "colorbar": {
             "outlinewidth": 0,
             "ticks": ""
            },
            "colorscale": [
             [
              0,
              "#0d0887"
             ],
             [
              0.1111111111111111,
              "#46039f"
             ],
             [
              0.2222222222222222,
              "#7201a8"
             ],
             [
              0.3333333333333333,
              "#9c179e"
             ],
             [
              0.4444444444444444,
              "#bd3786"
             ],
             [
              0.5555555555555556,
              "#d8576b"
             ],
             [
              0.6666666666666666,
              "#ed7953"
             ],
             [
              0.7777777777777778,
              "#fb9f3a"
             ],
             [
              0.8888888888888888,
              "#fdca26"
             ],
             [
              1,
              "#f0f921"
             ]
            ],
            "type": "heatmap"
           }
          ],
          "heatmapgl": [
           {
            "colorbar": {
             "outlinewidth": 0,
             "ticks": ""
            },
            "colorscale": [
             [
              0,
              "#0d0887"
             ],
             [
              0.1111111111111111,
              "#46039f"
             ],
             [
              0.2222222222222222,
              "#7201a8"
             ],
             [
              0.3333333333333333,
              "#9c179e"
             ],
             [
              0.4444444444444444,
              "#bd3786"
             ],
             [
              0.5555555555555556,
              "#d8576b"
             ],
             [
              0.6666666666666666,
              "#ed7953"
             ],
             [
              0.7777777777777778,
              "#fb9f3a"
             ],
             [
              0.8888888888888888,
              "#fdca26"
             ],
             [
              1,
              "#f0f921"
             ]
            ],
            "type": "heatmapgl"
           }
          ],
          "histogram": [
           {
            "marker": {
             "colorbar": {
              "outlinewidth": 0,
              "ticks": ""
             }
            },
            "type": "histogram"
           }
          ],
          "histogram2d": [
           {
            "colorbar": {
             "outlinewidth": 0,
             "ticks": ""
            },
            "colorscale": [
             [
              0,
              "#0d0887"
             ],
             [
              0.1111111111111111,
              "#46039f"
             ],
             [
              0.2222222222222222,
              "#7201a8"
             ],
             [
              0.3333333333333333,
              "#9c179e"
             ],
             [
              0.4444444444444444,
              "#bd3786"
             ],
             [
              0.5555555555555556,
              "#d8576b"
             ],
             [
              0.6666666666666666,
              "#ed7953"
             ],
             [
              0.7777777777777778,
              "#fb9f3a"
             ],
             [
              0.8888888888888888,
              "#fdca26"
             ],
             [
              1,
              "#f0f921"
             ]
            ],
            "type": "histogram2d"
           }
          ],
          "histogram2dcontour": [
           {
            "colorbar": {
             "outlinewidth": 0,
             "ticks": ""
            },
            "colorscale": [
             [
              0,
              "#0d0887"
             ],
             [
              0.1111111111111111,
              "#46039f"
             ],
             [
              0.2222222222222222,
              "#7201a8"
             ],
             [
              0.3333333333333333,
              "#9c179e"
             ],
             [
              0.4444444444444444,
              "#bd3786"
             ],
             [
              0.5555555555555556,
              "#d8576b"
             ],
             [
              0.6666666666666666,
              "#ed7953"
             ],
             [
              0.7777777777777778,
              "#fb9f3a"
             ],
             [
              0.8888888888888888,
              "#fdca26"
             ],
             [
              1,
              "#f0f921"
             ]
            ],
            "type": "histogram2dcontour"
           }
          ],
          "mesh3d": [
           {
            "colorbar": {
             "outlinewidth": 0,
             "ticks": ""
            },
            "type": "mesh3d"
           }
          ],
          "parcoords": [
           {
            "line": {
             "colorbar": {
              "outlinewidth": 0,
              "ticks": ""
             }
            },
            "type": "parcoords"
           }
          ],
          "pie": [
           {
            "automargin": true,
            "type": "pie"
           }
          ],
          "scatter": [
           {
            "marker": {
             "colorbar": {
              "outlinewidth": 0,
              "ticks": ""
             }
            },
            "type": "scatter"
           }
          ],
          "scatter3d": [
           {
            "line": {
             "colorbar": {
              "outlinewidth": 0,
              "ticks": ""
             }
            },
            "marker": {
             "colorbar": {
              "outlinewidth": 0,
              "ticks": ""
             }
            },
            "type": "scatter3d"
           }
          ],
          "scattercarpet": [
           {
            "marker": {
             "colorbar": {
              "outlinewidth": 0,
              "ticks": ""
             }
            },
            "type": "scattercarpet"
           }
          ],
          "scattergeo": [
           {
            "marker": {
             "colorbar": {
              "outlinewidth": 0,
              "ticks": ""
             }
            },
            "type": "scattergeo"
           }
          ],
          "scattergl": [
           {
            "marker": {
             "colorbar": {
              "outlinewidth": 0,
              "ticks": ""
             }
            },
            "type": "scattergl"
           }
          ],
          "scattermapbox": [
           {
            "marker": {
             "colorbar": {
              "outlinewidth": 0,
              "ticks": ""
             }
            },
            "type": "scattermapbox"
           }
          ],
          "scatterpolar": [
           {
            "marker": {
             "colorbar": {
              "outlinewidth": 0,
              "ticks": ""
             }
            },
            "type": "scatterpolar"
           }
          ],
          "scatterpolargl": [
           {
            "marker": {
             "colorbar": {
              "outlinewidth": 0,
              "ticks": ""
             }
            },
            "type": "scatterpolargl"
           }
          ],
          "scatterternary": [
           {
            "marker": {
             "colorbar": {
              "outlinewidth": 0,
              "ticks": ""
             }
            },
            "type": "scatterternary"
           }
          ],
          "surface": [
           {
            "colorbar": {
             "outlinewidth": 0,
             "ticks": ""
            },
            "colorscale": [
             [
              0,
              "#0d0887"
             ],
             [
              0.1111111111111111,
              "#46039f"
             ],
             [
              0.2222222222222222,
              "#7201a8"
             ],
             [
              0.3333333333333333,
              "#9c179e"
             ],
             [
              0.4444444444444444,
              "#bd3786"
             ],
             [
              0.5555555555555556,
              "#d8576b"
             ],
             [
              0.6666666666666666,
              "#ed7953"
             ],
             [
              0.7777777777777778,
              "#fb9f3a"
             ],
             [
              0.8888888888888888,
              "#fdca26"
             ],
             [
              1,
              "#f0f921"
             ]
            ],
            "type": "surface"
           }
          ],
          "table": [
           {
            "cells": {
             "fill": {
              "color": "#EBF0F8"
             },
             "line": {
              "color": "white"
             }
            },
            "header": {
             "fill": {
              "color": "#C8D4E3"
             },
             "line": {
              "color": "white"
             }
            },
            "type": "table"
           }
          ]
         },
         "layout": {
          "annotationdefaults": {
           "arrowcolor": "#2a3f5f",
           "arrowhead": 0,
           "arrowwidth": 1
          },
          "autotypenumbers": "strict",
          "coloraxis": {
           "colorbar": {
            "outlinewidth": 0,
            "ticks": ""
           }
          },
          "colorscale": {
           "diverging": [
            [
             0,
             "#8e0152"
            ],
            [
             0.1,
             "#c51b7d"
            ],
            [
             0.2,
             "#de77ae"
            ],
            [
             0.3,
             "#f1b6da"
            ],
            [
             0.4,
             "#fde0ef"
            ],
            [
             0.5,
             "#f7f7f7"
            ],
            [
             0.6,
             "#e6f5d0"
            ],
            [
             0.7,
             "#b8e186"
            ],
            [
             0.8,
             "#7fbc41"
            ],
            [
             0.9,
             "#4d9221"
            ],
            [
             1,
             "#276419"
            ]
           ],
           "sequential": [
            [
             0,
             "#0d0887"
            ],
            [
             0.1111111111111111,
             "#46039f"
            ],
            [
             0.2222222222222222,
             "#7201a8"
            ],
            [
             0.3333333333333333,
             "#9c179e"
            ],
            [
             0.4444444444444444,
             "#bd3786"
            ],
            [
             0.5555555555555556,
             "#d8576b"
            ],
            [
             0.6666666666666666,
             "#ed7953"
            ],
            [
             0.7777777777777778,
             "#fb9f3a"
            ],
            [
             0.8888888888888888,
             "#fdca26"
            ],
            [
             1,
             "#f0f921"
            ]
           ],
           "sequentialminus": [
            [
             0,
             "#0d0887"
            ],
            [
             0.1111111111111111,
             "#46039f"
            ],
            [
             0.2222222222222222,
             "#7201a8"
            ],
            [
             0.3333333333333333,
             "#9c179e"
            ],
            [
             0.4444444444444444,
             "#bd3786"
            ],
            [
             0.5555555555555556,
             "#d8576b"
            ],
            [
             0.6666666666666666,
             "#ed7953"
            ],
            [
             0.7777777777777778,
             "#fb9f3a"
            ],
            [
             0.8888888888888888,
             "#fdca26"
            ],
            [
             1,
             "#f0f921"
            ]
           ]
          },
          "colorway": [
           "#636efa",
           "#EF553B",
           "#00cc96",
           "#ab63fa",
           "#FFA15A",
           "#19d3f3",
           "#FF6692",
           "#B6E880",
           "#FF97FF",
           "#FECB52"
          ],
          "font": {
           "color": "#2a3f5f"
          },
          "geo": {
           "bgcolor": "white",
           "lakecolor": "white",
           "landcolor": "#E5ECF6",
           "showlakes": true,
           "showland": true,
           "subunitcolor": "white"
          },
          "hoverlabel": {
           "align": "left"
          },
          "hovermode": "closest",
          "mapbox": {
           "style": "light"
          },
          "paper_bgcolor": "white",
          "plot_bgcolor": "#E5ECF6",
          "polar": {
           "angularaxis": {
            "gridcolor": "white",
            "linecolor": "white",
            "ticks": ""
           },
           "bgcolor": "#E5ECF6",
           "radialaxis": {
            "gridcolor": "white",
            "linecolor": "white",
            "ticks": ""
           }
          },
          "scene": {
           "xaxis": {
            "backgroundcolor": "#E5ECF6",
            "gridcolor": "white",
            "gridwidth": 2,
            "linecolor": "white",
            "showbackground": true,
            "ticks": "",
            "zerolinecolor": "white"
           },
           "yaxis": {
            "backgroundcolor": "#E5ECF6",
            "gridcolor": "white",
            "gridwidth": 2,
            "linecolor": "white",
            "showbackground": true,
            "ticks": "",
            "zerolinecolor": "white"
           },
           "zaxis": {
            "backgroundcolor": "#E5ECF6",
            "gridcolor": "white",
            "gridwidth": 2,
            "linecolor": "white",
            "showbackground": true,
            "ticks": "",
            "zerolinecolor": "white"
           }
          },
          "shapedefaults": {
           "line": {
            "color": "#2a3f5f"
           }
          },
          "ternary": {
           "aaxis": {
            "gridcolor": "white",
            "linecolor": "white",
            "ticks": ""
           },
           "baxis": {
            "gridcolor": "white",
            "linecolor": "white",
            "ticks": ""
           },
           "bgcolor": "#E5ECF6",
           "caxis": {
            "gridcolor": "white",
            "linecolor": "white",
            "ticks": ""
           }
          },
          "title": {
           "x": 0.05
          },
          "xaxis": {
           "automargin": true,
           "gridcolor": "white",
           "linecolor": "white",
           "ticks": "",
           "title": {
            "standoff": 15
           },
           "zerolinecolor": "white",
           "zerolinewidth": 2
          },
          "yaxis": {
           "automargin": true,
           "gridcolor": "white",
           "linecolor": "white",
           "ticks": "",
           "title": {
            "standoff": 15
           },
           "zerolinecolor": "white",
           "zerolinewidth": 2
          }
         }
        },
        "title": {
         "text": "Evolution of future interannual precipitation, according to 4 SSP scenarios and 5 GCMs"
        },
        "width": 1000,
        "yaxis": {
         "range": [
          620,
          1130
         ],
         "title": {
          "text": "mm"
         }
        }
       }
      },
      "text/html": [
       "<div>                            <div id=\"443fa3da-09a4-418c-9ab9-9d77a581afda\" class=\"plotly-graph-div\" style=\"height:700px; width:1000px;\"></div>            <script type=\"text/javascript\">                require([\"plotly\"], function(Plotly) {                    window.PLOTLYENV=window.PLOTLYENV || {};                                    if (document.getElementById(\"443fa3da-09a4-418c-9ab9-9d77a581afda\")) {                    Plotly.newPlot(                        \"443fa3da-09a4-418c-9ab9-9d77a581afda\",                        [{\"legendgroup\": \"ssp126\", \"line\": {\"color\": \"rgb(10, 10, 150)\"}, \"mode\": \"lines\", \"name\": \"ssp1-2.6 Median of 9 GCMs\", \"type\": \"scatter\", \"x\": [\"1970-2000\", \"2021-2040\", \"2041-2060\", \"2061-2080\", \"2081-2100\"], \"y\": [1084.6, 1053.1999999999998, 1044.3999999999999, 1027.7, 1037.2]}, {\"hoverlabel\": {\"bgcolor\": \"rgb(10, 10, 150)\", \"font\": {\"color\": \"white\"}}, \"legendgroup\": \"ssp126\", \"line\": {\"width\": 0}, \"marker\": {\"color\": \"#444\"}, \"mode\": \"lines\", \"name\": \"ssp1-2.6 Min.\", \"showlegend\": false, \"type\": \"scatter\", \"x\": [\"1970-2000\", \"2021-2040\", \"2041-2060\", \"2061-2080\", \"2081-2100\"], \"y\": [1084.6, 1017.7, 1014.0000000000001, 994.1, 1015.8000000000001]}, {\"fill\": \"tonexty\", \"fillcolor\": \"rgba(10, 10, 150, 0.2)\", \"hoverlabel\": {\"bgcolor\": \"rgb(10, 10, 150)\", \"font\": {\"color\": \"white\"}}, \"legendgroup\": \"ssp126\", \"line\": {\"width\": 0}, \"marker\": {\"color\": \"#444\"}, \"mode\": \"lines\", \"name\": \"ssp1-2.6 Min.Max.\", \"showlegend\": true, \"type\": \"scatter\", \"x\": [\"1970-2000\", \"2021-2040\", \"2041-2060\", \"2061-2080\", \"2081-2100\"], \"y\": [1084.6, 1130.0, 1092.2, 1072.1, 1080.1999999999998]}, {\"legendgroup\": \"ssp245\", \"line\": {\"color\": \"rgb(150, 10, 10)\"}, \"mode\": \"lines\", \"name\": \"ssp2-4.5 Median of 9 GCMs\", \"type\": \"scatter\", \"x\": [\"1970-2000\", \"2021-2040\", \"2041-2060\", \"2061-2080\", \"2081-2100\"], \"y\": [1084.6, 1039.9, 1034.35, 1010.2, 1011.7500000000001]}, {\"hoverlabel\": {\"bgcolor\": \"rgb(150, 10, 10)\", \"font\": {\"color\": \"white\"}}, \"legendgroup\": \"ssp245\", \"line\": {\"width\": 0}, \"marker\": {\"color\": \"#444\"}, \"mode\": \"lines\", \"name\": \"ssp2-4.5 Min.\", \"showlegend\": false, \"type\": \"scatter\", \"x\": [\"1970-2000\", \"2021-2040\", \"2041-2060\", \"2061-2080\", \"2081-2100\"], \"y\": [1084.6, 1003.6999999999998, 934.3000000000001, 921.6, 933.8]}, {\"fill\": \"tonexty\", \"fillcolor\": \"rgba(255, 10, 10, 0.1)\", \"hoverlabel\": {\"bgcolor\": \"rgb(150, 10, 10)\", \"font\": {\"color\": \"white\"}}, \"legendgroup\": \"ssp245\", \"line\": {\"width\": 0}, \"marker\": {\"color\": \"#444\"}, \"mode\": \"lines\", \"name\": \"ssp2-4.5 Min.Max.\", \"showlegend\": true, \"type\": \"scatter\", \"x\": [\"1970-2000\", \"2021-2040\", \"2041-2060\", \"2061-2080\", \"2081-2100\"], \"y\": [1084.6, 1116.8000000000002, 1085.8, 1035.5, 1063.5]}, {\"legendgroup\": \"ssp370\", \"line\": {\"color\": \"rgb(10, 150, 10)\"}, \"mode\": \"lines\", \"name\": \"ssp3-7.0 Median of 9 GCMs\", \"type\": \"scatter\", \"x\": [\"1970-2000\", \"2021-2040\", \"2041-2060\", \"2061-2080\", \"2081-2100\"], \"y\": [1084.6, 1046.8, 987.2, 951.8999999999999, 918.1999999999999]}, {\"hoverlabel\": {\"bgcolor\": \"rgb(10, 150, 10)\", \"font\": {\"color\": \"white\"}}, \"legendgroup\": \"ssp370\", \"line\": {\"width\": 0}, \"marker\": {\"color\": \"#444\"}, \"mode\": \"lines\", \"name\": \"ssp3-7.0 Min.\", \"showlegend\": false, \"type\": \"scatter\", \"x\": [\"1970-2000\", \"2021-2040\", \"2041-2060\", \"2061-2080\", \"2081-2100\"], \"y\": [1084.6, 960.5, 851.7, 743.0999999999999, 628.9000000000001]}, {\"fill\": \"tonexty\", \"fillcolor\": \"rgba(10, 150, 10, 0.1)\", \"hoverlabel\": {\"bgcolor\": \"rgb(10, 150, 10)\", \"font\": {\"color\": \"white\"}}, \"legendgroup\": \"ssp370\", \"line\": {\"width\": 0}, \"marker\": {\"color\": \"#444\"}, \"mode\": \"lines\", \"name\": \"ssp3-7.0 Min.Max.\", \"showlegend\": true, \"type\": \"scatter\", \"x\": [\"1970-2000\", \"2021-2040\", \"2041-2060\", \"2061-2080\", \"2081-2100\"], \"y\": [1084.6, 1069.3000000000002, 1039.0000000000002, 996.6000000000001, 958.3]}, {\"legendgroup\": \"ssp585\", \"line\": {\"color\": \"rgb(250, 170, 60)\"}, \"mode\": \"lines\", \"name\": \"ssp5-8.5 Median of 9 GCMs\", \"type\": \"scatter\", \"x\": [\"1970-2000\", \"2021-2040\", \"2041-2060\", \"2061-2080\", \"2081-2100\"], \"y\": [1084.6, 1058.6, 1010.0000000000001, 945.9, 898.1999999999999]}, {\"hoverlabel\": {\"bgcolor\": \"rgb(250, 170, 60)\", \"font\": {\"color\": \"white\"}}, \"legendgroup\": \"ssp585\", \"line\": {\"width\": 0}, \"marker\": {\"color\": \"#444\"}, \"mode\": \"lines\", \"name\": \"ssp5-8.5 Min.\", \"showlegend\": false, \"type\": \"scatter\", \"x\": [\"1970-2000\", \"2021-2040\", \"2041-2060\", \"2061-2080\", \"2081-2100\"], \"y\": [1084.6, 967.4000000000001, 881.6000000000001, 730.8000000000001, 620.0]}, {\"fill\": \"tonexty\", \"fillcolor\": \"rgba(200, 200, 0, 0.2)\", \"hoverlabel\": {\"bgcolor\": \"rgb(250, 170, 60)\", \"font\": {\"color\": \"white\"}}, \"legendgroup\": \"ssp585\", \"line\": {\"width\": 0}, \"marker\": {\"color\": \"#444\"}, \"mode\": \"lines\", \"name\": \"ssp5-8.5 Min.Max.\", \"showlegend\": true, \"type\": \"scatter\", \"x\": [\"1970-2000\", \"2021-2040\", \"2041-2060\", \"2061-2080\", \"2081-2100\"], \"y\": [1084.6, 1095.3, 1089.3, 979.5000000000002, 935.6999999999999]}],                        {\"height\": 700, \"legend\": {\"x\": 0.05, \"xanchor\": \"left\", \"y\": 0.05, \"yanchor\": \"bottom\"}, \"template\": {\"data\": {\"bar\": [{\"error_x\": {\"color\": \"#2a3f5f\"}, \"error_y\": {\"color\": \"#2a3f5f\"}, \"marker\": {\"line\": {\"color\": \"#E5ECF6\", \"width\": 0.5}}, \"type\": \"bar\"}], \"barpolar\": [{\"marker\": {\"line\": {\"color\": \"#E5ECF6\", \"width\": 0.5}}, \"type\": \"barpolar\"}], \"carpet\": [{\"aaxis\": {\"endlinecolor\": \"#2a3f5f\", \"gridcolor\": \"white\", \"linecolor\": \"white\", \"minorgridcolor\": \"white\", \"startlinecolor\": \"#2a3f5f\"}, \"baxis\": {\"endlinecolor\": \"#2a3f5f\", \"gridcolor\": \"white\", \"linecolor\": \"white\", \"minorgridcolor\": \"white\", \"startlinecolor\": \"#2a3f5f\"}, \"type\": \"carpet\"}], \"choropleth\": [{\"colorbar\": {\"outlinewidth\": 0, \"ticks\": \"\"}, \"type\": \"choropleth\"}], \"contour\": [{\"colorbar\": {\"outlinewidth\": 0, \"ticks\": \"\"}, \"colorscale\": [[0.0, \"#0d0887\"], [0.1111111111111111, \"#46039f\"], [0.2222222222222222, \"#7201a8\"], [0.3333333333333333, \"#9c179e\"], [0.4444444444444444, \"#bd3786\"], [0.5555555555555556, \"#d8576b\"], [0.6666666666666666, \"#ed7953\"], [0.7777777777777778, \"#fb9f3a\"], [0.8888888888888888, \"#fdca26\"], [1.0, \"#f0f921\"]], \"type\": \"contour\"}], \"contourcarpet\": [{\"colorbar\": {\"outlinewidth\": 0, \"ticks\": \"\"}, \"type\": \"contourcarpet\"}], \"heatmap\": [{\"colorbar\": {\"outlinewidth\": 0, \"ticks\": \"\"}, \"colorscale\": [[0.0, \"#0d0887\"], [0.1111111111111111, \"#46039f\"], [0.2222222222222222, \"#7201a8\"], [0.3333333333333333, \"#9c179e\"], [0.4444444444444444, \"#bd3786\"], [0.5555555555555556, \"#d8576b\"], [0.6666666666666666, \"#ed7953\"], [0.7777777777777778, \"#fb9f3a\"], [0.8888888888888888, \"#fdca26\"], [1.0, \"#f0f921\"]], \"type\": \"heatmap\"}], \"heatmapgl\": [{\"colorbar\": {\"outlinewidth\": 0, \"ticks\": \"\"}, \"colorscale\": [[0.0, \"#0d0887\"], [0.1111111111111111, \"#46039f\"], [0.2222222222222222, \"#7201a8\"], [0.3333333333333333, \"#9c179e\"], [0.4444444444444444, \"#bd3786\"], [0.5555555555555556, \"#d8576b\"], [0.6666666666666666, \"#ed7953\"], [0.7777777777777778, \"#fb9f3a\"], [0.8888888888888888, \"#fdca26\"], [1.0, \"#f0f921\"]], \"type\": \"heatmapgl\"}], \"histogram\": [{\"marker\": {\"colorbar\": {\"outlinewidth\": 0, \"ticks\": \"\"}}, \"type\": \"histogram\"}], \"histogram2d\": [{\"colorbar\": {\"outlinewidth\": 0, \"ticks\": \"\"}, \"colorscale\": [[0.0, \"#0d0887\"], [0.1111111111111111, \"#46039f\"], [0.2222222222222222, \"#7201a8\"], [0.3333333333333333, \"#9c179e\"], [0.4444444444444444, \"#bd3786\"], [0.5555555555555556, \"#d8576b\"], [0.6666666666666666, \"#ed7953\"], [0.7777777777777778, \"#fb9f3a\"], [0.8888888888888888, \"#fdca26\"], [1.0, \"#f0f921\"]], \"type\": \"histogram2d\"}], \"histogram2dcontour\": [{\"colorbar\": {\"outlinewidth\": 0, \"ticks\": \"\"}, \"colorscale\": [[0.0, \"#0d0887\"], [0.1111111111111111, \"#46039f\"], [0.2222222222222222, \"#7201a8\"], [0.3333333333333333, \"#9c179e\"], [0.4444444444444444, \"#bd3786\"], [0.5555555555555556, \"#d8576b\"], [0.6666666666666666, \"#ed7953\"], [0.7777777777777778, \"#fb9f3a\"], [0.8888888888888888, \"#fdca26\"], [1.0, \"#f0f921\"]], \"type\": \"histogram2dcontour\"}], \"mesh3d\": [{\"colorbar\": {\"outlinewidth\": 0, \"ticks\": \"\"}, \"type\": \"mesh3d\"}], \"parcoords\": [{\"line\": {\"colorbar\": {\"outlinewidth\": 0, \"ticks\": \"\"}}, \"type\": \"parcoords\"}], \"pie\": [{\"automargin\": true, \"type\": \"pie\"}], \"scatter\": [{\"marker\": {\"colorbar\": {\"outlinewidth\": 0, \"ticks\": \"\"}}, \"type\": \"scatter\"}], \"scatter3d\": [{\"line\": {\"colorbar\": {\"outlinewidth\": 0, \"ticks\": \"\"}}, \"marker\": {\"colorbar\": {\"outlinewidth\": 0, \"ticks\": \"\"}}, \"type\": \"scatter3d\"}], \"scattercarpet\": [{\"marker\": {\"colorbar\": {\"outlinewidth\": 0, \"ticks\": \"\"}}, \"type\": \"scattercarpet\"}], \"scattergeo\": [{\"marker\": {\"colorbar\": {\"outlinewidth\": 0, \"ticks\": \"\"}}, \"type\": \"scattergeo\"}], \"scattergl\": [{\"marker\": {\"colorbar\": {\"outlinewidth\": 0, \"ticks\": \"\"}}, \"type\": \"scattergl\"}], \"scattermapbox\": [{\"marker\": {\"colorbar\": {\"outlinewidth\": 0, \"ticks\": \"\"}}, \"type\": \"scattermapbox\"}], \"scatterpolar\": [{\"marker\": {\"colorbar\": {\"outlinewidth\": 0, \"ticks\": \"\"}}, \"type\": \"scatterpolar\"}], \"scatterpolargl\": [{\"marker\": {\"colorbar\": {\"outlinewidth\": 0, \"ticks\": \"\"}}, \"type\": \"scatterpolargl\"}], \"scatterternary\": [{\"marker\": {\"colorbar\": {\"outlinewidth\": 0, \"ticks\": \"\"}}, \"type\": \"scatterternary\"}], \"surface\": [{\"colorbar\": {\"outlinewidth\": 0, \"ticks\": \"\"}, \"colorscale\": [[0.0, \"#0d0887\"], [0.1111111111111111, \"#46039f\"], [0.2222222222222222, \"#7201a8\"], [0.3333333333333333, \"#9c179e\"], [0.4444444444444444, \"#bd3786\"], [0.5555555555555556, \"#d8576b\"], [0.6666666666666666, \"#ed7953\"], [0.7777777777777778, \"#fb9f3a\"], [0.8888888888888888, \"#fdca26\"], [1.0, \"#f0f921\"]], \"type\": \"surface\"}], \"table\": [{\"cells\": {\"fill\": {\"color\": \"#EBF0F8\"}, \"line\": {\"color\": \"white\"}}, \"header\": {\"fill\": {\"color\": \"#C8D4E3\"}, \"line\": {\"color\": \"white\"}}, \"type\": \"table\"}]}, \"layout\": {\"annotationdefaults\": {\"arrowcolor\": \"#2a3f5f\", \"arrowhead\": 0, \"arrowwidth\": 1}, \"autotypenumbers\": \"strict\", \"coloraxis\": {\"colorbar\": {\"outlinewidth\": 0, \"ticks\": \"\"}}, \"colorscale\": {\"diverging\": [[0, \"#8e0152\"], [0.1, \"#c51b7d\"], [0.2, \"#de77ae\"], [0.3, \"#f1b6da\"], [0.4, \"#fde0ef\"], [0.5, \"#f7f7f7\"], [0.6, \"#e6f5d0\"], [0.7, \"#b8e186\"], [0.8, \"#7fbc41\"], [0.9, \"#4d9221\"], [1, \"#276419\"]], \"sequential\": [[0.0, \"#0d0887\"], [0.1111111111111111, \"#46039f\"], [0.2222222222222222, \"#7201a8\"], [0.3333333333333333, \"#9c179e\"], [0.4444444444444444, \"#bd3786\"], [0.5555555555555556, \"#d8576b\"], [0.6666666666666666, \"#ed7953\"], [0.7777777777777778, \"#fb9f3a\"], [0.8888888888888888, \"#fdca26\"], [1.0, \"#f0f921\"]], \"sequentialminus\": [[0.0, \"#0d0887\"], [0.1111111111111111, \"#46039f\"], [0.2222222222222222, \"#7201a8\"], [0.3333333333333333, \"#9c179e\"], [0.4444444444444444, \"#bd3786\"], [0.5555555555555556, \"#d8576b\"], [0.6666666666666666, \"#ed7953\"], [0.7777777777777778, \"#fb9f3a\"], [0.8888888888888888, \"#fdca26\"], [1.0, \"#f0f921\"]]}, \"colorway\": [\"#636efa\", \"#EF553B\", \"#00cc96\", \"#ab63fa\", \"#FFA15A\", \"#19d3f3\", \"#FF6692\", \"#B6E880\", \"#FF97FF\", \"#FECB52\"], \"font\": {\"color\": \"#2a3f5f\"}, \"geo\": {\"bgcolor\": \"white\", \"lakecolor\": \"white\", \"landcolor\": \"#E5ECF6\", \"showlakes\": true, \"showland\": true, \"subunitcolor\": \"white\"}, \"hoverlabel\": {\"align\": \"left\"}, \"hovermode\": \"closest\", \"mapbox\": {\"style\": \"light\"}, \"paper_bgcolor\": \"white\", \"plot_bgcolor\": \"#E5ECF6\", \"polar\": {\"angularaxis\": {\"gridcolor\": \"white\", \"linecolor\": \"white\", \"ticks\": \"\"}, \"bgcolor\": \"#E5ECF6\", \"radialaxis\": {\"gridcolor\": \"white\", \"linecolor\": \"white\", \"ticks\": \"\"}}, \"scene\": {\"xaxis\": {\"backgroundcolor\": \"#E5ECF6\", \"gridcolor\": \"white\", \"gridwidth\": 2, \"linecolor\": \"white\", \"showbackground\": true, \"ticks\": \"\", \"zerolinecolor\": \"white\"}, \"yaxis\": {\"backgroundcolor\": \"#E5ECF6\", \"gridcolor\": \"white\", \"gridwidth\": 2, \"linecolor\": \"white\", \"showbackground\": true, \"ticks\": \"\", \"zerolinecolor\": \"white\"}, \"zaxis\": {\"backgroundcolor\": \"#E5ECF6\", \"gridcolor\": \"white\", \"gridwidth\": 2, \"linecolor\": \"white\", \"showbackground\": true, \"ticks\": \"\", \"zerolinecolor\": \"white\"}}, \"shapedefaults\": {\"line\": {\"color\": \"#2a3f5f\"}}, \"ternary\": {\"aaxis\": {\"gridcolor\": \"white\", \"linecolor\": \"white\", \"ticks\": \"\"}, \"baxis\": {\"gridcolor\": \"white\", \"linecolor\": \"white\", \"ticks\": \"\"}, \"bgcolor\": \"#E5ECF6\", \"caxis\": {\"gridcolor\": \"white\", \"linecolor\": \"white\", \"ticks\": \"\"}}, \"title\": {\"x\": 0.05}, \"xaxis\": {\"automargin\": true, \"gridcolor\": \"white\", \"linecolor\": \"white\", \"ticks\": \"\", \"title\": {\"standoff\": 15}, \"zerolinecolor\": \"white\", \"zerolinewidth\": 2}, \"yaxis\": {\"automargin\": true, \"gridcolor\": \"white\", \"linecolor\": \"white\", \"ticks\": \"\", \"title\": {\"standoff\": 15}, \"zerolinecolor\": \"white\", \"zerolinewidth\": 2}}}, \"title\": {\"text\": \"Evolution of future interannual precipitation, according to 4 SSP scenarios and 5 GCMs\"}, \"width\": 1000, \"yaxis\": {\"range\": [620.0, 1130.0], \"title\": {\"text\": \"mm\"}}},                        {\"responsive\": true}                    ).then(function(){\n",
       "                            \n",
       "var gd = document.getElementById('443fa3da-09a4-418c-9ab9-9d77a581afda');\n",
       "var x = new MutationObserver(function (mutations, observer) {{\n",
       "        var display = window.getComputedStyle(gd).display;\n",
       "        if (!display || display === 'none') {{\n",
       "            console.log([gd, 'removed!']);\n",
       "            Plotly.purge(gd);\n",
       "            observer.disconnect();\n",
       "        }}\n",
       "}});\n",
       "\n",
       "// Listen for the removal of the full notebook cells\n",
       "var notebookContainer = gd.closest('#notebook-container');\n",
       "if (notebookContainer) {{\n",
       "    x.observe(notebookContainer, {childList: true});\n",
       "}}\n",
       "\n",
       "// Listen for the clearing of the current output cell\n",
       "var outputEl = gd.closest('.output');\n",
       "if (outputEl) {{\n",
       "    x.observe(outputEl, {childList: true});\n",
       "}}\n",
       "\n",
       "                        })                };                });            </script>        </div>"
      ]
     },
     "metadata": {},
     "output_type": "display_data"
    }
   ],
   "source": [
    "\"\"\"\n",
    "Created on January 2021\n",
    "@author: Loïc Duffar\n",
    "\"\"\"\n",
    "import plotly.graph_objects as go\n",
    "import plotly\n",
    "print('Plotly version: ', plotly.__version__)\n",
    "\n",
    "#============== Customization\n",
    "#------------ Name of the dataframe column to plot (e.g. annual or one of month number 1-12) \n",
    "month_or_year = annual_label\n",
    "\n",
    "#============== Process\n",
    "rgba_list= ['rgba(10, 10, 150, 0.2)', 'rgba(255, 10, 10, 0.1)', 'rgba(10, 150, 10, 0.1)', 'rgba(200, 200, 0, 0.2)']\n",
    "rgb_list= ['rgb(10, 10, 150)', 'rgb(150, 10, 10)', 'rgb(10, 150, 10)', 'rgb(250, 170, 60)']\n",
    "\n",
    "x = [historical_period] + ['2021-2040', '2041-2060', '2061-2080', '2081-2100']\n",
    "fig = go.Figure()\n",
    "    \n",
    "for scenario, scenario_long, rgb, rgba in zip(ssp_list, ssp_list_long, rgb_list, rgba_list):\n",
    "    test= (df_total.index.get_level_values('Scenario') == scenario) | (df_total.index.get_level_values('Scenario') =='Historical')\n",
    "    group = df_total[test ][month_or_year].groupby(by= ['Period'])\n",
    "    ymedian= group.median() \n",
    "    ymin= group.min()\n",
    "    ymax= group.max()\n",
    "\n",
    "    fig.add_trace(\n",
    "        go.Scatter(\n",
    "            name= scenario_long + ' Median of 9 GCMs',\n",
    "            x= x,\n",
    "            y= ymedian,\n",
    "            mode= 'lines',\n",
    "            line= dict(color= rgb),\n",
    "            legendgroup= scenario,\n",
    "        ))\n",
    "\n",
    "    fig.add_trace(\n",
    "        go.Scatter(\n",
    "            name= scenario_long + ' Min.',\n",
    "            x= x,\n",
    "            y= ymin,\n",
    "            mode= 'lines',\n",
    "            line= dict(width= 0),\n",
    "            hoverlabel= dict(bgcolor= rgb, font_color='white'),\n",
    "            marker= dict(color= \"#444\"),\n",
    "            showlegend= False,\n",
    "            legendgroup= scenario,            \n",
    "        ))\n",
    "    fig.add_trace(\n",
    "        go.Scatter(\n",
    "            name= scenario_long + ' Min.Max.',\n",
    "            x= x,\n",
    "            y= ymax,\n",
    "            mode= 'lines',\n",
    "            line= dict(width= 0),\n",
    "            hoverlabel= dict(bgcolor= rgb, font_color='white'),\n",
    "            marker= dict(color= \"#444\"),\n",
    "            fillcolor= rgba,\n",
    "            fill= 'tonexty',\n",
    "            showlegend= True,\n",
    "            legendgroup= scenario,            \n",
    "        ))\n",
    "\n",
    "fig.update_layout(\n",
    "    height= 700, width= 1000,\n",
    "    yaxis_title= 'mm',\n",
    "    title= 'Evolution of future interannual precipitation, according to ' + str(len(ssp_list)) + ' SSP scenarios and ' + str(len(gcm_list)) + ' GCMs',\n",
    "#    hovermode= \"x\",\n",
    "    yaxis_range= [df_total.min().max(), df_total.max().max()],\n",
    "    legend=dict(yanchor=\"bottom\",\n",
    "                y=0.05,\n",
    "                xanchor=\"left\",\n",
    "                x=0.05),\n",
    "    template= \"plotly\", # \"plotly\", \"plotly_white\", \"plotly_dark\", \"ggplot2\", \"seaborn\", \"simple_white\", \"none\"\n",
    "#    paper_bgcolor='rgba(0,0,0,0)',\n",
    "#    plot_bgcolor='rgba(0,0,0,0)',\n",
    "    )\n",
    "file_future_by_year= 'WorldClim - future by year.png'\n",
    "fig.write_image(os.path.join(fld_out, file_future_by_year))# needs installation of \"plotly-orca\" or \"kaleido\"\n",
    "fig.show()"
   ]
  },
  {
   "cell_type": "markdown",
   "metadata": {},
   "source": [
    "### <a name=section06></a>6) Plot future evolution for each month (4 scenarios and 9 GCMs)"
   ]
  },
  {
   "cell_type": "code",
   "execution_count": 17,
   "metadata": {
    "scrolled": false
   },
   "outputs": [
    {
     "data": {
      "application/vnd.plotly.v1+json": {
       "config": {
        "plotlyServerURL": "https://plot.ly"
       },
       "data": [
        {
         "legendgroup": "ssp126",
         "line": {
          "color": "rgb(10, 10, 150)"
         },
         "mode": "lines",
         "name": "ssp1-2.6 (5 GCMs median)",
         "showlegend": true,
         "type": "scatter",
         "x": [
          1,
          2,
          3,
          4,
          5,
          6,
          7,
          8,
          9,
          10,
          11,
          12
         ],
         "xaxis": "x",
         "y": [
          19.2,
          19.6,
          18.8,
          18.9,
          19.2
         ],
         "yaxis": "y"
        },
        {
         "legendgroup": "ssp245",
         "line": {
          "color": "rgb(150, 10, 10)"
         },
         "mode": "lines",
         "name": "ssp2-4.5 (5 GCMs median)",
         "showlegend": true,
         "type": "scatter",
         "x": [
          1,
          2,
          3,
          4,
          5,
          6,
          7,
          8,
          9,
          10,
          11,
          12
         ],
         "xaxis": "x",
         "y": [
          19.2,
          18.85,
          19.1,
          19.6,
          19.1
         ],
         "yaxis": "y"
        },
        {
         "legendgroup": "ssp370",
         "line": {
          "color": "rgb(10, 150, 10)"
         },
         "mode": "lines",
         "name": "ssp3-7.0 (5 GCMs median)",
         "showlegend": true,
         "type": "scatter",
         "x": [
          1,
          2,
          3,
          4,
          5,
          6,
          7,
          8,
          9,
          10,
          11,
          12
         ],
         "xaxis": "x",
         "y": [
          19.2,
          19.1,
          18.7,
          18.3,
          18.3
         ],
         "yaxis": "y"
        },
        {
         "legendgroup": "ssp585",
         "line": {
          "color": "rgb(250, 170, 60)"
         },
         "mode": "lines",
         "name": "ssp5-8.5 (5 GCMs median)",
         "showlegend": true,
         "type": "scatter",
         "x": [
          1,
          2,
          3,
          4,
          5,
          6,
          7,
          8,
          9,
          10,
          11,
          12
         ],
         "xaxis": "x",
         "y": [
          19.2,
          18.8,
          19.2,
          19.5,
          19.3
         ],
         "yaxis": "y"
        },
        {
         "legendgroup": "ssp126",
         "line": {
          "color": "rgb(10, 10, 150)"
         },
         "mode": "lines",
         "name": "ssp1-2.6 (5 GCMs median)",
         "showlegend": false,
         "type": "scatter",
         "x": [
          1,
          2,
          3,
          4,
          5,
          6,
          7,
          8,
          9,
          10,
          11,
          12
         ],
         "xaxis": "x2",
         "y": [
          25,
          23.4,
          24.1,
          24.6,
          24.9
         ],
         "yaxis": "y2"
        },
        {
         "legendgroup": "ssp245",
         "line": {
          "color": "rgb(150, 10, 10)"
         },
         "mode": "lines",
         "name": "ssp2-4.5 (5 GCMs median)",
         "showlegend": false,
         "type": "scatter",
         "x": [
          1,
          2,
          3,
          4,
          5,
          6,
          7,
          8,
          9,
          10,
          11,
          12
         ],
         "xaxis": "x2",
         "y": [
          25,
          24.45,
          24.15,
          23.9,
          24.85
         ],
         "yaxis": "y2"
        },
        {
         "legendgroup": "ssp370",
         "line": {
          "color": "rgb(10, 150, 10)"
         },
         "mode": "lines",
         "name": "ssp3-7.0 (5 GCMs median)",
         "showlegend": false,
         "type": "scatter",
         "x": [
          1,
          2,
          3,
          4,
          5,
          6,
          7,
          8,
          9,
          10,
          11,
          12
         ],
         "xaxis": "x2",
         "y": [
          25,
          24.1,
          23.4,
          23.6,
          22.7
         ],
         "yaxis": "y2"
        },
        {
         "legendgroup": "ssp585",
         "line": {
          "color": "rgb(250, 170, 60)"
         },
         "mode": "lines",
         "name": "ssp5-8.5 (5 GCMs median)",
         "showlegend": false,
         "type": "scatter",
         "x": [
          1,
          2,
          3,
          4,
          5,
          6,
          7,
          8,
          9,
          10,
          11,
          12
         ],
         "xaxis": "x2",
         "y": [
          25,
          23.3,
          23.6,
          23.8,
          23
         ],
         "yaxis": "y2"
        },
        {
         "legendgroup": "ssp126",
         "line": {
          "color": "rgb(10, 10, 150)"
         },
         "mode": "lines",
         "name": "ssp1-2.6 (5 GCMs median)",
         "showlegend": false,
         "type": "scatter",
         "x": [
          1,
          2,
          3,
          4,
          5,
          6,
          7,
          8,
          9,
          10,
          11,
          12
         ],
         "xaxis": "x3",
         "y": [
          42.6,
          43.5,
          42.1,
          42.8,
          42.9
         ],
         "yaxis": "y3"
        },
        {
         "legendgroup": "ssp245",
         "line": {
          "color": "rgb(150, 10, 10)"
         },
         "mode": "lines",
         "name": "ssp2-4.5 (5 GCMs median)",
         "showlegend": false,
         "type": "scatter",
         "x": [
          1,
          2,
          3,
          4,
          5,
          6,
          7,
          8,
          9,
          10,
          11,
          12
         ],
         "xaxis": "x3",
         "y": [
          42.6,
          41.5,
          39.9,
          41.05,
          41.9
         ],
         "yaxis": "y3"
        },
        {
         "legendgroup": "ssp370",
         "line": {
          "color": "rgb(10, 150, 10)"
         },
         "mode": "lines",
         "name": "ssp3-7.0 (5 GCMs median)",
         "showlegend": false,
         "type": "scatter",
         "x": [
          1,
          2,
          3,
          4,
          5,
          6,
          7,
          8,
          9,
          10,
          11,
          12
         ],
         "xaxis": "x3",
         "y": [
          42.6,
          40.4,
          40.2,
          39.7,
          37.4
         ],
         "yaxis": "y3"
        },
        {
         "legendgroup": "ssp585",
         "line": {
          "color": "rgb(250, 170, 60)"
         },
         "mode": "lines",
         "name": "ssp5-8.5 (5 GCMs median)",
         "showlegend": false,
         "type": "scatter",
         "x": [
          1,
          2,
          3,
          4,
          5,
          6,
          7,
          8,
          9,
          10,
          11,
          12
         ],
         "xaxis": "x3",
         "y": [
          42.6,
          44.8,
          40.1,
          38.7,
          37.2
         ],
         "yaxis": "y3"
        },
        {
         "legendgroup": "ssp126",
         "line": {
          "color": "rgb(10, 10, 150)"
         },
         "mode": "lines",
         "name": "ssp1-2.6 (5 GCMs median)",
         "showlegend": false,
         "type": "scatter",
         "x": [
          1,
          2,
          3,
          4,
          5,
          6,
          7,
          8,
          9,
          10,
          11,
          12
         ],
         "xaxis": "x4",
         "y": [
          88.8,
          86.3,
          83.9,
          86.9,
          88.9
         ],
         "yaxis": "y4"
        },
        {
         "legendgroup": "ssp245",
         "line": {
          "color": "rgb(150, 10, 10)"
         },
         "mode": "lines",
         "name": "ssp2-4.5 (5 GCMs median)",
         "showlegend": false,
         "type": "scatter",
         "x": [
          1,
          2,
          3,
          4,
          5,
          6,
          7,
          8,
          9,
          10,
          11,
          12
         ],
         "xaxis": "x4",
         "y": [
          88.8,
          86.30000000000001,
          82.80000000000001,
          82.85,
          84.85
         ],
         "yaxis": "y4"
        },
        {
         "legendgroup": "ssp370",
         "line": {
          "color": "rgb(10, 150, 10)"
         },
         "mode": "lines",
         "name": "ssp3-7.0 (5 GCMs median)",
         "showlegend": false,
         "type": "scatter",
         "x": [
          1,
          2,
          3,
          4,
          5,
          6,
          7,
          8,
          9,
          10,
          11,
          12
         ],
         "xaxis": "x4",
         "y": [
          88.8,
          82.7,
          81.1,
          76.8,
          72.7
         ],
         "yaxis": "y4"
        },
        {
         "legendgroup": "ssp585",
         "line": {
          "color": "rgb(250, 170, 60)"
         },
         "mode": "lines",
         "name": "ssp5-8.5 (5 GCMs median)",
         "showlegend": false,
         "type": "scatter",
         "x": [
          1,
          2,
          3,
          4,
          5,
          6,
          7,
          8,
          9,
          10,
          11,
          12
         ],
         "xaxis": "x4",
         "y": [
          88.8,
          84.3,
          80,
          75.8,
          72.6
         ],
         "yaxis": "y4"
        },
        {
         "legendgroup": "ssp126",
         "line": {
          "color": "rgb(10, 10, 150)"
         },
         "mode": "lines",
         "name": "ssp1-2.6 (5 GCMs median)",
         "showlegend": false,
         "type": "scatter",
         "x": [
          1,
          2,
          3,
          4,
          5,
          6,
          7,
          8,
          9,
          10,
          11,
          12
         ],
         "xaxis": "x5",
         "y": [
          170.7,
          164,
          162,
          158.5,
          167.2
         ],
         "yaxis": "y5"
        },
        {
         "legendgroup": "ssp245",
         "line": {
          "color": "rgb(150, 10, 10)"
         },
         "mode": "lines",
         "name": "ssp2-4.5 (5 GCMs median)",
         "showlegend": false,
         "type": "scatter",
         "x": [
          1,
          2,
          3,
          4,
          5,
          6,
          7,
          8,
          9,
          10,
          11,
          12
         ],
         "xaxis": "x5",
         "y": [
          170.7,
          165.10000000000002,
          165.5,
          150.3,
          151.9
         ],
         "yaxis": "y5"
        },
        {
         "legendgroup": "ssp370",
         "line": {
          "color": "rgb(10, 150, 10)"
         },
         "mode": "lines",
         "name": "ssp3-7.0 (5 GCMs median)",
         "showlegend": false,
         "type": "scatter",
         "x": [
          1,
          2,
          3,
          4,
          5,
          6,
          7,
          8,
          9,
          10,
          11,
          12
         ],
         "xaxis": "x5",
         "y": [
          170.7,
          164.3,
          151.1,
          142.9,
          130.9
         ],
         "yaxis": "y5"
        },
        {
         "legendgroup": "ssp585",
         "line": {
          "color": "rgb(250, 170, 60)"
         },
         "mode": "lines",
         "name": "ssp5-8.5 (5 GCMs median)",
         "showlegend": false,
         "type": "scatter",
         "x": [
          1,
          2,
          3,
          4,
          5,
          6,
          7,
          8,
          9,
          10,
          11,
          12
         ],
         "xaxis": "x5",
         "y": [
          170.7,
          166.4,
          148.4,
          139.9,
          127.3
         ],
         "yaxis": "y5"
        },
        {
         "legendgroup": "ssp126",
         "line": {
          "color": "rgb(10, 10, 150)"
         },
         "mode": "lines",
         "name": "ssp1-2.6 (5 GCMs median)",
         "showlegend": false,
         "type": "scatter",
         "x": [
          1,
          2,
          3,
          4,
          5,
          6,
          7,
          8,
          9,
          10,
          11,
          12
         ],
         "xaxis": "x6",
         "y": [
          114.8,
          108,
          108.9,
          107.9,
          106.1
         ],
         "yaxis": "y6"
        },
        {
         "legendgroup": "ssp245",
         "line": {
          "color": "rgb(150, 10, 10)"
         },
         "mode": "lines",
         "name": "ssp2-4.5 (5 GCMs median)",
         "showlegend": false,
         "type": "scatter",
         "x": [
          1,
          2,
          3,
          4,
          5,
          6,
          7,
          8,
          9,
          10,
          11,
          12
         ],
         "xaxis": "x6",
         "y": [
          114.8,
          105.35,
          106.25,
          97.25,
          96.65
         ],
         "yaxis": "y6"
        },
        {
         "legendgroup": "ssp370",
         "line": {
          "color": "rgb(10, 150, 10)"
         },
         "mode": "lines",
         "name": "ssp3-7.0 (5 GCMs median)",
         "showlegend": false,
         "type": "scatter",
         "x": [
          1,
          2,
          3,
          4,
          5,
          6,
          7,
          8,
          9,
          10,
          11,
          12
         ],
         "xaxis": "x6",
         "y": [
          114.8,
          105.6,
          92.9,
          90.3,
          84.9
         ],
         "yaxis": "y6"
        },
        {
         "legendgroup": "ssp585",
         "line": {
          "color": "rgb(250, 170, 60)"
         },
         "mode": "lines",
         "name": "ssp5-8.5 (5 GCMs median)",
         "showlegend": false,
         "type": "scatter",
         "x": [
          1,
          2,
          3,
          4,
          5,
          6,
          7,
          8,
          9,
          10,
          11,
          12
         ],
         "xaxis": "x6",
         "y": [
          114.8,
          108.6,
          99.2,
          86.8,
          75.4
         ],
         "yaxis": "y6"
        },
        {
         "legendgroup": "ssp126",
         "line": {
          "color": "rgb(10, 10, 150)"
         },
         "mode": "lines",
         "name": "ssp1-2.6 (5 GCMs median)",
         "showlegend": false,
         "type": "scatter",
         "x": [
          1,
          2,
          3,
          4,
          5,
          6,
          7,
          8,
          9,
          10,
          11,
          12
         ],
         "xaxis": "x7",
         "y": [
          86.1,
          79.3,
          73.4,
          74.3,
          75.4
         ],
         "yaxis": "y7"
        },
        {
         "legendgroup": "ssp245",
         "line": {
          "color": "rgb(150, 10, 10)"
         },
         "mode": "lines",
         "name": "ssp2-4.5 (5 GCMs median)",
         "showlegend": false,
         "type": "scatter",
         "x": [
          1,
          2,
          3,
          4,
          5,
          6,
          7,
          8,
          9,
          10,
          11,
          12
         ],
         "xaxis": "x7",
         "y": [
          86.1,
          80.94999999999999,
          77.1,
          69.9,
          69.80000000000001
         ],
         "yaxis": "y7"
        },
        {
         "legendgroup": "ssp370",
         "line": {
          "color": "rgb(10, 150, 10)"
         },
         "mode": "lines",
         "name": "ssp3-7.0 (5 GCMs median)",
         "showlegend": false,
         "type": "scatter",
         "x": [
          1,
          2,
          3,
          4,
          5,
          6,
          7,
          8,
          9,
          10,
          11,
          12
         ],
         "xaxis": "x7",
         "y": [
          86.1,
          79.2,
          72.5,
          60.6,
          55.9
         ],
         "yaxis": "y7"
        },
        {
         "legendgroup": "ssp585",
         "line": {
          "color": "rgb(250, 170, 60)"
         },
         "mode": "lines",
         "name": "ssp5-8.5 (5 GCMs median)",
         "showlegend": false,
         "type": "scatter",
         "x": [
          1,
          2,
          3,
          4,
          5,
          6,
          7,
          8,
          9,
          10,
          11,
          12
         ],
         "xaxis": "x7",
         "y": [
          86.1,
          78.9,
          71,
          56.4,
          49.9
         ],
         "yaxis": "y7"
        },
        {
         "legendgroup": "ssp126",
         "line": {
          "color": "rgb(10, 10, 150)"
         },
         "mode": "lines",
         "name": "ssp1-2.6 (5 GCMs median)",
         "showlegend": false,
         "type": "scatter",
         "x": [
          1,
          2,
          3,
          4,
          5,
          6,
          7,
          8,
          9,
          10,
          11,
          12
         ],
         "xaxis": "x8",
         "y": [
          133.3,
          130.1,
          129.9,
          126.1,
          128.4
         ],
         "yaxis": "y8"
        },
        {
         "legendgroup": "ssp245",
         "line": {
          "color": "rgb(150, 10, 10)"
         },
         "mode": "lines",
         "name": "ssp2-4.5 (5 GCMs median)",
         "showlegend": false,
         "type": "scatter",
         "x": [
          1,
          2,
          3,
          4,
          5,
          6,
          7,
          8,
          9,
          10,
          11,
          12
         ],
         "xaxis": "x8",
         "y": [
          133.3,
          126.25,
          125.35,
          122.85,
          120.15
         ],
         "yaxis": "y8"
        },
        {
         "legendgroup": "ssp370",
         "line": {
          "color": "rgb(10, 150, 10)"
         },
         "mode": "lines",
         "name": "ssp3-7.0 (5 GCMs median)",
         "showlegend": false,
         "type": "scatter",
         "x": [
          1,
          2,
          3,
          4,
          5,
          6,
          7,
          8,
          9,
          10,
          11,
          12
         ],
         "xaxis": "x8",
         "y": [
          133.3,
          124.8,
          121.2,
          115.2,
          110.3
         ],
         "yaxis": "y8"
        },
        {
         "legendgroup": "ssp585",
         "line": {
          "color": "rgb(250, 170, 60)"
         },
         "mode": "lines",
         "name": "ssp5-8.5 (5 GCMs median)",
         "showlegend": false,
         "type": "scatter",
         "x": [
          1,
          2,
          3,
          4,
          5,
          6,
          7,
          8,
          9,
          10,
          11,
          12
         ],
         "xaxis": "x8",
         "y": [
          133.3,
          122.3,
          119,
          112.1,
          103.2
         ],
         "yaxis": "y8"
        },
        {
         "legendgroup": "ssp126",
         "line": {
          "color": "rgb(10, 10, 150)"
         },
         "mode": "lines",
         "name": "ssp1-2.6 (5 GCMs median)",
         "showlegend": false,
         "type": "scatter",
         "x": [
          1,
          2,
          3,
          4,
          5,
          6,
          7,
          8,
          9,
          10,
          11,
          12
         ],
         "xaxis": "x9",
         "y": [
          149.4,
          146.4,
          138.6,
          135.6,
          133.8
         ],
         "yaxis": "y9"
        },
        {
         "legendgroup": "ssp245",
         "line": {
          "color": "rgb(150, 10, 10)"
         },
         "mode": "lines",
         "name": "ssp2-4.5 (5 GCMs median)",
         "showlegend": false,
         "type": "scatter",
         "x": [
          1,
          2,
          3,
          4,
          5,
          6,
          7,
          8,
          9,
          10,
          11,
          12
         ],
         "xaxis": "x9",
         "y": [
          149.4,
          140.35,
          144.3,
          134.5,
          141.3
         ],
         "yaxis": "y9"
        },
        {
         "legendgroup": "ssp370",
         "line": {
          "color": "rgb(10, 150, 10)"
         },
         "mode": "lines",
         "name": "ssp3-7.0 (5 GCMs median)",
         "showlegend": false,
         "type": "scatter",
         "x": [
          1,
          2,
          3,
          4,
          5,
          6,
          7,
          8,
          9,
          10,
          11,
          12
         ],
         "xaxis": "x9",
         "y": [
          149.4,
          141.9,
          127.5,
          124.9,
          131.9
         ],
         "yaxis": "y9"
        },
        {
         "legendgroup": "ssp585",
         "line": {
          "color": "rgb(250, 170, 60)"
         },
         "mode": "lines",
         "name": "ssp5-8.5 (5 GCMs median)",
         "showlegend": false,
         "type": "scatter",
         "x": [
          1,
          2,
          3,
          4,
          5,
          6,
          7,
          8,
          9,
          10,
          11,
          12
         ],
         "xaxis": "x9",
         "y": [
          149.4,
          147.8,
          137,
          112.6,
          108
         ],
         "yaxis": "y9"
        },
        {
         "legendgroup": "ssp126",
         "line": {
          "color": "rgb(10, 10, 150)"
         },
         "mode": "lines",
         "name": "ssp1-2.6 (5 GCMs median)",
         "showlegend": false,
         "type": "scatter",
         "x": [
          1,
          2,
          3,
          4,
          5,
          6,
          7,
          8,
          9,
          10,
          11,
          12
         ],
         "xaxis": "x10",
         "y": [
          153.3,
          152,
          159.2,
          148.8,
          162.4
         ],
         "yaxis": "y10"
        },
        {
         "legendgroup": "ssp245",
         "line": {
          "color": "rgb(150, 10, 10)"
         },
         "mode": "lines",
         "name": "ssp2-4.5 (5 GCMs median)",
         "showlegend": false,
         "type": "scatter",
         "x": [
          1,
          2,
          3,
          4,
          5,
          6,
          7,
          8,
          9,
          10,
          11,
          12
         ],
         "xaxis": "x10",
         "y": [
          153.3,
          156.7,
          153.65,
          153.3,
          158.85
         ],
         "yaxis": "y10"
        },
        {
         "legendgroup": "ssp370",
         "line": {
          "color": "rgb(10, 150, 10)"
         },
         "mode": "lines",
         "name": "ssp3-7.0 (5 GCMs median)",
         "showlegend": false,
         "type": "scatter",
         "x": [
          1,
          2,
          3,
          4,
          5,
          6,
          7,
          8,
          9,
          10,
          11,
          12
         ],
         "xaxis": "x10",
         "y": [
          153.3,
          150.2,
          156.7,
          136.1,
          137.2
         ],
         "yaxis": "y10"
        },
        {
         "legendgroup": "ssp585",
         "line": {
          "color": "rgb(250, 170, 60)"
         },
         "mode": "lines",
         "name": "ssp5-8.5 (5 GCMs median)",
         "showlegend": false,
         "type": "scatter",
         "x": [
          1,
          2,
          3,
          4,
          5,
          6,
          7,
          8,
          9,
          10,
          11,
          12
         ],
         "xaxis": "x10",
         "y": [
          153.3,
          154.8,
          158.6,
          134.1,
          149.6
         ],
         "yaxis": "y10"
        },
        {
         "legendgroup": "ssp126",
         "line": {
          "color": "rgb(10, 10, 150)"
         },
         "mode": "lines",
         "name": "ssp1-2.6 (5 GCMs median)",
         "showlegend": false,
         "type": "scatter",
         "x": [
          1,
          2,
          3,
          4,
          5,
          6,
          7,
          8,
          9,
          10,
          11,
          12
         ],
         "xaxis": "x11",
         "y": [
          71.6,
          77.7,
          76.8,
          78.8,
          74.5
         ],
         "yaxis": "y11"
        },
        {
         "legendgroup": "ssp245",
         "line": {
          "color": "rgb(150, 10, 10)"
         },
         "mode": "lines",
         "name": "ssp2-4.5 (5 GCMs median)",
         "showlegend": false,
         "type": "scatter",
         "x": [
          1,
          2,
          3,
          4,
          5,
          6,
          7,
          8,
          9,
          10,
          11,
          12
         ],
         "xaxis": "x11",
         "y": [
          71.6,
          78.85,
          77.3,
          79.15,
          79.65
         ],
         "yaxis": "y11"
        },
        {
         "legendgroup": "ssp370",
         "line": {
          "color": "rgb(10, 150, 10)"
         },
         "mode": "lines",
         "name": "ssp3-7.0 (5 GCMs median)",
         "showlegend": false,
         "type": "scatter",
         "x": [
          1,
          2,
          3,
          4,
          5,
          6,
          7,
          8,
          9,
          10,
          11,
          12
         ],
         "xaxis": "x11",
         "y": [
          71.6,
          80.9,
          81.3,
          79,
          77.1
         ],
         "yaxis": "y11"
        },
        {
         "legendgroup": "ssp585",
         "line": {
          "color": "rgb(250, 170, 60)"
         },
         "mode": "lines",
         "name": "ssp5-8.5 (5 GCMs median)",
         "showlegend": false,
         "type": "scatter",
         "x": [
          1,
          2,
          3,
          4,
          5,
          6,
          7,
          8,
          9,
          10,
          11,
          12
         ],
         "xaxis": "x11",
         "y": [
          71.6,
          82.9,
          82.7,
          83.7,
          87.2
         ],
         "yaxis": "y11"
        },
        {
         "legendgroup": "ssp126",
         "line": {
          "color": "rgb(10, 10, 150)"
         },
         "mode": "lines",
         "name": "ssp1-2.6 (5 GCMs median)",
         "showlegend": false,
         "type": "scatter",
         "x": [
          1,
          2,
          3,
          4,
          5,
          6,
          7,
          8,
          9,
          10,
          11,
          12
         ],
         "xaxis": "x12",
         "y": [
          29.8,
          28.9,
          28.3,
          28.8,
          30.3
         ],
         "yaxis": "y12"
        },
        {
         "legendgroup": "ssp245",
         "line": {
          "color": "rgb(150, 10, 10)"
         },
         "mode": "lines",
         "name": "ssp2-4.5 (5 GCMs median)",
         "showlegend": false,
         "type": "scatter",
         "x": [
          1,
          2,
          3,
          4,
          5,
          6,
          7,
          8,
          9,
          10,
          11,
          12
         ],
         "xaxis": "x12",
         "y": [
          29.8,
          28.4,
          29.35,
          30.450000000000003,
          31.950000000000003
         ],
         "yaxis": "y12"
        },
        {
         "legendgroup": "ssp370",
         "line": {
          "color": "rgb(10, 150, 10)"
         },
         "mode": "lines",
         "name": "ssp3-7.0 (5 GCMs median)",
         "showlegend": false,
         "type": "scatter",
         "x": [
          1,
          2,
          3,
          4,
          5,
          6,
          7,
          8,
          9,
          10,
          11,
          12
         ],
         "xaxis": "x12",
         "y": [
          29.8,
          27.8,
          28,
          29.7,
          28.4
         ],
         "yaxis": "y12"
        },
        {
         "legendgroup": "ssp585",
         "line": {
          "color": "rgb(250, 170, 60)"
         },
         "mode": "lines",
         "name": "ssp5-8.5 (5 GCMs median)",
         "showlegend": false,
         "type": "scatter",
         "x": [
          1,
          2,
          3,
          4,
          5,
          6,
          7,
          8,
          9,
          10,
          11,
          12
         ],
         "xaxis": "x12",
         "y": [
          29.8,
          29.1,
          29.1,
          29.7,
          31
         ],
         "yaxis": "y12"
        }
       ],
       "layout": {
        "annotations": [
         {
          "font": {
           "size": 16
          },
          "showarrow": false,
          "text": "1",
          "x": 0.14444444444444446,
          "xanchor": "center",
          "xref": "paper",
          "y": 1,
          "yanchor": "bottom",
          "yref": "paper"
         },
         {
          "font": {
           "size": 16
          },
          "showarrow": false,
          "text": "2",
          "x": 0.5,
          "xanchor": "center",
          "xref": "paper",
          "y": 1,
          "yanchor": "bottom",
          "yref": "paper"
         },
         {
          "font": {
           "size": 16
          },
          "showarrow": false,
          "text": "3",
          "x": 0.8555555555555556,
          "xanchor": "center",
          "xref": "paper",
          "y": 1,
          "yanchor": "bottom",
          "yref": "paper"
         },
         {
          "font": {
           "size": 16
          },
          "showarrow": false,
          "text": "4",
          "x": 0.14444444444444446,
          "xanchor": "center",
          "xref": "paper",
          "y": 0.7375,
          "yanchor": "bottom",
          "yref": "paper"
         },
         {
          "font": {
           "size": 16
          },
          "showarrow": false,
          "text": "5",
          "x": 0.5,
          "xanchor": "center",
          "xref": "paper",
          "y": 0.7375,
          "yanchor": "bottom",
          "yref": "paper"
         },
         {
          "font": {
           "size": 16
          },
          "showarrow": false,
          "text": "6",
          "x": 0.8555555555555556,
          "xanchor": "center",
          "xref": "paper",
          "y": 0.7375,
          "yanchor": "bottom",
          "yref": "paper"
         },
         {
          "font": {
           "size": 16
          },
          "showarrow": false,
          "text": "7",
          "x": 0.14444444444444446,
          "xanchor": "center",
          "xref": "paper",
          "y": 0.475,
          "yanchor": "bottom",
          "yref": "paper"
         },
         {
          "font": {
           "size": 16
          },
          "showarrow": false,
          "text": "8",
          "x": 0.5,
          "xanchor": "center",
          "xref": "paper",
          "y": 0.475,
          "yanchor": "bottom",
          "yref": "paper"
         },
         {
          "font": {
           "size": 16
          },
          "showarrow": false,
          "text": "9",
          "x": 0.8555555555555556,
          "xanchor": "center",
          "xref": "paper",
          "y": 0.475,
          "yanchor": "bottom",
          "yref": "paper"
         },
         {
          "font": {
           "size": 16
          },
          "showarrow": false,
          "text": "10",
          "x": 0.14444444444444446,
          "xanchor": "center",
          "xref": "paper",
          "y": 0.2125,
          "yanchor": "bottom",
          "yref": "paper"
         },
         {
          "font": {
           "size": 16
          },
          "showarrow": false,
          "text": "11",
          "x": 0.5,
          "xanchor": "center",
          "xref": "paper",
          "y": 0.2125,
          "yanchor": "bottom",
          "yref": "paper"
         },
         {
          "font": {
           "size": 16
          },
          "showarrow": false,
          "text": "12",
          "x": 0.8555555555555556,
          "xanchor": "center",
          "xref": "paper",
          "y": 0.2125,
          "yanchor": "bottom",
          "yref": "paper"
         }
        ],
        "height": 800,
        "showlegend": true,
        "template": {
         "data": {
          "bar": [
           {
            "error_x": {
             "color": "#2a3f5f"
            },
            "error_y": {
             "color": "#2a3f5f"
            },
            "marker": {
             "line": {
              "color": "#E5ECF6",
              "width": 0.5
             }
            },
            "type": "bar"
           }
          ],
          "barpolar": [
           {
            "marker": {
             "line": {
              "color": "#E5ECF6",
              "width": 0.5
             }
            },
            "type": "barpolar"
           }
          ],
          "carpet": [
           {
            "aaxis": {
             "endlinecolor": "#2a3f5f",
             "gridcolor": "white",
             "linecolor": "white",
             "minorgridcolor": "white",
             "startlinecolor": "#2a3f5f"
            },
            "baxis": {
             "endlinecolor": "#2a3f5f",
             "gridcolor": "white",
             "linecolor": "white",
             "minorgridcolor": "white",
             "startlinecolor": "#2a3f5f"
            },
            "type": "carpet"
           }
          ],
          "choropleth": [
           {
            "colorbar": {
             "outlinewidth": 0,
             "ticks": ""
            },
            "type": "choropleth"
           }
          ],
          "contour": [
           {
            "colorbar": {
             "outlinewidth": 0,
             "ticks": ""
            },
            "colorscale": [
             [
              0,
              "#0d0887"
             ],
             [
              0.1111111111111111,
              "#46039f"
             ],
             [
              0.2222222222222222,
              "#7201a8"
             ],
             [
              0.3333333333333333,
              "#9c179e"
             ],
             [
              0.4444444444444444,
              "#bd3786"
             ],
             [
              0.5555555555555556,
              "#d8576b"
             ],
             [
              0.6666666666666666,
              "#ed7953"
             ],
             [
              0.7777777777777778,
              "#fb9f3a"
             ],
             [
              0.8888888888888888,
              "#fdca26"
             ],
             [
              1,
              "#f0f921"
             ]
            ],
            "type": "contour"
           }
          ],
          "contourcarpet": [
           {
            "colorbar": {
             "outlinewidth": 0,
             "ticks": ""
            },
            "type": "contourcarpet"
           }
          ],
          "heatmap": [
           {
            "colorbar": {
             "outlinewidth": 0,
             "ticks": ""
            },
            "colorscale": [
             [
              0,
              "#0d0887"
             ],
             [
              0.1111111111111111,
              "#46039f"
             ],
             [
              0.2222222222222222,
              "#7201a8"
             ],
             [
              0.3333333333333333,
              "#9c179e"
             ],
             [
              0.4444444444444444,
              "#bd3786"
             ],
             [
              0.5555555555555556,
              "#d8576b"
             ],
             [
              0.6666666666666666,
              "#ed7953"
             ],
             [
              0.7777777777777778,
              "#fb9f3a"
             ],
             [
              0.8888888888888888,
              "#fdca26"
             ],
             [
              1,
              "#f0f921"
             ]
            ],
            "type": "heatmap"
           }
          ],
          "heatmapgl": [
           {
            "colorbar": {
             "outlinewidth": 0,
             "ticks": ""
            },
            "colorscale": [
             [
              0,
              "#0d0887"
             ],
             [
              0.1111111111111111,
              "#46039f"
             ],
             [
              0.2222222222222222,
              "#7201a8"
             ],
             [
              0.3333333333333333,
              "#9c179e"
             ],
             [
              0.4444444444444444,
              "#bd3786"
             ],
             [
              0.5555555555555556,
              "#d8576b"
             ],
             [
              0.6666666666666666,
              "#ed7953"
             ],
             [
              0.7777777777777778,
              "#fb9f3a"
             ],
             [
              0.8888888888888888,
              "#fdca26"
             ],
             [
              1,
              "#f0f921"
             ]
            ],
            "type": "heatmapgl"
           }
          ],
          "histogram": [
           {
            "marker": {
             "colorbar": {
              "outlinewidth": 0,
              "ticks": ""
             }
            },
            "type": "histogram"
           }
          ],
          "histogram2d": [
           {
            "colorbar": {
             "outlinewidth": 0,
             "ticks": ""
            },
            "colorscale": [
             [
              0,
              "#0d0887"
             ],
             [
              0.1111111111111111,
              "#46039f"
             ],
             [
              0.2222222222222222,
              "#7201a8"
             ],
             [
              0.3333333333333333,
              "#9c179e"
             ],
             [
              0.4444444444444444,
              "#bd3786"
             ],
             [
              0.5555555555555556,
              "#d8576b"
             ],
             [
              0.6666666666666666,
              "#ed7953"
             ],
             [
              0.7777777777777778,
              "#fb9f3a"
             ],
             [
              0.8888888888888888,
              "#fdca26"
             ],
             [
              1,
              "#f0f921"
             ]
            ],
            "type": "histogram2d"
           }
          ],
          "histogram2dcontour": [
           {
            "colorbar": {
             "outlinewidth": 0,
             "ticks": ""
            },
            "colorscale": [
             [
              0,
              "#0d0887"
             ],
             [
              0.1111111111111111,
              "#46039f"
             ],
             [
              0.2222222222222222,
              "#7201a8"
             ],
             [
              0.3333333333333333,
              "#9c179e"
             ],
             [
              0.4444444444444444,
              "#bd3786"
             ],
             [
              0.5555555555555556,
              "#d8576b"
             ],
             [
              0.6666666666666666,
              "#ed7953"
             ],
             [
              0.7777777777777778,
              "#fb9f3a"
             ],
             [
              0.8888888888888888,
              "#fdca26"
             ],
             [
              1,
              "#f0f921"
             ]
            ],
            "type": "histogram2dcontour"
           }
          ],
          "mesh3d": [
           {
            "colorbar": {
             "outlinewidth": 0,
             "ticks": ""
            },
            "type": "mesh3d"
           }
          ],
          "parcoords": [
           {
            "line": {
             "colorbar": {
              "outlinewidth": 0,
              "ticks": ""
             }
            },
            "type": "parcoords"
           }
          ],
          "pie": [
           {
            "automargin": true,
            "type": "pie"
           }
          ],
          "scatter": [
           {
            "marker": {
             "colorbar": {
              "outlinewidth": 0,
              "ticks": ""
             }
            },
            "type": "scatter"
           }
          ],
          "scatter3d": [
           {
            "line": {
             "colorbar": {
              "outlinewidth": 0,
              "ticks": ""
             }
            },
            "marker": {
             "colorbar": {
              "outlinewidth": 0,
              "ticks": ""
             }
            },
            "type": "scatter3d"
           }
          ],
          "scattercarpet": [
           {
            "marker": {
             "colorbar": {
              "outlinewidth": 0,
              "ticks": ""
             }
            },
            "type": "scattercarpet"
           }
          ],
          "scattergeo": [
           {
            "marker": {
             "colorbar": {
              "outlinewidth": 0,
              "ticks": ""
             }
            },
            "type": "scattergeo"
           }
          ],
          "scattergl": [
           {
            "marker": {
             "colorbar": {
              "outlinewidth": 0,
              "ticks": ""
             }
            },
            "type": "scattergl"
           }
          ],
          "scattermapbox": [
           {
            "marker": {
             "colorbar": {
              "outlinewidth": 0,
              "ticks": ""
             }
            },
            "type": "scattermapbox"
           }
          ],
          "scatterpolar": [
           {
            "marker": {
             "colorbar": {
              "outlinewidth": 0,
              "ticks": ""
             }
            },
            "type": "scatterpolar"
           }
          ],
          "scatterpolargl": [
           {
            "marker": {
             "colorbar": {
              "outlinewidth": 0,
              "ticks": ""
             }
            },
            "type": "scatterpolargl"
           }
          ],
          "scatterternary": [
           {
            "marker": {
             "colorbar": {
              "outlinewidth": 0,
              "ticks": ""
             }
            },
            "type": "scatterternary"
           }
          ],
          "surface": [
           {
            "colorbar": {
             "outlinewidth": 0,
             "ticks": ""
            },
            "colorscale": [
             [
              0,
              "#0d0887"
             ],
             [
              0.1111111111111111,
              "#46039f"
             ],
             [
              0.2222222222222222,
              "#7201a8"
             ],
             [
              0.3333333333333333,
              "#9c179e"
             ],
             [
              0.4444444444444444,
              "#bd3786"
             ],
             [
              0.5555555555555556,
              "#d8576b"
             ],
             [
              0.6666666666666666,
              "#ed7953"
             ],
             [
              0.7777777777777778,
              "#fb9f3a"
             ],
             [
              0.8888888888888888,
              "#fdca26"
             ],
             [
              1,
              "#f0f921"
             ]
            ],
            "type": "surface"
           }
          ],
          "table": [
           {
            "cells": {
             "fill": {
              "color": "#EBF0F8"
             },
             "line": {
              "color": "white"
             }
            },
            "header": {
             "fill": {
              "color": "#C8D4E3"
             },
             "line": {
              "color": "white"
             }
            },
            "type": "table"
           }
          ]
         },
         "layout": {
          "annotationdefaults": {
           "arrowcolor": "#2a3f5f",
           "arrowhead": 0,
           "arrowwidth": 1
          },
          "autotypenumbers": "strict",
          "coloraxis": {
           "colorbar": {
            "outlinewidth": 0,
            "ticks": ""
           }
          },
          "colorscale": {
           "diverging": [
            [
             0,
             "#8e0152"
            ],
            [
             0.1,
             "#c51b7d"
            ],
            [
             0.2,
             "#de77ae"
            ],
            [
             0.3,
             "#f1b6da"
            ],
            [
             0.4,
             "#fde0ef"
            ],
            [
             0.5,
             "#f7f7f7"
            ],
            [
             0.6,
             "#e6f5d0"
            ],
            [
             0.7,
             "#b8e186"
            ],
            [
             0.8,
             "#7fbc41"
            ],
            [
             0.9,
             "#4d9221"
            ],
            [
             1,
             "#276419"
            ]
           ],
           "sequential": [
            [
             0,
             "#0d0887"
            ],
            [
             0.1111111111111111,
             "#46039f"
            ],
            [
             0.2222222222222222,
             "#7201a8"
            ],
            [
             0.3333333333333333,
             "#9c179e"
            ],
            [
             0.4444444444444444,
             "#bd3786"
            ],
            [
             0.5555555555555556,
             "#d8576b"
            ],
            [
             0.6666666666666666,
             "#ed7953"
            ],
            [
             0.7777777777777778,
             "#fb9f3a"
            ],
            [
             0.8888888888888888,
             "#fdca26"
            ],
            [
             1,
             "#f0f921"
            ]
           ],
           "sequentialminus": [
            [
             0,
             "#0d0887"
            ],
            [
             0.1111111111111111,
             "#46039f"
            ],
            [
             0.2222222222222222,
             "#7201a8"
            ],
            [
             0.3333333333333333,
             "#9c179e"
            ],
            [
             0.4444444444444444,
             "#bd3786"
            ],
            [
             0.5555555555555556,
             "#d8576b"
            ],
            [
             0.6666666666666666,
             "#ed7953"
            ],
            [
             0.7777777777777778,
             "#fb9f3a"
            ],
            [
             0.8888888888888888,
             "#fdca26"
            ],
            [
             1,
             "#f0f921"
            ]
           ]
          },
          "colorway": [
           "#636efa",
           "#EF553B",
           "#00cc96",
           "#ab63fa",
           "#FFA15A",
           "#19d3f3",
           "#FF6692",
           "#B6E880",
           "#FF97FF",
           "#FECB52"
          ],
          "font": {
           "color": "#2a3f5f"
          },
          "geo": {
           "bgcolor": "white",
           "lakecolor": "white",
           "landcolor": "#E5ECF6",
           "showlakes": true,
           "showland": true,
           "subunitcolor": "white"
          },
          "hoverlabel": {
           "align": "left"
          },
          "hovermode": "closest",
          "mapbox": {
           "style": "light"
          },
          "paper_bgcolor": "white",
          "plot_bgcolor": "#E5ECF6",
          "polar": {
           "angularaxis": {
            "gridcolor": "white",
            "linecolor": "white",
            "ticks": ""
           },
           "bgcolor": "#E5ECF6",
           "radialaxis": {
            "gridcolor": "white",
            "linecolor": "white",
            "ticks": ""
           }
          },
          "scene": {
           "xaxis": {
            "backgroundcolor": "#E5ECF6",
            "gridcolor": "white",
            "gridwidth": 2,
            "linecolor": "white",
            "showbackground": true,
            "ticks": "",
            "zerolinecolor": "white"
           },
           "yaxis": {
            "backgroundcolor": "#E5ECF6",
            "gridcolor": "white",
            "gridwidth": 2,
            "linecolor": "white",
            "showbackground": true,
            "ticks": "",
            "zerolinecolor": "white"
           },
           "zaxis": {
            "backgroundcolor": "#E5ECF6",
            "gridcolor": "white",
            "gridwidth": 2,
            "linecolor": "white",
            "showbackground": true,
            "ticks": "",
            "zerolinecolor": "white"
           }
          },
          "shapedefaults": {
           "line": {
            "color": "#2a3f5f"
           }
          },
          "ternary": {
           "aaxis": {
            "gridcolor": "white",
            "linecolor": "white",
            "ticks": ""
           },
           "baxis": {
            "gridcolor": "white",
            "linecolor": "white",
            "ticks": ""
           },
           "bgcolor": "#E5ECF6",
           "caxis": {
            "gridcolor": "white",
            "linecolor": "white",
            "ticks": ""
           }
          },
          "title": {
           "x": 0.05
          },
          "xaxis": {
           "automargin": true,
           "gridcolor": "white",
           "linecolor": "white",
           "ticks": "",
           "title": {
            "standoff": 15
           },
           "zerolinecolor": "white",
           "zerolinewidth": 2
          },
          "yaxis": {
           "automargin": true,
           "gridcolor": "white",
           "linecolor": "white",
           "ticks": "",
           "title": {
            "standoff": 15
           },
           "zerolinecolor": "white",
           "zerolinewidth": 2
          }
         }
        },
        "title": {
         "text": "Evolution of future average monthly precipitation, according to 4 SSP scenarios (median of 5 GCMs)"
        },
        "width": 1000,
        "xaxis": {
         "anchor": "y",
         "domain": [
          0,
          0.2888888888888889
         ],
         "matches": "x10",
         "showticklabels": false
        },
        "xaxis10": {
         "anchor": "y10",
         "domain": [
          0,
          0.2888888888888889
         ]
        },
        "xaxis11": {
         "anchor": "y11",
         "domain": [
          0.35555555555555557,
          0.6444444444444445
         ]
        },
        "xaxis12": {
         "anchor": "y12",
         "domain": [
          0.7111111111111111,
          1
         ]
        },
        "xaxis2": {
         "anchor": "y2",
         "domain": [
          0.35555555555555557,
          0.6444444444444445
         ],
         "matches": "x11",
         "showticklabels": false
        },
        "xaxis3": {
         "anchor": "y3",
         "domain": [
          0.7111111111111111,
          1
         ],
         "matches": "x12",
         "showticklabels": false
        },
        "xaxis4": {
         "anchor": "y4",
         "domain": [
          0,
          0.2888888888888889
         ],
         "matches": "x10",
         "showticklabels": false
        },
        "xaxis5": {
         "anchor": "y5",
         "domain": [
          0.35555555555555557,
          0.6444444444444445
         ],
         "matches": "x11",
         "showticklabels": false
        },
        "xaxis6": {
         "anchor": "y6",
         "domain": [
          0.7111111111111111,
          1
         ],
         "matches": "x12",
         "showticklabels": false
        },
        "xaxis7": {
         "anchor": "y7",
         "domain": [
          0,
          0.2888888888888889
         ],
         "matches": "x10",
         "showticklabels": false
        },
        "xaxis8": {
         "anchor": "y8",
         "domain": [
          0.35555555555555557,
          0.6444444444444445
         ],
         "matches": "x11",
         "showticklabels": false
        },
        "xaxis9": {
         "anchor": "y9",
         "domain": [
          0.7111111111111111,
          1
         ],
         "matches": "x12",
         "showticklabels": false
        },
        "yaxis": {
         "anchor": "x",
         "domain": [
          0.7875,
          1
         ],
         "title": {
          "text": "mm"
         }
        },
        "yaxis10": {
         "anchor": "x10",
         "domain": [
          0,
          0.2125
         ],
         "title": {
          "text": "mm"
         }
        },
        "yaxis11": {
         "anchor": "x11",
         "domain": [
          0,
          0.2125
         ]
        },
        "yaxis12": {
         "anchor": "x12",
         "domain": [
          0,
          0.2125
         ]
        },
        "yaxis2": {
         "anchor": "x2",
         "domain": [
          0.7875,
          1
         ]
        },
        "yaxis3": {
         "anchor": "x3",
         "domain": [
          0.7875,
          1
         ]
        },
        "yaxis4": {
         "anchor": "x4",
         "domain": [
          0.525,
          0.7375
         ],
         "title": {
          "text": "mm"
         }
        },
        "yaxis5": {
         "anchor": "x5",
         "domain": [
          0.525,
          0.7375
         ]
        },
        "yaxis6": {
         "anchor": "x6",
         "domain": [
          0.525,
          0.7375
         ]
        },
        "yaxis7": {
         "anchor": "x7",
         "domain": [
          0.2625,
          0.475
         ],
         "title": {
          "text": "mm"
         }
        },
        "yaxis8": {
         "anchor": "x8",
         "domain": [
          0.2625,
          0.475
         ]
        },
        "yaxis9": {
         "anchor": "x9",
         "domain": [
          0.2625,
          0.475
         ]
        }
       }
      },
      "text/html": [
       "<div>                            <div id=\"c269f1db-6997-4ff2-8cdb-f07c1c0cb6df\" class=\"plotly-graph-div\" style=\"height:800px; width:1000px;\"></div>            <script type=\"text/javascript\">                require([\"plotly\"], function(Plotly) {                    window.PLOTLYENV=window.PLOTLYENV || {};                                    if (document.getElementById(\"c269f1db-6997-4ff2-8cdb-f07c1c0cb6df\")) {                    Plotly.newPlot(                        \"c269f1db-6997-4ff2-8cdb-f07c1c0cb6df\",                        [{\"legendgroup\": \"ssp126\", \"line\": {\"color\": \"rgb(10, 10, 150)\"}, \"mode\": \"lines\", \"name\": \"ssp1-2.6 (5 GCMs median)\", \"showlegend\": true, \"type\": \"scatter\", \"x\": [1, 2, 3, 4, 5, 6, 7, 8, 9, 10, 11, 12], \"xaxis\": \"x\", \"y\": [19.2, 19.6, 18.8, 18.9, 19.2], \"yaxis\": \"y\"}, {\"legendgroup\": \"ssp245\", \"line\": {\"color\": \"rgb(150, 10, 10)\"}, \"mode\": \"lines\", \"name\": \"ssp2-4.5 (5 GCMs median)\", \"showlegend\": true, \"type\": \"scatter\", \"x\": [1, 2, 3, 4, 5, 6, 7, 8, 9, 10, 11, 12], \"xaxis\": \"x\", \"y\": [19.2, 18.85, 19.1, 19.6, 19.1], \"yaxis\": \"y\"}, {\"legendgroup\": \"ssp370\", \"line\": {\"color\": \"rgb(10, 150, 10)\"}, \"mode\": \"lines\", \"name\": \"ssp3-7.0 (5 GCMs median)\", \"showlegend\": true, \"type\": \"scatter\", \"x\": [1, 2, 3, 4, 5, 6, 7, 8, 9, 10, 11, 12], \"xaxis\": \"x\", \"y\": [19.2, 19.1, 18.7, 18.3, 18.3], \"yaxis\": \"y\"}, {\"legendgroup\": \"ssp585\", \"line\": {\"color\": \"rgb(250, 170, 60)\"}, \"mode\": \"lines\", \"name\": \"ssp5-8.5 (5 GCMs median)\", \"showlegend\": true, \"type\": \"scatter\", \"x\": [1, 2, 3, 4, 5, 6, 7, 8, 9, 10, 11, 12], \"xaxis\": \"x\", \"y\": [19.2, 18.8, 19.2, 19.5, 19.3], \"yaxis\": \"y\"}, {\"legendgroup\": \"ssp126\", \"line\": {\"color\": \"rgb(10, 10, 150)\"}, \"mode\": \"lines\", \"name\": \"ssp1-2.6 (5 GCMs median)\", \"showlegend\": false, \"type\": \"scatter\", \"x\": [1, 2, 3, 4, 5, 6, 7, 8, 9, 10, 11, 12], \"xaxis\": \"x2\", \"y\": [25.0, 23.4, 24.1, 24.6, 24.9], \"yaxis\": \"y2\"}, {\"legendgroup\": \"ssp245\", \"line\": {\"color\": \"rgb(150, 10, 10)\"}, \"mode\": \"lines\", \"name\": \"ssp2-4.5 (5 GCMs median)\", \"showlegend\": false, \"type\": \"scatter\", \"x\": [1, 2, 3, 4, 5, 6, 7, 8, 9, 10, 11, 12], \"xaxis\": \"x2\", \"y\": [25.0, 24.45, 24.15, 23.9, 24.85], \"yaxis\": \"y2\"}, {\"legendgroup\": \"ssp370\", \"line\": {\"color\": \"rgb(10, 150, 10)\"}, \"mode\": \"lines\", \"name\": \"ssp3-7.0 (5 GCMs median)\", \"showlegend\": false, \"type\": \"scatter\", \"x\": [1, 2, 3, 4, 5, 6, 7, 8, 9, 10, 11, 12], \"xaxis\": \"x2\", \"y\": [25.0, 24.1, 23.4, 23.6, 22.7], \"yaxis\": \"y2\"}, {\"legendgroup\": \"ssp585\", \"line\": {\"color\": \"rgb(250, 170, 60)\"}, \"mode\": \"lines\", \"name\": \"ssp5-8.5 (5 GCMs median)\", \"showlegend\": false, \"type\": \"scatter\", \"x\": [1, 2, 3, 4, 5, 6, 7, 8, 9, 10, 11, 12], \"xaxis\": \"x2\", \"y\": [25.0, 23.3, 23.6, 23.8, 23.0], \"yaxis\": \"y2\"}, {\"legendgroup\": \"ssp126\", \"line\": {\"color\": \"rgb(10, 10, 150)\"}, \"mode\": \"lines\", \"name\": \"ssp1-2.6 (5 GCMs median)\", \"showlegend\": false, \"type\": \"scatter\", \"x\": [1, 2, 3, 4, 5, 6, 7, 8, 9, 10, 11, 12], \"xaxis\": \"x3\", \"y\": [42.6, 43.5, 42.1, 42.8, 42.9], \"yaxis\": \"y3\"}, {\"legendgroup\": \"ssp245\", \"line\": {\"color\": \"rgb(150, 10, 10)\"}, \"mode\": \"lines\", \"name\": \"ssp2-4.5 (5 GCMs median)\", \"showlegend\": false, \"type\": \"scatter\", \"x\": [1, 2, 3, 4, 5, 6, 7, 8, 9, 10, 11, 12], \"xaxis\": \"x3\", \"y\": [42.6, 41.5, 39.9, 41.05, 41.9], \"yaxis\": \"y3\"}, {\"legendgroup\": \"ssp370\", \"line\": {\"color\": \"rgb(10, 150, 10)\"}, \"mode\": \"lines\", \"name\": \"ssp3-7.0 (5 GCMs median)\", \"showlegend\": false, \"type\": \"scatter\", \"x\": [1, 2, 3, 4, 5, 6, 7, 8, 9, 10, 11, 12], \"xaxis\": \"x3\", \"y\": [42.6, 40.4, 40.2, 39.7, 37.4], \"yaxis\": \"y3\"}, {\"legendgroup\": \"ssp585\", \"line\": {\"color\": \"rgb(250, 170, 60)\"}, \"mode\": \"lines\", \"name\": \"ssp5-8.5 (5 GCMs median)\", \"showlegend\": false, \"type\": \"scatter\", \"x\": [1, 2, 3, 4, 5, 6, 7, 8, 9, 10, 11, 12], \"xaxis\": \"x3\", \"y\": [42.6, 44.8, 40.1, 38.7, 37.2], \"yaxis\": \"y3\"}, {\"legendgroup\": \"ssp126\", \"line\": {\"color\": \"rgb(10, 10, 150)\"}, \"mode\": \"lines\", \"name\": \"ssp1-2.6 (5 GCMs median)\", \"showlegend\": false, \"type\": \"scatter\", \"x\": [1, 2, 3, 4, 5, 6, 7, 8, 9, 10, 11, 12], \"xaxis\": \"x4\", \"y\": [88.8, 86.3, 83.9, 86.9, 88.9], \"yaxis\": \"y4\"}, {\"legendgroup\": \"ssp245\", \"line\": {\"color\": \"rgb(150, 10, 10)\"}, \"mode\": \"lines\", \"name\": \"ssp2-4.5 (5 GCMs median)\", \"showlegend\": false, \"type\": \"scatter\", \"x\": [1, 2, 3, 4, 5, 6, 7, 8, 9, 10, 11, 12], \"xaxis\": \"x4\", \"y\": [88.8, 86.30000000000001, 82.80000000000001, 82.85, 84.85], \"yaxis\": \"y4\"}, {\"legendgroup\": \"ssp370\", \"line\": {\"color\": \"rgb(10, 150, 10)\"}, \"mode\": \"lines\", \"name\": \"ssp3-7.0 (5 GCMs median)\", \"showlegend\": false, \"type\": \"scatter\", \"x\": [1, 2, 3, 4, 5, 6, 7, 8, 9, 10, 11, 12], \"xaxis\": \"x4\", \"y\": [88.8, 82.7, 81.1, 76.8, 72.7], \"yaxis\": \"y4\"}, {\"legendgroup\": \"ssp585\", \"line\": {\"color\": \"rgb(250, 170, 60)\"}, \"mode\": \"lines\", \"name\": \"ssp5-8.5 (5 GCMs median)\", \"showlegend\": false, \"type\": \"scatter\", \"x\": [1, 2, 3, 4, 5, 6, 7, 8, 9, 10, 11, 12], \"xaxis\": \"x4\", \"y\": [88.8, 84.3, 80.0, 75.8, 72.6], \"yaxis\": \"y4\"}, {\"legendgroup\": \"ssp126\", \"line\": {\"color\": \"rgb(10, 10, 150)\"}, \"mode\": \"lines\", \"name\": \"ssp1-2.6 (5 GCMs median)\", \"showlegend\": false, \"type\": \"scatter\", \"x\": [1, 2, 3, 4, 5, 6, 7, 8, 9, 10, 11, 12], \"xaxis\": \"x5\", \"y\": [170.7, 164.0, 162.0, 158.5, 167.2], \"yaxis\": \"y5\"}, {\"legendgroup\": \"ssp245\", \"line\": {\"color\": \"rgb(150, 10, 10)\"}, \"mode\": \"lines\", \"name\": \"ssp2-4.5 (5 GCMs median)\", \"showlegend\": false, \"type\": \"scatter\", \"x\": [1, 2, 3, 4, 5, 6, 7, 8, 9, 10, 11, 12], \"xaxis\": \"x5\", \"y\": [170.7, 165.10000000000002, 165.5, 150.3, 151.9], \"yaxis\": \"y5\"}, {\"legendgroup\": \"ssp370\", \"line\": {\"color\": \"rgb(10, 150, 10)\"}, \"mode\": \"lines\", \"name\": \"ssp3-7.0 (5 GCMs median)\", \"showlegend\": false, \"type\": \"scatter\", \"x\": [1, 2, 3, 4, 5, 6, 7, 8, 9, 10, 11, 12], \"xaxis\": \"x5\", \"y\": [170.7, 164.3, 151.1, 142.9, 130.9], \"yaxis\": \"y5\"}, {\"legendgroup\": \"ssp585\", \"line\": {\"color\": \"rgb(250, 170, 60)\"}, \"mode\": \"lines\", \"name\": \"ssp5-8.5 (5 GCMs median)\", \"showlegend\": false, \"type\": \"scatter\", \"x\": [1, 2, 3, 4, 5, 6, 7, 8, 9, 10, 11, 12], \"xaxis\": \"x5\", \"y\": [170.7, 166.4, 148.4, 139.9, 127.3], \"yaxis\": \"y5\"}, {\"legendgroup\": \"ssp126\", \"line\": {\"color\": \"rgb(10, 10, 150)\"}, \"mode\": \"lines\", \"name\": \"ssp1-2.6 (5 GCMs median)\", \"showlegend\": false, \"type\": \"scatter\", \"x\": [1, 2, 3, 4, 5, 6, 7, 8, 9, 10, 11, 12], \"xaxis\": \"x6\", \"y\": [114.8, 108.0, 108.9, 107.9, 106.1], \"yaxis\": \"y6\"}, {\"legendgroup\": \"ssp245\", \"line\": {\"color\": \"rgb(150, 10, 10)\"}, \"mode\": \"lines\", \"name\": \"ssp2-4.5 (5 GCMs median)\", \"showlegend\": false, \"type\": \"scatter\", \"x\": [1, 2, 3, 4, 5, 6, 7, 8, 9, 10, 11, 12], \"xaxis\": \"x6\", \"y\": [114.8, 105.35, 106.25, 97.25, 96.65], \"yaxis\": \"y6\"}, {\"legendgroup\": \"ssp370\", \"line\": {\"color\": \"rgb(10, 150, 10)\"}, \"mode\": \"lines\", \"name\": \"ssp3-7.0 (5 GCMs median)\", \"showlegend\": false, \"type\": \"scatter\", \"x\": [1, 2, 3, 4, 5, 6, 7, 8, 9, 10, 11, 12], \"xaxis\": \"x6\", \"y\": [114.8, 105.6, 92.9, 90.3, 84.9], \"yaxis\": \"y6\"}, {\"legendgroup\": \"ssp585\", \"line\": {\"color\": \"rgb(250, 170, 60)\"}, \"mode\": \"lines\", \"name\": \"ssp5-8.5 (5 GCMs median)\", \"showlegend\": false, \"type\": \"scatter\", \"x\": [1, 2, 3, 4, 5, 6, 7, 8, 9, 10, 11, 12], \"xaxis\": \"x6\", \"y\": [114.8, 108.6, 99.2, 86.8, 75.4], \"yaxis\": \"y6\"}, {\"legendgroup\": \"ssp126\", \"line\": {\"color\": \"rgb(10, 10, 150)\"}, \"mode\": \"lines\", \"name\": \"ssp1-2.6 (5 GCMs median)\", \"showlegend\": false, \"type\": \"scatter\", \"x\": [1, 2, 3, 4, 5, 6, 7, 8, 9, 10, 11, 12], \"xaxis\": \"x7\", \"y\": [86.1, 79.3, 73.4, 74.3, 75.4], \"yaxis\": \"y7\"}, {\"legendgroup\": \"ssp245\", \"line\": {\"color\": \"rgb(150, 10, 10)\"}, \"mode\": \"lines\", \"name\": \"ssp2-4.5 (5 GCMs median)\", \"showlegend\": false, \"type\": \"scatter\", \"x\": [1, 2, 3, 4, 5, 6, 7, 8, 9, 10, 11, 12], \"xaxis\": \"x7\", \"y\": [86.1, 80.94999999999999, 77.1, 69.9, 69.80000000000001], \"yaxis\": \"y7\"}, {\"legendgroup\": \"ssp370\", \"line\": {\"color\": \"rgb(10, 150, 10)\"}, \"mode\": \"lines\", \"name\": \"ssp3-7.0 (5 GCMs median)\", \"showlegend\": false, \"type\": \"scatter\", \"x\": [1, 2, 3, 4, 5, 6, 7, 8, 9, 10, 11, 12], \"xaxis\": \"x7\", \"y\": [86.1, 79.2, 72.5, 60.6, 55.9], \"yaxis\": \"y7\"}, {\"legendgroup\": \"ssp585\", \"line\": {\"color\": \"rgb(250, 170, 60)\"}, \"mode\": \"lines\", \"name\": \"ssp5-8.5 (5 GCMs median)\", \"showlegend\": false, \"type\": \"scatter\", \"x\": [1, 2, 3, 4, 5, 6, 7, 8, 9, 10, 11, 12], \"xaxis\": \"x7\", \"y\": [86.1, 78.9, 71.0, 56.4, 49.9], \"yaxis\": \"y7\"}, {\"legendgroup\": \"ssp126\", \"line\": {\"color\": \"rgb(10, 10, 150)\"}, \"mode\": \"lines\", \"name\": \"ssp1-2.6 (5 GCMs median)\", \"showlegend\": false, \"type\": \"scatter\", \"x\": [1, 2, 3, 4, 5, 6, 7, 8, 9, 10, 11, 12], \"xaxis\": \"x8\", \"y\": [133.3, 130.1, 129.9, 126.1, 128.4], \"yaxis\": \"y8\"}, {\"legendgroup\": \"ssp245\", \"line\": {\"color\": \"rgb(150, 10, 10)\"}, \"mode\": \"lines\", \"name\": \"ssp2-4.5 (5 GCMs median)\", \"showlegend\": false, \"type\": \"scatter\", \"x\": [1, 2, 3, 4, 5, 6, 7, 8, 9, 10, 11, 12], \"xaxis\": \"x8\", \"y\": [133.3, 126.25, 125.35, 122.85, 120.15], \"yaxis\": \"y8\"}, {\"legendgroup\": \"ssp370\", \"line\": {\"color\": \"rgb(10, 150, 10)\"}, \"mode\": \"lines\", \"name\": \"ssp3-7.0 (5 GCMs median)\", \"showlegend\": false, \"type\": \"scatter\", \"x\": [1, 2, 3, 4, 5, 6, 7, 8, 9, 10, 11, 12], \"xaxis\": \"x8\", \"y\": [133.3, 124.8, 121.2, 115.2, 110.3], \"yaxis\": \"y8\"}, {\"legendgroup\": \"ssp585\", \"line\": {\"color\": \"rgb(250, 170, 60)\"}, \"mode\": \"lines\", \"name\": \"ssp5-8.5 (5 GCMs median)\", \"showlegend\": false, \"type\": \"scatter\", \"x\": [1, 2, 3, 4, 5, 6, 7, 8, 9, 10, 11, 12], \"xaxis\": \"x8\", \"y\": [133.3, 122.3, 119.0, 112.1, 103.2], \"yaxis\": \"y8\"}, {\"legendgroup\": \"ssp126\", \"line\": {\"color\": \"rgb(10, 10, 150)\"}, \"mode\": \"lines\", \"name\": \"ssp1-2.6 (5 GCMs median)\", \"showlegend\": false, \"type\": \"scatter\", \"x\": [1, 2, 3, 4, 5, 6, 7, 8, 9, 10, 11, 12], \"xaxis\": \"x9\", \"y\": [149.4, 146.4, 138.6, 135.6, 133.8], \"yaxis\": \"y9\"}, {\"legendgroup\": \"ssp245\", \"line\": {\"color\": \"rgb(150, 10, 10)\"}, \"mode\": \"lines\", \"name\": \"ssp2-4.5 (5 GCMs median)\", \"showlegend\": false, \"type\": \"scatter\", \"x\": [1, 2, 3, 4, 5, 6, 7, 8, 9, 10, 11, 12], \"xaxis\": \"x9\", \"y\": [149.4, 140.35, 144.3, 134.5, 141.3], \"yaxis\": \"y9\"}, {\"legendgroup\": \"ssp370\", \"line\": {\"color\": \"rgb(10, 150, 10)\"}, \"mode\": \"lines\", \"name\": \"ssp3-7.0 (5 GCMs median)\", \"showlegend\": false, \"type\": \"scatter\", \"x\": [1, 2, 3, 4, 5, 6, 7, 8, 9, 10, 11, 12], \"xaxis\": \"x9\", \"y\": [149.4, 141.9, 127.5, 124.9, 131.9], \"yaxis\": \"y9\"}, {\"legendgroup\": \"ssp585\", \"line\": {\"color\": \"rgb(250, 170, 60)\"}, \"mode\": \"lines\", \"name\": \"ssp5-8.5 (5 GCMs median)\", \"showlegend\": false, \"type\": \"scatter\", \"x\": [1, 2, 3, 4, 5, 6, 7, 8, 9, 10, 11, 12], \"xaxis\": \"x9\", \"y\": [149.4, 147.8, 137.0, 112.6, 108.0], \"yaxis\": \"y9\"}, {\"legendgroup\": \"ssp126\", \"line\": {\"color\": \"rgb(10, 10, 150)\"}, \"mode\": \"lines\", \"name\": \"ssp1-2.6 (5 GCMs median)\", \"showlegend\": false, \"type\": \"scatter\", \"x\": [1, 2, 3, 4, 5, 6, 7, 8, 9, 10, 11, 12], \"xaxis\": \"x10\", \"y\": [153.3, 152.0, 159.2, 148.8, 162.4], \"yaxis\": \"y10\"}, {\"legendgroup\": \"ssp245\", \"line\": {\"color\": \"rgb(150, 10, 10)\"}, \"mode\": \"lines\", \"name\": \"ssp2-4.5 (5 GCMs median)\", \"showlegend\": false, \"type\": \"scatter\", \"x\": [1, 2, 3, 4, 5, 6, 7, 8, 9, 10, 11, 12], \"xaxis\": \"x10\", \"y\": [153.3, 156.7, 153.65, 153.3, 158.85], \"yaxis\": \"y10\"}, {\"legendgroup\": \"ssp370\", \"line\": {\"color\": \"rgb(10, 150, 10)\"}, \"mode\": \"lines\", \"name\": \"ssp3-7.0 (5 GCMs median)\", \"showlegend\": false, \"type\": \"scatter\", \"x\": [1, 2, 3, 4, 5, 6, 7, 8, 9, 10, 11, 12], \"xaxis\": \"x10\", \"y\": [153.3, 150.2, 156.7, 136.1, 137.2], \"yaxis\": \"y10\"}, {\"legendgroup\": \"ssp585\", \"line\": {\"color\": \"rgb(250, 170, 60)\"}, \"mode\": \"lines\", \"name\": \"ssp5-8.5 (5 GCMs median)\", \"showlegend\": false, \"type\": \"scatter\", \"x\": [1, 2, 3, 4, 5, 6, 7, 8, 9, 10, 11, 12], \"xaxis\": \"x10\", \"y\": [153.3, 154.8, 158.6, 134.1, 149.6], \"yaxis\": \"y10\"}, {\"legendgroup\": \"ssp126\", \"line\": {\"color\": \"rgb(10, 10, 150)\"}, \"mode\": \"lines\", \"name\": \"ssp1-2.6 (5 GCMs median)\", \"showlegend\": false, \"type\": \"scatter\", \"x\": [1, 2, 3, 4, 5, 6, 7, 8, 9, 10, 11, 12], \"xaxis\": \"x11\", \"y\": [71.6, 77.7, 76.8, 78.8, 74.5], \"yaxis\": \"y11\"}, {\"legendgroup\": \"ssp245\", \"line\": {\"color\": \"rgb(150, 10, 10)\"}, \"mode\": \"lines\", \"name\": \"ssp2-4.5 (5 GCMs median)\", \"showlegend\": false, \"type\": \"scatter\", \"x\": [1, 2, 3, 4, 5, 6, 7, 8, 9, 10, 11, 12], \"xaxis\": \"x11\", \"y\": [71.6, 78.85, 77.3, 79.15, 79.65], \"yaxis\": \"y11\"}, {\"legendgroup\": \"ssp370\", \"line\": {\"color\": \"rgb(10, 150, 10)\"}, \"mode\": \"lines\", \"name\": \"ssp3-7.0 (5 GCMs median)\", \"showlegend\": false, \"type\": \"scatter\", \"x\": [1, 2, 3, 4, 5, 6, 7, 8, 9, 10, 11, 12], \"xaxis\": \"x11\", \"y\": [71.6, 80.9, 81.3, 79.0, 77.1], \"yaxis\": \"y11\"}, {\"legendgroup\": \"ssp585\", \"line\": {\"color\": \"rgb(250, 170, 60)\"}, \"mode\": \"lines\", \"name\": \"ssp5-8.5 (5 GCMs median)\", \"showlegend\": false, \"type\": \"scatter\", \"x\": [1, 2, 3, 4, 5, 6, 7, 8, 9, 10, 11, 12], \"xaxis\": \"x11\", \"y\": [71.6, 82.9, 82.7, 83.7, 87.2], \"yaxis\": \"y11\"}, {\"legendgroup\": \"ssp126\", \"line\": {\"color\": \"rgb(10, 10, 150)\"}, \"mode\": \"lines\", \"name\": \"ssp1-2.6 (5 GCMs median)\", \"showlegend\": false, \"type\": \"scatter\", \"x\": [1, 2, 3, 4, 5, 6, 7, 8, 9, 10, 11, 12], \"xaxis\": \"x12\", \"y\": [29.8, 28.9, 28.3, 28.8, 30.3], \"yaxis\": \"y12\"}, {\"legendgroup\": \"ssp245\", \"line\": {\"color\": \"rgb(150, 10, 10)\"}, \"mode\": \"lines\", \"name\": \"ssp2-4.5 (5 GCMs median)\", \"showlegend\": false, \"type\": \"scatter\", \"x\": [1, 2, 3, 4, 5, 6, 7, 8, 9, 10, 11, 12], \"xaxis\": \"x12\", \"y\": [29.8, 28.4, 29.35, 30.450000000000003, 31.950000000000003], \"yaxis\": \"y12\"}, {\"legendgroup\": \"ssp370\", \"line\": {\"color\": \"rgb(10, 150, 10)\"}, \"mode\": \"lines\", \"name\": \"ssp3-7.0 (5 GCMs median)\", \"showlegend\": false, \"type\": \"scatter\", \"x\": [1, 2, 3, 4, 5, 6, 7, 8, 9, 10, 11, 12], \"xaxis\": \"x12\", \"y\": [29.8, 27.8, 28.0, 29.7, 28.4], \"yaxis\": \"y12\"}, {\"legendgroup\": \"ssp585\", \"line\": {\"color\": \"rgb(250, 170, 60)\"}, \"mode\": \"lines\", \"name\": \"ssp5-8.5 (5 GCMs median)\", \"showlegend\": false, \"type\": \"scatter\", \"x\": [1, 2, 3, 4, 5, 6, 7, 8, 9, 10, 11, 12], \"xaxis\": \"x12\", \"y\": [29.8, 29.1, 29.1, 29.7, 31.0], \"yaxis\": \"y12\"}],                        {\"annotations\": [{\"font\": {\"size\": 16}, \"showarrow\": false, \"text\": \"1\", \"x\": 0.14444444444444446, \"xanchor\": \"center\", \"xref\": \"paper\", \"y\": 1.0, \"yanchor\": \"bottom\", \"yref\": \"paper\"}, {\"font\": {\"size\": 16}, \"showarrow\": false, \"text\": \"2\", \"x\": 0.5, \"xanchor\": \"center\", \"xref\": \"paper\", \"y\": 1.0, \"yanchor\": \"bottom\", \"yref\": \"paper\"}, {\"font\": {\"size\": 16}, \"showarrow\": false, \"text\": \"3\", \"x\": 0.8555555555555556, \"xanchor\": \"center\", \"xref\": \"paper\", \"y\": 1.0, \"yanchor\": \"bottom\", \"yref\": \"paper\"}, {\"font\": {\"size\": 16}, \"showarrow\": false, \"text\": \"4\", \"x\": 0.14444444444444446, \"xanchor\": \"center\", \"xref\": \"paper\", \"y\": 0.7375, \"yanchor\": \"bottom\", \"yref\": \"paper\"}, {\"font\": {\"size\": 16}, \"showarrow\": false, \"text\": \"5\", \"x\": 0.5, \"xanchor\": \"center\", \"xref\": \"paper\", \"y\": 0.7375, \"yanchor\": \"bottom\", \"yref\": \"paper\"}, {\"font\": {\"size\": 16}, \"showarrow\": false, \"text\": \"6\", \"x\": 0.8555555555555556, \"xanchor\": \"center\", \"xref\": \"paper\", \"y\": 0.7375, \"yanchor\": \"bottom\", \"yref\": \"paper\"}, {\"font\": {\"size\": 16}, \"showarrow\": false, \"text\": \"7\", \"x\": 0.14444444444444446, \"xanchor\": \"center\", \"xref\": \"paper\", \"y\": 0.475, \"yanchor\": \"bottom\", \"yref\": \"paper\"}, {\"font\": {\"size\": 16}, \"showarrow\": false, \"text\": \"8\", \"x\": 0.5, \"xanchor\": \"center\", \"xref\": \"paper\", \"y\": 0.475, \"yanchor\": \"bottom\", \"yref\": \"paper\"}, {\"font\": {\"size\": 16}, \"showarrow\": false, \"text\": \"9\", \"x\": 0.8555555555555556, \"xanchor\": \"center\", \"xref\": \"paper\", \"y\": 0.475, \"yanchor\": \"bottom\", \"yref\": \"paper\"}, {\"font\": {\"size\": 16}, \"showarrow\": false, \"text\": \"10\", \"x\": 0.14444444444444446, \"xanchor\": \"center\", \"xref\": \"paper\", \"y\": 0.2125, \"yanchor\": \"bottom\", \"yref\": \"paper\"}, {\"font\": {\"size\": 16}, \"showarrow\": false, \"text\": \"11\", \"x\": 0.5, \"xanchor\": \"center\", \"xref\": \"paper\", \"y\": 0.2125, \"yanchor\": \"bottom\", \"yref\": \"paper\"}, {\"font\": {\"size\": 16}, \"showarrow\": false, \"text\": \"12\", \"x\": 0.8555555555555556, \"xanchor\": \"center\", \"xref\": \"paper\", \"y\": 0.2125, \"yanchor\": \"bottom\", \"yref\": \"paper\"}], \"height\": 800, \"showlegend\": true, \"template\": {\"data\": {\"bar\": [{\"error_x\": {\"color\": \"#2a3f5f\"}, \"error_y\": {\"color\": \"#2a3f5f\"}, \"marker\": {\"line\": {\"color\": \"#E5ECF6\", \"width\": 0.5}}, \"type\": \"bar\"}], \"barpolar\": [{\"marker\": {\"line\": {\"color\": \"#E5ECF6\", \"width\": 0.5}}, \"type\": \"barpolar\"}], \"carpet\": [{\"aaxis\": {\"endlinecolor\": \"#2a3f5f\", \"gridcolor\": \"white\", \"linecolor\": \"white\", \"minorgridcolor\": \"white\", \"startlinecolor\": \"#2a3f5f\"}, \"baxis\": {\"endlinecolor\": \"#2a3f5f\", \"gridcolor\": \"white\", \"linecolor\": \"white\", \"minorgridcolor\": \"white\", \"startlinecolor\": \"#2a3f5f\"}, \"type\": \"carpet\"}], \"choropleth\": [{\"colorbar\": {\"outlinewidth\": 0, \"ticks\": \"\"}, \"type\": \"choropleth\"}], \"contour\": [{\"colorbar\": {\"outlinewidth\": 0, \"ticks\": \"\"}, \"colorscale\": [[0.0, \"#0d0887\"], [0.1111111111111111, \"#46039f\"], [0.2222222222222222, \"#7201a8\"], [0.3333333333333333, \"#9c179e\"], [0.4444444444444444, \"#bd3786\"], [0.5555555555555556, \"#d8576b\"], [0.6666666666666666, \"#ed7953\"], [0.7777777777777778, \"#fb9f3a\"], [0.8888888888888888, \"#fdca26\"], [1.0, \"#f0f921\"]], \"type\": \"contour\"}], \"contourcarpet\": [{\"colorbar\": {\"outlinewidth\": 0, \"ticks\": \"\"}, \"type\": \"contourcarpet\"}], \"heatmap\": [{\"colorbar\": {\"outlinewidth\": 0, \"ticks\": \"\"}, \"colorscale\": [[0.0, \"#0d0887\"], [0.1111111111111111, \"#46039f\"], [0.2222222222222222, \"#7201a8\"], [0.3333333333333333, \"#9c179e\"], [0.4444444444444444, \"#bd3786\"], [0.5555555555555556, \"#d8576b\"], [0.6666666666666666, \"#ed7953\"], [0.7777777777777778, \"#fb9f3a\"], [0.8888888888888888, \"#fdca26\"], [1.0, \"#f0f921\"]], \"type\": \"heatmap\"}], \"heatmapgl\": [{\"colorbar\": {\"outlinewidth\": 0, \"ticks\": \"\"}, \"colorscale\": [[0.0, \"#0d0887\"], [0.1111111111111111, \"#46039f\"], [0.2222222222222222, \"#7201a8\"], [0.3333333333333333, \"#9c179e\"], [0.4444444444444444, \"#bd3786\"], [0.5555555555555556, \"#d8576b\"], [0.6666666666666666, \"#ed7953\"], [0.7777777777777778, \"#fb9f3a\"], [0.8888888888888888, \"#fdca26\"], [1.0, \"#f0f921\"]], \"type\": \"heatmapgl\"}], \"histogram\": [{\"marker\": {\"colorbar\": {\"outlinewidth\": 0, \"ticks\": \"\"}}, \"type\": \"histogram\"}], \"histogram2d\": [{\"colorbar\": {\"outlinewidth\": 0, \"ticks\": \"\"}, \"colorscale\": [[0.0, \"#0d0887\"], [0.1111111111111111, \"#46039f\"], [0.2222222222222222, \"#7201a8\"], [0.3333333333333333, \"#9c179e\"], [0.4444444444444444, \"#bd3786\"], [0.5555555555555556, \"#d8576b\"], [0.6666666666666666, \"#ed7953\"], [0.7777777777777778, \"#fb9f3a\"], [0.8888888888888888, \"#fdca26\"], [1.0, \"#f0f921\"]], \"type\": \"histogram2d\"}], \"histogram2dcontour\": [{\"colorbar\": {\"outlinewidth\": 0, \"ticks\": \"\"}, \"colorscale\": [[0.0, \"#0d0887\"], [0.1111111111111111, \"#46039f\"], [0.2222222222222222, \"#7201a8\"], [0.3333333333333333, \"#9c179e\"], [0.4444444444444444, \"#bd3786\"], [0.5555555555555556, \"#d8576b\"], [0.6666666666666666, \"#ed7953\"], [0.7777777777777778, \"#fb9f3a\"], [0.8888888888888888, \"#fdca26\"], [1.0, \"#f0f921\"]], \"type\": \"histogram2dcontour\"}], \"mesh3d\": [{\"colorbar\": {\"outlinewidth\": 0, \"ticks\": \"\"}, \"type\": \"mesh3d\"}], \"parcoords\": [{\"line\": {\"colorbar\": {\"outlinewidth\": 0, \"ticks\": \"\"}}, \"type\": \"parcoords\"}], \"pie\": [{\"automargin\": true, \"type\": \"pie\"}], \"scatter\": [{\"marker\": {\"colorbar\": {\"outlinewidth\": 0, \"ticks\": \"\"}}, \"type\": \"scatter\"}], \"scatter3d\": [{\"line\": {\"colorbar\": {\"outlinewidth\": 0, \"ticks\": \"\"}}, \"marker\": {\"colorbar\": {\"outlinewidth\": 0, \"ticks\": \"\"}}, \"type\": \"scatter3d\"}], \"scattercarpet\": [{\"marker\": {\"colorbar\": {\"outlinewidth\": 0, \"ticks\": \"\"}}, \"type\": \"scattercarpet\"}], \"scattergeo\": [{\"marker\": {\"colorbar\": {\"outlinewidth\": 0, \"ticks\": \"\"}}, \"type\": \"scattergeo\"}], \"scattergl\": [{\"marker\": {\"colorbar\": {\"outlinewidth\": 0, \"ticks\": \"\"}}, \"type\": \"scattergl\"}], \"scattermapbox\": [{\"marker\": {\"colorbar\": {\"outlinewidth\": 0, \"ticks\": \"\"}}, \"type\": \"scattermapbox\"}], \"scatterpolar\": [{\"marker\": {\"colorbar\": {\"outlinewidth\": 0, \"ticks\": \"\"}}, \"type\": \"scatterpolar\"}], \"scatterpolargl\": [{\"marker\": {\"colorbar\": {\"outlinewidth\": 0, \"ticks\": \"\"}}, \"type\": \"scatterpolargl\"}], \"scatterternary\": [{\"marker\": {\"colorbar\": {\"outlinewidth\": 0, \"ticks\": \"\"}}, \"type\": \"scatterternary\"}], \"surface\": [{\"colorbar\": {\"outlinewidth\": 0, \"ticks\": \"\"}, \"colorscale\": [[0.0, \"#0d0887\"], [0.1111111111111111, \"#46039f\"], [0.2222222222222222, \"#7201a8\"], [0.3333333333333333, \"#9c179e\"], [0.4444444444444444, \"#bd3786\"], [0.5555555555555556, \"#d8576b\"], [0.6666666666666666, \"#ed7953\"], [0.7777777777777778, \"#fb9f3a\"], [0.8888888888888888, \"#fdca26\"], [1.0, \"#f0f921\"]], \"type\": \"surface\"}], \"table\": [{\"cells\": {\"fill\": {\"color\": \"#EBF0F8\"}, \"line\": {\"color\": \"white\"}}, \"header\": {\"fill\": {\"color\": \"#C8D4E3\"}, \"line\": {\"color\": \"white\"}}, \"type\": \"table\"}]}, \"layout\": {\"annotationdefaults\": {\"arrowcolor\": \"#2a3f5f\", \"arrowhead\": 0, \"arrowwidth\": 1}, \"autotypenumbers\": \"strict\", \"coloraxis\": {\"colorbar\": {\"outlinewidth\": 0, \"ticks\": \"\"}}, \"colorscale\": {\"diverging\": [[0, \"#8e0152\"], [0.1, \"#c51b7d\"], [0.2, \"#de77ae\"], [0.3, \"#f1b6da\"], [0.4, \"#fde0ef\"], [0.5, \"#f7f7f7\"], [0.6, \"#e6f5d0\"], [0.7, \"#b8e186\"], [0.8, \"#7fbc41\"], [0.9, \"#4d9221\"], [1, \"#276419\"]], \"sequential\": [[0.0, \"#0d0887\"], [0.1111111111111111, \"#46039f\"], [0.2222222222222222, \"#7201a8\"], [0.3333333333333333, \"#9c179e\"], [0.4444444444444444, \"#bd3786\"], [0.5555555555555556, \"#d8576b\"], [0.6666666666666666, \"#ed7953\"], [0.7777777777777778, \"#fb9f3a\"], [0.8888888888888888, \"#fdca26\"], [1.0, \"#f0f921\"]], \"sequentialminus\": [[0.0, \"#0d0887\"], [0.1111111111111111, \"#46039f\"], [0.2222222222222222, \"#7201a8\"], [0.3333333333333333, \"#9c179e\"], [0.4444444444444444, \"#bd3786\"], [0.5555555555555556, \"#d8576b\"], [0.6666666666666666, \"#ed7953\"], [0.7777777777777778, \"#fb9f3a\"], [0.8888888888888888, \"#fdca26\"], [1.0, \"#f0f921\"]]}, \"colorway\": [\"#636efa\", \"#EF553B\", \"#00cc96\", \"#ab63fa\", \"#FFA15A\", \"#19d3f3\", \"#FF6692\", \"#B6E880\", \"#FF97FF\", \"#FECB52\"], \"font\": {\"color\": \"#2a3f5f\"}, \"geo\": {\"bgcolor\": \"white\", \"lakecolor\": \"white\", \"landcolor\": \"#E5ECF6\", \"showlakes\": true, \"showland\": true, \"subunitcolor\": \"white\"}, \"hoverlabel\": {\"align\": \"left\"}, \"hovermode\": \"closest\", \"mapbox\": {\"style\": \"light\"}, \"paper_bgcolor\": \"white\", \"plot_bgcolor\": \"#E5ECF6\", \"polar\": {\"angularaxis\": {\"gridcolor\": \"white\", \"linecolor\": \"white\", \"ticks\": \"\"}, \"bgcolor\": \"#E5ECF6\", \"radialaxis\": {\"gridcolor\": \"white\", \"linecolor\": \"white\", \"ticks\": \"\"}}, \"scene\": {\"xaxis\": {\"backgroundcolor\": \"#E5ECF6\", \"gridcolor\": \"white\", \"gridwidth\": 2, \"linecolor\": \"white\", \"showbackground\": true, \"ticks\": \"\", \"zerolinecolor\": \"white\"}, \"yaxis\": {\"backgroundcolor\": \"#E5ECF6\", \"gridcolor\": \"white\", \"gridwidth\": 2, \"linecolor\": \"white\", \"showbackground\": true, \"ticks\": \"\", \"zerolinecolor\": \"white\"}, \"zaxis\": {\"backgroundcolor\": \"#E5ECF6\", \"gridcolor\": \"white\", \"gridwidth\": 2, \"linecolor\": \"white\", \"showbackground\": true, \"ticks\": \"\", \"zerolinecolor\": \"white\"}}, \"shapedefaults\": {\"line\": {\"color\": \"#2a3f5f\"}}, \"ternary\": {\"aaxis\": {\"gridcolor\": \"white\", \"linecolor\": \"white\", \"ticks\": \"\"}, \"baxis\": {\"gridcolor\": \"white\", \"linecolor\": \"white\", \"ticks\": \"\"}, \"bgcolor\": \"#E5ECF6\", \"caxis\": {\"gridcolor\": \"white\", \"linecolor\": \"white\", \"ticks\": \"\"}}, \"title\": {\"x\": 0.05}, \"xaxis\": {\"automargin\": true, \"gridcolor\": \"white\", \"linecolor\": \"white\", \"ticks\": \"\", \"title\": {\"standoff\": 15}, \"zerolinecolor\": \"white\", \"zerolinewidth\": 2}, \"yaxis\": {\"automargin\": true, \"gridcolor\": \"white\", \"linecolor\": \"white\", \"ticks\": \"\", \"title\": {\"standoff\": 15}, \"zerolinecolor\": \"white\", \"zerolinewidth\": 2}}}, \"title\": {\"text\": \"Evolution of future average monthly precipitation, according to 4 SSP scenarios (median of 5 GCMs)\"}, \"width\": 1000, \"xaxis\": {\"anchor\": \"y\", \"domain\": [0.0, 0.2888888888888889], \"matches\": \"x10\", \"showticklabels\": false}, \"xaxis10\": {\"anchor\": \"y10\", \"domain\": [0.0, 0.2888888888888889]}, \"xaxis11\": {\"anchor\": \"y11\", \"domain\": [0.35555555555555557, 0.6444444444444445]}, \"xaxis12\": {\"anchor\": \"y12\", \"domain\": [0.7111111111111111, 1.0]}, \"xaxis2\": {\"anchor\": \"y2\", \"domain\": [0.35555555555555557, 0.6444444444444445], \"matches\": \"x11\", \"showticklabels\": false}, \"xaxis3\": {\"anchor\": \"y3\", \"domain\": [0.7111111111111111, 1.0], \"matches\": \"x12\", \"showticklabels\": false}, \"xaxis4\": {\"anchor\": \"y4\", \"domain\": [0.0, 0.2888888888888889], \"matches\": \"x10\", \"showticklabels\": false}, \"xaxis5\": {\"anchor\": \"y5\", \"domain\": [0.35555555555555557, 0.6444444444444445], \"matches\": \"x11\", \"showticklabels\": false}, \"xaxis6\": {\"anchor\": \"y6\", \"domain\": [0.7111111111111111, 1.0], \"matches\": \"x12\", \"showticklabels\": false}, \"xaxis7\": {\"anchor\": \"y7\", \"domain\": [0.0, 0.2888888888888889], \"matches\": \"x10\", \"showticklabels\": false}, \"xaxis8\": {\"anchor\": \"y8\", \"domain\": [0.35555555555555557, 0.6444444444444445], \"matches\": \"x11\", \"showticklabels\": false}, \"xaxis9\": {\"anchor\": \"y9\", \"domain\": [0.7111111111111111, 1.0], \"matches\": \"x12\", \"showticklabels\": false}, \"yaxis\": {\"anchor\": \"x\", \"domain\": [0.7875, 1.0], \"title\": {\"text\": \"mm\"}}, \"yaxis10\": {\"anchor\": \"x10\", \"domain\": [0.0, 0.2125], \"title\": {\"text\": \"mm\"}}, \"yaxis11\": {\"anchor\": \"x11\", \"domain\": [0.0, 0.2125]}, \"yaxis12\": {\"anchor\": \"x12\", \"domain\": [0.0, 0.2125]}, \"yaxis2\": {\"anchor\": \"x2\", \"domain\": [0.7875, 1.0]}, \"yaxis3\": {\"anchor\": \"x3\", \"domain\": [0.7875, 1.0]}, \"yaxis4\": {\"anchor\": \"x4\", \"domain\": [0.525, 0.7375], \"title\": {\"text\": \"mm\"}}, \"yaxis5\": {\"anchor\": \"x5\", \"domain\": [0.525, 0.7375]}, \"yaxis6\": {\"anchor\": \"x6\", \"domain\": [0.525, 0.7375]}, \"yaxis7\": {\"anchor\": \"x7\", \"domain\": [0.2625, 0.475], \"title\": {\"text\": \"mm\"}}, \"yaxis8\": {\"anchor\": \"x8\", \"domain\": [0.2625, 0.475]}, \"yaxis9\": {\"anchor\": \"x9\", \"domain\": [0.2625, 0.475]}},                        {\"responsive\": true}                    ).then(function(){\n",
       "                            \n",
       "var gd = document.getElementById('c269f1db-6997-4ff2-8cdb-f07c1c0cb6df');\n",
       "var x = new MutationObserver(function (mutations, observer) {{\n",
       "        var display = window.getComputedStyle(gd).display;\n",
       "        if (!display || display === 'none') {{\n",
       "            console.log([gd, 'removed!']);\n",
       "            Plotly.purge(gd);\n",
       "            observer.disconnect();\n",
       "        }}\n",
       "}});\n",
       "\n",
       "// Listen for the removal of the full notebook cells\n",
       "var notebookContainer = gd.closest('#notebook-container');\n",
       "if (notebookContainer) {{\n",
       "    x.observe(notebookContainer, {childList: true});\n",
       "}}\n",
       "\n",
       "// Listen for the clearing of the current output cell\n",
       "var outputEl = gd.closest('.output');\n",
       "if (outputEl) {{\n",
       "    x.observe(outputEl, {childList: true});\n",
       "}}\n",
       "\n",
       "                        })                };                });            </script>        </div>"
      ]
     },
     "metadata": {},
     "output_type": "display_data"
    }
   ],
   "source": [
    "import plotly.subplots as ps\n",
    "\n",
    "fig = ps.make_subplots(rows= 4, cols= 3,\n",
    "                       shared_xaxes=True,\n",
    "                       vertical_spacing=0.05,\n",
    "                       subplot_titles= range(1, 13)\n",
    "                      )\n",
    "\n",
    "month= 0\n",
    "for rw in range(1, 5):\n",
    "    for cl in range(1, 4):\n",
    "        showlegend= True if month== 0 else False\n",
    "        month = month + 1\n",
    "        for scenario, scenario_long, rgb, rgba in zip(ssp_list, ssp_list_long, rgb_list, rgba_list):\n",
    "            test= (df_total.index.get_level_values('Scenario') == scenario) | (df_total.index.get_level_values('Scenario') =='Historical')\n",
    "            group = df_total[test ][month].groupby(by= 'Period')\n",
    "\n",
    "            fig.add_trace(\n",
    "                go.Scatter(\n",
    "                    name= scenario_long + ' (' + str(len(gcm_list)) + ' GCMs median)',\n",
    "                    x= x,\n",
    "                    y= group.median(),\n",
    "                    mode= 'lines',\n",
    "                    line= dict(color= rgb),\n",
    "                    legendgroup= scenario,\n",
    "                    showlegend= showlegend,\n",
    "#                    yaxis= dict(range= [df_total[test ][month].min(), df_total[test ][month].max()]),\n",
    "                        ),\n",
    "                    row= rw, col= cl\n",
    "                    )\n",
    "\n",
    "fig.update_layout(\n",
    "    height= 800, width= 1000,\n",
    "    yaxis_title= 'mm',\n",
    "    title= 'Evolution of future average monthly precipitation, according to ' + str(len(ssp_list)) + ' SSP scenarios (median of ' + str(len(gcm_list)) + ' GCMs)',\n",
    "    template= \"plotly\", # \"plotly\", \"plotly_white\", \"plotly_dark\", \"ggplot2\", \"seaborn\", \"simple_white\", \"none\"\n",
    "#    hovermode= \"x\",\n",
    "#    yaxis_range= [df_total.min().max(), df_total.max().max()],\n",
    "#    legend= dict(orientation= 'h', yanchor= \"top\", y= -0.1, xanchor= \"left\", x= 0.05),\n",
    "    showlegend= True,\n",
    "    )\n",
    "for ax in fig['layout']:\n",
    "    if ax[:5]== 'yaxis':\n",
    "        if ax[5:] in ['1', '4', '7', '10']:\n",
    "            fig['layout'][ax]['title']= 'mm'\n",
    "file_future_by_month= 'WorldClim - future by month.png'\n",
    "fig.write_image(os.path.join(fld_out, file_future_by_month))# needs installation of \"plotly-orca\" or \"kaleido\"\n",
    "fig.show()"
   ]
  },
  {
   "cell_type": "markdown",
   "metadata": {},
   "source": [
    "### <a name=section07></a>7) Create a dataframe with statistics"
   ]
  },
  {
   "cell_type": "code",
   "execution_count": 14,
   "metadata": {
    "scrolled": true
   },
   "outputs": [
    {
     "data": {
      "text/html": [
       "<div>\n",
       "<style scoped>\n",
       "    .dataframe tbody tr th:only-of-type {\n",
       "        vertical-align: middle;\n",
       "    }\n",
       "\n",
       "    .dataframe tbody tr th {\n",
       "        vertical-align: top;\n",
       "    }\n",
       "\n",
       "    .dataframe thead th {\n",
       "        text-align: right;\n",
       "    }\n",
       "</style>\n",
       "<table border=\"1\" class=\"dataframe\">\n",
       "  <thead>\n",
       "    <tr style=\"text-align: right;\">\n",
       "      <th></th>\n",
       "      <th></th>\n",
       "      <th></th>\n",
       "      <th>1</th>\n",
       "      <th>2</th>\n",
       "      <th>3</th>\n",
       "      <th>4</th>\n",
       "      <th>5</th>\n",
       "      <th>6</th>\n",
       "      <th>7</th>\n",
       "      <th>8</th>\n",
       "      <th>9</th>\n",
       "      <th>10</th>\n",
       "      <th>11</th>\n",
       "      <th>12</th>\n",
       "      <th>Annual</th>\n",
       "    </tr>\n",
       "    <tr>\n",
       "      <th>Model</th>\n",
       "      <th>Scenario</th>\n",
       "      <th>Period</th>\n",
       "      <th></th>\n",
       "      <th></th>\n",
       "      <th></th>\n",
       "      <th></th>\n",
       "      <th></th>\n",
       "      <th></th>\n",
       "      <th></th>\n",
       "      <th></th>\n",
       "      <th></th>\n",
       "      <th></th>\n",
       "      <th></th>\n",
       "      <th></th>\n",
       "      <th></th>\n",
       "    </tr>\n",
       "  </thead>\n",
       "  <tbody>\n",
       "    <tr>\n",
       "      <th rowspan=\"16\" valign=\"top\">Max</th>\n",
       "      <th rowspan=\"4\" valign=\"top\">ssp126</th>\n",
       "      <th>2021-2040</th>\n",
       "      <td>22.6</td>\n",
       "      <td>24.6</td>\n",
       "      <td>46.9</td>\n",
       "      <td>91.4</td>\n",
       "      <td>205.6</td>\n",
       "      <td>126.6</td>\n",
       "      <td>82.0</td>\n",
       "      <td>137.9</td>\n",
       "      <td>150.7</td>\n",
       "      <td>158.3</td>\n",
       "      <td>103.2</td>\n",
       "      <td>31.4</td>\n",
       "      <td>1130.0</td>\n",
       "    </tr>\n",
       "    <tr>\n",
       "      <th>2041-2060</th>\n",
       "      <td>20.1</td>\n",
       "      <td>24.7</td>\n",
       "      <td>43.5</td>\n",
       "      <td>94.1</td>\n",
       "      <td>188.9</td>\n",
       "      <td>129.9</td>\n",
       "      <td>79.7</td>\n",
       "      <td>134.4</td>\n",
       "      <td>148.9</td>\n",
       "      <td>174.2</td>\n",
       "      <td>84.9</td>\n",
       "      <td>33.0</td>\n",
       "      <td>1092.2</td>\n",
       "    </tr>\n",
       "    <tr>\n",
       "      <th>2061-2080</th>\n",
       "      <td>19.3</td>\n",
       "      <td>27.9</td>\n",
       "      <td>46.5</td>\n",
       "      <td>96.1</td>\n",
       "      <td>170.3</td>\n",
       "      <td>115.0</td>\n",
       "      <td>79.6</td>\n",
       "      <td>133.5</td>\n",
       "      <td>151.1</td>\n",
       "      <td>166.5</td>\n",
       "      <td>82.3</td>\n",
       "      <td>32.1</td>\n",
       "      <td>1072.1</td>\n",
       "    </tr>\n",
       "    <tr>\n",
       "      <th>2081-2100</th>\n",
       "      <td>19.9</td>\n",
       "      <td>27.0</td>\n",
       "      <td>45.7</td>\n",
       "      <td>95.6</td>\n",
       "      <td>174.5</td>\n",
       "      <td>113.3</td>\n",
       "      <td>78.6</td>\n",
       "      <td>131.2</td>\n",
       "      <td>155.0</td>\n",
       "      <td>179.2</td>\n",
       "      <td>83.1</td>\n",
       "      <td>32.7</td>\n",
       "      <td>1080.2</td>\n",
       "    </tr>\n",
       "    <tr>\n",
       "      <th rowspan=\"4\" valign=\"top\">ssp245</th>\n",
       "      <th>2021-2040</th>\n",
       "      <td>19.1</td>\n",
       "      <td>25.7</td>\n",
       "      <td>42.2</td>\n",
       "      <td>92.1</td>\n",
       "      <td>185.6</td>\n",
       "      <td>119.9</td>\n",
       "      <td>82.4</td>\n",
       "      <td>135.1</td>\n",
       "      <td>153.4</td>\n",
       "      <td>167.4</td>\n",
       "      <td>82.3</td>\n",
       "      <td>31.3</td>\n",
       "      <td>1116.8</td>\n",
       "    </tr>\n",
       "    <tr>\n",
       "      <th>2041-2060</th>\n",
       "      <td>19.1</td>\n",
       "      <td>25.7</td>\n",
       "      <td>43.8</td>\n",
       "      <td>89.9</td>\n",
       "      <td>170.7</td>\n",
       "      <td>113.5</td>\n",
       "      <td>77.4</td>\n",
       "      <td>133.7</td>\n",
       "      <td>151.0</td>\n",
       "      <td>162.0</td>\n",
       "      <td>87.0</td>\n",
       "      <td>33.1</td>\n",
       "      <td>1085.8</td>\n",
       "    </tr>\n",
       "    <tr>\n",
       "      <th>2061-2080</th>\n",
       "      <td>20.4</td>\n",
       "      <td>24.9</td>\n",
       "      <td>44.5</td>\n",
       "      <td>94.2</td>\n",
       "      <td>159.3</td>\n",
       "      <td>100.7</td>\n",
       "      <td>74.9</td>\n",
       "      <td>128.3</td>\n",
       "      <td>147.6</td>\n",
       "      <td>169.6</td>\n",
       "      <td>89.0</td>\n",
       "      <td>33.1</td>\n",
       "      <td>1035.5</td>\n",
       "    </tr>\n",
       "    <tr>\n",
       "      <th>2081-2100</th>\n",
       "      <td>19.4</td>\n",
       "      <td>25.6</td>\n",
       "      <td>43.0</td>\n",
       "      <td>85.1</td>\n",
       "      <td>159.8</td>\n",
       "      <td>107.1</td>\n",
       "      <td>75.9</td>\n",
       "      <td>131.8</td>\n",
       "      <td>152.6</td>\n",
       "      <td>165.0</td>\n",
       "      <td>88.9</td>\n",
       "      <td>34.1</td>\n",
       "      <td>1063.5</td>\n",
       "    </tr>\n",
       "    <tr>\n",
       "      <th rowspan=\"4\" valign=\"top\">ssp370</th>\n",
       "      <th>2021-2040</th>\n",
       "      <td>19.3</td>\n",
       "      <td>24.9</td>\n",
       "      <td>47.1</td>\n",
       "      <td>85.2</td>\n",
       "      <td>180.4</td>\n",
       "      <td>108.4</td>\n",
       "      <td>84.1</td>\n",
       "      <td>135.3</td>\n",
       "      <td>147.0</td>\n",
       "      <td>165.3</td>\n",
       "      <td>82.6</td>\n",
       "      <td>30.6</td>\n",
       "      <td>1069.3</td>\n",
       "    </tr>\n",
       "    <tr>\n",
       "      <th>2041-2060</th>\n",
       "      <td>19.1</td>\n",
       "      <td>25.5</td>\n",
       "      <td>41.9</td>\n",
       "      <td>83.8</td>\n",
       "      <td>162.3</td>\n",
       "      <td>103.8</td>\n",
       "      <td>76.1</td>\n",
       "      <td>126.7</td>\n",
       "      <td>141.0</td>\n",
       "      <td>166.4</td>\n",
       "      <td>86.4</td>\n",
       "      <td>31.7</td>\n",
       "      <td>1039.0</td>\n",
       "    </tr>\n",
       "    <tr>\n",
       "      <th>2061-2080</th>\n",
       "      <td>19.1</td>\n",
       "      <td>24.7</td>\n",
       "      <td>43.1</td>\n",
       "      <td>83.1</td>\n",
       "      <td>152.6</td>\n",
       "      <td>99.4</td>\n",
       "      <td>74.4</td>\n",
       "      <td>123.1</td>\n",
       "      <td>135.7</td>\n",
       "      <td>159.1</td>\n",
       "      <td>85.6</td>\n",
       "      <td>32.4</td>\n",
       "      <td>996.6</td>\n",
       "    </tr>\n",
       "    <tr>\n",
       "      <th>2081-2100</th>\n",
       "      <td>19.0</td>\n",
       "      <td>24.1</td>\n",
       "      <td>39.6</td>\n",
       "      <td>84.0</td>\n",
       "      <td>159.8</td>\n",
       "      <td>93.4</td>\n",
       "      <td>73.3</td>\n",
       "      <td>117.4</td>\n",
       "      <td>132.9</td>\n",
       "      <td>165.8</td>\n",
       "      <td>83.4</td>\n",
       "      <td>32.7</td>\n",
       "      <td>958.3</td>\n",
       "    </tr>\n",
       "    <tr>\n",
       "      <th rowspan=\"4\" valign=\"top\">ssp585</th>\n",
       "      <th>2021-2040</th>\n",
       "      <td>19.2</td>\n",
       "      <td>24.8</td>\n",
       "      <td>47.8</td>\n",
       "      <td>91.2</td>\n",
       "      <td>178.6</td>\n",
       "      <td>111.3</td>\n",
       "      <td>81.9</td>\n",
       "      <td>133.5</td>\n",
       "      <td>149.2</td>\n",
       "      <td>162.9</td>\n",
       "      <td>87.9</td>\n",
       "      <td>32.1</td>\n",
       "      <td>1095.3</td>\n",
       "    </tr>\n",
       "    <tr>\n",
       "      <th>2041-2060</th>\n",
       "      <td>20.1</td>\n",
       "      <td>24.7</td>\n",
       "      <td>44.4</td>\n",
       "      <td>84.7</td>\n",
       "      <td>180.6</td>\n",
       "      <td>106.3</td>\n",
       "      <td>76.0</td>\n",
       "      <td>133.1</td>\n",
       "      <td>144.9</td>\n",
       "      <td>189.7</td>\n",
       "      <td>87.7</td>\n",
       "      <td>33.6</td>\n",
       "      <td>1089.3</td>\n",
       "    </tr>\n",
       "    <tr>\n",
       "      <th>2061-2080</th>\n",
       "      <td>19.9</td>\n",
       "      <td>24.8</td>\n",
       "      <td>39.2</td>\n",
       "      <td>88.0</td>\n",
       "      <td>172.1</td>\n",
       "      <td>111.1</td>\n",
       "      <td>70.7</td>\n",
       "      <td>117.6</td>\n",
       "      <td>136.3</td>\n",
       "      <td>164.7</td>\n",
       "      <td>92.7</td>\n",
       "      <td>33.4</td>\n",
       "      <td>979.5</td>\n",
       "    </tr>\n",
       "    <tr>\n",
       "      <th>2081-2100</th>\n",
       "      <td>19.9</td>\n",
       "      <td>25.0</td>\n",
       "      <td>39.9</td>\n",
       "      <td>82.2</td>\n",
       "      <td>142.2</td>\n",
       "      <td>103.3</td>\n",
       "      <td>72.9</td>\n",
       "      <td>108.9</td>\n",
       "      <td>130.8</td>\n",
       "      <td>162.8</td>\n",
       "      <td>92.0</td>\n",
       "      <td>33.9</td>\n",
       "      <td>935.7</td>\n",
       "    </tr>\n",
       "    <tr>\n",
       "      <th rowspan=\"16\" valign=\"top\">Median</th>\n",
       "      <th rowspan=\"4\" valign=\"top\">ssp126</th>\n",
       "      <th>2021-2040</th>\n",
       "      <td>19.6</td>\n",
       "      <td>23.4</td>\n",
       "      <td>43.5</td>\n",
       "      <td>86.3</td>\n",
       "      <td>164.0</td>\n",
       "      <td>108.0</td>\n",
       "      <td>79.3</td>\n",
       "      <td>130.1</td>\n",
       "      <td>146.4</td>\n",
       "      <td>152.0</td>\n",
       "      <td>77.7</td>\n",
       "      <td>28.9</td>\n",
       "      <td>1053.2</td>\n",
       "    </tr>\n",
       "    <tr>\n",
       "      <th>2041-2060</th>\n",
       "      <td>18.8</td>\n",
       "      <td>24.1</td>\n",
       "      <td>42.1</td>\n",
       "      <td>83.9</td>\n",
       "      <td>162.0</td>\n",
       "      <td>108.9</td>\n",
       "      <td>73.4</td>\n",
       "      <td>129.9</td>\n",
       "      <td>138.6</td>\n",
       "      <td>159.2</td>\n",
       "      <td>76.8</td>\n",
       "      <td>28.3</td>\n",
       "      <td>1044.4</td>\n",
       "    </tr>\n",
       "    <tr>\n",
       "      <th>2061-2080</th>\n",
       "      <td>18.9</td>\n",
       "      <td>24.6</td>\n",
       "      <td>42.8</td>\n",
       "      <td>86.9</td>\n",
       "      <td>158.5</td>\n",
       "      <td>107.9</td>\n",
       "      <td>74.3</td>\n",
       "      <td>126.1</td>\n",
       "      <td>135.6</td>\n",
       "      <td>148.8</td>\n",
       "      <td>78.8</td>\n",
       "      <td>28.8</td>\n",
       "      <td>1027.7</td>\n",
       "    </tr>\n",
       "    <tr>\n",
       "      <th>2081-2100</th>\n",
       "      <td>19.2</td>\n",
       "      <td>24.9</td>\n",
       "      <td>42.9</td>\n",
       "      <td>88.9</td>\n",
       "      <td>167.2</td>\n",
       "      <td>106.1</td>\n",
       "      <td>75.4</td>\n",
       "      <td>128.4</td>\n",
       "      <td>133.8</td>\n",
       "      <td>162.4</td>\n",
       "      <td>74.5</td>\n",
       "      <td>30.3</td>\n",
       "      <td>1037.2</td>\n",
       "    </tr>\n",
       "    <tr>\n",
       "      <th rowspan=\"4\" valign=\"top\">ssp245</th>\n",
       "      <th>2021-2040</th>\n",
       "      <td>18.8</td>\n",
       "      <td>24.4</td>\n",
       "      <td>41.5</td>\n",
       "      <td>86.3</td>\n",
       "      <td>165.1</td>\n",
       "      <td>105.4</td>\n",
       "      <td>80.9</td>\n",
       "      <td>126.2</td>\n",
       "      <td>140.4</td>\n",
       "      <td>156.7</td>\n",
       "      <td>78.8</td>\n",
       "      <td>28.4</td>\n",
       "      <td>1039.9</td>\n",
       "    </tr>\n",
       "    <tr>\n",
       "      <th>2041-2060</th>\n",
       "      <td>19.1</td>\n",
       "      <td>24.2</td>\n",
       "      <td>39.9</td>\n",
       "      <td>82.8</td>\n",
       "      <td>165.5</td>\n",
       "      <td>106.2</td>\n",
       "      <td>77.1</td>\n",
       "      <td>125.4</td>\n",
       "      <td>144.3</td>\n",
       "      <td>153.6</td>\n",
       "      <td>77.3</td>\n",
       "      <td>29.4</td>\n",
       "      <td>1034.4</td>\n",
       "    </tr>\n",
       "    <tr>\n",
       "      <th>2061-2080</th>\n",
       "      <td>19.6</td>\n",
       "      <td>23.9</td>\n",
       "      <td>41.0</td>\n",
       "      <td>82.8</td>\n",
       "      <td>150.3</td>\n",
       "      <td>97.2</td>\n",
       "      <td>69.9</td>\n",
       "      <td>122.8</td>\n",
       "      <td>134.5</td>\n",
       "      <td>153.3</td>\n",
       "      <td>79.2</td>\n",
       "      <td>30.4</td>\n",
       "      <td>1010.2</td>\n",
       "    </tr>\n",
       "    <tr>\n",
       "      <th>2081-2100</th>\n",
       "      <td>19.1</td>\n",
       "      <td>24.8</td>\n",
       "      <td>41.9</td>\n",
       "      <td>84.8</td>\n",
       "      <td>151.9</td>\n",
       "      <td>96.6</td>\n",
       "      <td>69.8</td>\n",
       "      <td>120.2</td>\n",
       "      <td>141.3</td>\n",
       "      <td>158.8</td>\n",
       "      <td>79.6</td>\n",
       "      <td>32.0</td>\n",
       "      <td>1011.8</td>\n",
       "    </tr>\n",
       "    <tr>\n",
       "      <th rowspan=\"4\" valign=\"top\">ssp370</th>\n",
       "      <th>2021-2040</th>\n",
       "      <td>19.1</td>\n",
       "      <td>24.1</td>\n",
       "      <td>40.4</td>\n",
       "      <td>82.7</td>\n",
       "      <td>164.3</td>\n",
       "      <td>105.6</td>\n",
       "      <td>79.2</td>\n",
       "      <td>124.8</td>\n",
       "      <td>141.9</td>\n",
       "      <td>150.2</td>\n",
       "      <td>80.9</td>\n",
       "      <td>27.8</td>\n",
       "      <td>1046.8</td>\n",
       "    </tr>\n",
       "    <tr>\n",
       "      <th>2041-2060</th>\n",
       "      <td>18.7</td>\n",
       "      <td>23.4</td>\n",
       "      <td>40.2</td>\n",
       "      <td>81.1</td>\n",
       "      <td>151.1</td>\n",
       "      <td>92.9</td>\n",
       "      <td>72.5</td>\n",
       "      <td>121.2</td>\n",
       "      <td>127.5</td>\n",
       "      <td>156.7</td>\n",
       "      <td>81.3</td>\n",
       "      <td>28.0</td>\n",
       "      <td>987.2</td>\n",
       "    </tr>\n",
       "    <tr>\n",
       "      <th>2061-2080</th>\n",
       "      <td>18.3</td>\n",
       "      <td>23.6</td>\n",
       "      <td>39.7</td>\n",
       "      <td>76.8</td>\n",
       "      <td>142.9</td>\n",
       "      <td>90.3</td>\n",
       "      <td>60.6</td>\n",
       "      <td>115.2</td>\n",
       "      <td>124.9</td>\n",
       "      <td>136.1</td>\n",
       "      <td>79.0</td>\n",
       "      <td>29.7</td>\n",
       "      <td>951.9</td>\n",
       "    </tr>\n",
       "    <tr>\n",
       "      <th>2081-2100</th>\n",
       "      <td>18.3</td>\n",
       "      <td>22.7</td>\n",
       "      <td>37.4</td>\n",
       "      <td>72.7</td>\n",
       "      <td>130.9</td>\n",
       "      <td>84.9</td>\n",
       "      <td>55.9</td>\n",
       "      <td>110.3</td>\n",
       "      <td>131.9</td>\n",
       "      <td>137.2</td>\n",
       "      <td>77.1</td>\n",
       "      <td>28.4</td>\n",
       "      <td>918.2</td>\n",
       "    </tr>\n",
       "    <tr>\n",
       "      <th rowspan=\"4\" valign=\"top\">ssp585</th>\n",
       "      <th>2021-2040</th>\n",
       "      <td>18.8</td>\n",
       "      <td>23.3</td>\n",
       "      <td>44.8</td>\n",
       "      <td>84.3</td>\n",
       "      <td>166.4</td>\n",
       "      <td>108.6</td>\n",
       "      <td>78.9</td>\n",
       "      <td>122.3</td>\n",
       "      <td>147.8</td>\n",
       "      <td>154.8</td>\n",
       "      <td>82.9</td>\n",
       "      <td>29.1</td>\n",
       "      <td>1058.6</td>\n",
       "    </tr>\n",
       "    <tr>\n",
       "      <th>2041-2060</th>\n",
       "      <td>19.2</td>\n",
       "      <td>23.6</td>\n",
       "      <td>40.1</td>\n",
       "      <td>80.0</td>\n",
       "      <td>148.4</td>\n",
       "      <td>99.2</td>\n",
       "      <td>71.0</td>\n",
       "      <td>119.0</td>\n",
       "      <td>137.0</td>\n",
       "      <td>158.6</td>\n",
       "      <td>82.7</td>\n",
       "      <td>29.1</td>\n",
       "      <td>1010.0</td>\n",
       "    </tr>\n",
       "    <tr>\n",
       "      <th>2061-2080</th>\n",
       "      <td>19.5</td>\n",
       "      <td>23.8</td>\n",
       "      <td>38.7</td>\n",
       "      <td>75.8</td>\n",
       "      <td>139.9</td>\n",
       "      <td>86.8</td>\n",
       "      <td>56.4</td>\n",
       "      <td>112.1</td>\n",
       "      <td>112.6</td>\n",
       "      <td>134.1</td>\n",
       "      <td>83.7</td>\n",
       "      <td>29.7</td>\n",
       "      <td>945.9</td>\n",
       "    </tr>\n",
       "    <tr>\n",
       "      <th>2081-2100</th>\n",
       "      <td>19.3</td>\n",
       "      <td>23.0</td>\n",
       "      <td>37.2</td>\n",
       "      <td>72.6</td>\n",
       "      <td>127.3</td>\n",
       "      <td>75.4</td>\n",
       "      <td>49.9</td>\n",
       "      <td>103.2</td>\n",
       "      <td>108.0</td>\n",
       "      <td>149.6</td>\n",
       "      <td>87.2</td>\n",
       "      <td>31.0</td>\n",
       "      <td>898.2</td>\n",
       "    </tr>\n",
       "    <tr>\n",
       "      <th rowspan=\"16\" valign=\"top\">Min</th>\n",
       "      <th rowspan=\"4\" valign=\"top\">ssp126</th>\n",
       "      <th>2021-2040</th>\n",
       "      <td>17.9</td>\n",
       "      <td>22.5</td>\n",
       "      <td>40.5</td>\n",
       "      <td>82.9</td>\n",
       "      <td>162.9</td>\n",
       "      <td>101.8</td>\n",
       "      <td>70.0</td>\n",
       "      <td>109.5</td>\n",
       "      <td>131.9</td>\n",
       "      <td>142.1</td>\n",
       "      <td>68.7</td>\n",
       "      <td>27.7</td>\n",
       "      <td>1017.7</td>\n",
       "    </tr>\n",
       "    <tr>\n",
       "      <th>2041-2060</th>\n",
       "      <td>17.9</td>\n",
       "      <td>23.1</td>\n",
       "      <td>38.2</td>\n",
       "      <td>78.7</td>\n",
       "      <td>156.0</td>\n",
       "      <td>94.6</td>\n",
       "      <td>67.5</td>\n",
       "      <td>107.1</td>\n",
       "      <td>130.0</td>\n",
       "      <td>148.7</td>\n",
       "      <td>66.6</td>\n",
       "      <td>26.4</td>\n",
       "      <td>1014.0</td>\n",
       "    </tr>\n",
       "    <tr>\n",
       "      <th>2061-2080</th>\n",
       "      <td>17.7</td>\n",
       "      <td>23.8</td>\n",
       "      <td>41.4</td>\n",
       "      <td>76.4</td>\n",
       "      <td>155.2</td>\n",
       "      <td>98.2</td>\n",
       "      <td>64.8</td>\n",
       "      <td>104.8</td>\n",
       "      <td>131.5</td>\n",
       "      <td>139.5</td>\n",
       "      <td>68.8</td>\n",
       "      <td>26.0</td>\n",
       "      <td>994.1</td>\n",
       "    </tr>\n",
       "    <tr>\n",
       "      <th>2081-2100</th>\n",
       "      <td>18.0</td>\n",
       "      <td>23.5</td>\n",
       "      <td>37.6</td>\n",
       "      <td>75.4</td>\n",
       "      <td>139.7</td>\n",
       "      <td>103.9</td>\n",
       "      <td>70.5</td>\n",
       "      <td>110.2</td>\n",
       "      <td>130.4</td>\n",
       "      <td>148.4</td>\n",
       "      <td>68.1</td>\n",
       "      <td>26.2</td>\n",
       "      <td>1015.8</td>\n",
       "    </tr>\n",
       "    <tr>\n",
       "      <th rowspan=\"4\" valign=\"top\">ssp245</th>\n",
       "      <th>2021-2040</th>\n",
       "      <td>18.1</td>\n",
       "      <td>23.4</td>\n",
       "      <td>37.7</td>\n",
       "      <td>79.8</td>\n",
       "      <td>156.3</td>\n",
       "      <td>96.4</td>\n",
       "      <td>67.4</td>\n",
       "      <td>108.3</td>\n",
       "      <td>126.1</td>\n",
       "      <td>149.4</td>\n",
       "      <td>68.7</td>\n",
       "      <td>26.1</td>\n",
       "      <td>1003.7</td>\n",
       "    </tr>\n",
       "    <tr>\n",
       "      <th>2041-2060</th>\n",
       "      <td>18.9</td>\n",
       "      <td>22.4</td>\n",
       "      <td>37.0</td>\n",
       "      <td>79.8</td>\n",
       "      <td>139.5</td>\n",
       "      <td>84.7</td>\n",
       "      <td>57.1</td>\n",
       "      <td>93.5</td>\n",
       "      <td>123.6</td>\n",
       "      <td>141.8</td>\n",
       "      <td>66.5</td>\n",
       "      <td>27.6</td>\n",
       "      <td>934.3</td>\n",
       "    </tr>\n",
       "    <tr>\n",
       "      <th>2061-2080</th>\n",
       "      <td>18.0</td>\n",
       "      <td>23.0</td>\n",
       "      <td>37.7</td>\n",
       "      <td>75.1</td>\n",
       "      <td>139.4</td>\n",
       "      <td>79.5</td>\n",
       "      <td>53.1</td>\n",
       "      <td>89.4</td>\n",
       "      <td>118.8</td>\n",
       "      <td>141.4</td>\n",
       "      <td>76.6</td>\n",
       "      <td>28.8</td>\n",
       "      <td>921.6</td>\n",
       "    </tr>\n",
       "    <tr>\n",
       "      <th>2081-2100</th>\n",
       "      <td>18.0</td>\n",
       "      <td>24.5</td>\n",
       "      <td>37.0</td>\n",
       "      <td>77.2</td>\n",
       "      <td>145.9</td>\n",
       "      <td>81.1</td>\n",
       "      <td>53.4</td>\n",
       "      <td>87.8</td>\n",
       "      <td>120.1</td>\n",
       "      <td>143.4</td>\n",
       "      <td>72.1</td>\n",
       "      <td>30.1</td>\n",
       "      <td>933.8</td>\n",
       "    </tr>\n",
       "    <tr>\n",
       "      <th rowspan=\"4\" valign=\"top\">ssp370</th>\n",
       "      <th>2021-2040</th>\n",
       "      <td>17.7</td>\n",
       "      <td>23.3</td>\n",
       "      <td>38.6</td>\n",
       "      <td>77.5</td>\n",
       "      <td>154.4</td>\n",
       "      <td>88.3</td>\n",
       "      <td>59.8</td>\n",
       "      <td>101.5</td>\n",
       "      <td>124.3</td>\n",
       "      <td>146.6</td>\n",
       "      <td>73.8</td>\n",
       "      <td>26.5</td>\n",
       "      <td>960.5</td>\n",
       "    </tr>\n",
       "    <tr>\n",
       "      <th>2041-2060</th>\n",
       "      <td>17.7</td>\n",
       "      <td>21.8</td>\n",
       "      <td>36.6</td>\n",
       "      <td>71.4</td>\n",
       "      <td>134.0</td>\n",
       "      <td>66.8</td>\n",
       "      <td>45.8</td>\n",
       "      <td>80.5</td>\n",
       "      <td>108.4</td>\n",
       "      <td>134.0</td>\n",
       "      <td>66.8</td>\n",
       "      <td>25.9</td>\n",
       "      <td>851.7</td>\n",
       "    </tr>\n",
       "    <tr>\n",
       "      <th>2061-2080</th>\n",
       "      <td>17.3</td>\n",
       "      <td>21.5</td>\n",
       "      <td>34.9</td>\n",
       "      <td>69.1</td>\n",
       "      <td>114.5</td>\n",
       "      <td>48.4</td>\n",
       "      <td>34.0</td>\n",
       "      <td>62.7</td>\n",
       "      <td>91.7</td>\n",
       "      <td>115.9</td>\n",
       "      <td>66.8</td>\n",
       "      <td>26.3</td>\n",
       "      <td>743.1</td>\n",
       "    </tr>\n",
       "    <tr>\n",
       "      <th>2081-2100</th>\n",
       "      <td>17.2</td>\n",
       "      <td>22.6</td>\n",
       "      <td>34.1</td>\n",
       "      <td>66.6</td>\n",
       "      <td>92.5</td>\n",
       "      <td>36.8</td>\n",
       "      <td>25.9</td>\n",
       "      <td>49.2</td>\n",
       "      <td>71.8</td>\n",
       "      <td>91.2</td>\n",
       "      <td>64.6</td>\n",
       "      <td>24.6</td>\n",
       "      <td>628.9</td>\n",
       "    </tr>\n",
       "    <tr>\n",
       "      <th rowspan=\"4\" valign=\"top\">ssp585</th>\n",
       "      <th>2021-2040</th>\n",
       "      <td>17.9</td>\n",
       "      <td>22.2</td>\n",
       "      <td>39.1</td>\n",
       "      <td>69.5</td>\n",
       "      <td>153.1</td>\n",
       "      <td>94.0</td>\n",
       "      <td>59.9</td>\n",
       "      <td>101.2</td>\n",
       "      <td>127.4</td>\n",
       "      <td>147.1</td>\n",
       "      <td>67.2</td>\n",
       "      <td>27.2</td>\n",
       "      <td>967.4</td>\n",
       "    </tr>\n",
       "    <tr>\n",
       "      <th>2041-2060</th>\n",
       "      <td>17.2</td>\n",
       "      <td>23.2</td>\n",
       "      <td>37.3</td>\n",
       "      <td>72.7</td>\n",
       "      <td>139.3</td>\n",
       "      <td>71.8</td>\n",
       "      <td>48.3</td>\n",
       "      <td>83.8</td>\n",
       "      <td>114.4</td>\n",
       "      <td>130.8</td>\n",
       "      <td>63.6</td>\n",
       "      <td>26.5</td>\n",
       "      <td>881.6</td>\n",
       "    </tr>\n",
       "    <tr>\n",
       "      <th>2061-2080</th>\n",
       "      <td>18.6</td>\n",
       "      <td>22.8</td>\n",
       "      <td>37.9</td>\n",
       "      <td>66.4</td>\n",
       "      <td>109.6</td>\n",
       "      <td>49.8</td>\n",
       "      <td>31.8</td>\n",
       "      <td>58.9</td>\n",
       "      <td>86.8</td>\n",
       "      <td>113.3</td>\n",
       "      <td>58.7</td>\n",
       "      <td>27.5</td>\n",
       "      <td>730.8</td>\n",
       "    </tr>\n",
       "    <tr>\n",
       "      <th>2081-2100</th>\n",
       "      <td>16.4</td>\n",
       "      <td>20.9</td>\n",
       "      <td>32.7</td>\n",
       "      <td>61.4</td>\n",
       "      <td>90.8</td>\n",
       "      <td>35.4</td>\n",
       "      <td>24.9</td>\n",
       "      <td>46.3</td>\n",
       "      <td>68.4</td>\n",
       "      <td>90.7</td>\n",
       "      <td>62.6</td>\n",
       "      <td>28.5</td>\n",
       "      <td>620.0</td>\n",
       "    </tr>\n",
       "  </tbody>\n",
       "</table>\n",
       "</div>"
      ],
      "text/plain": [
       "                              1     2     3     4      5      6     7      8  \\\n",
       "Model  Scenario Period                                                         \n",
       "Max    ssp126   2021-2040  22.6  24.6  46.9  91.4  205.6  126.6  82.0  137.9   \n",
       "                2041-2060  20.1  24.7  43.5  94.1  188.9  129.9  79.7  134.4   \n",
       "                2061-2080  19.3  27.9  46.5  96.1  170.3  115.0  79.6  133.5   \n",
       "                2081-2100  19.9  27.0  45.7  95.6  174.5  113.3  78.6  131.2   \n",
       "       ssp245   2021-2040  19.1  25.7  42.2  92.1  185.6  119.9  82.4  135.1   \n",
       "                2041-2060  19.1  25.7  43.8  89.9  170.7  113.5  77.4  133.7   \n",
       "                2061-2080  20.4  24.9  44.5  94.2  159.3  100.7  74.9  128.3   \n",
       "                2081-2100  19.4  25.6  43.0  85.1  159.8  107.1  75.9  131.8   \n",
       "       ssp370   2021-2040  19.3  24.9  47.1  85.2  180.4  108.4  84.1  135.3   \n",
       "                2041-2060  19.1  25.5  41.9  83.8  162.3  103.8  76.1  126.7   \n",
       "                2061-2080  19.1  24.7  43.1  83.1  152.6   99.4  74.4  123.1   \n",
       "                2081-2100  19.0  24.1  39.6  84.0  159.8   93.4  73.3  117.4   \n",
       "       ssp585   2021-2040  19.2  24.8  47.8  91.2  178.6  111.3  81.9  133.5   \n",
       "                2041-2060  20.1  24.7  44.4  84.7  180.6  106.3  76.0  133.1   \n",
       "                2061-2080  19.9  24.8  39.2  88.0  172.1  111.1  70.7  117.6   \n",
       "                2081-2100  19.9  25.0  39.9  82.2  142.2  103.3  72.9  108.9   \n",
       "Median ssp126   2021-2040  19.6  23.4  43.5  86.3  164.0  108.0  79.3  130.1   \n",
       "                2041-2060  18.8  24.1  42.1  83.9  162.0  108.9  73.4  129.9   \n",
       "                2061-2080  18.9  24.6  42.8  86.9  158.5  107.9  74.3  126.1   \n",
       "                2081-2100  19.2  24.9  42.9  88.9  167.2  106.1  75.4  128.4   \n",
       "       ssp245   2021-2040  18.8  24.4  41.5  86.3  165.1  105.4  80.9  126.2   \n",
       "                2041-2060  19.1  24.2  39.9  82.8  165.5  106.2  77.1  125.4   \n",
       "                2061-2080  19.6  23.9  41.0  82.8  150.3   97.2  69.9  122.8   \n",
       "                2081-2100  19.1  24.8  41.9  84.8  151.9   96.6  69.8  120.2   \n",
       "       ssp370   2021-2040  19.1  24.1  40.4  82.7  164.3  105.6  79.2  124.8   \n",
       "                2041-2060  18.7  23.4  40.2  81.1  151.1   92.9  72.5  121.2   \n",
       "                2061-2080  18.3  23.6  39.7  76.8  142.9   90.3  60.6  115.2   \n",
       "                2081-2100  18.3  22.7  37.4  72.7  130.9   84.9  55.9  110.3   \n",
       "       ssp585   2021-2040  18.8  23.3  44.8  84.3  166.4  108.6  78.9  122.3   \n",
       "                2041-2060  19.2  23.6  40.1  80.0  148.4   99.2  71.0  119.0   \n",
       "                2061-2080  19.5  23.8  38.7  75.8  139.9   86.8  56.4  112.1   \n",
       "                2081-2100  19.3  23.0  37.2  72.6  127.3   75.4  49.9  103.2   \n",
       "Min    ssp126   2021-2040  17.9  22.5  40.5  82.9  162.9  101.8  70.0  109.5   \n",
       "                2041-2060  17.9  23.1  38.2  78.7  156.0   94.6  67.5  107.1   \n",
       "                2061-2080  17.7  23.8  41.4  76.4  155.2   98.2  64.8  104.8   \n",
       "                2081-2100  18.0  23.5  37.6  75.4  139.7  103.9  70.5  110.2   \n",
       "       ssp245   2021-2040  18.1  23.4  37.7  79.8  156.3   96.4  67.4  108.3   \n",
       "                2041-2060  18.9  22.4  37.0  79.8  139.5   84.7  57.1   93.5   \n",
       "                2061-2080  18.0  23.0  37.7  75.1  139.4   79.5  53.1   89.4   \n",
       "                2081-2100  18.0  24.5  37.0  77.2  145.9   81.1  53.4   87.8   \n",
       "       ssp370   2021-2040  17.7  23.3  38.6  77.5  154.4   88.3  59.8  101.5   \n",
       "                2041-2060  17.7  21.8  36.6  71.4  134.0   66.8  45.8   80.5   \n",
       "                2061-2080  17.3  21.5  34.9  69.1  114.5   48.4  34.0   62.7   \n",
       "                2081-2100  17.2  22.6  34.1  66.6   92.5   36.8  25.9   49.2   \n",
       "       ssp585   2021-2040  17.9  22.2  39.1  69.5  153.1   94.0  59.9  101.2   \n",
       "                2041-2060  17.2  23.2  37.3  72.7  139.3   71.8  48.3   83.8   \n",
       "                2061-2080  18.6  22.8  37.9  66.4  109.6   49.8  31.8   58.9   \n",
       "                2081-2100  16.4  20.9  32.7  61.4   90.8   35.4  24.9   46.3   \n",
       "\n",
       "                               9     10     11    12  Annual  \n",
       "Model  Scenario Period                                        \n",
       "Max    ssp126   2021-2040  150.7  158.3  103.2  31.4  1130.0  \n",
       "                2041-2060  148.9  174.2   84.9  33.0  1092.2  \n",
       "                2061-2080  151.1  166.5   82.3  32.1  1072.1  \n",
       "                2081-2100  155.0  179.2   83.1  32.7  1080.2  \n",
       "       ssp245   2021-2040  153.4  167.4   82.3  31.3  1116.8  \n",
       "                2041-2060  151.0  162.0   87.0  33.1  1085.8  \n",
       "                2061-2080  147.6  169.6   89.0  33.1  1035.5  \n",
       "                2081-2100  152.6  165.0   88.9  34.1  1063.5  \n",
       "       ssp370   2021-2040  147.0  165.3   82.6  30.6  1069.3  \n",
       "                2041-2060  141.0  166.4   86.4  31.7  1039.0  \n",
       "                2061-2080  135.7  159.1   85.6  32.4   996.6  \n",
       "                2081-2100  132.9  165.8   83.4  32.7   958.3  \n",
       "       ssp585   2021-2040  149.2  162.9   87.9  32.1  1095.3  \n",
       "                2041-2060  144.9  189.7   87.7  33.6  1089.3  \n",
       "                2061-2080  136.3  164.7   92.7  33.4   979.5  \n",
       "                2081-2100  130.8  162.8   92.0  33.9   935.7  \n",
       "Median ssp126   2021-2040  146.4  152.0   77.7  28.9  1053.2  \n",
       "                2041-2060  138.6  159.2   76.8  28.3  1044.4  \n",
       "                2061-2080  135.6  148.8   78.8  28.8  1027.7  \n",
       "                2081-2100  133.8  162.4   74.5  30.3  1037.2  \n",
       "       ssp245   2021-2040  140.4  156.7   78.8  28.4  1039.9  \n",
       "                2041-2060  144.3  153.6   77.3  29.4  1034.4  \n",
       "                2061-2080  134.5  153.3   79.2  30.4  1010.2  \n",
       "                2081-2100  141.3  158.8   79.6  32.0  1011.8  \n",
       "       ssp370   2021-2040  141.9  150.2   80.9  27.8  1046.8  \n",
       "                2041-2060  127.5  156.7   81.3  28.0   987.2  \n",
       "                2061-2080  124.9  136.1   79.0  29.7   951.9  \n",
       "                2081-2100  131.9  137.2   77.1  28.4   918.2  \n",
       "       ssp585   2021-2040  147.8  154.8   82.9  29.1  1058.6  \n",
       "                2041-2060  137.0  158.6   82.7  29.1  1010.0  \n",
       "                2061-2080  112.6  134.1   83.7  29.7   945.9  \n",
       "                2081-2100  108.0  149.6   87.2  31.0   898.2  \n",
       "Min    ssp126   2021-2040  131.9  142.1   68.7  27.7  1017.7  \n",
       "                2041-2060  130.0  148.7   66.6  26.4  1014.0  \n",
       "                2061-2080  131.5  139.5   68.8  26.0   994.1  \n",
       "                2081-2100  130.4  148.4   68.1  26.2  1015.8  \n",
       "       ssp245   2021-2040  126.1  149.4   68.7  26.1  1003.7  \n",
       "                2041-2060  123.6  141.8   66.5  27.6   934.3  \n",
       "                2061-2080  118.8  141.4   76.6  28.8   921.6  \n",
       "                2081-2100  120.1  143.4   72.1  30.1   933.8  \n",
       "       ssp370   2021-2040  124.3  146.6   73.8  26.5   960.5  \n",
       "                2041-2060  108.4  134.0   66.8  25.9   851.7  \n",
       "                2061-2080   91.7  115.9   66.8  26.3   743.1  \n",
       "                2081-2100   71.8   91.2   64.6  24.6   628.9  \n",
       "       ssp585   2021-2040  127.4  147.1   67.2  27.2   967.4  \n",
       "                2041-2060  114.4  130.8   63.6  26.5   881.6  \n",
       "                2061-2080   86.8  113.3   58.7  27.5   730.8  \n",
       "                2081-2100   68.4   90.7   62.6  28.5   620.0  "
      ]
     },
     "execution_count": 14,
     "metadata": {},
     "output_type": "execute_result"
    }
   ],
   "source": [
    "\"\"\"\n",
    "Created on February 2021\n",
    "@author: Loïc Duffar\n",
    "\"\"\"\n",
    "import plotly.graph_objects as go\n",
    "\n",
    "#============== Customization\n",
    "#------------ \n",
    "\n",
    "\n",
    "#============== Process\n",
    "df = df_total[0:0]\n",
    "#display(df)\n",
    "    \n",
    "for scenario in ssp_list:\n",
    "    test= (df_total.index.get_level_values('Scenario') == scenario) \n",
    "    group = df_total[test ].groupby(by= ['Period'])\n",
    "    df_median= group.median().round(1)\n",
    "#    display(scenario, df_median.reset_index(drop= True))\n",
    "    df_min= group.min().round(1)\n",
    "    df_max= group.max().round(1)\n",
    "    temp= [[scenario, scenario, scenario, scenario], [period_list[0], period_list[1], period_list[2], period_list[3]] ]\n",
    "    temp= [['Max', 'Max', 'Max', 'Max']] + temp\n",
    "#    print(temp)\n",
    "    df= df.append(pd.DataFrame(df_max.values, index= [['Max', 'Max', 'Max', 'Max'], [scenario, scenario, scenario, scenario], [period_list[0], period_list[1], period_list[2], period_list[3]] ] ))\n",
    "    df= df.append(pd.DataFrame(df_median.values, index= [['Median', 'Median', 'Median', 'Median'], [scenario, scenario, scenario, scenario], [period_list[0], period_list[1], period_list[2], period_list[3]] ]))\n",
    "    df= df.append(pd.DataFrame(df_min.values, index= [['Min', 'Min', 'Min', 'Min'], [scenario, scenario, scenario, scenario], [period_list[0], period_list[1], period_list[2], period_list[3]] ] ))\n",
    "df_stat= df.sort_index().copy()\n",
    "df_stat.drop(columns= annual_label, inplace= True)\n",
    "df_stat.rename(columns= {0:1, 1:2,2:3, 3:4, 4:5, 5:6, 6:7, 7:8, 8:9, 9:10, 10:11, 11:12, 12:annual_label}, inplace= True)\n",
    "#df_stat= df_future.append(df_historical)\n",
    "df_stat"
   ]
  },
  {
   "cell_type": "markdown",
   "metadata": {},
   "source": [
    "### <a name=section07></a>8) Plot montly projections (all scenarios and GCMs)"
   ]
  },
  {
   "cell_type": "code",
   "execution_count": 16,
   "metadata": {},
   "outputs": [
    {
     "data": {
      "application/vnd.plotly.v1+json": {
       "config": {
        "plotlyServerURL": "https://plot.ly"
       },
       "data": [
        {
         "legendgroup": "1970-2000 Mean",
         "line": {
          "color": "rgba(0,0,0,0.5)"
         },
         "marker": {
          "color": "rgba(0,0,0,0)",
          "line": {
           "color": "rgba(0,0,0,0.5)",
           "width": 1
          }
         },
         "mode": "lines+markers",
         "name": "1970-2000 Mean",
         "showlegend": true,
         "type": "scatter",
         "x": [
          1,
          2,
          3,
          4,
          5,
          6,
          7,
          8,
          9,
          10,
          11,
          12
         ],
         "xaxis": "x",
         "y": [
          19.2,
          25,
          42.6,
          88.8,
          170.7,
          114.8,
          86.1,
          133.3,
          149.4,
          153.3,
          71.6,
          29.8
         ],
         "yaxis": "y"
        },
        {
         "legendgroup": "2021-2040",
         "line": {
          "color": "rgba(10, 10, 150,1)"
         },
         "mode": "lines",
         "name": "2021-2040",
         "showlegend": true,
         "type": "scatter",
         "x": [
          1,
          2,
          3,
          4,
          5,
          6,
          7,
          8,
          9,
          10,
          11,
          12
         ],
         "xaxis": "x",
         "y": [
          19.6,
          23.4,
          43.5,
          86.3,
          164,
          108,
          79.3,
          130.1,
          146.4,
          152,
          77.7,
          28.9
         ],
         "yaxis": "y"
        },
        {
         "legendgroup": "2041-2060",
         "line": {
          "color": "rgba(10, 10, 150,0.75)"
         },
         "mode": "lines",
         "name": "2041-2060",
         "showlegend": true,
         "type": "scatter",
         "x": [
          1,
          2,
          3,
          4,
          5,
          6,
          7,
          8,
          9,
          10,
          11,
          12
         ],
         "xaxis": "x",
         "y": [
          18.8,
          24.1,
          42.1,
          83.9,
          162,
          108.9,
          73.4,
          129.9,
          138.6,
          159.2,
          76.8,
          28.3
         ],
         "yaxis": "y"
        },
        {
         "legendgroup": "2061-2080",
         "line": {
          "color": "rgba(10, 10, 150,0.5)"
         },
         "mode": "lines",
         "name": "2061-2080",
         "showlegend": true,
         "type": "scatter",
         "x": [
          1,
          2,
          3,
          4,
          5,
          6,
          7,
          8,
          9,
          10,
          11,
          12
         ],
         "xaxis": "x",
         "y": [
          18.9,
          24.6,
          42.8,
          86.9,
          158.5,
          107.9,
          74.3,
          126.1,
          135.6,
          148.8,
          78.8,
          28.8
         ],
         "yaxis": "y"
        },
        {
         "legendgroup": "2081-2100",
         "line": {
          "color": "rgba(10, 10, 150,0.3)"
         },
         "mode": "lines",
         "name": "2081-2100",
         "showlegend": true,
         "type": "scatter",
         "x": [
          1,
          2,
          3,
          4,
          5,
          6,
          7,
          8,
          9,
          10,
          11,
          12
         ],
         "xaxis": "x",
         "y": [
          19.2,
          24.9,
          42.9,
          88.9,
          167.2,
          106.1,
          75.4,
          128.4,
          133.8,
          162.4,
          74.5,
          30.3
         ],
         "yaxis": "y"
        },
        {
         "legendgroup": "1970-2000 Mean",
         "line": {
          "color": "rgba(0,0,0,0.5)"
         },
         "marker": {
          "color": "rgba(0,0,0,0)",
          "line": {
           "color": "rgba(0,0,0,0.5)",
           "width": 1
          }
         },
         "mode": "lines+markers",
         "name": "1970-2000 Mean",
         "showlegend": false,
         "type": "scatter",
         "x": [
          1,
          2,
          3,
          4,
          5,
          6,
          7,
          8,
          9,
          10,
          11,
          12
         ],
         "xaxis": "x2",
         "y": [
          19.2,
          25,
          42.6,
          88.8,
          170.7,
          114.8,
          86.1,
          133.3,
          149.4,
          153.3,
          71.6,
          29.8
         ],
         "yaxis": "y2"
        },
        {
         "legendgroup": "2021-2040",
         "line": {
          "color": "rgba(150, 10, 10,1)"
         },
         "mode": "lines",
         "name": "2021-2040",
         "showlegend": true,
         "type": "scatter",
         "x": [
          1,
          2,
          3,
          4,
          5,
          6,
          7,
          8,
          9,
          10,
          11,
          12
         ],
         "xaxis": "x2",
         "y": [
          18.8,
          24.4,
          41.5,
          86.3,
          165.1,
          105.4,
          80.9,
          126.2,
          140.4,
          156.7,
          78.8,
          28.4
         ],
         "yaxis": "y2"
        },
        {
         "legendgroup": "2041-2060",
         "line": {
          "color": "rgba(150, 10, 10,0.75)"
         },
         "mode": "lines",
         "name": "2041-2060",
         "showlegend": true,
         "type": "scatter",
         "x": [
          1,
          2,
          3,
          4,
          5,
          6,
          7,
          8,
          9,
          10,
          11,
          12
         ],
         "xaxis": "x2",
         "y": [
          19.1,
          24.2,
          39.9,
          82.8,
          165.5,
          106.2,
          77.1,
          125.4,
          144.3,
          153.6,
          77.3,
          29.4
         ],
         "yaxis": "y2"
        },
        {
         "legendgroup": "2061-2080",
         "line": {
          "color": "rgba(150, 10, 10,0.5)"
         },
         "mode": "lines",
         "name": "2061-2080",
         "showlegend": true,
         "type": "scatter",
         "x": [
          1,
          2,
          3,
          4,
          5,
          6,
          7,
          8,
          9,
          10,
          11,
          12
         ],
         "xaxis": "x2",
         "y": [
          19.6,
          23.9,
          41,
          82.8,
          150.3,
          97.2,
          69.9,
          122.8,
          134.5,
          153.3,
          79.2,
          30.4
         ],
         "yaxis": "y2"
        },
        {
         "legendgroup": "2081-2100",
         "line": {
          "color": "rgba(150, 10, 10,0.3)"
         },
         "mode": "lines",
         "name": "2081-2100",
         "showlegend": true,
         "type": "scatter",
         "x": [
          1,
          2,
          3,
          4,
          5,
          6,
          7,
          8,
          9,
          10,
          11,
          12
         ],
         "xaxis": "x2",
         "y": [
          19.1,
          24.8,
          41.9,
          84.8,
          151.9,
          96.6,
          69.8,
          120.2,
          141.3,
          158.8,
          79.6,
          32
         ],
         "yaxis": "y2"
        },
        {
         "legendgroup": "1970-2000 Mean",
         "line": {
          "color": "rgba(0,0,0,0.5)"
         },
         "marker": {
          "color": "rgba(0,0,0,0)",
          "line": {
           "color": "rgba(0,0,0,0.5)",
           "width": 1
          }
         },
         "mode": "lines+markers",
         "name": "1970-2000 Mean",
         "showlegend": false,
         "type": "scatter",
         "x": [
          1,
          2,
          3,
          4,
          5,
          6,
          7,
          8,
          9,
          10,
          11,
          12
         ],
         "xaxis": "x3",
         "y": [
          19.2,
          25,
          42.6,
          88.8,
          170.7,
          114.8,
          86.1,
          133.3,
          149.4,
          153.3,
          71.6,
          29.8
         ],
         "yaxis": "y3"
        },
        {
         "legendgroup": "2021-2040",
         "line": {
          "color": "rgba(10, 150, 10,1)"
         },
         "mode": "lines",
         "name": "2021-2040",
         "showlegend": true,
         "type": "scatter",
         "x": [
          1,
          2,
          3,
          4,
          5,
          6,
          7,
          8,
          9,
          10,
          11,
          12
         ],
         "xaxis": "x3",
         "y": [
          19.1,
          24.1,
          40.4,
          82.7,
          164.3,
          105.6,
          79.2,
          124.8,
          141.9,
          150.2,
          80.9,
          27.8
         ],
         "yaxis": "y3"
        },
        {
         "legendgroup": "2041-2060",
         "line": {
          "color": "rgba(10, 150, 10,0.75)"
         },
         "mode": "lines",
         "name": "2041-2060",
         "showlegend": true,
         "type": "scatter",
         "x": [
          1,
          2,
          3,
          4,
          5,
          6,
          7,
          8,
          9,
          10,
          11,
          12
         ],
         "xaxis": "x3",
         "y": [
          18.7,
          23.4,
          40.2,
          81.1,
          151.1,
          92.9,
          72.5,
          121.2,
          127.5,
          156.7,
          81.3,
          28
         ],
         "yaxis": "y3"
        },
        {
         "legendgroup": "2061-2080",
         "line": {
          "color": "rgba(10, 150, 10,0.5)"
         },
         "mode": "lines",
         "name": "2061-2080",
         "showlegend": true,
         "type": "scatter",
         "x": [
          1,
          2,
          3,
          4,
          5,
          6,
          7,
          8,
          9,
          10,
          11,
          12
         ],
         "xaxis": "x3",
         "y": [
          18.3,
          23.6,
          39.7,
          76.8,
          142.9,
          90.3,
          60.6,
          115.2,
          124.9,
          136.1,
          79,
          29.7
         ],
         "yaxis": "y3"
        },
        {
         "legendgroup": "2081-2100",
         "line": {
          "color": "rgba(10, 150, 10,0.3)"
         },
         "mode": "lines",
         "name": "2081-2100",
         "showlegend": true,
         "type": "scatter",
         "x": [
          1,
          2,
          3,
          4,
          5,
          6,
          7,
          8,
          9,
          10,
          11,
          12
         ],
         "xaxis": "x3",
         "y": [
          18.3,
          22.7,
          37.4,
          72.7,
          130.9,
          84.9,
          55.9,
          110.3,
          131.9,
          137.2,
          77.1,
          28.4
         ],
         "yaxis": "y3"
        },
        {
         "legendgroup": "1970-2000 Mean",
         "line": {
          "color": "rgba(0,0,0,0.5)"
         },
         "marker": {
          "color": "rgba(0,0,0,0)",
          "line": {
           "color": "rgba(0,0,0,0.5)",
           "width": 1
          }
         },
         "mode": "lines+markers",
         "name": "1970-2000 Mean",
         "showlegend": false,
         "type": "scatter",
         "x": [
          1,
          2,
          3,
          4,
          5,
          6,
          7,
          8,
          9,
          10,
          11,
          12
         ],
         "xaxis": "x4",
         "y": [
          19.2,
          25,
          42.6,
          88.8,
          170.7,
          114.8,
          86.1,
          133.3,
          149.4,
          153.3,
          71.6,
          29.8
         ],
         "yaxis": "y4"
        },
        {
         "legendgroup": "2021-2040",
         "line": {
          "color": "rgba(250, 170, 60,1)"
         },
         "mode": "lines",
         "name": "2021-2040",
         "showlegend": true,
         "type": "scatter",
         "x": [
          1,
          2,
          3,
          4,
          5,
          6,
          7,
          8,
          9,
          10,
          11,
          12
         ],
         "xaxis": "x4",
         "y": [
          18.8,
          23.3,
          44.8,
          84.3,
          166.4,
          108.6,
          78.9,
          122.3,
          147.8,
          154.8,
          82.9,
          29.1
         ],
         "yaxis": "y4"
        },
        {
         "legendgroup": "2041-2060",
         "line": {
          "color": "rgba(250, 170, 60,0.75)"
         },
         "mode": "lines",
         "name": "2041-2060",
         "showlegend": true,
         "type": "scatter",
         "x": [
          1,
          2,
          3,
          4,
          5,
          6,
          7,
          8,
          9,
          10,
          11,
          12
         ],
         "xaxis": "x4",
         "y": [
          19.2,
          23.6,
          40.1,
          80,
          148.4,
          99.2,
          71,
          119,
          137,
          158.6,
          82.7,
          29.1
         ],
         "yaxis": "y4"
        },
        {
         "legendgroup": "2061-2080",
         "line": {
          "color": "rgba(250, 170, 60,0.5)"
         },
         "mode": "lines",
         "name": "2061-2080",
         "showlegend": true,
         "type": "scatter",
         "x": [
          1,
          2,
          3,
          4,
          5,
          6,
          7,
          8,
          9,
          10,
          11,
          12
         ],
         "xaxis": "x4",
         "y": [
          19.5,
          23.8,
          38.7,
          75.8,
          139.9,
          86.8,
          56.4,
          112.1,
          112.6,
          134.1,
          83.7,
          29.7
         ],
         "yaxis": "y4"
        },
        {
         "legendgroup": "2081-2100",
         "line": {
          "color": "rgba(250, 170, 60,0.3)"
         },
         "mode": "lines",
         "name": "2081-2100",
         "showlegend": true,
         "type": "scatter",
         "x": [
          1,
          2,
          3,
          4,
          5,
          6,
          7,
          8,
          9,
          10,
          11,
          12
         ],
         "xaxis": "x4",
         "y": [
          19.3,
          23,
          37.2,
          72.6,
          127.3,
          75.4,
          49.9,
          103.2,
          108,
          149.6,
          87.2,
          31
         ],
         "yaxis": "y4"
        }
       ],
       "layout": {
        "annotations": [
         {
          "font": {
           "size": 16
          },
          "showarrow": false,
          "text": "ssp1-2.6",
          "x": 0.5,
          "xanchor": "center",
          "xref": "paper",
          "y": 1,
          "yanchor": "bottom",
          "yref": "paper"
         },
         {
          "font": {
           "size": 16
          },
          "showarrow": false,
          "text": "ssp2-4.5",
          "x": 0.5,
          "xanchor": "center",
          "xref": "paper",
          "y": 0.7375,
          "yanchor": "bottom",
          "yref": "paper"
         },
         {
          "font": {
           "size": 16
          },
          "showarrow": false,
          "text": "ssp3-7.0",
          "x": 0.5,
          "xanchor": "center",
          "xref": "paper",
          "y": 0.475,
          "yanchor": "bottom",
          "yref": "paper"
         },
         {
          "font": {
           "size": 16
          },
          "showarrow": false,
          "text": "ssp5-8.5",
          "x": 0.5,
          "xanchor": "center",
          "xref": "paper",
          "y": 0.2125,
          "yanchor": "bottom",
          "yref": "paper"
         }
        ],
        "height": 900,
        "hovermode": "x",
        "showlegend": true,
        "template": {
         "data": {
          "bar": [
           {
            "error_x": {
             "color": "#2a3f5f"
            },
            "error_y": {
             "color": "#2a3f5f"
            },
            "marker": {
             "line": {
              "color": "#E5ECF6",
              "width": 0.5
             }
            },
            "type": "bar"
           }
          ],
          "barpolar": [
           {
            "marker": {
             "line": {
              "color": "#E5ECF6",
              "width": 0.5
             }
            },
            "type": "barpolar"
           }
          ],
          "carpet": [
           {
            "aaxis": {
             "endlinecolor": "#2a3f5f",
             "gridcolor": "white",
             "linecolor": "white",
             "minorgridcolor": "white",
             "startlinecolor": "#2a3f5f"
            },
            "baxis": {
             "endlinecolor": "#2a3f5f",
             "gridcolor": "white",
             "linecolor": "white",
             "minorgridcolor": "white",
             "startlinecolor": "#2a3f5f"
            },
            "type": "carpet"
           }
          ],
          "choropleth": [
           {
            "colorbar": {
             "outlinewidth": 0,
             "ticks": ""
            },
            "type": "choropleth"
           }
          ],
          "contour": [
           {
            "colorbar": {
             "outlinewidth": 0,
             "ticks": ""
            },
            "colorscale": [
             [
              0,
              "#0d0887"
             ],
             [
              0.1111111111111111,
              "#46039f"
             ],
             [
              0.2222222222222222,
              "#7201a8"
             ],
             [
              0.3333333333333333,
              "#9c179e"
             ],
             [
              0.4444444444444444,
              "#bd3786"
             ],
             [
              0.5555555555555556,
              "#d8576b"
             ],
             [
              0.6666666666666666,
              "#ed7953"
             ],
             [
              0.7777777777777778,
              "#fb9f3a"
             ],
             [
              0.8888888888888888,
              "#fdca26"
             ],
             [
              1,
              "#f0f921"
             ]
            ],
            "type": "contour"
           }
          ],
          "contourcarpet": [
           {
            "colorbar": {
             "outlinewidth": 0,
             "ticks": ""
            },
            "type": "contourcarpet"
           }
          ],
          "heatmap": [
           {
            "colorbar": {
             "outlinewidth": 0,
             "ticks": ""
            },
            "colorscale": [
             [
              0,
              "#0d0887"
             ],
             [
              0.1111111111111111,
              "#46039f"
             ],
             [
              0.2222222222222222,
              "#7201a8"
             ],
             [
              0.3333333333333333,
              "#9c179e"
             ],
             [
              0.4444444444444444,
              "#bd3786"
             ],
             [
              0.5555555555555556,
              "#d8576b"
             ],
             [
              0.6666666666666666,
              "#ed7953"
             ],
             [
              0.7777777777777778,
              "#fb9f3a"
             ],
             [
              0.8888888888888888,
              "#fdca26"
             ],
             [
              1,
              "#f0f921"
             ]
            ],
            "type": "heatmap"
           }
          ],
          "heatmapgl": [
           {
            "colorbar": {
             "outlinewidth": 0,
             "ticks": ""
            },
            "colorscale": [
             [
              0,
              "#0d0887"
             ],
             [
              0.1111111111111111,
              "#46039f"
             ],
             [
              0.2222222222222222,
              "#7201a8"
             ],
             [
              0.3333333333333333,
              "#9c179e"
             ],
             [
              0.4444444444444444,
              "#bd3786"
             ],
             [
              0.5555555555555556,
              "#d8576b"
             ],
             [
              0.6666666666666666,
              "#ed7953"
             ],
             [
              0.7777777777777778,
              "#fb9f3a"
             ],
             [
              0.8888888888888888,
              "#fdca26"
             ],
             [
              1,
              "#f0f921"
             ]
            ],
            "type": "heatmapgl"
           }
          ],
          "histogram": [
           {
            "marker": {
             "colorbar": {
              "outlinewidth": 0,
              "ticks": ""
             }
            },
            "type": "histogram"
           }
          ],
          "histogram2d": [
           {
            "colorbar": {
             "outlinewidth": 0,
             "ticks": ""
            },
            "colorscale": [
             [
              0,
              "#0d0887"
             ],
             [
              0.1111111111111111,
              "#46039f"
             ],
             [
              0.2222222222222222,
              "#7201a8"
             ],
             [
              0.3333333333333333,
              "#9c179e"
             ],
             [
              0.4444444444444444,
              "#bd3786"
             ],
             [
              0.5555555555555556,
              "#d8576b"
             ],
             [
              0.6666666666666666,
              "#ed7953"
             ],
             [
              0.7777777777777778,
              "#fb9f3a"
             ],
             [
              0.8888888888888888,
              "#fdca26"
             ],
             [
              1,
              "#f0f921"
             ]
            ],
            "type": "histogram2d"
           }
          ],
          "histogram2dcontour": [
           {
            "colorbar": {
             "outlinewidth": 0,
             "ticks": ""
            },
            "colorscale": [
             [
              0,
              "#0d0887"
             ],
             [
              0.1111111111111111,
              "#46039f"
             ],
             [
              0.2222222222222222,
              "#7201a8"
             ],
             [
              0.3333333333333333,
              "#9c179e"
             ],
             [
              0.4444444444444444,
              "#bd3786"
             ],
             [
              0.5555555555555556,
              "#d8576b"
             ],
             [
              0.6666666666666666,
              "#ed7953"
             ],
             [
              0.7777777777777778,
              "#fb9f3a"
             ],
             [
              0.8888888888888888,
              "#fdca26"
             ],
             [
              1,
              "#f0f921"
             ]
            ],
            "type": "histogram2dcontour"
           }
          ],
          "mesh3d": [
           {
            "colorbar": {
             "outlinewidth": 0,
             "ticks": ""
            },
            "type": "mesh3d"
           }
          ],
          "parcoords": [
           {
            "line": {
             "colorbar": {
              "outlinewidth": 0,
              "ticks": ""
             }
            },
            "type": "parcoords"
           }
          ],
          "pie": [
           {
            "automargin": true,
            "type": "pie"
           }
          ],
          "scatter": [
           {
            "marker": {
             "colorbar": {
              "outlinewidth": 0,
              "ticks": ""
             }
            },
            "type": "scatter"
           }
          ],
          "scatter3d": [
           {
            "line": {
             "colorbar": {
              "outlinewidth": 0,
              "ticks": ""
             }
            },
            "marker": {
             "colorbar": {
              "outlinewidth": 0,
              "ticks": ""
             }
            },
            "type": "scatter3d"
           }
          ],
          "scattercarpet": [
           {
            "marker": {
             "colorbar": {
              "outlinewidth": 0,
              "ticks": ""
             }
            },
            "type": "scattercarpet"
           }
          ],
          "scattergeo": [
           {
            "marker": {
             "colorbar": {
              "outlinewidth": 0,
              "ticks": ""
             }
            },
            "type": "scattergeo"
           }
          ],
          "scattergl": [
           {
            "marker": {
             "colorbar": {
              "outlinewidth": 0,
              "ticks": ""
             }
            },
            "type": "scattergl"
           }
          ],
          "scattermapbox": [
           {
            "marker": {
             "colorbar": {
              "outlinewidth": 0,
              "ticks": ""
             }
            },
            "type": "scattermapbox"
           }
          ],
          "scatterpolar": [
           {
            "marker": {
             "colorbar": {
              "outlinewidth": 0,
              "ticks": ""
             }
            },
            "type": "scatterpolar"
           }
          ],
          "scatterpolargl": [
           {
            "marker": {
             "colorbar": {
              "outlinewidth": 0,
              "ticks": ""
             }
            },
            "type": "scatterpolargl"
           }
          ],
          "scatterternary": [
           {
            "marker": {
             "colorbar": {
              "outlinewidth": 0,
              "ticks": ""
             }
            },
            "type": "scatterternary"
           }
          ],
          "surface": [
           {
            "colorbar": {
             "outlinewidth": 0,
             "ticks": ""
            },
            "colorscale": [
             [
              0,
              "#0d0887"
             ],
             [
              0.1111111111111111,
              "#46039f"
             ],
             [
              0.2222222222222222,
              "#7201a8"
             ],
             [
              0.3333333333333333,
              "#9c179e"
             ],
             [
              0.4444444444444444,
              "#bd3786"
             ],
             [
              0.5555555555555556,
              "#d8576b"
             ],
             [
              0.6666666666666666,
              "#ed7953"
             ],
             [
              0.7777777777777778,
              "#fb9f3a"
             ],
             [
              0.8888888888888888,
              "#fdca26"
             ],
             [
              1,
              "#f0f921"
             ]
            ],
            "type": "surface"
           }
          ],
          "table": [
           {
            "cells": {
             "fill": {
              "color": "#EBF0F8"
             },
             "line": {
              "color": "white"
             }
            },
            "header": {
             "fill": {
              "color": "#C8D4E3"
             },
             "line": {
              "color": "white"
             }
            },
            "type": "table"
           }
          ]
         },
         "layout": {
          "annotationdefaults": {
           "arrowcolor": "#2a3f5f",
           "arrowhead": 0,
           "arrowwidth": 1
          },
          "autotypenumbers": "strict",
          "coloraxis": {
           "colorbar": {
            "outlinewidth": 0,
            "ticks": ""
           }
          },
          "colorscale": {
           "diverging": [
            [
             0,
             "#8e0152"
            ],
            [
             0.1,
             "#c51b7d"
            ],
            [
             0.2,
             "#de77ae"
            ],
            [
             0.3,
             "#f1b6da"
            ],
            [
             0.4,
             "#fde0ef"
            ],
            [
             0.5,
             "#f7f7f7"
            ],
            [
             0.6,
             "#e6f5d0"
            ],
            [
             0.7,
             "#b8e186"
            ],
            [
             0.8,
             "#7fbc41"
            ],
            [
             0.9,
             "#4d9221"
            ],
            [
             1,
             "#276419"
            ]
           ],
           "sequential": [
            [
             0,
             "#0d0887"
            ],
            [
             0.1111111111111111,
             "#46039f"
            ],
            [
             0.2222222222222222,
             "#7201a8"
            ],
            [
             0.3333333333333333,
             "#9c179e"
            ],
            [
             0.4444444444444444,
             "#bd3786"
            ],
            [
             0.5555555555555556,
             "#d8576b"
            ],
            [
             0.6666666666666666,
             "#ed7953"
            ],
            [
             0.7777777777777778,
             "#fb9f3a"
            ],
            [
             0.8888888888888888,
             "#fdca26"
            ],
            [
             1,
             "#f0f921"
            ]
           ],
           "sequentialminus": [
            [
             0,
             "#0d0887"
            ],
            [
             0.1111111111111111,
             "#46039f"
            ],
            [
             0.2222222222222222,
             "#7201a8"
            ],
            [
             0.3333333333333333,
             "#9c179e"
            ],
            [
             0.4444444444444444,
             "#bd3786"
            ],
            [
             0.5555555555555556,
             "#d8576b"
            ],
            [
             0.6666666666666666,
             "#ed7953"
            ],
            [
             0.7777777777777778,
             "#fb9f3a"
            ],
            [
             0.8888888888888888,
             "#fdca26"
            ],
            [
             1,
             "#f0f921"
            ]
           ]
          },
          "colorway": [
           "#636efa",
           "#EF553B",
           "#00cc96",
           "#ab63fa",
           "#FFA15A",
           "#19d3f3",
           "#FF6692",
           "#B6E880",
           "#FF97FF",
           "#FECB52"
          ],
          "font": {
           "color": "#2a3f5f"
          },
          "geo": {
           "bgcolor": "white",
           "lakecolor": "white",
           "landcolor": "#E5ECF6",
           "showlakes": true,
           "showland": true,
           "subunitcolor": "white"
          },
          "hoverlabel": {
           "align": "left"
          },
          "hovermode": "closest",
          "mapbox": {
           "style": "light"
          },
          "paper_bgcolor": "white",
          "plot_bgcolor": "#E5ECF6",
          "polar": {
           "angularaxis": {
            "gridcolor": "white",
            "linecolor": "white",
            "ticks": ""
           },
           "bgcolor": "#E5ECF6",
           "radialaxis": {
            "gridcolor": "white",
            "linecolor": "white",
            "ticks": ""
           }
          },
          "scene": {
           "xaxis": {
            "backgroundcolor": "#E5ECF6",
            "gridcolor": "white",
            "gridwidth": 2,
            "linecolor": "white",
            "showbackground": true,
            "ticks": "",
            "zerolinecolor": "white"
           },
           "yaxis": {
            "backgroundcolor": "#E5ECF6",
            "gridcolor": "white",
            "gridwidth": 2,
            "linecolor": "white",
            "showbackground": true,
            "ticks": "",
            "zerolinecolor": "white"
           },
           "zaxis": {
            "backgroundcolor": "#E5ECF6",
            "gridcolor": "white",
            "gridwidth": 2,
            "linecolor": "white",
            "showbackground": true,
            "ticks": "",
            "zerolinecolor": "white"
           }
          },
          "shapedefaults": {
           "line": {
            "color": "#2a3f5f"
           }
          },
          "ternary": {
           "aaxis": {
            "gridcolor": "white",
            "linecolor": "white",
            "ticks": ""
           },
           "baxis": {
            "gridcolor": "white",
            "linecolor": "white",
            "ticks": ""
           },
           "bgcolor": "#E5ECF6",
           "caxis": {
            "gridcolor": "white",
            "linecolor": "white",
            "ticks": ""
           }
          },
          "title": {
           "x": 0.05
          },
          "xaxis": {
           "automargin": true,
           "gridcolor": "white",
           "linecolor": "white",
           "ticks": "",
           "title": {
            "standoff": 15
           },
           "zerolinecolor": "white",
           "zerolinewidth": 2
          },
          "yaxis": {
           "automargin": true,
           "gridcolor": "white",
           "linecolor": "white",
           "ticks": "",
           "title": {
            "standoff": 15
           },
           "zerolinecolor": "white",
           "zerolinewidth": 2
          }
         }
        },
        "title": {
         "text": "Monthly projections for each future period and each SSP scenario (median of 5 GCMs)"
        },
        "width": 800,
        "xaxis": {
         "anchor": "y",
         "domain": [
          0,
          1
         ],
         "tickvals": [
          1,
          2,
          3,
          4,
          5,
          6,
          7,
          8,
          9,
          10,
          11,
          12
         ]
        },
        "xaxis2": {
         "anchor": "y2",
         "domain": [
          0,
          1
         ],
         "tickvals": [
          1,
          2,
          3,
          4,
          5,
          6,
          7,
          8,
          9,
          10,
          11,
          12
         ]
        },
        "xaxis3": {
         "anchor": "y3",
         "domain": [
          0,
          1
         ],
         "tickvals": [
          1,
          2,
          3,
          4,
          5,
          6,
          7,
          8,
          9,
          10,
          11,
          12
         ]
        },
        "xaxis4": {
         "anchor": "y4",
         "domain": [
          0,
          1
         ],
         "tickvals": [
          1,
          2,
          3,
          4,
          5,
          6,
          7,
          8,
          9,
          10,
          11,
          12
         ]
        },
        "yaxis": {
         "anchor": "x",
         "domain": [
          0.7875,
          1
         ],
         "title": {
          "text": "mm"
         }
        },
        "yaxis2": {
         "anchor": "x2",
         "domain": [
          0.525,
          0.7375
         ],
         "title": {
          "text": "mm"
         }
        },
        "yaxis3": {
         "anchor": "x3",
         "domain": [
          0.2625,
          0.475
         ],
         "title": {
          "text": "mm"
         }
        },
        "yaxis4": {
         "anchor": "x4",
         "domain": [
          0,
          0.2125
         ],
         "title": {
          "text": "mm"
         }
        }
       }
      },
      "text/html": [
       "<div>                            <div id=\"9fc12526-08cf-44ec-844f-6cc73a6c5ad8\" class=\"plotly-graph-div\" style=\"height:900px; width:800px;\"></div>            <script type=\"text/javascript\">                require([\"plotly\"], function(Plotly) {                    window.PLOTLYENV=window.PLOTLYENV || {};                                    if (document.getElementById(\"9fc12526-08cf-44ec-844f-6cc73a6c5ad8\")) {                    Plotly.newPlot(                        \"9fc12526-08cf-44ec-844f-6cc73a6c5ad8\",                        [{\"legendgroup\": \"1970-2000 Mean\", \"line\": {\"color\": \"rgba(0,0,0,0.5)\"}, \"marker\": {\"color\": \"rgba(0,0,0,0)\", \"line\": {\"color\": \"rgba(0,0,0,0.5)\", \"width\": 1}}, \"mode\": \"lines+markers\", \"name\": \"1970-2000 Mean\", \"showlegend\": true, \"type\": \"scatter\", \"x\": [1, 2, 3, 4, 5, 6, 7, 8, 9, 10, 11, 12], \"xaxis\": \"x\", \"y\": [19.2, 25.0, 42.6, 88.8, 170.7, 114.8, 86.1, 133.3, 149.4, 153.3, 71.6, 29.8], \"yaxis\": \"y\"}, {\"legendgroup\": \"2021-2040\", \"line\": {\"color\": \"rgba(10, 10, 150,1)\"}, \"mode\": \"lines\", \"name\": \"2021-2040\", \"showlegend\": true, \"type\": \"scatter\", \"x\": [1, 2, 3, 4, 5, 6, 7, 8, 9, 10, 11, 12], \"xaxis\": \"x\", \"y\": [19.6, 23.4, 43.5, 86.3, 164.0, 108.0, 79.3, 130.1, 146.4, 152.0, 77.7, 28.9], \"yaxis\": \"y\"}, {\"legendgroup\": \"2041-2060\", \"line\": {\"color\": \"rgba(10, 10, 150,0.75)\"}, \"mode\": \"lines\", \"name\": \"2041-2060\", \"showlegend\": true, \"type\": \"scatter\", \"x\": [1, 2, 3, 4, 5, 6, 7, 8, 9, 10, 11, 12], \"xaxis\": \"x\", \"y\": [18.8, 24.1, 42.1, 83.9, 162.0, 108.9, 73.4, 129.9, 138.6, 159.2, 76.8, 28.3], \"yaxis\": \"y\"}, {\"legendgroup\": \"2061-2080\", \"line\": {\"color\": \"rgba(10, 10, 150,0.5)\"}, \"mode\": \"lines\", \"name\": \"2061-2080\", \"showlegend\": true, \"type\": \"scatter\", \"x\": [1, 2, 3, 4, 5, 6, 7, 8, 9, 10, 11, 12], \"xaxis\": \"x\", \"y\": [18.9, 24.6, 42.8, 86.9, 158.5, 107.9, 74.3, 126.1, 135.6, 148.8, 78.8, 28.8], \"yaxis\": \"y\"}, {\"legendgroup\": \"2081-2100\", \"line\": {\"color\": \"rgba(10, 10, 150,0.3)\"}, \"mode\": \"lines\", \"name\": \"2081-2100\", \"showlegend\": true, \"type\": \"scatter\", \"x\": [1, 2, 3, 4, 5, 6, 7, 8, 9, 10, 11, 12], \"xaxis\": \"x\", \"y\": [19.2, 24.9, 42.9, 88.9, 167.2, 106.1, 75.4, 128.4, 133.8, 162.4, 74.5, 30.3], \"yaxis\": \"y\"}, {\"legendgroup\": \"1970-2000 Mean\", \"line\": {\"color\": \"rgba(0,0,0,0.5)\"}, \"marker\": {\"color\": \"rgba(0,0,0,0)\", \"line\": {\"color\": \"rgba(0,0,0,0.5)\", \"width\": 1}}, \"mode\": \"lines+markers\", \"name\": \"1970-2000 Mean\", \"showlegend\": false, \"type\": \"scatter\", \"x\": [1, 2, 3, 4, 5, 6, 7, 8, 9, 10, 11, 12], \"xaxis\": \"x2\", \"y\": [19.2, 25.0, 42.6, 88.8, 170.7, 114.8, 86.1, 133.3, 149.4, 153.3, 71.6, 29.8], \"yaxis\": \"y2\"}, {\"legendgroup\": \"2021-2040\", \"line\": {\"color\": \"rgba(150, 10, 10,1)\"}, \"mode\": \"lines\", \"name\": \"2021-2040\", \"showlegend\": true, \"type\": \"scatter\", \"x\": [1, 2, 3, 4, 5, 6, 7, 8, 9, 10, 11, 12], \"xaxis\": \"x2\", \"y\": [18.8, 24.4, 41.5, 86.3, 165.1, 105.4, 80.9, 126.2, 140.4, 156.7, 78.8, 28.4], \"yaxis\": \"y2\"}, {\"legendgroup\": \"2041-2060\", \"line\": {\"color\": \"rgba(150, 10, 10,0.75)\"}, \"mode\": \"lines\", \"name\": \"2041-2060\", \"showlegend\": true, \"type\": \"scatter\", \"x\": [1, 2, 3, 4, 5, 6, 7, 8, 9, 10, 11, 12], \"xaxis\": \"x2\", \"y\": [19.1, 24.2, 39.9, 82.8, 165.5, 106.2, 77.1, 125.4, 144.3, 153.6, 77.3, 29.4], \"yaxis\": \"y2\"}, {\"legendgroup\": \"2061-2080\", \"line\": {\"color\": \"rgba(150, 10, 10,0.5)\"}, \"mode\": \"lines\", \"name\": \"2061-2080\", \"showlegend\": true, \"type\": \"scatter\", \"x\": [1, 2, 3, 4, 5, 6, 7, 8, 9, 10, 11, 12], \"xaxis\": \"x2\", \"y\": [19.6, 23.9, 41.0, 82.8, 150.3, 97.2, 69.9, 122.8, 134.5, 153.3, 79.2, 30.4], \"yaxis\": \"y2\"}, {\"legendgroup\": \"2081-2100\", \"line\": {\"color\": \"rgba(150, 10, 10,0.3)\"}, \"mode\": \"lines\", \"name\": \"2081-2100\", \"showlegend\": true, \"type\": \"scatter\", \"x\": [1, 2, 3, 4, 5, 6, 7, 8, 9, 10, 11, 12], \"xaxis\": \"x2\", \"y\": [19.1, 24.8, 41.9, 84.8, 151.9, 96.6, 69.8, 120.2, 141.3, 158.8, 79.6, 32.0], \"yaxis\": \"y2\"}, {\"legendgroup\": \"1970-2000 Mean\", \"line\": {\"color\": \"rgba(0,0,0,0.5)\"}, \"marker\": {\"color\": \"rgba(0,0,0,0)\", \"line\": {\"color\": \"rgba(0,0,0,0.5)\", \"width\": 1}}, \"mode\": \"lines+markers\", \"name\": \"1970-2000 Mean\", \"showlegend\": false, \"type\": \"scatter\", \"x\": [1, 2, 3, 4, 5, 6, 7, 8, 9, 10, 11, 12], \"xaxis\": \"x3\", \"y\": [19.2, 25.0, 42.6, 88.8, 170.7, 114.8, 86.1, 133.3, 149.4, 153.3, 71.6, 29.8], \"yaxis\": \"y3\"}, {\"legendgroup\": \"2021-2040\", \"line\": {\"color\": \"rgba(10, 150, 10,1)\"}, \"mode\": \"lines\", \"name\": \"2021-2040\", \"showlegend\": true, \"type\": \"scatter\", \"x\": [1, 2, 3, 4, 5, 6, 7, 8, 9, 10, 11, 12], \"xaxis\": \"x3\", \"y\": [19.1, 24.1, 40.4, 82.7, 164.3, 105.6, 79.2, 124.8, 141.9, 150.2, 80.9, 27.8], \"yaxis\": \"y3\"}, {\"legendgroup\": \"2041-2060\", \"line\": {\"color\": \"rgba(10, 150, 10,0.75)\"}, \"mode\": \"lines\", \"name\": \"2041-2060\", \"showlegend\": true, \"type\": \"scatter\", \"x\": [1, 2, 3, 4, 5, 6, 7, 8, 9, 10, 11, 12], \"xaxis\": \"x3\", \"y\": [18.7, 23.4, 40.2, 81.1, 151.1, 92.9, 72.5, 121.2, 127.5, 156.7, 81.3, 28.0], \"yaxis\": \"y3\"}, {\"legendgroup\": \"2061-2080\", \"line\": {\"color\": \"rgba(10, 150, 10,0.5)\"}, \"mode\": \"lines\", \"name\": \"2061-2080\", \"showlegend\": true, \"type\": \"scatter\", \"x\": [1, 2, 3, 4, 5, 6, 7, 8, 9, 10, 11, 12], \"xaxis\": \"x3\", \"y\": [18.3, 23.6, 39.7, 76.8, 142.9, 90.3, 60.6, 115.2, 124.9, 136.1, 79.0, 29.7], \"yaxis\": \"y3\"}, {\"legendgroup\": \"2081-2100\", \"line\": {\"color\": \"rgba(10, 150, 10,0.3)\"}, \"mode\": \"lines\", \"name\": \"2081-2100\", \"showlegend\": true, \"type\": \"scatter\", \"x\": [1, 2, 3, 4, 5, 6, 7, 8, 9, 10, 11, 12], \"xaxis\": \"x3\", \"y\": [18.3, 22.7, 37.4, 72.7, 130.9, 84.9, 55.9, 110.3, 131.9, 137.2, 77.1, 28.4], \"yaxis\": \"y3\"}, {\"legendgroup\": \"1970-2000 Mean\", \"line\": {\"color\": \"rgba(0,0,0,0.5)\"}, \"marker\": {\"color\": \"rgba(0,0,0,0)\", \"line\": {\"color\": \"rgba(0,0,0,0.5)\", \"width\": 1}}, \"mode\": \"lines+markers\", \"name\": \"1970-2000 Mean\", \"showlegend\": false, \"type\": \"scatter\", \"x\": [1, 2, 3, 4, 5, 6, 7, 8, 9, 10, 11, 12], \"xaxis\": \"x4\", \"y\": [19.2, 25.0, 42.6, 88.8, 170.7, 114.8, 86.1, 133.3, 149.4, 153.3, 71.6, 29.8], \"yaxis\": \"y4\"}, {\"legendgroup\": \"2021-2040\", \"line\": {\"color\": \"rgba(250, 170, 60,1)\"}, \"mode\": \"lines\", \"name\": \"2021-2040\", \"showlegend\": true, \"type\": \"scatter\", \"x\": [1, 2, 3, 4, 5, 6, 7, 8, 9, 10, 11, 12], \"xaxis\": \"x4\", \"y\": [18.8, 23.3, 44.8, 84.3, 166.4, 108.6, 78.9, 122.3, 147.8, 154.8, 82.9, 29.1], \"yaxis\": \"y4\"}, {\"legendgroup\": \"2041-2060\", \"line\": {\"color\": \"rgba(250, 170, 60,0.75)\"}, \"mode\": \"lines\", \"name\": \"2041-2060\", \"showlegend\": true, \"type\": \"scatter\", \"x\": [1, 2, 3, 4, 5, 6, 7, 8, 9, 10, 11, 12], \"xaxis\": \"x4\", \"y\": [19.2, 23.6, 40.1, 80.0, 148.4, 99.2, 71.0, 119.0, 137.0, 158.6, 82.7, 29.1], \"yaxis\": \"y4\"}, {\"legendgroup\": \"2061-2080\", \"line\": {\"color\": \"rgba(250, 170, 60,0.5)\"}, \"mode\": \"lines\", \"name\": \"2061-2080\", \"showlegend\": true, \"type\": \"scatter\", \"x\": [1, 2, 3, 4, 5, 6, 7, 8, 9, 10, 11, 12], \"xaxis\": \"x4\", \"y\": [19.5, 23.8, 38.7, 75.8, 139.9, 86.8, 56.4, 112.1, 112.6, 134.1, 83.7, 29.7], \"yaxis\": \"y4\"}, {\"legendgroup\": \"2081-2100\", \"line\": {\"color\": \"rgba(250, 170, 60,0.3)\"}, \"mode\": \"lines\", \"name\": \"2081-2100\", \"showlegend\": true, \"type\": \"scatter\", \"x\": [1, 2, 3, 4, 5, 6, 7, 8, 9, 10, 11, 12], \"xaxis\": \"x4\", \"y\": [19.3, 23.0, 37.2, 72.6, 127.3, 75.4, 49.9, 103.2, 108.0, 149.6, 87.2, 31.0], \"yaxis\": \"y4\"}],                        {\"annotations\": [{\"font\": {\"size\": 16}, \"showarrow\": false, \"text\": \"ssp1-2.6\", \"x\": 0.5, \"xanchor\": \"center\", \"xref\": \"paper\", \"y\": 1.0, \"yanchor\": \"bottom\", \"yref\": \"paper\"}, {\"font\": {\"size\": 16}, \"showarrow\": false, \"text\": \"ssp2-4.5\", \"x\": 0.5, \"xanchor\": \"center\", \"xref\": \"paper\", \"y\": 0.7375, \"yanchor\": \"bottom\", \"yref\": \"paper\"}, {\"font\": {\"size\": 16}, \"showarrow\": false, \"text\": \"ssp3-7.0\", \"x\": 0.5, \"xanchor\": \"center\", \"xref\": \"paper\", \"y\": 0.475, \"yanchor\": \"bottom\", \"yref\": \"paper\"}, {\"font\": {\"size\": 16}, \"showarrow\": false, \"text\": \"ssp5-8.5\", \"x\": 0.5, \"xanchor\": \"center\", \"xref\": \"paper\", \"y\": 0.2125, \"yanchor\": \"bottom\", \"yref\": \"paper\"}], \"height\": 900, \"hovermode\": \"x\", \"showlegend\": true, \"template\": {\"data\": {\"bar\": [{\"error_x\": {\"color\": \"#2a3f5f\"}, \"error_y\": {\"color\": \"#2a3f5f\"}, \"marker\": {\"line\": {\"color\": \"#E5ECF6\", \"width\": 0.5}}, \"type\": \"bar\"}], \"barpolar\": [{\"marker\": {\"line\": {\"color\": \"#E5ECF6\", \"width\": 0.5}}, \"type\": \"barpolar\"}], \"carpet\": [{\"aaxis\": {\"endlinecolor\": \"#2a3f5f\", \"gridcolor\": \"white\", \"linecolor\": \"white\", \"minorgridcolor\": \"white\", \"startlinecolor\": \"#2a3f5f\"}, \"baxis\": {\"endlinecolor\": \"#2a3f5f\", \"gridcolor\": \"white\", \"linecolor\": \"white\", \"minorgridcolor\": \"white\", \"startlinecolor\": \"#2a3f5f\"}, \"type\": \"carpet\"}], \"choropleth\": [{\"colorbar\": {\"outlinewidth\": 0, \"ticks\": \"\"}, \"type\": \"choropleth\"}], \"contour\": [{\"colorbar\": {\"outlinewidth\": 0, \"ticks\": \"\"}, \"colorscale\": [[0.0, \"#0d0887\"], [0.1111111111111111, \"#46039f\"], [0.2222222222222222, \"#7201a8\"], [0.3333333333333333, \"#9c179e\"], [0.4444444444444444, \"#bd3786\"], [0.5555555555555556, \"#d8576b\"], [0.6666666666666666, \"#ed7953\"], [0.7777777777777778, \"#fb9f3a\"], [0.8888888888888888, \"#fdca26\"], [1.0, \"#f0f921\"]], \"type\": \"contour\"}], \"contourcarpet\": [{\"colorbar\": {\"outlinewidth\": 0, \"ticks\": \"\"}, \"type\": \"contourcarpet\"}], \"heatmap\": [{\"colorbar\": {\"outlinewidth\": 0, \"ticks\": \"\"}, \"colorscale\": [[0.0, \"#0d0887\"], [0.1111111111111111, \"#46039f\"], [0.2222222222222222, \"#7201a8\"], [0.3333333333333333, \"#9c179e\"], [0.4444444444444444, \"#bd3786\"], [0.5555555555555556, \"#d8576b\"], [0.6666666666666666, \"#ed7953\"], [0.7777777777777778, \"#fb9f3a\"], [0.8888888888888888, \"#fdca26\"], [1.0, \"#f0f921\"]], \"type\": \"heatmap\"}], \"heatmapgl\": [{\"colorbar\": {\"outlinewidth\": 0, \"ticks\": \"\"}, \"colorscale\": [[0.0, \"#0d0887\"], [0.1111111111111111, \"#46039f\"], [0.2222222222222222, \"#7201a8\"], [0.3333333333333333, \"#9c179e\"], [0.4444444444444444, \"#bd3786\"], [0.5555555555555556, \"#d8576b\"], [0.6666666666666666, \"#ed7953\"], [0.7777777777777778, \"#fb9f3a\"], [0.8888888888888888, \"#fdca26\"], [1.0, \"#f0f921\"]], \"type\": \"heatmapgl\"}], \"histogram\": [{\"marker\": {\"colorbar\": {\"outlinewidth\": 0, \"ticks\": \"\"}}, \"type\": \"histogram\"}], \"histogram2d\": [{\"colorbar\": {\"outlinewidth\": 0, \"ticks\": \"\"}, \"colorscale\": [[0.0, \"#0d0887\"], [0.1111111111111111, \"#46039f\"], [0.2222222222222222, \"#7201a8\"], [0.3333333333333333, \"#9c179e\"], [0.4444444444444444, \"#bd3786\"], [0.5555555555555556, \"#d8576b\"], [0.6666666666666666, \"#ed7953\"], [0.7777777777777778, \"#fb9f3a\"], [0.8888888888888888, \"#fdca26\"], [1.0, \"#f0f921\"]], \"type\": \"histogram2d\"}], \"histogram2dcontour\": [{\"colorbar\": {\"outlinewidth\": 0, \"ticks\": \"\"}, \"colorscale\": [[0.0, \"#0d0887\"], [0.1111111111111111, \"#46039f\"], [0.2222222222222222, \"#7201a8\"], [0.3333333333333333, \"#9c179e\"], [0.4444444444444444, \"#bd3786\"], [0.5555555555555556, \"#d8576b\"], [0.6666666666666666, \"#ed7953\"], [0.7777777777777778, \"#fb9f3a\"], [0.8888888888888888, \"#fdca26\"], [1.0, \"#f0f921\"]], \"type\": \"histogram2dcontour\"}], \"mesh3d\": [{\"colorbar\": {\"outlinewidth\": 0, \"ticks\": \"\"}, \"type\": \"mesh3d\"}], \"parcoords\": [{\"line\": {\"colorbar\": {\"outlinewidth\": 0, \"ticks\": \"\"}}, \"type\": \"parcoords\"}], \"pie\": [{\"automargin\": true, \"type\": \"pie\"}], \"scatter\": [{\"marker\": {\"colorbar\": {\"outlinewidth\": 0, \"ticks\": \"\"}}, \"type\": \"scatter\"}], \"scatter3d\": [{\"line\": {\"colorbar\": {\"outlinewidth\": 0, \"ticks\": \"\"}}, \"marker\": {\"colorbar\": {\"outlinewidth\": 0, \"ticks\": \"\"}}, \"type\": \"scatter3d\"}], \"scattercarpet\": [{\"marker\": {\"colorbar\": {\"outlinewidth\": 0, \"ticks\": \"\"}}, \"type\": \"scattercarpet\"}], \"scattergeo\": [{\"marker\": {\"colorbar\": {\"outlinewidth\": 0, \"ticks\": \"\"}}, \"type\": \"scattergeo\"}], \"scattergl\": [{\"marker\": {\"colorbar\": {\"outlinewidth\": 0, \"ticks\": \"\"}}, \"type\": \"scattergl\"}], \"scattermapbox\": [{\"marker\": {\"colorbar\": {\"outlinewidth\": 0, \"ticks\": \"\"}}, \"type\": \"scattermapbox\"}], \"scatterpolar\": [{\"marker\": {\"colorbar\": {\"outlinewidth\": 0, \"ticks\": \"\"}}, \"type\": \"scatterpolar\"}], \"scatterpolargl\": [{\"marker\": {\"colorbar\": {\"outlinewidth\": 0, \"ticks\": \"\"}}, \"type\": \"scatterpolargl\"}], \"scatterternary\": [{\"marker\": {\"colorbar\": {\"outlinewidth\": 0, \"ticks\": \"\"}}, \"type\": \"scatterternary\"}], \"surface\": [{\"colorbar\": {\"outlinewidth\": 0, \"ticks\": \"\"}, \"colorscale\": [[0.0, \"#0d0887\"], [0.1111111111111111, \"#46039f\"], [0.2222222222222222, \"#7201a8\"], [0.3333333333333333, \"#9c179e\"], [0.4444444444444444, \"#bd3786\"], [0.5555555555555556, \"#d8576b\"], [0.6666666666666666, \"#ed7953\"], [0.7777777777777778, \"#fb9f3a\"], [0.8888888888888888, \"#fdca26\"], [1.0, \"#f0f921\"]], \"type\": \"surface\"}], \"table\": [{\"cells\": {\"fill\": {\"color\": \"#EBF0F8\"}, \"line\": {\"color\": \"white\"}}, \"header\": {\"fill\": {\"color\": \"#C8D4E3\"}, \"line\": {\"color\": \"white\"}}, \"type\": \"table\"}]}, \"layout\": {\"annotationdefaults\": {\"arrowcolor\": \"#2a3f5f\", \"arrowhead\": 0, \"arrowwidth\": 1}, \"autotypenumbers\": \"strict\", \"coloraxis\": {\"colorbar\": {\"outlinewidth\": 0, \"ticks\": \"\"}}, \"colorscale\": {\"diverging\": [[0, \"#8e0152\"], [0.1, \"#c51b7d\"], [0.2, \"#de77ae\"], [0.3, \"#f1b6da\"], [0.4, \"#fde0ef\"], [0.5, \"#f7f7f7\"], [0.6, \"#e6f5d0\"], [0.7, \"#b8e186\"], [0.8, \"#7fbc41\"], [0.9, \"#4d9221\"], [1, \"#276419\"]], \"sequential\": [[0.0, \"#0d0887\"], [0.1111111111111111, \"#46039f\"], [0.2222222222222222, \"#7201a8\"], [0.3333333333333333, \"#9c179e\"], [0.4444444444444444, \"#bd3786\"], [0.5555555555555556, \"#d8576b\"], [0.6666666666666666, \"#ed7953\"], [0.7777777777777778, \"#fb9f3a\"], [0.8888888888888888, \"#fdca26\"], [1.0, \"#f0f921\"]], \"sequentialminus\": [[0.0, \"#0d0887\"], [0.1111111111111111, \"#46039f\"], [0.2222222222222222, \"#7201a8\"], [0.3333333333333333, \"#9c179e\"], [0.4444444444444444, \"#bd3786\"], [0.5555555555555556, \"#d8576b\"], [0.6666666666666666, \"#ed7953\"], [0.7777777777777778, \"#fb9f3a\"], [0.8888888888888888, \"#fdca26\"], [1.0, \"#f0f921\"]]}, \"colorway\": [\"#636efa\", \"#EF553B\", \"#00cc96\", \"#ab63fa\", \"#FFA15A\", \"#19d3f3\", \"#FF6692\", \"#B6E880\", \"#FF97FF\", \"#FECB52\"], \"font\": {\"color\": \"#2a3f5f\"}, \"geo\": {\"bgcolor\": \"white\", \"lakecolor\": \"white\", \"landcolor\": \"#E5ECF6\", \"showlakes\": true, \"showland\": true, \"subunitcolor\": \"white\"}, \"hoverlabel\": {\"align\": \"left\"}, \"hovermode\": \"closest\", \"mapbox\": {\"style\": \"light\"}, \"paper_bgcolor\": \"white\", \"plot_bgcolor\": \"#E5ECF6\", \"polar\": {\"angularaxis\": {\"gridcolor\": \"white\", \"linecolor\": \"white\", \"ticks\": \"\"}, \"bgcolor\": \"#E5ECF6\", \"radialaxis\": {\"gridcolor\": \"white\", \"linecolor\": \"white\", \"ticks\": \"\"}}, \"scene\": {\"xaxis\": {\"backgroundcolor\": \"#E5ECF6\", \"gridcolor\": \"white\", \"gridwidth\": 2, \"linecolor\": \"white\", \"showbackground\": true, \"ticks\": \"\", \"zerolinecolor\": \"white\"}, \"yaxis\": {\"backgroundcolor\": \"#E5ECF6\", \"gridcolor\": \"white\", \"gridwidth\": 2, \"linecolor\": \"white\", \"showbackground\": true, \"ticks\": \"\", \"zerolinecolor\": \"white\"}, \"zaxis\": {\"backgroundcolor\": \"#E5ECF6\", \"gridcolor\": \"white\", \"gridwidth\": 2, \"linecolor\": \"white\", \"showbackground\": true, \"ticks\": \"\", \"zerolinecolor\": \"white\"}}, \"shapedefaults\": {\"line\": {\"color\": \"#2a3f5f\"}}, \"ternary\": {\"aaxis\": {\"gridcolor\": \"white\", \"linecolor\": \"white\", \"ticks\": \"\"}, \"baxis\": {\"gridcolor\": \"white\", \"linecolor\": \"white\", \"ticks\": \"\"}, \"bgcolor\": \"#E5ECF6\", \"caxis\": {\"gridcolor\": \"white\", \"linecolor\": \"white\", \"ticks\": \"\"}}, \"title\": {\"x\": 0.05}, \"xaxis\": {\"automargin\": true, \"gridcolor\": \"white\", \"linecolor\": \"white\", \"ticks\": \"\", \"title\": {\"standoff\": 15}, \"zerolinecolor\": \"white\", \"zerolinewidth\": 2}, \"yaxis\": {\"automargin\": true, \"gridcolor\": \"white\", \"linecolor\": \"white\", \"ticks\": \"\", \"title\": {\"standoff\": 15}, \"zerolinecolor\": \"white\", \"zerolinewidth\": 2}}}, \"title\": {\"text\": \"Monthly projections for each future period and each SSP scenario (median of 5 GCMs)\"}, \"width\": 800, \"xaxis\": {\"anchor\": \"y\", \"domain\": [0.0, 1.0], \"tickvals\": [1, 2, 3, 4, 5, 6, 7, 8, 9, 10, 11, 12]}, \"xaxis2\": {\"anchor\": \"y2\", \"domain\": [0.0, 1.0], \"tickvals\": [1, 2, 3, 4, 5, 6, 7, 8, 9, 10, 11, 12]}, \"xaxis3\": {\"anchor\": \"y3\", \"domain\": [0.0, 1.0], \"tickvals\": [1, 2, 3, 4, 5, 6, 7, 8, 9, 10, 11, 12]}, \"xaxis4\": {\"anchor\": \"y4\", \"domain\": [0.0, 1.0], \"tickvals\": [1, 2, 3, 4, 5, 6, 7, 8, 9, 10, 11, 12]}, \"yaxis\": {\"anchor\": \"x\", \"domain\": [0.7875, 1.0], \"title\": {\"text\": \"mm\"}}, \"yaxis2\": {\"anchor\": \"x2\", \"domain\": [0.525, 0.7375], \"title\": {\"text\": \"mm\"}}, \"yaxis3\": {\"anchor\": \"x3\", \"domain\": [0.2625, 0.475], \"title\": {\"text\": \"mm\"}}, \"yaxis4\": {\"anchor\": \"x4\", \"domain\": [0.0, 0.2125], \"title\": {\"text\": \"mm\"}}},                        {\"responsive\": true}                    ).then(function(){\n",
       "                            \n",
       "var gd = document.getElementById('9fc12526-08cf-44ec-844f-6cc73a6c5ad8');\n",
       "var x = new MutationObserver(function (mutations, observer) {{\n",
       "        var display = window.getComputedStyle(gd).display;\n",
       "        if (!display || display === 'none') {{\n",
       "            console.log([gd, 'removed!']);\n",
       "            Plotly.purge(gd);\n",
       "            observer.disconnect();\n",
       "        }}\n",
       "}});\n",
       "\n",
       "// Listen for the removal of the full notebook cells\n",
       "var notebookContainer = gd.closest('#notebook-container');\n",
       "if (notebookContainer) {{\n",
       "    x.observe(notebookContainer, {childList: true});\n",
       "}}\n",
       "\n",
       "// Listen for the clearing of the current output cell\n",
       "var outputEl = gd.closest('.output');\n",
       "if (outputEl) {{\n",
       "    x.observe(outputEl, {childList: true});\n",
       "}}\n",
       "\n",
       "                        })                };                });            </script>        </div>"
      ]
     },
     "metadata": {},
     "output_type": "display_data"
    }
   ],
   "source": [
    "\"\"\"\n",
    "Created on February 2021\n",
    "@author: Loïc Duffar\n",
    "\"\"\"\n",
    "# Initialisation\n",
    "showlegend= True\n",
    "alpha_list=[1, 0.75, 0.5, 0.3, 0.1]\n",
    "\n",
    "# Plot\n",
    "x= df_stat.columns.to_list()[:-1]\n",
    "y_historical= df_historical[:].values[0][:-1]\n",
    "\n",
    "fig = ps.make_subplots(rows= 4, cols= 1,\n",
    "                       shared_xaxes= False,\n",
    "                       vertical_spacing= 0.05,\n",
    "                       subplot_titles= ssp_list_long\n",
    "                      )\n",
    "\n",
    "rw= 0\n",
    "for scenario, rgb, rgba in zip(ssp_list, rgb_list, rgba_list):\n",
    "    showlegend_historical= True if rw==0 else False\n",
    "    rw= rw + 1\n",
    "    fig.add_trace(\n",
    "        go.Scatter(\n",
    "            name= baseline_label,\n",
    "            x= x,\n",
    "            y= y_historical,\n",
    "            mode= 'lines+markers',\n",
    "            line= dict(color= 'rgba(0,0,0,0.5)'),\n",
    "            marker= dict(color= 'rgba(0,0,0,0)', line= dict(color='rgba(0,0,0,0.5)', width= 1)),\n",
    "            legendgroup= baseline_label,\n",
    "            showlegend= showlegend_historical,\n",
    "#            yaxis= dict(range= [df_total[test ][month].min(), df_total[test ][month].max()]),\n",
    "                ),\n",
    "            row= rw, col= 1\n",
    "            )\n",
    "\n",
    "    for period, alpha in zip(period_list, alpha_list):\n",
    "        rgba= 'rgba' + rgb[3:-1] + ',' + str(alpha) + ')'\n",
    "        y= df_stat.loc[('Median', scenario, period)].values[:-1]\n",
    "        fig.add_trace(\n",
    "            go.Scatter(\n",
    "                name= period,\n",
    "                x= x,\n",
    "                y= y,\n",
    "                mode= 'lines',\n",
    "                line= dict(color= rgba),\n",
    "                legendgroup= period,\n",
    "                showlegend= showlegend,\n",
    "#                yaxis= dict(range= [df_total[test ][month].min(), df_total[test ][month].max()]),\n",
    "                    ),        \n",
    "                row= rw, col= 1\n",
    "                )\n",
    "\n",
    "fig.update_layout(\n",
    "    height= 900, width= 800,\n",
    "    yaxis_title= 'mm',\n",
    "    title= 'Monthly projections for each future period and each SSP scenario (median of ' + str(len(gcm_list)) +' GCMs)',\n",
    "    template= \"plotly\", # \"plotly\", \"plotly_white\", \"plotly_dark\", \"ggplot2\", \"seaborn\", \"simple_white\", \"none\"\n",
    "    hovermode= \"x\",\n",
    "#    xaxis1 = dict(tickvals = x), xaxis2 = dict(tickvals = x), xaxis3 = dict(tickvals = x), xaxis4 = dict(tickvals = x), \n",
    "#    yaxis_range= [df_total.min().max(), df_total.max().max()],\n",
    "#    legend= dict(orientation= 'h', yanchor= \"top\", y= -0.1, xanchor= \"left\", x= 0.05),\n",
    "    showlegend= True,\n",
    "    )\n",
    "\n",
    "for ax in fig['layout']:\n",
    "    if ax[:5]== 'xaxis':\n",
    "        fig['layout'][ax]['tickvals']= x\n",
    "    if ax[:5]== 'yaxis':\n",
    "        fig['layout'][ax]['title']= 'mm'\n",
    "\n",
    "file_future_by_scenario= 'WorldClim - future by scenario.png'\n",
    "fig.write_image(os.path.join(fld_out, file_future_by_scenario))# needs installation of \"plotly-orca\" or \"kaleido\"\n",
    "fig.show()"
   ]
  },
  {
   "cell_type": "markdown",
   "metadata": {},
   "source": [
    "### <a name=section08></a>9) Store outputs in excel file"
   ]
  },
  {
   "cell_type": "code",
   "execution_count": 9,
   "metadata": {},
   "outputs": [],
   "source": [
    "\n",
    "writer = pd.ExcelWriter(os.path.join(fld_out, 'worldclim - output.xlsx'), engine= 'xlsxwriter')\n",
    "workbook  = writer.book\n",
    "df_total.to_excel(writer, sheet_name='Data')\n",
    "df_stat.to_excel(writer, sheet_name='Stat')\n",
    "worksheet = writer.sheets['Data']\n",
    "if os.path.exists(os.path.join(fld_out, file_historical)):\n",
    "    worksheet.insert_image('R1', os.path.join(fld_out, file_historical))\n",
    "\n",
    "worksheet = workbook.add_worksheet('Graph')\n",
    "if os.path.exists(os.path.join(fld_out, file_future_by_year)):\n",
    "    worksheet.insert_image('A1', os.path.join(fld_out, file_future_by_year))\n",
    "if os.path.exists(os.path.join(fld_out, file_future_by_month)):\n",
    "    worksheet.insert_image('P1', os.path.join(fld_out, file_future_by_month))\n",
    "if os.path.exists(os.path.join(fld_out, file_future_by_scenario)):\n",
    "    worksheet.insert_image('A36', os.path.join(fld_out, file_future_by_scenario))\n",
    "writer.save()"
   ]
  },
  {
   "cell_type": "code",
   "execution_count": null,
   "metadata": {},
   "outputs": [],
   "source": []
  }
 ],
 "metadata": {
  "kernelspec": {
   "display_name": "Python 3",
   "language": "python",
   "name": "python3"
  },
  "language_info": {
   "codemirror_mode": {
    "name": "ipython",
    "version": 3
   },
   "file_extension": ".py",
   "mimetype": "text/x-python",
   "name": "python",
   "nbconvert_exporter": "python",
   "pygments_lexer": "ipython3",
   "version": "3.7.9"
  }
 },
 "nbformat": 4,
 "nbformat_minor": 2
}
