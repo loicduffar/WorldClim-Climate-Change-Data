{
 "cells": [
  {
   "cell_type": "markdown",
   "metadata": {},
   "source": [
    "# WorldClim data : Historical & future Climatologies (1970-2100) - GRAPHS\n",
    "## 4 SSP scenarios and 9 Global Climatic Models (Precipitation or Temperature)\n",
    "- Data: https://www.worldclim.org/data/index.html\n",
    "- author: Loïc Duffar https://github.com/loicduffar\n",
    "\n",
    "This python notebook uses data from the wordclim web site to compute the evolution of future precipitation on a given watershed (average of the pixels inside the polygon). The ouputs are stored in an excel file.\n",
    "\n",
    "NOTA: The code can handle precipitation or average temperature\n",
    "\n",
    "### How to PROCEED ?\n",
    "The data files must be divided into different sub-folders:\n",
    "- a folder containing the 12 tif files of historical monthly interannual averages (1 file per month of the year)\n",
    "- a folder with 4 sub-folders for the various future periods (1921-1940, 1961-1981, 1981-2100). Each folder contains 4 tif files for each model (and each file contains 12 bands for the the different months).\n",
    "\n",
    "Then run cells in order:\n",
    "- <a href=#section01>1)</a> Historical Climatology 1970-2000 (interannual monthly mean)\n",
    "- <a href=#section02>2)</a> Future Climatology\n",
    "- <a href=#section03>3)</a> Multi index by Model, Scenario and Period\n",
    "- <a href=#section04>4)</a> Concatenate historical and future climatology in a single dataframe\n",
    "- <a href=#section05>5)</a> Plot annual evolution of annual climatology in future, according to all SSP scenarios and all GCM\n",
    "- <a href=#section06>6)</a> Plot future evolution for each month, according to 4 SSP scenarios and 9 GCMs\n",
    "- <a href=#section07>7)</a> Store statistics in a dataframe\n",
    "- <a href=#section08>8)</a> Plot montly projections (all SSP scenarios and GCMs)\n",
    "- <a href=#section09>9)</a> Store all outputs in an excel file"
   ]
  },
  {
   "cell_type": "markdown",
   "metadata": {},
   "source": [
    "###  <a name=section01></a>1) Historical Climatology 1970-2000\n",
    "Customize the code below with...\n",
    "- folder path for historical tif files (it can be precipitation or temperature), \n",
    "- folder path for output files, \n",
    "- path of the polygon file (folder and file name) for the calculation of the mean water depth"
   ]
  },
  {
   "cell_type": "code",
   "execution_count": 32,
   "metadata": {},
   "outputs": [
    {
     "name": "stdout",
     "output_type": "stream",
     "text": [
      "Process started. Please wait the ending message ... \n",
      "Process completed in  0:00:02.509809\n"
     ]
    },
    {
     "data": {
      "text/html": [
       "<div>\n",
       "<style scoped>\n",
       "    .dataframe tbody tr th:only-of-type {\n",
       "        vertical-align: middle;\n",
       "    }\n",
       "\n",
       "    .dataframe tbody tr th {\n",
       "        vertical-align: top;\n",
       "    }\n",
       "\n",
       "    .dataframe thead th {\n",
       "        text-align: right;\n",
       "    }\n",
       "</style>\n",
       "<table border=\"1\" class=\"dataframe\">\n",
       "  <thead>\n",
       "    <tr style=\"text-align: right;\">\n",
       "      <th></th>\n",
       "      <th>1</th>\n",
       "      <th>2</th>\n",
       "      <th>3</th>\n",
       "      <th>4</th>\n",
       "      <th>5</th>\n",
       "      <th>6</th>\n",
       "      <th>7</th>\n",
       "      <th>8</th>\n",
       "      <th>9</th>\n",
       "      <th>10</th>\n",
       "      <th>11</th>\n",
       "      <th>12</th>\n",
       "      <th>Annual</th>\n",
       "    </tr>\n",
       "  </thead>\n",
       "  <tbody>\n",
       "    <tr>\n",
       "      <th>1970-2000 Mean</th>\n",
       "      <td>19.4</td>\n",
       "      <td>19.8</td>\n",
       "      <td>20.7</td>\n",
       "      <td>21.2</td>\n",
       "      <td>21.8</td>\n",
       "      <td>22.2</td>\n",
       "      <td>22.6</td>\n",
       "      <td>22.7</td>\n",
       "      <td>22.5</td>\n",
       "      <td>22.0</td>\n",
       "      <td>20.9</td>\n",
       "      <td>19.8</td>\n",
       "      <td>21.3</td>\n",
       "    </tr>\n",
       "  </tbody>\n",
       "</table>\n",
       "</div>"
      ],
      "text/plain": [
       "                   1     2     3     4     5     6     7     8     9    10  \\\n",
       "1970-2000 Mean  19.4  19.8  20.7  21.2  21.8  22.2  22.6  22.7  22.5  22.0   \n",
       "\n",
       "                  11    12  Annual  \n",
       "1970-2000 Mean  20.9  19.8    21.3  "
      ]
     },
     "metadata": {},
     "output_type": "display_data"
    },
    {
     "data": {
      "image/png": "[encoded data removed]",
      "text/plain": [
       "<Figure size 432x288 with 1 Axes>"
      ]
     },
     "metadata": {},
     "output_type": "display_data"
    }
   ],
   "source": [
    "\"\"\"\n",
    "Created on March 2021\n",
    "@author: Loïc Duffar\n",
    "\"\"\"\n",
    "import os\n",
    "import glob2\n",
    "import rasterstats\n",
    "import pandas as pd\n",
    "import matplotlib.pyplot as plt\n",
    "import seaborn as sns\n",
    "import datetime\n",
    "\n",
    "# +++++++ Customization\n",
    "variable= 'Temperature'\n",
    "file_prefix= 'wc2.1_5m_' # e.g. 'wc2.1_5m_'\n",
    "# ....... Folder with Historical tif files (FOLDER WITHOUT \"\\\" CHARACTER AT THE END !!!)\n",
    "fld_in = r'X:\\1-COMMUN\\DIS\\Documentation\\Hydrologie\\Documentation externe\\Climat Monde\\WorldClim\\Historical Climatologies 1970-2000\\wc2.1_5m'\n",
    "# ....... folder path for the output files (WITHOUT \"\\\" CHARACTER AT THE END !!!)\n",
    "fld_out = r'C:\\Users\\duffar\\Documents\\A\\ETUDES\\2021 Yaque del Sur'\n",
    "# ....... Polygon file (shape file) for plotting and average computation (path INCLUDING folder)\n",
    "polygon_file = r'C:\\Users\\DUFFAR\\Documents\\A\\ETUDES\\2021 Yaque del Sur\\Carto\\Subcuencas_YaqueSur.shp'\n",
    "historical_period = '1970-2000'\n",
    "\n",
    "# +++++++ initialisation\n",
    "annual_label= 'Annual'\n",
    "baseline_label= historical_period + ' Mean'\n",
    "if variable.upper()== 'PRECIPITATION':\n",
    "    file_prefix = file_prefix + 'prec'\n",
    "    unit= 'mm'\n",
    "elif variable.upper()== 'TEMPERATURE':\n",
    "    file_prefix = file_prefix + 't'\n",
    "    unit= '°C'\n",
    "        \n",
    "# +++++++ Polygon averaged\n",
    "print('Process started. Please wait the ending message ... ')\n",
    "start= datetime.datetime.now()# Start Timer\n",
    "\n",
    "results = []\n",
    "# Loop on raster files (1 file per month)\n",
    "\n",
    "for month in range(1, 13):\n",
    "    if variable.upper()== 'PRECIPITATION':\n",
    "        file = os.path.join(fld_in, file_prefix + '_' + \"{:0>2d}\".format(month) + '.tif')\n",
    "    elif variable.upper()== 'TEMPERATURE':\n",
    "        file = os.path.join(fld_in, file_prefix + 'avg_' + \"{:0>2d}\".format(month) + '.tif')   \n",
    "    res = rasterstats.zonal_stats(polygon_file, file, stats=['mean'])\n",
    "    results.append(round(res[0]['mean'], 1))\n",
    "\n",
    "df = pd.Series(results, index= range(1, 13), name= baseline_label).to_frame().transpose()\n",
    "sns.set_theme()\n",
    "df.transpose().plot(xticks= range(1, 13), grid= True,title= \"Historical Climatology month (1970-2000)\", ylabel= unit, legend= False)\n",
    "file_historical = 'WorldClim - historical.png'\n",
    "plt.savefig(os.path.join(fld_out, file_historical), ) # bbox_inches= 'tight' argument optionnel pour limiter la largeur des marges au minimum nécessaire\n",
    "if variable.upper()== 'PRECIPITATION':\n",
    "    df[annual_label] = df.sum(axis= 1)\n",
    "elif variable.upper()== 'TEMPERATURE':\n",
    "    df[annual_label] = df.mean(axis= 1)\n",
    "df_historical= df.copy()\n",
    "print(\"Process completed in \", datetime.datetime.now()-start)\n",
    "display(df_historical)\n"
   ]
  },
  {
   "cell_type": "markdown",
   "metadata": {},
   "source": [
    "### <a name=section02></a>2) Future Climatologies\n",
    "NOTA: Customize the file prefix to handle precipitation or average temperature\n",
    "\n",
    "Customize the code below with....\n",
    "- folder path tif files for future data (folder containing 4 sub-folders for the 4 future periods)\n",
    "- Prefix of the file name (begining of the file name, depending on the parameter, on the version of wordclim data, and on the resolution of the rasters)\n",
    "- List of the models e.g. ['BCC-CSM2-MR', 'CNRM-CM6-1', ....] (left-middle of the file name)\n",
    "- List of the SSP scenarios e.g. ['ssp126', 'ssp245', 'ssp370', 'ssp585'] (right-middle of the file name)\n",
    "- List of the future periods e.g. ['2021-2040', '2041-2060', '2061-2080', '2081-2100'] (end of the file name)"
   ]
  },
  {
   "cell_type": "code",
   "execution_count": 34,
   "metadata": {},
   "outputs": [
    {
     "name": "stdout",
     "output_type": "stream",
     "text": [
      "Process started. Please wait the ending message ... \n",
      "Period -------------- 2021-2040\n",
      "Period -------------- 2041-2060\n",
      "Period -------------- 2061-2080\n",
      "Period -------------- 2081-2100\n",
      "Process completed in  0:00:18.586722\n"
     ]
    },
    {
     "data": {
      "text/html": [
       "<div>\n",
       "<style scoped>\n",
       "    .dataframe tbody tr th:only-of-type {\n",
       "        vertical-align: middle;\n",
       "    }\n",
       "\n",
       "    .dataframe tbody tr th {\n",
       "        vertical-align: top;\n",
       "    }\n",
       "\n",
       "    .dataframe thead th {\n",
       "        text-align: right;\n",
       "    }\n",
       "</style>\n",
       "<table border=\"1\" class=\"dataframe\">\n",
       "  <thead>\n",
       "    <tr style=\"text-align: right;\">\n",
       "      <th></th>\n",
       "      <th>1</th>\n",
       "      <th>2</th>\n",
       "      <th>3</th>\n",
       "      <th>4</th>\n",
       "      <th>5</th>\n",
       "      <th>6</th>\n",
       "      <th>7</th>\n",
       "      <th>8</th>\n",
       "      <th>9</th>\n",
       "      <th>10</th>\n",
       "      <th>11</th>\n",
       "      <th>12</th>\n",
       "      <th>Annual</th>\n",
       "    </tr>\n",
       "  </thead>\n",
       "  <tbody>\n",
       "    <tr>\n",
       "      <th>2021-2040 ssp126 BCC-CSM2-MR</th>\n",
       "      <td>20.2</td>\n",
       "      <td>20.7</td>\n",
       "      <td>21.4</td>\n",
       "      <td>22.1</td>\n",
       "      <td>22.6</td>\n",
       "      <td>23.0</td>\n",
       "      <td>23.3</td>\n",
       "      <td>23.4</td>\n",
       "      <td>23.3</td>\n",
       "      <td>22.8</td>\n",
       "      <td>21.8</td>\n",
       "      <td>20.7</td>\n",
       "      <td>22.1</td>\n",
       "    </tr>\n",
       "    <tr>\n",
       "      <th>2021-2040 ssp245 BCC-CSM2-MR</th>\n",
       "      <td>20.3</td>\n",
       "      <td>20.7</td>\n",
       "      <td>21.4</td>\n",
       "      <td>22.0</td>\n",
       "      <td>22.6</td>\n",
       "      <td>23.1</td>\n",
       "      <td>23.5</td>\n",
       "      <td>23.6</td>\n",
       "      <td>23.5</td>\n",
       "      <td>22.9</td>\n",
       "      <td>21.8</td>\n",
       "      <td>20.9</td>\n",
       "      <td>22.2</td>\n",
       "    </tr>\n",
       "    <tr>\n",
       "      <th>2021-2040 ssp370 BCC-CSM2-MR</th>\n",
       "      <td>20.3</td>\n",
       "      <td>20.8</td>\n",
       "      <td>21.6</td>\n",
       "      <td>22.1</td>\n",
       "      <td>22.7</td>\n",
       "      <td>23.1</td>\n",
       "      <td>23.3</td>\n",
       "      <td>23.6</td>\n",
       "      <td>23.5</td>\n",
       "      <td>23.0</td>\n",
       "      <td>21.9</td>\n",
       "      <td>20.8</td>\n",
       "      <td>22.2</td>\n",
       "    </tr>\n",
       "    <tr>\n",
       "      <th>2021-2040 ssp585 BCC-CSM2-MR</th>\n",
       "      <td>20.4</td>\n",
       "      <td>20.9</td>\n",
       "      <td>21.5</td>\n",
       "      <td>22.3</td>\n",
       "      <td>22.7</td>\n",
       "      <td>23.2</td>\n",
       "      <td>23.5</td>\n",
       "      <td>23.6</td>\n",
       "      <td>23.6</td>\n",
       "      <td>22.9</td>\n",
       "      <td>22.0</td>\n",
       "      <td>20.9</td>\n",
       "      <td>22.3</td>\n",
       "    </tr>\n",
       "    <tr>\n",
       "      <th>2041-2060 ssp126 BCC-CSM2-MR</th>\n",
       "      <td>20.5</td>\n",
       "      <td>20.9</td>\n",
       "      <td>21.7</td>\n",
       "      <td>22.2</td>\n",
       "      <td>22.8</td>\n",
       "      <td>23.1</td>\n",
       "      <td>23.4</td>\n",
       "      <td>23.6</td>\n",
       "      <td>23.4</td>\n",
       "      <td>22.9</td>\n",
       "      <td>22.0</td>\n",
       "      <td>20.8</td>\n",
       "      <td>22.3</td>\n",
       "    </tr>\n",
       "  </tbody>\n",
       "</table>\n",
       "</div>"
      ],
      "text/plain": [
       "                                 1     2     3     4     5     6     7     8  \\\n",
       "2021-2040 ssp126 BCC-CSM2-MR  20.2  20.7  21.4  22.1  22.6  23.0  23.3  23.4   \n",
       "2021-2040 ssp245 BCC-CSM2-MR  20.3  20.7  21.4  22.0  22.6  23.1  23.5  23.6   \n",
       "2021-2040 ssp370 BCC-CSM2-MR  20.3  20.8  21.6  22.1  22.7  23.1  23.3  23.6   \n",
       "2021-2040 ssp585 BCC-CSM2-MR  20.4  20.9  21.5  22.3  22.7  23.2  23.5  23.6   \n",
       "2041-2060 ssp126 BCC-CSM2-MR  20.5  20.9  21.7  22.2  22.8  23.1  23.4  23.6   \n",
       "\n",
       "                                 9    10    11    12  Annual  \n",
       "2021-2040 ssp126 BCC-CSM2-MR  23.3  22.8  21.8  20.7    22.1  \n",
       "2021-2040 ssp245 BCC-CSM2-MR  23.5  22.9  21.8  20.9    22.2  \n",
       "2021-2040 ssp370 BCC-CSM2-MR  23.5  23.0  21.9  20.8    22.2  \n",
       "2021-2040 ssp585 BCC-CSM2-MR  23.6  22.9  22.0  20.9    22.3  \n",
       "2041-2060 ssp126 BCC-CSM2-MR  23.4  22.9  22.0  20.8    22.3  "
      ]
     },
     "metadata": {},
     "output_type": "display_data"
    }
   ],
   "source": [
    "\"\"\"\n",
    "Created on January 2021\n",
    "@author: Loïc Duffar\n",
    "\"\"\"\n",
    "import math\n",
    "import datetime\n",
    "\n",
    "# +++++++ Customization\n",
    "# ....... folder path for the tif files (WITHOUT \"\\\" CHARACTER AT THE END !!!)\n",
    "fld_in = r'X:\\1-COMMUN\\DIS\\Documentation\\Hydrologie\\Documentation externe\\Climat Monde\\WorldClim\\Future data 2021-2100'\n",
    "# ....... Polygon file (shape file) for plotting and average computation (path INCLUDING folder)\n",
    "polygon_file = r'C:\\Users\\DUFFAR\\Documents\\A\\ETUDES\\2021 Yaque del Sur\\Carto\\Subcuencas_YaqueSur.shp'\n",
    "\n",
    "# ....... Composition of the tif file names\n",
    "gcm_list = ['BCC-CSM2-MR']#, 'CNRM-CM6-1', 'CNRM-ESM2-1', 'CanESM5', 'GFDL-ESM4', 'IPSL-CM6A-LR', 'MIROC-ES2L', 'MIROC6', 'MRI-ESM2-0']\n",
    "ssp_list = ['ssp126', 'ssp245', 'ssp370', 'ssp585']\n",
    "ssp_list_long = ['ssp1-2.6', 'ssp2-4.5', 'ssp3-7.0', 'ssp5-8.5']\n",
    "period_list = ['2021-2040', '2041-2060', '2061-2080', '2081-2100']\n",
    "\n",
    "# +++++++ Process\n",
    "print('Process started. Please wait the ending message ... ')\n",
    "\n",
    "start= datetime.datetime.now()# Start Timer\n",
    "series = []\n",
    "for period in period_list:\n",
    "    path = fld_in + '/' + period\n",
    "    print('Period --------------', period)\n",
    "    for gcm in gcm_list:\n",
    "        for scenario in ssp_list:\n",
    "            if variable.upper()== 'PRECIPITATION':\n",
    "                file = os.path.join(path, '_'.join([file_prefix, gcm, scenario, period]) + '.tif')\n",
    "            elif variable.upper()== 'TEMPERATURE':\n",
    "                file = os.path.join(path, '_'.join([file_prefix + 'min', gcm, scenario, period]) + '.tif')\n",
    "                file2 = os.path.join(path, '_'.join([file_prefix + 'max', gcm, scenario, period]) + '.tif')\n",
    "            if not os.path.exists(file):\n",
    "                serie= pd.Series([math.nan for i in range(1, 13)], index= range(1, 13), name= ' '.join([period, scenario, gcm]))\n",
    "            else:\n",
    "                results = []\n",
    "                # Loop over months (1 month by file band)\n",
    "                for band in range(1, 13):\n",
    "                    if variable.upper()== 'PRECIPITATION':\n",
    "                        res = rasterstats.zonal_stats(polygon_file, file, stats=['mean'], band= band)[0]['mean']\n",
    "                    elif variable.upper()== 'TEMPERATURE':\n",
    "                        res= rasterstats.zonal_stats(polygon_file, file, stats=['mean'], band= band)[0]['mean']\n",
    "                        res= res + rasterstats.zonal_stats(polygon_file, file2, stats=['mean'], band= band)[0]['mean']\n",
    "                        res= res / 2\n",
    "                    results.append(round(res, 1))\n",
    "                serie = pd.Series(results, index= range(1, 13), name= ' '.join([period, scenario, gcm]))\n",
    "            series.append(serie)\n",
    "\n",
    "df = pd.DataFrame(series)\n",
    "if variable.upper()== 'PRECIPITATION':\n",
    "    df[annual_label] = df.sum(axis= 1, skipna= False)\n",
    "elif variable.upper()== 'TEMPERATURE':\n",
    "    df[annual_label] = df.mean(axis= 1, skipna= False).round(1)\n",
    "\n",
    "print(\"Process completed in \", datetime.datetime.now()-start)\n",
    "df_future= df.copy()\n",
    "display(df_future.head())"
   ]
  },
  {
   "cell_type": "markdown",
   "metadata": {},
   "source": [
    "### <a name=section03></a>3) Create multi index for the dataframe (by Model, Scenario and Period)"
   ]
  },
  {
   "cell_type": "code",
   "execution_count": 35,
   "metadata": {},
   "outputs": [
    {
     "data": {
      "text/html": [
       "<div>\n",
       "<style scoped>\n",
       "    .dataframe tbody tr th:only-of-type {\n",
       "        vertical-align: middle;\n",
       "    }\n",
       "\n",
       "    .dataframe tbody tr th {\n",
       "        vertical-align: top;\n",
       "    }\n",
       "\n",
       "    .dataframe thead th {\n",
       "        text-align: right;\n",
       "    }\n",
       "</style>\n",
       "<table border=\"1\" class=\"dataframe\">\n",
       "  <thead>\n",
       "    <tr style=\"text-align: right;\">\n",
       "      <th></th>\n",
       "      <th></th>\n",
       "      <th></th>\n",
       "      <th>1</th>\n",
       "      <th>2</th>\n",
       "      <th>3</th>\n",
       "      <th>4</th>\n",
       "      <th>5</th>\n",
       "      <th>6</th>\n",
       "      <th>7</th>\n",
       "      <th>8</th>\n",
       "      <th>9</th>\n",
       "      <th>10</th>\n",
       "      <th>11</th>\n",
       "      <th>12</th>\n",
       "      <th>Annual</th>\n",
       "    </tr>\n",
       "    <tr>\n",
       "      <th>Model</th>\n",
       "      <th>Scenario</th>\n",
       "      <th>Period</th>\n",
       "      <th></th>\n",
       "      <th></th>\n",
       "      <th></th>\n",
       "      <th></th>\n",
       "      <th></th>\n",
       "      <th></th>\n",
       "      <th></th>\n",
       "      <th></th>\n",
       "      <th></th>\n",
       "      <th></th>\n",
       "      <th></th>\n",
       "      <th></th>\n",
       "      <th></th>\n",
       "    </tr>\n",
       "  </thead>\n",
       "  <tbody>\n",
       "    <tr>\n",
       "      <th rowspan=\"5\" valign=\"top\">BCC-CSM2-MR</th>\n",
       "      <th rowspan=\"4\" valign=\"top\">ssp126</th>\n",
       "      <th>2021-2040</th>\n",
       "      <td>20.2</td>\n",
       "      <td>20.7</td>\n",
       "      <td>21.4</td>\n",
       "      <td>22.1</td>\n",
       "      <td>22.6</td>\n",
       "      <td>23.0</td>\n",
       "      <td>23.3</td>\n",
       "      <td>23.4</td>\n",
       "      <td>23.3</td>\n",
       "      <td>22.8</td>\n",
       "      <td>21.8</td>\n",
       "      <td>20.7</td>\n",
       "      <td>22.1</td>\n",
       "    </tr>\n",
       "    <tr>\n",
       "      <th>2041-2060</th>\n",
       "      <td>20.5</td>\n",
       "      <td>20.9</td>\n",
       "      <td>21.7</td>\n",
       "      <td>22.2</td>\n",
       "      <td>22.8</td>\n",
       "      <td>23.1</td>\n",
       "      <td>23.4</td>\n",
       "      <td>23.6</td>\n",
       "      <td>23.4</td>\n",
       "      <td>22.9</td>\n",
       "      <td>22.0</td>\n",
       "      <td>20.8</td>\n",
       "      <td>22.3</td>\n",
       "    </tr>\n",
       "    <tr>\n",
       "      <th>2061-2080</th>\n",
       "      <td>20.6</td>\n",
       "      <td>20.9</td>\n",
       "      <td>21.8</td>\n",
       "      <td>22.3</td>\n",
       "      <td>22.9</td>\n",
       "      <td>23.3</td>\n",
       "      <td>23.6</td>\n",
       "      <td>23.7</td>\n",
       "      <td>23.6</td>\n",
       "      <td>23.1</td>\n",
       "      <td>22.1</td>\n",
       "      <td>21.0</td>\n",
       "      <td>22.4</td>\n",
       "    </tr>\n",
       "    <tr>\n",
       "      <th>2081-2100</th>\n",
       "      <td>20.3</td>\n",
       "      <td>20.9</td>\n",
       "      <td>21.7</td>\n",
       "      <td>22.2</td>\n",
       "      <td>22.7</td>\n",
       "      <td>23.2</td>\n",
       "      <td>23.5</td>\n",
       "      <td>23.5</td>\n",
       "      <td>23.5</td>\n",
       "      <td>23.0</td>\n",
       "      <td>21.9</td>\n",
       "      <td>20.8</td>\n",
       "      <td>22.3</td>\n",
       "    </tr>\n",
       "    <tr>\n",
       "      <th>ssp245</th>\n",
       "      <th>2021-2040</th>\n",
       "      <td>20.3</td>\n",
       "      <td>20.7</td>\n",
       "      <td>21.4</td>\n",
       "      <td>22.0</td>\n",
       "      <td>22.6</td>\n",
       "      <td>23.1</td>\n",
       "      <td>23.5</td>\n",
       "      <td>23.6</td>\n",
       "      <td>23.5</td>\n",
       "      <td>22.9</td>\n",
       "      <td>21.8</td>\n",
       "      <td>20.9</td>\n",
       "      <td>22.2</td>\n",
       "    </tr>\n",
       "  </tbody>\n",
       "</table>\n",
       "</div>"
      ],
      "text/plain": [
       "                                    1     2     3     4     5     6     7  \\\n",
       "Model        Scenario Period                                                \n",
       " BCC-CSM2-MR ssp126   2021-2040  20.2  20.7  21.4  22.1  22.6  23.0  23.3   \n",
       "                      2041-2060  20.5  20.9  21.7  22.2  22.8  23.1  23.4   \n",
       "                      2061-2080  20.6  20.9  21.8  22.3  22.9  23.3  23.6   \n",
       "                      2081-2100  20.3  20.9  21.7  22.2  22.7  23.2  23.5   \n",
       "             ssp245   2021-2040  20.3  20.7  21.4  22.0  22.6  23.1  23.5   \n",
       "\n",
       "                                    8     9    10    11    12  Annual  \n",
       "Model        Scenario Period                                           \n",
       " BCC-CSM2-MR ssp126   2021-2040  23.4  23.3  22.8  21.8  20.7    22.1  \n",
       "                      2041-2060  23.6  23.4  22.9  22.0  20.8    22.3  \n",
       "                      2061-2080  23.7  23.6  23.1  22.1  21.0    22.4  \n",
       "                      2081-2100  23.5  23.5  23.0  21.9  20.8    22.3  \n",
       "             ssp245   2021-2040  23.6  23.5  22.9  21.8  20.9    22.2  "
      ]
     },
     "execution_count": 35,
     "metadata": {},
     "output_type": "execute_result"
    }
   ],
   "source": [
    "\"\"\"\n",
    "Created on January 2021\n",
    "@author: Loïc Duffar\n",
    "\"\"\"\n",
    "df_future['Period']= df.index.str[0:9]\n",
    "df_future['Scenario']= df.index.str[10:16]\n",
    "df_future['Model']= df.index.str[16:]\n",
    "df_future.set_index(keys= ['Model', 'Scenario', 'Period'], drop= True, inplace=True)\n",
    "df_future.sort_index(inplace= True)\n",
    "df_future.head()"
   ]
  },
  {
   "cell_type": "markdown",
   "metadata": {},
   "source": [
    "### <a name=section04></a>4) Concatenate historical and future precipitation in a single dataframe, and save it in an excel file"
   ]
  },
  {
   "cell_type": "code",
   "execution_count": 36,
   "metadata": {},
   "outputs": [
    {
     "data": {
      "text/html": [
       "<div>\n",
       "<style scoped>\n",
       "    .dataframe tbody tr th:only-of-type {\n",
       "        vertical-align: middle;\n",
       "    }\n",
       "\n",
       "    .dataframe tbody tr th {\n",
       "        vertical-align: top;\n",
       "    }\n",
       "\n",
       "    .dataframe thead th {\n",
       "        text-align: right;\n",
       "    }\n",
       "</style>\n",
       "<table border=\"1\" class=\"dataframe\">\n",
       "  <thead>\n",
       "    <tr style=\"text-align: right;\">\n",
       "      <th></th>\n",
       "      <th></th>\n",
       "      <th></th>\n",
       "      <th>1</th>\n",
       "      <th>2</th>\n",
       "      <th>3</th>\n",
       "      <th>4</th>\n",
       "      <th>5</th>\n",
       "      <th>6</th>\n",
       "      <th>7</th>\n",
       "      <th>8</th>\n",
       "      <th>9</th>\n",
       "      <th>10</th>\n",
       "      <th>11</th>\n",
       "      <th>12</th>\n",
       "      <th>Annual</th>\n",
       "    </tr>\n",
       "    <tr>\n",
       "      <th>Model</th>\n",
       "      <th>Scenario</th>\n",
       "      <th>Period</th>\n",
       "      <th></th>\n",
       "      <th></th>\n",
       "      <th></th>\n",
       "      <th></th>\n",
       "      <th></th>\n",
       "      <th></th>\n",
       "      <th></th>\n",
       "      <th></th>\n",
       "      <th></th>\n",
       "      <th></th>\n",
       "      <th></th>\n",
       "      <th></th>\n",
       "      <th></th>\n",
       "    </tr>\n",
       "  </thead>\n",
       "  <tbody>\n",
       "    <tr>\n",
       "      <th></th>\n",
       "      <th>Historical</th>\n",
       "      <th>1970-2000</th>\n",
       "      <td>19.4</td>\n",
       "      <td>19.8</td>\n",
       "      <td>20.7</td>\n",
       "      <td>21.2</td>\n",
       "      <td>21.8</td>\n",
       "      <td>22.2</td>\n",
       "      <td>22.6</td>\n",
       "      <td>22.7</td>\n",
       "      <td>22.5</td>\n",
       "      <td>22.0</td>\n",
       "      <td>20.9</td>\n",
       "      <td>19.8</td>\n",
       "      <td>21.3</td>\n",
       "    </tr>\n",
       "    <tr>\n",
       "      <th rowspan=\"16\" valign=\"top\">BCC-CSM2-MR</th>\n",
       "      <th rowspan=\"4\" valign=\"top\">ssp126</th>\n",
       "      <th>2021-2040</th>\n",
       "      <td>20.2</td>\n",
       "      <td>20.7</td>\n",
       "      <td>21.4</td>\n",
       "      <td>22.1</td>\n",
       "      <td>22.6</td>\n",
       "      <td>23.0</td>\n",
       "      <td>23.3</td>\n",
       "      <td>23.4</td>\n",
       "      <td>23.3</td>\n",
       "      <td>22.8</td>\n",
       "      <td>21.8</td>\n",
       "      <td>20.7</td>\n",
       "      <td>22.1</td>\n",
       "    </tr>\n",
       "    <tr>\n",
       "      <th>2041-2060</th>\n",
       "      <td>20.5</td>\n",
       "      <td>20.9</td>\n",
       "      <td>21.7</td>\n",
       "      <td>22.2</td>\n",
       "      <td>22.8</td>\n",
       "      <td>23.1</td>\n",
       "      <td>23.4</td>\n",
       "      <td>23.6</td>\n",
       "      <td>23.4</td>\n",
       "      <td>22.9</td>\n",
       "      <td>22.0</td>\n",
       "      <td>20.8</td>\n",
       "      <td>22.3</td>\n",
       "    </tr>\n",
       "    <tr>\n",
       "      <th>2061-2080</th>\n",
       "      <td>20.6</td>\n",
       "      <td>20.9</td>\n",
       "      <td>21.8</td>\n",
       "      <td>22.3</td>\n",
       "      <td>22.9</td>\n",
       "      <td>23.3</td>\n",
       "      <td>23.6</td>\n",
       "      <td>23.7</td>\n",
       "      <td>23.6</td>\n",
       "      <td>23.1</td>\n",
       "      <td>22.1</td>\n",
       "      <td>21.0</td>\n",
       "      <td>22.4</td>\n",
       "    </tr>\n",
       "    <tr>\n",
       "      <th>2081-2100</th>\n",
       "      <td>20.3</td>\n",
       "      <td>20.9</td>\n",
       "      <td>21.7</td>\n",
       "      <td>22.2</td>\n",
       "      <td>22.7</td>\n",
       "      <td>23.2</td>\n",
       "      <td>23.5</td>\n",
       "      <td>23.5</td>\n",
       "      <td>23.5</td>\n",
       "      <td>23.0</td>\n",
       "      <td>21.9</td>\n",
       "      <td>20.8</td>\n",
       "      <td>22.3</td>\n",
       "    </tr>\n",
       "    <tr>\n",
       "      <th rowspan=\"4\" valign=\"top\">ssp245</th>\n",
       "      <th>2021-2040</th>\n",
       "      <td>20.3</td>\n",
       "      <td>20.7</td>\n",
       "      <td>21.4</td>\n",
       "      <td>22.0</td>\n",
       "      <td>22.6</td>\n",
       "      <td>23.1</td>\n",
       "      <td>23.5</td>\n",
       "      <td>23.6</td>\n",
       "      <td>23.5</td>\n",
       "      <td>22.9</td>\n",
       "      <td>21.8</td>\n",
       "      <td>20.9</td>\n",
       "      <td>22.2</td>\n",
       "    </tr>\n",
       "    <tr>\n",
       "      <th>2041-2060</th>\n",
       "      <td>20.6</td>\n",
       "      <td>21.2</td>\n",
       "      <td>22.0</td>\n",
       "      <td>22.5</td>\n",
       "      <td>23.0</td>\n",
       "      <td>23.5</td>\n",
       "      <td>23.8</td>\n",
       "      <td>23.8</td>\n",
       "      <td>23.7</td>\n",
       "      <td>23.2</td>\n",
       "      <td>22.3</td>\n",
       "      <td>21.2</td>\n",
       "      <td>22.6</td>\n",
       "    </tr>\n",
       "    <tr>\n",
       "      <th>2061-2080</th>\n",
       "      <td>21.0</td>\n",
       "      <td>21.6</td>\n",
       "      <td>22.3</td>\n",
       "      <td>22.7</td>\n",
       "      <td>23.4</td>\n",
       "      <td>23.7</td>\n",
       "      <td>23.9</td>\n",
       "      <td>24.1</td>\n",
       "      <td>24.2</td>\n",
       "      <td>23.6</td>\n",
       "      <td>22.6</td>\n",
       "      <td>21.4</td>\n",
       "      <td>22.9</td>\n",
       "    </tr>\n",
       "    <tr>\n",
       "      <th>2081-2100</th>\n",
       "      <td>21.3</td>\n",
       "      <td>21.8</td>\n",
       "      <td>22.6</td>\n",
       "      <td>23.1</td>\n",
       "      <td>23.6</td>\n",
       "      <td>24.1</td>\n",
       "      <td>24.3</td>\n",
       "      <td>24.5</td>\n",
       "      <td>24.4</td>\n",
       "      <td>23.8</td>\n",
       "      <td>23.0</td>\n",
       "      <td>21.8</td>\n",
       "      <td>23.2</td>\n",
       "    </tr>\n",
       "    <tr>\n",
       "      <th rowspan=\"4\" valign=\"top\">ssp370</th>\n",
       "      <th>2021-2040</th>\n",
       "      <td>20.3</td>\n",
       "      <td>20.8</td>\n",
       "      <td>21.6</td>\n",
       "      <td>22.1</td>\n",
       "      <td>22.7</td>\n",
       "      <td>23.1</td>\n",
       "      <td>23.3</td>\n",
       "      <td>23.6</td>\n",
       "      <td>23.5</td>\n",
       "      <td>23.0</td>\n",
       "      <td>21.9</td>\n",
       "      <td>20.8</td>\n",
       "      <td>22.2</td>\n",
       "    </tr>\n",
       "    <tr>\n",
       "      <th>2041-2060</th>\n",
       "      <td>21.0</td>\n",
       "      <td>21.3</td>\n",
       "      <td>22.3</td>\n",
       "      <td>22.8</td>\n",
       "      <td>23.3</td>\n",
       "      <td>23.7</td>\n",
       "      <td>24.0</td>\n",
       "      <td>24.2</td>\n",
       "      <td>24.1</td>\n",
       "      <td>23.6</td>\n",
       "      <td>22.6</td>\n",
       "      <td>21.5</td>\n",
       "      <td>22.9</td>\n",
       "    </tr>\n",
       "    <tr>\n",
       "      <th>2061-2080</th>\n",
       "      <td>21.6</td>\n",
       "      <td>22.0</td>\n",
       "      <td>22.8</td>\n",
       "      <td>23.4</td>\n",
       "      <td>23.9</td>\n",
       "      <td>24.3</td>\n",
       "      <td>24.6</td>\n",
       "      <td>24.8</td>\n",
       "      <td>24.8</td>\n",
       "      <td>24.1</td>\n",
       "      <td>23.2</td>\n",
       "      <td>22.1</td>\n",
       "      <td>23.5</td>\n",
       "    </tr>\n",
       "    <tr>\n",
       "      <th>2081-2100</th>\n",
       "      <td>22.1</td>\n",
       "      <td>22.6</td>\n",
       "      <td>23.4</td>\n",
       "      <td>23.9</td>\n",
       "      <td>24.5</td>\n",
       "      <td>24.9</td>\n",
       "      <td>25.2</td>\n",
       "      <td>25.5</td>\n",
       "      <td>25.5</td>\n",
       "      <td>24.8</td>\n",
       "      <td>23.9</td>\n",
       "      <td>22.7</td>\n",
       "      <td>24.1</td>\n",
       "    </tr>\n",
       "    <tr>\n",
       "      <th rowspan=\"4\" valign=\"top\">ssp585</th>\n",
       "      <th>2021-2040</th>\n",
       "      <td>20.4</td>\n",
       "      <td>20.9</td>\n",
       "      <td>21.5</td>\n",
       "      <td>22.3</td>\n",
       "      <td>22.7</td>\n",
       "      <td>23.2</td>\n",
       "      <td>23.5</td>\n",
       "      <td>23.6</td>\n",
       "      <td>23.6</td>\n",
       "      <td>22.9</td>\n",
       "      <td>22.0</td>\n",
       "      <td>20.9</td>\n",
       "      <td>22.3</td>\n",
       "    </tr>\n",
       "    <tr>\n",
       "      <th>2041-2060</th>\n",
       "      <td>21.0</td>\n",
       "      <td>21.4</td>\n",
       "      <td>22.1</td>\n",
       "      <td>22.9</td>\n",
       "      <td>23.4</td>\n",
       "      <td>23.8</td>\n",
       "      <td>24.0</td>\n",
       "      <td>24.2</td>\n",
       "      <td>24.2</td>\n",
       "      <td>23.6</td>\n",
       "      <td>22.6</td>\n",
       "      <td>21.6</td>\n",
       "      <td>22.9</td>\n",
       "    </tr>\n",
       "    <tr>\n",
       "      <th>2061-2080</th>\n",
       "      <td>21.8</td>\n",
       "      <td>22.1</td>\n",
       "      <td>23.1</td>\n",
       "      <td>23.5</td>\n",
       "      <td>24.1</td>\n",
       "      <td>24.5</td>\n",
       "      <td>24.8</td>\n",
       "      <td>24.9</td>\n",
       "      <td>25.0</td>\n",
       "      <td>24.4</td>\n",
       "      <td>23.4</td>\n",
       "      <td>22.3</td>\n",
       "      <td>23.7</td>\n",
       "    </tr>\n",
       "    <tr>\n",
       "      <th>2081-2100</th>\n",
       "      <td>22.4</td>\n",
       "      <td>22.9</td>\n",
       "      <td>23.7</td>\n",
       "      <td>24.2</td>\n",
       "      <td>24.8</td>\n",
       "      <td>25.1</td>\n",
       "      <td>25.3</td>\n",
       "      <td>25.7</td>\n",
       "      <td>25.7</td>\n",
       "      <td>25.1</td>\n",
       "      <td>24.0</td>\n",
       "      <td>22.9</td>\n",
       "      <td>24.3</td>\n",
       "    </tr>\n",
       "  </tbody>\n",
       "</table>\n",
       "</div>"
      ],
      "text/plain": [
       "                                      1     2     3     4     5     6     7  \\\n",
       "Model        Scenario   Period                                                \n",
       "             Historical 1970-2000  19.4  19.8  20.7  21.2  21.8  22.2  22.6   \n",
       " BCC-CSM2-MR ssp126     2021-2040  20.2  20.7  21.4  22.1  22.6  23.0  23.3   \n",
       "                        2041-2060  20.5  20.9  21.7  22.2  22.8  23.1  23.4   \n",
       "                        2061-2080  20.6  20.9  21.8  22.3  22.9  23.3  23.6   \n",
       "                        2081-2100  20.3  20.9  21.7  22.2  22.7  23.2  23.5   \n",
       "             ssp245     2021-2040  20.3  20.7  21.4  22.0  22.6  23.1  23.5   \n",
       "                        2041-2060  20.6  21.2  22.0  22.5  23.0  23.5  23.8   \n",
       "                        2061-2080  21.0  21.6  22.3  22.7  23.4  23.7  23.9   \n",
       "                        2081-2100  21.3  21.8  22.6  23.1  23.6  24.1  24.3   \n",
       "             ssp370     2021-2040  20.3  20.8  21.6  22.1  22.7  23.1  23.3   \n",
       "                        2041-2060  21.0  21.3  22.3  22.8  23.3  23.7  24.0   \n",
       "                        2061-2080  21.6  22.0  22.8  23.4  23.9  24.3  24.6   \n",
       "                        2081-2100  22.1  22.6  23.4  23.9  24.5  24.9  25.2   \n",
       "             ssp585     2021-2040  20.4  20.9  21.5  22.3  22.7  23.2  23.5   \n",
       "                        2041-2060  21.0  21.4  22.1  22.9  23.4  23.8  24.0   \n",
       "                        2061-2080  21.8  22.1  23.1  23.5  24.1  24.5  24.8   \n",
       "                        2081-2100  22.4  22.9  23.7  24.2  24.8  25.1  25.3   \n",
       "\n",
       "                                      8     9    10    11    12  Annual  \n",
       "Model        Scenario   Period                                           \n",
       "             Historical 1970-2000  22.7  22.5  22.0  20.9  19.8    21.3  \n",
       " BCC-CSM2-MR ssp126     2021-2040  23.4  23.3  22.8  21.8  20.7    22.1  \n",
       "                        2041-2060  23.6  23.4  22.9  22.0  20.8    22.3  \n",
       "                        2061-2080  23.7  23.6  23.1  22.1  21.0    22.4  \n",
       "                        2081-2100  23.5  23.5  23.0  21.9  20.8    22.3  \n",
       "             ssp245     2021-2040  23.6  23.5  22.9  21.8  20.9    22.2  \n",
       "                        2041-2060  23.8  23.7  23.2  22.3  21.2    22.6  \n",
       "                        2061-2080  24.1  24.2  23.6  22.6  21.4    22.9  \n",
       "                        2081-2100  24.5  24.4  23.8  23.0  21.8    23.2  \n",
       "             ssp370     2021-2040  23.6  23.5  23.0  21.9  20.8    22.2  \n",
       "                        2041-2060  24.2  24.1  23.6  22.6  21.5    22.9  \n",
       "                        2061-2080  24.8  24.8  24.1  23.2  22.1    23.5  \n",
       "                        2081-2100  25.5  25.5  24.8  23.9  22.7    24.1  \n",
       "             ssp585     2021-2040  23.6  23.6  22.9  22.0  20.9    22.3  \n",
       "                        2041-2060  24.2  24.2  23.6  22.6  21.6    22.9  \n",
       "                        2061-2080  24.9  25.0  24.4  23.4  22.3    23.7  \n",
       "                        2081-2100  25.7  25.7  25.1  24.0  22.9    24.3  "
      ]
     },
     "metadata": {},
     "output_type": "display_data"
    }
   ],
   "source": [
    "\"\"\"\n",
    "Created on January 2021\n",
    "@author: Loïc Duffar\n",
    "\"\"\"\n",
    "df_historical= df_historical.copy()\n",
    "df_historical['Model']= ''\n",
    "df_historical['Scenario']= 'Historical'\n",
    "df_historical['Period']= historical_period\n",
    "df_historical.set_index(keys= ['Model', 'Scenario', 'Period'], inplace= True, drop= True)\n",
    "df_total= df_future.append(df_historical)\n",
    "df_total= df_total.sort_index()\n",
    "display(df_total)"
   ]
  },
  {
   "cell_type": "markdown",
   "metadata": {},
   "source": [
    "### <a name=section05></a>5) Plot future evolution of annual precipitation/temperature (all scenarios and all GCMs)"
   ]
  },
  {
   "cell_type": "code",
   "execution_count": 46,
   "metadata": {},
   "outputs": [
    {
     "name": "stdout",
     "output_type": "stream",
     "text": [
      "Plotly version:  4.14.1\n"
     ]
    },
    {
     "data": {
      "application/vnd.plotly.v1+json": {
       "config": {
        "plotlyServerURL": "https://plot.ly"
       },
       "data": [
        {
         "legendgroup": "ssp126",
         "line": {
          "color": "rgb(10, 10, 150)"
         },
         "mode": "lines",
         "name": "ssp1-2.6 Median of 1 GCMs",
         "type": "scatter",
         "x": [
          "1970-2000",
          "2021-2040",
          "2041-2060",
          "2061-2080",
          "2081-2100"
         ],
         "y": [
          21.3,
          22.1,
          22.3,
          22.4,
          22.3
         ]
        },
        {
         "hoverlabel": {
          "bgcolor": "rgb(10, 10, 150)",
          "font": {
           "color": "white"
          }
         },
         "legendgroup": "ssp126",
         "line": {
          "width": 0
         },
         "marker": {
          "color": "#444"
         },
         "mode": "lines",
         "name": "ssp1-2.6 Min.",
         "showlegend": false,
         "type": "scatter",
         "x": [
          "1970-2000",
          "2021-2040",
          "2041-2060",
          "2061-2080",
          "2081-2100"
         ],
         "y": [
          21.3,
          22.1,
          22.3,
          22.4,
          22.3
         ]
        },
        {
         "fill": "tonexty",
         "fillcolor": "rgba(10, 10, 150, 0.2)",
         "hoverlabel": {
          "bgcolor": "rgb(10, 10, 150)",
          "font": {
           "color": "white"
          }
         },
         "legendgroup": "ssp126",
         "line": {
          "width": 0
         },
         "marker": {
          "color": "#444"
         },
         "mode": "lines",
         "name": "ssp1-2.6 Min.Max.",
         "showlegend": true,
         "type": "scatter",
         "x": [
          "1970-2000",
          "2021-2040",
          "2041-2060",
          "2061-2080",
          "2081-2100"
         ],
         "y": [
          21.3,
          22.1,
          22.3,
          22.4,
          22.3
         ]
        },
        {
         "legendgroup": "ssp245",
         "line": {
          "color": "rgb(150, 10, 10)"
         },
         "mode": "lines",
         "name": "ssp2-4.5 Median of 1 GCMs",
         "type": "scatter",
         "x": [
          "1970-2000",
          "2021-2040",
          "2041-2060",
          "2061-2080",
          "2081-2100"
         ],
         "y": [
          21.3,
          22.2,
          22.6,
          22.9,
          23.2
         ]
        },
        {
         "hoverlabel": {
          "bgcolor": "rgb(150, 10, 10)",
          "font": {
           "color": "white"
          }
         },
         "legendgroup": "ssp245",
         "line": {
          "width": 0
         },
         "marker": {
          "color": "#444"
         },
         "mode": "lines",
         "name": "ssp2-4.5 Min.",
         "showlegend": false,
         "type": "scatter",
         "x": [
          "1970-2000",
          "2021-2040",
          "2041-2060",
          "2061-2080",
          "2081-2100"
         ],
         "y": [
          21.3,
          22.2,
          22.6,
          22.9,
          23.2
         ]
        },
        {
         "fill": "tonexty",
         "fillcolor": "rgba(255, 10, 10, 0.1)",
         "hoverlabel": {
          "bgcolor": "rgb(150, 10, 10)",
          "font": {
           "color": "white"
          }
         },
         "legendgroup": "ssp245",
         "line": {
          "width": 0
         },
         "marker": {
          "color": "#444"
         },
         "mode": "lines",
         "name": "ssp2-4.5 Min.Max.",
         "showlegend": true,
         "type": "scatter",
         "x": [
          "1970-2000",
          "2021-2040",
          "2041-2060",
          "2061-2080",
          "2081-2100"
         ],
         "y": [
          21.3,
          22.2,
          22.6,
          22.9,
          23.2
         ]
        },
        {
         "legendgroup": "ssp370",
         "line": {
          "color": "rgb(10, 150, 10)"
         },
         "mode": "lines",
         "name": "ssp3-7.0 Median of 1 GCMs",
         "type": "scatter",
         "x": [
          "1970-2000",
          "2021-2040",
          "2041-2060",
          "2061-2080",
          "2081-2100"
         ],
         "y": [
          21.3,
          22.2,
          22.9,
          23.5,
          24.1
         ]
        },
        {
         "hoverlabel": {
          "bgcolor": "rgb(10, 150, 10)",
          "font": {
           "color": "white"
          }
         },
         "legendgroup": "ssp370",
         "line": {
          "width": 0
         },
         "marker": {
          "color": "#444"
         },
         "mode": "lines",
         "name": "ssp3-7.0 Min.",
         "showlegend": false,
         "type": "scatter",
         "x": [
          "1970-2000",
          "2021-2040",
          "2041-2060",
          "2061-2080",
          "2081-2100"
         ],
         "y": [
          21.3,
          22.2,
          22.9,
          23.5,
          24.1
         ]
        },
        {
         "fill": "tonexty",
         "fillcolor": "rgba(10, 150, 10, 0.1)",
         "hoverlabel": {
          "bgcolor": "rgb(10, 150, 10)",
          "font": {
           "color": "white"
          }
         },
         "legendgroup": "ssp370",
         "line": {
          "width": 0
         },
         "marker": {
          "color": "#444"
         },
         "mode": "lines",
         "name": "ssp3-7.0 Min.Max.",
         "showlegend": true,
         "type": "scatter",
         "x": [
          "1970-2000",
          "2021-2040",
          "2041-2060",
          "2061-2080",
          "2081-2100"
         ],
         "y": [
          21.3,
          22.2,
          22.9,
          23.5,
          24.1
         ]
        },
        {
         "legendgroup": "ssp585",
         "line": {
          "color": "rgb(250, 170, 60)"
         },
         "mode": "lines",
         "name": "ssp5-8.5 Median of 1 GCMs",
         "type": "scatter",
         "x": [
          "1970-2000",
          "2021-2040",
          "2041-2060",
          "2061-2080",
          "2081-2100"
         ],
         "y": [
          21.3,
          22.3,
          22.9,
          23.7,
          24.3
         ]
        },
        {
         "hoverlabel": {
          "bgcolor": "rgb(250, 170, 60)",
          "font": {
           "color": "white"
          }
         },
         "legendgroup": "ssp585",
         "line": {
          "width": 0
         },
         "marker": {
          "color": "#444"
         },
         "mode": "lines",
         "name": "ssp5-8.5 Min.",
         "showlegend": false,
         "type": "scatter",
         "x": [
          "1970-2000",
          "2021-2040",
          "2041-2060",
          "2061-2080",
          "2081-2100"
         ],
         "y": [
          21.3,
          22.3,
          22.9,
          23.7,
          24.3
         ]
        },
        {
         "fill": "tonexty",
         "fillcolor": "rgba(200, 200, 0, 0.2)",
         "hoverlabel": {
          "bgcolor": "rgb(250, 170, 60)",
          "font": {
           "color": "white"
          }
         },
         "legendgroup": "ssp585",
         "line": {
          "width": 0
         },
         "marker": {
          "color": "#444"
         },
         "mode": "lines",
         "name": "ssp5-8.5 Min.Max.",
         "showlegend": true,
         "type": "scatter",
         "x": [
          "1970-2000",
          "2021-2040",
          "2041-2060",
          "2061-2080",
          "2081-2100"
         ],
         "y": [
          21.3,
          22.3,
          22.9,
          23.7,
          24.3
         ]
        }
       ],
       "layout": {
        "height": 700,
        "legend": {
         "x": 0.05,
         "xanchor": "left",
         "y": 0.95,
         "yanchor": "top"
        },
        "template": {
         "data": {
          "bar": [
           {
            "error_x": {
             "color": "#2a3f5f"
            },
            "error_y": {
             "color": "#2a3f5f"
            },
            "marker": {
             "line": {
              "color": "#E5ECF6",
              "width": 0.5
             }
            },
            "type": "bar"
           }
          ],
          "barpolar": [
           {
            "marker": {
             "line": {
              "color": "#E5ECF6",
              "width": 0.5
             }
            },
            "type": "barpolar"
           }
          ],
          "carpet": [
           {
            "aaxis": {
             "endlinecolor": "#2a3f5f",
             "gridcolor": "white",
             "linecolor": "white",
             "minorgridcolor": "white",
             "startlinecolor": "#2a3f5f"
            },
            "baxis": {
             "endlinecolor": "#2a3f5f",
             "gridcolor": "white",
             "linecolor": "white",
             "minorgridcolor": "white",
             "startlinecolor": "#2a3f5f"
            },
            "type": "carpet"
           }
          ],
          "choropleth": [
           {
            "colorbar": {
             "outlinewidth": 0,
             "ticks": ""
            },
            "type": "choropleth"
           }
          ],
          "contour": [
           {
            "colorbar": {
             "outlinewidth": 0,
             "ticks": ""
            },
            "colorscale": [
             [
              0,
              "#0d0887"
             ],
             [
              0.1111111111111111,
              "#46039f"
             ],
             [
              0.2222222222222222,
              "#7201a8"
             ],
             [
              0.3333333333333333,
              "#9c179e"
             ],
             [
              0.4444444444444444,
              "#bd3786"
             ],
             [
              0.5555555555555556,
              "#d8576b"
             ],
             [
              0.6666666666666666,
              "#ed7953"
             ],
             [
              0.7777777777777778,
              "#fb9f3a"
             ],
             [
              0.8888888888888888,
              "#fdca26"
             ],
             [
              1,
              "#f0f921"
             ]
            ],
            "type": "contour"
           }
          ],
          "contourcarpet": [
           {
            "colorbar": {
             "outlinewidth": 0,
             "ticks": ""
            },
            "type": "contourcarpet"
           }
          ],
          "heatmap": [
           {
            "colorbar": {
             "outlinewidth": 0,
             "ticks": ""
            },
            "colorscale": [
             [
              0,
              "#0d0887"
             ],
             [
              0.1111111111111111,
              "#46039f"
             ],
             [
              0.2222222222222222,
              "#7201a8"
             ],
             [
              0.3333333333333333,
              "#9c179e"
             ],
             [
              0.4444444444444444,
              "#bd3786"
             ],
             [
              0.5555555555555556,
              "#d8576b"
             ],
             [
              0.6666666666666666,
              "#ed7953"
             ],
             [
              0.7777777777777778,
              "#fb9f3a"
             ],
             [
              0.8888888888888888,
              "#fdca26"
             ],
             [
              1,
              "#f0f921"
             ]
            ],
            "type": "heatmap"
           }
          ],
          "heatmapgl": [
           {
            "colorbar": {
             "outlinewidth": 0,
             "ticks": ""
            },
            "colorscale": [
             [
              0,
              "#0d0887"
             ],
             [
              0.1111111111111111,
              "#46039f"
             ],
             [
              0.2222222222222222,
              "#7201a8"
             ],
             [
              0.3333333333333333,
              "#9c179e"
             ],
             [
              0.4444444444444444,
              "#bd3786"
             ],
             [
              0.5555555555555556,
              "#d8576b"
             ],
             [
              0.6666666666666666,
              "#ed7953"
             ],
             [
              0.7777777777777778,
              "#fb9f3a"
             ],
             [
              0.8888888888888888,
              "#fdca26"
             ],
             [
              1,
              "#f0f921"
             ]
            ],
            "type": "heatmapgl"
           }
          ],
          "histogram": [
           {
            "marker": {
             "colorbar": {
              "outlinewidth": 0,
              "ticks": ""
             }
            },
            "type": "histogram"
           }
          ],
          "histogram2d": [
           {
            "colorbar": {
             "outlinewidth": 0,
             "ticks": ""
            },
            "colorscale": [
             [
              0,
              "#0d0887"
             ],
             [
              0.1111111111111111,
              "#46039f"
             ],
             [
              0.2222222222222222,
              "#7201a8"
             ],
             [
              0.3333333333333333,
              "#9c179e"
             ],
             [
              0.4444444444444444,
              "#bd3786"
             ],
             [
              0.5555555555555556,
              "#d8576b"
             ],
             [
              0.6666666666666666,
              "#ed7953"
             ],
             [
              0.7777777777777778,
              "#fb9f3a"
             ],
             [
              0.8888888888888888,
              "#fdca26"
             ],
             [
              1,
              "#f0f921"
             ]
            ],
            "type": "histogram2d"
           }
          ],
          "histogram2dcontour": [
           {
            "colorbar": {
             "outlinewidth": 0,
             "ticks": ""
            },
            "colorscale": [
             [
              0,
              "#0d0887"
             ],
             [
              0.1111111111111111,
              "#46039f"
             ],
             [
              0.2222222222222222,
              "#7201a8"
             ],
             [
              0.3333333333333333,
              "#9c179e"
             ],
             [
              0.4444444444444444,
              "#bd3786"
             ],
             [
              0.5555555555555556,
              "#d8576b"
             ],
             [
              0.6666666666666666,
              "#ed7953"
             ],
             [
              0.7777777777777778,
              "#fb9f3a"
             ],
             [
              0.8888888888888888,
              "#fdca26"
             ],
             [
              1,
              "#f0f921"
             ]
            ],
            "type": "histogram2dcontour"
           }
          ],
          "mesh3d": [
           {
            "colorbar": {
             "outlinewidth": 0,
             "ticks": ""
            },
            "type": "mesh3d"
           }
          ],
          "parcoords": [
           {
            "line": {
             "colorbar": {
              "outlinewidth": 0,
              "ticks": ""
             }
            },
            "type": "parcoords"
           }
          ],
          "pie": [
           {
            "automargin": true,
            "type": "pie"
           }
          ],
          "scatter": [
           {
            "marker": {
             "colorbar": {
              "outlinewidth": 0,
              "ticks": ""
             }
            },
            "type": "scatter"
           }
          ],
          "scatter3d": [
           {
            "line": {
             "colorbar": {
              "outlinewidth": 0,
              "ticks": ""
             }
            },
            "marker": {
             "colorbar": {
              "outlinewidth": 0,
              "ticks": ""
             }
            },
            "type": "scatter3d"
           }
          ],
          "scattercarpet": [
           {
            "marker": {
             "colorbar": {
              "outlinewidth": 0,
              "ticks": ""
             }
            },
            "type": "scattercarpet"
           }
          ],
          "scattergeo": [
           {
            "marker": {
             "colorbar": {
              "outlinewidth": 0,
              "ticks": ""
             }
            },
            "type": "scattergeo"
           }
          ],
          "scattergl": [
           {
            "marker": {
             "colorbar": {
              "outlinewidth": 0,
              "ticks": ""
             }
            },
            "type": "scattergl"
           }
          ],
          "scattermapbox": [
           {
            "marker": {
             "colorbar": {
              "outlinewidth": 0,
              "ticks": ""
             }
            },
            "type": "scattermapbox"
           }
          ],
          "scatterpolar": [
           {
            "marker": {
             "colorbar": {
              "outlinewidth": 0,
              "ticks": ""
             }
            },
            "type": "scatterpolar"
           }
          ],
          "scatterpolargl": [
           {
            "marker": {
             "colorbar": {
              "outlinewidth": 0,
              "ticks": ""
             }
            },
            "type": "scatterpolargl"
           }
          ],
          "scatterternary": [
           {
            "marker": {
             "colorbar": {
              "outlinewidth": 0,
              "ticks": ""
             }
            },
            "type": "scatterternary"
           }
          ],
          "surface": [
           {
            "colorbar": {
             "outlinewidth": 0,
             "ticks": ""
            },
            "colorscale": [
             [
              0,
              "#0d0887"
             ],
             [
              0.1111111111111111,
              "#46039f"
             ],
             [
              0.2222222222222222,
              "#7201a8"
             ],
             [
              0.3333333333333333,
              "#9c179e"
             ],
             [
              0.4444444444444444,
              "#bd3786"
             ],
             [
              0.5555555555555556,
              "#d8576b"
             ],
             [
              0.6666666666666666,
              "#ed7953"
             ],
             [
              0.7777777777777778,
              "#fb9f3a"
             ],
             [
              0.8888888888888888,
              "#fdca26"
             ],
             [
              1,
              "#f0f921"
             ]
            ],
            "type": "surface"
           }
          ],
          "table": [
           {
            "cells": {
             "fill": {
              "color": "#EBF0F8"
             },
             "line": {
              "color": "white"
             }
            },
            "header": {
             "fill": {
              "color": "#C8D4E3"
             },
             "line": {
              "color": "white"
             }
            },
            "type": "table"
           }
          ]
         },
         "layout": {
          "annotationdefaults": {
           "arrowcolor": "#2a3f5f",
           "arrowhead": 0,
           "arrowwidth": 1
          },
          "autotypenumbers": "strict",
          "coloraxis": {
           "colorbar": {
            "outlinewidth": 0,
            "ticks": ""
           }
          },
          "colorscale": {
           "diverging": [
            [
             0,
             "#8e0152"
            ],
            [
             0.1,
             "#c51b7d"
            ],
            [
             0.2,
             "#de77ae"
            ],
            [
             0.3,
             "#f1b6da"
            ],
            [
             0.4,
             "#fde0ef"
            ],
            [
             0.5,
             "#f7f7f7"
            ],
            [
             0.6,
             "#e6f5d0"
            ],
            [
             0.7,
             "#b8e186"
            ],
            [
             0.8,
             "#7fbc41"
            ],
            [
             0.9,
             "#4d9221"
            ],
            [
             1,
             "#276419"
            ]
           ],
           "sequential": [
            [
             0,
             "#0d0887"
            ],
            [
             0.1111111111111111,
             "#46039f"
            ],
            [
             0.2222222222222222,
             "#7201a8"
            ],
            [
             0.3333333333333333,
             "#9c179e"
            ],
            [
             0.4444444444444444,
             "#bd3786"
            ],
            [
             0.5555555555555556,
             "#d8576b"
            ],
            [
             0.6666666666666666,
             "#ed7953"
            ],
            [
             0.7777777777777778,
             "#fb9f3a"
            ],
            [
             0.8888888888888888,
             "#fdca26"
            ],
            [
             1,
             "#f0f921"
            ]
           ],
           "sequentialminus": [
            [
             0,
             "#0d0887"
            ],
            [
             0.1111111111111111,
             "#46039f"
            ],
            [
             0.2222222222222222,
             "#7201a8"
            ],
            [
             0.3333333333333333,
             "#9c179e"
            ],
            [
             0.4444444444444444,
             "#bd3786"
            ],
            [
             0.5555555555555556,
             "#d8576b"
            ],
            [
             0.6666666666666666,
             "#ed7953"
            ],
            [
             0.7777777777777778,
             "#fb9f3a"
            ],
            [
             0.8888888888888888,
             "#fdca26"
            ],
            [
             1,
             "#f0f921"
            ]
           ]
          },
          "colorway": [
           "#636efa",
           "#EF553B",
           "#00cc96",
           "#ab63fa",
           "#FFA15A",
           "#19d3f3",
           "#FF6692",
           "#B6E880",
           "#FF97FF",
           "#FECB52"
          ],
          "font": {
           "color": "#2a3f5f"
          },
          "geo": {
           "bgcolor": "white",
           "lakecolor": "white",
           "landcolor": "#E5ECF6",
           "showlakes": true,
           "showland": true,
           "subunitcolor": "white"
          },
          "hoverlabel": {
           "align": "left"
          },
          "hovermode": "closest",
          "mapbox": {
           "style": "light"
          },
          "paper_bgcolor": "white",
          "plot_bgcolor": "#E5ECF6",
          "polar": {
           "angularaxis": {
            "gridcolor": "white",
            "linecolor": "white",
            "ticks": ""
           },
           "bgcolor": "#E5ECF6",
           "radialaxis": {
            "gridcolor": "white",
            "linecolor": "white",
            "ticks": ""
           }
          },
          "scene": {
           "xaxis": {
            "backgroundcolor": "#E5ECF6",
            "gridcolor": "white",
            "gridwidth": 2,
            "linecolor": "white",
            "showbackground": true,
            "ticks": "",
            "zerolinecolor": "white"
           },
           "yaxis": {
            "backgroundcolor": "#E5ECF6",
            "gridcolor": "white",
            "gridwidth": 2,
            "linecolor": "white",
            "showbackground": true,
            "ticks": "",
            "zerolinecolor": "white"
           },
           "zaxis": {
            "backgroundcolor": "#E5ECF6",
            "gridcolor": "white",
            "gridwidth": 2,
            "linecolor": "white",
            "showbackground": true,
            "ticks": "",
            "zerolinecolor": "white"
           }
          },
          "shapedefaults": {
           "line": {
            "color": "#2a3f5f"
           }
          },
          "ternary": {
           "aaxis": {
            "gridcolor": "white",
            "linecolor": "white",
            "ticks": ""
           },
           "baxis": {
            "gridcolor": "white",
            "linecolor": "white",
            "ticks": ""
           },
           "bgcolor": "#E5ECF6",
           "caxis": {
            "gridcolor": "white",
            "linecolor": "white",
            "ticks": ""
           }
          },
          "title": {
           "x": 0.05
          },
          "xaxis": {
           "automargin": true,
           "gridcolor": "white",
           "linecolor": "white",
           "ticks": "",
           "title": {
            "standoff": 15
           },
           "zerolinecolor": "white",
           "zerolinewidth": 2
          },
          "yaxis": {
           "automargin": true,
           "gridcolor": "white",
           "linecolor": "white",
           "ticks": "",
           "title": {
            "standoff": 15
           },
           "zerolinecolor": "white",
           "zerolinewidth": 2
          }
         }
        },
        "title": {
         "text": "Evolution of future Temperature Climatology, according to 4 scenarios and 1 GCMs"
        },
        "width": 1000,
        "yaxis": {
         "range": [
          22.7,
          25.7
         ],
         "title": {
          "text": "°C"
         }
        }
       }
      },
      "text/html": [
       "<div>                            <div id=\"44f8b9bc-5b8a-4b84-b009-8438433c88ec\" class=\"plotly-graph-div\" style=\"height:700px; width:1000px;\"></div>            <script type=\"text/javascript\">                require([\"plotly\"], function(Plotly) {                    window.PLOTLYENV=window.PLOTLYENV || {};                                    if (document.getElementById(\"44f8b9bc-5b8a-4b84-b009-8438433c88ec\")) {                    Plotly.newPlot(                        \"44f8b9bc-5b8a-4b84-b009-8438433c88ec\",                        [{\"legendgroup\": \"ssp126\", \"line\": {\"color\": \"rgb(10, 10, 150)\"}, \"mode\": \"lines\", \"name\": \"ssp1-2.6 Median of 1 GCMs\", \"type\": \"scatter\", \"x\": [\"1970-2000\", \"2021-2040\", \"2041-2060\", \"2061-2080\", \"2081-2100\"], \"y\": [21.3, 22.1, 22.3, 22.4, 22.3]}, {\"hoverlabel\": {\"bgcolor\": \"rgb(10, 10, 150)\", \"font\": {\"color\": \"white\"}}, \"legendgroup\": \"ssp126\", \"line\": {\"width\": 0}, \"marker\": {\"color\": \"#444\"}, \"mode\": \"lines\", \"name\": \"ssp1-2.6 Min.\", \"showlegend\": false, \"type\": \"scatter\", \"x\": [\"1970-2000\", \"2021-2040\", \"2041-2060\", \"2061-2080\", \"2081-2100\"], \"y\": [21.3, 22.1, 22.3, 22.4, 22.3]}, {\"fill\": \"tonexty\", \"fillcolor\": \"rgba(10, 10, 150, 0.2)\", \"hoverlabel\": {\"bgcolor\": \"rgb(10, 10, 150)\", \"font\": {\"color\": \"white\"}}, \"legendgroup\": \"ssp126\", \"line\": {\"width\": 0}, \"marker\": {\"color\": \"#444\"}, \"mode\": \"lines\", \"name\": \"ssp1-2.6 Min.Max.\", \"showlegend\": true, \"type\": \"scatter\", \"x\": [\"1970-2000\", \"2021-2040\", \"2041-2060\", \"2061-2080\", \"2081-2100\"], \"y\": [21.3, 22.1, 22.3, 22.4, 22.3]}, {\"legendgroup\": \"ssp245\", \"line\": {\"color\": \"rgb(150, 10, 10)\"}, \"mode\": \"lines\", \"name\": \"ssp2-4.5 Median of 1 GCMs\", \"type\": \"scatter\", \"x\": [\"1970-2000\", \"2021-2040\", \"2041-2060\", \"2061-2080\", \"2081-2100\"], \"y\": [21.3, 22.2, 22.6, 22.9, 23.2]}, {\"hoverlabel\": {\"bgcolor\": \"rgb(150, 10, 10)\", \"font\": {\"color\": \"white\"}}, \"legendgroup\": \"ssp245\", \"line\": {\"width\": 0}, \"marker\": {\"color\": \"#444\"}, \"mode\": \"lines\", \"name\": \"ssp2-4.5 Min.\", \"showlegend\": false, \"type\": \"scatter\", \"x\": [\"1970-2000\", \"2021-2040\", \"2041-2060\", \"2061-2080\", \"2081-2100\"], \"y\": [21.3, 22.2, 22.6, 22.9, 23.2]}, {\"fill\": \"tonexty\", \"fillcolor\": \"rgba(255, 10, 10, 0.1)\", \"hoverlabel\": {\"bgcolor\": \"rgb(150, 10, 10)\", \"font\": {\"color\": \"white\"}}, \"legendgroup\": \"ssp245\", \"line\": {\"width\": 0}, \"marker\": {\"color\": \"#444\"}, \"mode\": \"lines\", \"name\": \"ssp2-4.5 Min.Max.\", \"showlegend\": true, \"type\": \"scatter\", \"x\": [\"1970-2000\", \"2021-2040\", \"2041-2060\", \"2061-2080\", \"2081-2100\"], \"y\": [21.3, 22.2, 22.6, 22.9, 23.2]}, {\"legendgroup\": \"ssp370\", \"line\": {\"color\": \"rgb(10, 150, 10)\"}, \"mode\": \"lines\", \"name\": \"ssp3-7.0 Median of 1 GCMs\", \"type\": \"scatter\", \"x\": [\"1970-2000\", \"2021-2040\", \"2041-2060\", \"2061-2080\", \"2081-2100\"], \"y\": [21.3, 22.2, 22.9, 23.5, 24.1]}, {\"hoverlabel\": {\"bgcolor\": \"rgb(10, 150, 10)\", \"font\": {\"color\": \"white\"}}, \"legendgroup\": \"ssp370\", \"line\": {\"width\": 0}, \"marker\": {\"color\": \"#444\"}, \"mode\": \"lines\", \"name\": \"ssp3-7.0 Min.\", \"showlegend\": false, \"type\": \"scatter\", \"x\": [\"1970-2000\", \"2021-2040\", \"2041-2060\", \"2061-2080\", \"2081-2100\"], \"y\": [21.3, 22.2, 22.9, 23.5, 24.1]}, {\"fill\": \"tonexty\", \"fillcolor\": \"rgba(10, 150, 10, 0.1)\", \"hoverlabel\": {\"bgcolor\": \"rgb(10, 150, 10)\", \"font\": {\"color\": \"white\"}}, \"legendgroup\": \"ssp370\", \"line\": {\"width\": 0}, \"marker\": {\"color\": \"#444\"}, \"mode\": \"lines\", \"name\": \"ssp3-7.0 Min.Max.\", \"showlegend\": true, \"type\": \"scatter\", \"x\": [\"1970-2000\", \"2021-2040\", \"2041-2060\", \"2061-2080\", \"2081-2100\"], \"y\": [21.3, 22.2, 22.9, 23.5, 24.1]}, {\"legendgroup\": \"ssp585\", \"line\": {\"color\": \"rgb(250, 170, 60)\"}, \"mode\": \"lines\", \"name\": \"ssp5-8.5 Median of 1 GCMs\", \"type\": \"scatter\", \"x\": [\"1970-2000\", \"2021-2040\", \"2041-2060\", \"2061-2080\", \"2081-2100\"], \"y\": [21.3, 22.3, 22.9, 23.7, 24.3]}, {\"hoverlabel\": {\"bgcolor\": \"rgb(250, 170, 60)\", \"font\": {\"color\": \"white\"}}, \"legendgroup\": \"ssp585\", \"line\": {\"width\": 0}, \"marker\": {\"color\": \"#444\"}, \"mode\": \"lines\", \"name\": \"ssp5-8.5 Min.\", \"showlegend\": false, \"type\": \"scatter\", \"x\": [\"1970-2000\", \"2021-2040\", \"2041-2060\", \"2061-2080\", \"2081-2100\"], \"y\": [21.3, 22.3, 22.9, 23.7, 24.3]}, {\"fill\": \"tonexty\", \"fillcolor\": \"rgba(200, 200, 0, 0.2)\", \"hoverlabel\": {\"bgcolor\": \"rgb(250, 170, 60)\", \"font\": {\"color\": \"white\"}}, \"legendgroup\": \"ssp585\", \"line\": {\"width\": 0}, \"marker\": {\"color\": \"#444\"}, \"mode\": \"lines\", \"name\": \"ssp5-8.5 Min.Max.\", \"showlegend\": true, \"type\": \"scatter\", \"x\": [\"1970-2000\", \"2021-2040\", \"2041-2060\", \"2061-2080\", \"2081-2100\"], \"y\": [21.3, 22.3, 22.9, 23.7, 24.3]}],                        {\"height\": 700, \"legend\": {\"x\": 0.05, \"xanchor\": \"left\", \"y\": 0.95, \"yanchor\": \"top\"}, \"template\": {\"data\": {\"bar\": [{\"error_x\": {\"color\": \"#2a3f5f\"}, \"error_y\": {\"color\": \"#2a3f5f\"}, \"marker\": {\"line\": {\"color\": \"#E5ECF6\", \"width\": 0.5}}, \"type\": \"bar\"}], \"barpolar\": [{\"marker\": {\"line\": {\"color\": \"#E5ECF6\", \"width\": 0.5}}, \"type\": \"barpolar\"}], \"carpet\": [{\"aaxis\": {\"endlinecolor\": \"#2a3f5f\", \"gridcolor\": \"white\", \"linecolor\": \"white\", \"minorgridcolor\": \"white\", \"startlinecolor\": \"#2a3f5f\"}, \"baxis\": {\"endlinecolor\": \"#2a3f5f\", \"gridcolor\": \"white\", \"linecolor\": \"white\", \"minorgridcolor\": \"white\", \"startlinecolor\": \"#2a3f5f\"}, \"type\": \"carpet\"}], \"choropleth\": [{\"colorbar\": {\"outlinewidth\": 0, \"ticks\": \"\"}, \"type\": \"choropleth\"}], \"contour\": [{\"colorbar\": {\"outlinewidth\": 0, \"ticks\": \"\"}, \"colorscale\": [[0.0, \"#0d0887\"], [0.1111111111111111, \"#46039f\"], [0.2222222222222222, \"#7201a8\"], [0.3333333333333333, \"#9c179e\"], [0.4444444444444444, \"#bd3786\"], [0.5555555555555556, \"#d8576b\"], [0.6666666666666666, \"#ed7953\"], [0.7777777777777778, \"#fb9f3a\"], [0.8888888888888888, \"#fdca26\"], [1.0, \"#f0f921\"]], \"type\": \"contour\"}], \"contourcarpet\": [{\"colorbar\": {\"outlinewidth\": 0, \"ticks\": \"\"}, \"type\": \"contourcarpet\"}], \"heatmap\": [{\"colorbar\": {\"outlinewidth\": 0, \"ticks\": \"\"}, \"colorscale\": [[0.0, \"#0d0887\"], [0.1111111111111111, \"#46039f\"], [0.2222222222222222, \"#7201a8\"], [0.3333333333333333, \"#9c179e\"], [0.4444444444444444, \"#bd3786\"], [0.5555555555555556, \"#d8576b\"], [0.6666666666666666, \"#ed7953\"], [0.7777777777777778, \"#fb9f3a\"], [0.8888888888888888, \"#fdca26\"], [1.0, \"#f0f921\"]], \"type\": \"heatmap\"}], \"heatmapgl\": [{\"colorbar\": {\"outlinewidth\": 0, \"ticks\": \"\"}, \"colorscale\": [[0.0, \"#0d0887\"], [0.1111111111111111, \"#46039f\"], [0.2222222222222222, \"#7201a8\"], [0.3333333333333333, \"#9c179e\"], [0.4444444444444444, \"#bd3786\"], [0.5555555555555556, \"#d8576b\"], [0.6666666666666666, \"#ed7953\"], [0.7777777777777778, \"#fb9f3a\"], [0.8888888888888888, \"#fdca26\"], [1.0, \"#f0f921\"]], \"type\": \"heatmapgl\"}], \"histogram\": [{\"marker\": {\"colorbar\": {\"outlinewidth\": 0, \"ticks\": \"\"}}, \"type\": \"histogram\"}], \"histogram2d\": [{\"colorbar\": {\"outlinewidth\": 0, \"ticks\": \"\"}, \"colorscale\": [[0.0, \"#0d0887\"], [0.1111111111111111, \"#46039f\"], [0.2222222222222222, \"#7201a8\"], [0.3333333333333333, \"#9c179e\"], [0.4444444444444444, \"#bd3786\"], [0.5555555555555556, \"#d8576b\"], [0.6666666666666666, \"#ed7953\"], [0.7777777777777778, \"#fb9f3a\"], [0.8888888888888888, \"#fdca26\"], [1.0, \"#f0f921\"]], \"type\": \"histogram2d\"}], \"histogram2dcontour\": [{\"colorbar\": {\"outlinewidth\": 0, \"ticks\": \"\"}, \"colorscale\": [[0.0, \"#0d0887\"], [0.1111111111111111, \"#46039f\"], [0.2222222222222222, \"#7201a8\"], [0.3333333333333333, \"#9c179e\"], [0.4444444444444444, \"#bd3786\"], [0.5555555555555556, \"#d8576b\"], [0.6666666666666666, \"#ed7953\"], [0.7777777777777778, \"#fb9f3a\"], [0.8888888888888888, \"#fdca26\"], [1.0, \"#f0f921\"]], \"type\": \"histogram2dcontour\"}], \"mesh3d\": [{\"colorbar\": {\"outlinewidth\": 0, \"ticks\": \"\"}, \"type\": \"mesh3d\"}], \"parcoords\": [{\"line\": {\"colorbar\": {\"outlinewidth\": 0, \"ticks\": \"\"}}, \"type\": \"parcoords\"}], \"pie\": [{\"automargin\": true, \"type\": \"pie\"}], \"scatter\": [{\"marker\": {\"colorbar\": {\"outlinewidth\": 0, \"ticks\": \"\"}}, \"type\": \"scatter\"}], \"scatter3d\": [{\"line\": {\"colorbar\": {\"outlinewidth\": 0, \"ticks\": \"\"}}, \"marker\": {\"colorbar\": {\"outlinewidth\": 0, \"ticks\": \"\"}}, \"type\": \"scatter3d\"}], \"scattercarpet\": [{\"marker\": {\"colorbar\": {\"outlinewidth\": 0, \"ticks\": \"\"}}, \"type\": \"scattercarpet\"}], \"scattergeo\": [{\"marker\": {\"colorbar\": {\"outlinewidth\": 0, \"ticks\": \"\"}}, \"type\": \"scattergeo\"}], \"scattergl\": [{\"marker\": {\"colorbar\": {\"outlinewidth\": 0, \"ticks\": \"\"}}, \"type\": \"scattergl\"}], \"scattermapbox\": [{\"marker\": {\"colorbar\": {\"outlinewidth\": 0, \"ticks\": \"\"}}, \"type\": \"scattermapbox\"}], \"scatterpolar\": [{\"marker\": {\"colorbar\": {\"outlinewidth\": 0, \"ticks\": \"\"}}, \"type\": \"scatterpolar\"}], \"scatterpolargl\": [{\"marker\": {\"colorbar\": {\"outlinewidth\": 0, \"ticks\": \"\"}}, \"type\": \"scatterpolargl\"}], \"scatterternary\": [{\"marker\": {\"colorbar\": {\"outlinewidth\": 0, \"ticks\": \"\"}}, \"type\": \"scatterternary\"}], \"surface\": [{\"colorbar\": {\"outlinewidth\": 0, \"ticks\": \"\"}, \"colorscale\": [[0.0, \"#0d0887\"], [0.1111111111111111, \"#46039f\"], [0.2222222222222222, \"#7201a8\"], [0.3333333333333333, \"#9c179e\"], [0.4444444444444444, \"#bd3786\"], [0.5555555555555556, \"#d8576b\"], [0.6666666666666666, \"#ed7953\"], [0.7777777777777778, \"#fb9f3a\"], [0.8888888888888888, \"#fdca26\"], [1.0, \"#f0f921\"]], \"type\": \"surface\"}], \"table\": [{\"cells\": {\"fill\": {\"color\": \"#EBF0F8\"}, \"line\": {\"color\": \"white\"}}, \"header\": {\"fill\": {\"color\": \"#C8D4E3\"}, \"line\": {\"color\": \"white\"}}, \"type\": \"table\"}]}, \"layout\": {\"annotationdefaults\": {\"arrowcolor\": \"#2a3f5f\", \"arrowhead\": 0, \"arrowwidth\": 1}, \"autotypenumbers\": \"strict\", \"coloraxis\": {\"colorbar\": {\"outlinewidth\": 0, \"ticks\": \"\"}}, \"colorscale\": {\"diverging\": [[0, \"#8e0152\"], [0.1, \"#c51b7d\"], [0.2, \"#de77ae\"], [0.3, \"#f1b6da\"], [0.4, \"#fde0ef\"], [0.5, \"#f7f7f7\"], [0.6, \"#e6f5d0\"], [0.7, \"#b8e186\"], [0.8, \"#7fbc41\"], [0.9, \"#4d9221\"], [1, \"#276419\"]], \"sequential\": [[0.0, \"#0d0887\"], [0.1111111111111111, \"#46039f\"], [0.2222222222222222, \"#7201a8\"], [0.3333333333333333, \"#9c179e\"], [0.4444444444444444, \"#bd3786\"], [0.5555555555555556, \"#d8576b\"], [0.6666666666666666, \"#ed7953\"], [0.7777777777777778, \"#fb9f3a\"], [0.8888888888888888, \"#fdca26\"], [1.0, \"#f0f921\"]], \"sequentialminus\": [[0.0, \"#0d0887\"], [0.1111111111111111, \"#46039f\"], [0.2222222222222222, \"#7201a8\"], [0.3333333333333333, \"#9c179e\"], [0.4444444444444444, \"#bd3786\"], [0.5555555555555556, \"#d8576b\"], [0.6666666666666666, \"#ed7953\"], [0.7777777777777778, \"#fb9f3a\"], [0.8888888888888888, \"#fdca26\"], [1.0, \"#f0f921\"]]}, \"colorway\": [\"#636efa\", \"#EF553B\", \"#00cc96\", \"#ab63fa\", \"#FFA15A\", \"#19d3f3\", \"#FF6692\", \"#B6E880\", \"#FF97FF\", \"#FECB52\"], \"font\": {\"color\": \"#2a3f5f\"}, \"geo\": {\"bgcolor\": \"white\", \"lakecolor\": \"white\", \"landcolor\": \"#E5ECF6\", \"showlakes\": true, \"showland\": true, \"subunitcolor\": \"white\"}, \"hoverlabel\": {\"align\": \"left\"}, \"hovermode\": \"closest\", \"mapbox\": {\"style\": \"light\"}, \"paper_bgcolor\": \"white\", \"plot_bgcolor\": \"#E5ECF6\", \"polar\": {\"angularaxis\": {\"gridcolor\": \"white\", \"linecolor\": \"white\", \"ticks\": \"\"}, \"bgcolor\": \"#E5ECF6\", \"radialaxis\": {\"gridcolor\": \"white\", \"linecolor\": \"white\", \"ticks\": \"\"}}, \"scene\": {\"xaxis\": {\"backgroundcolor\": \"#E5ECF6\", \"gridcolor\": \"white\", \"gridwidth\": 2, \"linecolor\": \"white\", \"showbackground\": true, \"ticks\": \"\", \"zerolinecolor\": \"white\"}, \"yaxis\": {\"backgroundcolor\": \"#E5ECF6\", \"gridcolor\": \"white\", \"gridwidth\": 2, \"linecolor\": \"white\", \"showbackground\": true, \"ticks\": \"\", \"zerolinecolor\": \"white\"}, \"zaxis\": {\"backgroundcolor\": \"#E5ECF6\", \"gridcolor\": \"white\", \"gridwidth\": 2, \"linecolor\": \"white\", \"showbackground\": true, \"ticks\": \"\", \"zerolinecolor\": \"white\"}}, \"shapedefaults\": {\"line\": {\"color\": \"#2a3f5f\"}}, \"ternary\": {\"aaxis\": {\"gridcolor\": \"white\", \"linecolor\": \"white\", \"ticks\": \"\"}, \"baxis\": {\"gridcolor\": \"white\", \"linecolor\": \"white\", \"ticks\": \"\"}, \"bgcolor\": \"#E5ECF6\", \"caxis\": {\"gridcolor\": \"white\", \"linecolor\": \"white\", \"ticks\": \"\"}}, \"title\": {\"x\": 0.05}, \"xaxis\": {\"automargin\": true, \"gridcolor\": \"white\", \"linecolor\": \"white\", \"ticks\": \"\", \"title\": {\"standoff\": 15}, \"zerolinecolor\": \"white\", \"zerolinewidth\": 2}, \"yaxis\": {\"automargin\": true, \"gridcolor\": \"white\", \"linecolor\": \"white\", \"ticks\": \"\", \"title\": {\"standoff\": 15}, \"zerolinecolor\": \"white\", \"zerolinewidth\": 2}}}, \"title\": {\"text\": \"Evolution of future Temperature Climatology, according to 4 scenarios and 1 GCMs\"}, \"width\": 1000, \"yaxis\": {\"range\": [22.7, 25.7], \"title\": {\"text\": \"\\u00b0C\"}}},                        {\"responsive\": true}                    ).then(function(){\n",
       "                            \n",
       "var gd = document.getElementById('44f8b9bc-5b8a-4b84-b009-8438433c88ec');\n",
       "var x = new MutationObserver(function (mutations, observer) {{\n",
       "        var display = window.getComputedStyle(gd).display;\n",
       "        if (!display || display === 'none') {{\n",
       "            console.log([gd, 'removed!']);\n",
       "            Plotly.purge(gd);\n",
       "            observer.disconnect();\n",
       "        }}\n",
       "}});\n",
       "\n",
       "// Listen for the removal of the full notebook cells\n",
       "var notebookContainer = gd.closest('#notebook-container');\n",
       "if (notebookContainer) {{\n",
       "    x.observe(notebookContainer, {childList: true});\n",
       "}}\n",
       "\n",
       "// Listen for the clearing of the current output cell\n",
       "var outputEl = gd.closest('.output');\n",
       "if (outputEl) {{\n",
       "    x.observe(outputEl, {childList: true});\n",
       "}}\n",
       "\n",
       "                        })                };                });            </script>        </div>"
      ]
     },
     "metadata": {},
     "output_type": "display_data"
    }
   ],
   "source": [
    "\"\"\"\n",
    "Created on January 2021\n",
    "@author: Loïc Duffar\n",
    "\"\"\"\n",
    "import plotly.graph_objects as go\n",
    "import plotly\n",
    "print('Plotly version: ', plotly.__version__)\n",
    "\n",
    "#============== Customization\n",
    "#------------ Name of the dataframe column to plot (e.g. annual or one of month number 1-12) \n",
    "month_or_year = annual_label\n",
    "\n",
    "#============== Process\n",
    "rgba_list= ['rgba(10, 10, 150, 0.2)', 'rgba(255, 10, 10, 0.1)', 'rgba(10, 150, 10, 0.1)', 'rgba(200, 200, 0, 0.2)']\n",
    "rgb_list= ['rgb(10, 10, 150)', 'rgb(150, 10, 10)', 'rgb(10, 150, 10)', 'rgb(250, 170, 60)']\n",
    "\n",
    "x = [historical_period] + ['2021-2040', '2041-2060', '2061-2080', '2081-2100']\n",
    "fig = go.Figure()\n",
    "    \n",
    "for scenario, scenario_long, rgb, rgba in zip(ssp_list, ssp_list_long, rgb_list, rgba_list):\n",
    "    test= (df_total.index.get_level_values('Scenario') == scenario) | (df_total.index.get_level_values('Scenario') =='Historical')\n",
    "    group = df_total[test ][month_or_year].groupby(by= ['Period'])\n",
    "    ymedian= group.median() \n",
    "    ymin= group.min()\n",
    "    ymax= group.max()\n",
    "\n",
    "    fig.add_trace(\n",
    "        go.Scatter(\n",
    "                    name= scenario_long + ' Median of ' + str(len(gcm_list)) + ' GCMs',\n",
    "                    x= x,\n",
    "                    y= ymedian,\n",
    "                    mode= 'lines',\n",
    "                    line= dict(color= rgb),\n",
    "                    legendgroup= scenario,\n",
    "                ))\n",
    "\n",
    "    fig.add_trace(\n",
    "        go.Scatter(\n",
    "                    name= scenario_long + ' Min.',\n",
    "                    x= x,\n",
    "                    y= ymin,\n",
    "                    mode= 'lines',\n",
    "                    line= dict(width= 0),\n",
    "                    legendgroup= scenario,            \n",
    "                    hoverlabel= dict(bgcolor= rgb, font_color='white'),\n",
    "                    showlegend= False,\n",
    "                    marker= dict(color= \"#444\"),\n",
    "#                     fillcolor= rgba,\n",
    "#                     fill= 'tonexty',\n",
    "                    ))\n",
    "    fig.add_trace(\n",
    "        go.Scatter(\n",
    "                    name= scenario_long + ' Min.Max.',\n",
    "                    x= x,\n",
    "                    y= ymax,\n",
    "                    mode= 'lines',\n",
    "                    line= dict(width= 0),\n",
    "                    legendgroup= scenario,            \n",
    "                    hoverlabel= dict(bgcolor= rgb, font_color='white'),\n",
    "                    showlegend= True,\n",
    "                    marker= dict(color= \"#444\"),\n",
    "                    fillcolor= rgba,\n",
    "                    fill= 'tonexty',\n",
    "                    ))\n",
    "\n",
    "if variable.upper()== 'PRECIPITATION':\n",
    "    ylegend= 0.05\n",
    "    yanchor= \"bottom\"\n",
    "elif variable.upper()== 'TEMPERATURE':\n",
    "    ylegend= 0.95\n",
    "    yanchor= \"top\"\n",
    "fig.update_layout(\n",
    "    height= 700, width= 1000,\n",
    "    yaxis_title= unit,\n",
    "    title= 'Evolution of future ' + variable + ' Climatology, according to ' + str(len(ssp_list)) + ' scenarios and ' + str(len(gcm_list)) + ' GCMs',\n",
    "#    hovermode= \"x\",\n",
    "    yaxis_range= [df_total.min().max(), df_total.max().max()],\n",
    "    legend=dict(yanchor= yanchor,\n",
    "                y= ylegend,\n",
    "                xanchor= 'left',\n",
    "                x= 0.05),\n",
    "    template= \"plotly\", # \"plotly\", \"plotly_white\", \"plotly_dark\", \"ggplot2\", \"seaborn\", \"simple_white\", \"none\"\n",
    "#    paper_bgcolor='rgba(0,0,0,0)',\n",
    "#    plot_bgcolor='rgba(0,0,0,0)',\n",
    "    )\n",
    "file_future_by_year= 'WorldClim - future by year.png'\n",
    "fig.write_image(os.path.join(fld_out, file_future_by_year))# needs installation of \"plotly-orca\" or \"kaleido\"\n",
    "fig.show()"
   ]
  },
  {
   "cell_type": "markdown",
   "metadata": {},
   "source": [
    "### <a name=section06></a>6) Plot future evolution for each month (all scenarios and all GCMs)"
   ]
  },
  {
   "cell_type": "code",
   "execution_count": 45,
   "metadata": {
    "scrolled": false
   },
   "outputs": [
    {
     "data": {
      "application/vnd.plotly.v1+json": {
       "config": {
        "plotlyServerURL": "https://plot.ly"
       },
       "data": [
        {
         "legendgroup": "ssp126",
         "line": {
          "color": "rgb(10, 10, 150)"
         },
         "mode": "lines",
         "name": "ssp1-2.6 (1 GCMs median)",
         "showlegend": true,
         "type": "scatter",
         "x": [
          1,
          2,
          3,
          4,
          5,
          6,
          7,
          8,
          9,
          10,
          11,
          12
         ],
         "xaxis": "x",
         "y": [
          19.4,
          20.2,
          20.5,
          20.6,
          20.3
         ],
         "yaxis": "y"
        },
        {
         "legendgroup": "ssp245",
         "line": {
          "color": "rgb(150, 10, 10)"
         },
         "mode": "lines",
         "name": "ssp2-4.5 (1 GCMs median)",
         "showlegend": true,
         "type": "scatter",
         "x": [
          1,
          2,
          3,
          4,
          5,
          6,
          7,
          8,
          9,
          10,
          11,
          12
         ],
         "xaxis": "x",
         "y": [
          19.4,
          20.3,
          20.6,
          21,
          21.3
         ],
         "yaxis": "y"
        },
        {
         "legendgroup": "ssp370",
         "line": {
          "color": "rgb(10, 150, 10)"
         },
         "mode": "lines",
         "name": "ssp3-7.0 (1 GCMs median)",
         "showlegend": true,
         "type": "scatter",
         "x": [
          1,
          2,
          3,
          4,
          5,
          6,
          7,
          8,
          9,
          10,
          11,
          12
         ],
         "xaxis": "x",
         "y": [
          19.4,
          20.3,
          21,
          21.6,
          22.1
         ],
         "yaxis": "y"
        },
        {
         "legendgroup": "ssp585",
         "line": {
          "color": "rgb(250, 170, 60)"
         },
         "mode": "lines",
         "name": "ssp5-8.5 (1 GCMs median)",
         "showlegend": true,
         "type": "scatter",
         "x": [
          1,
          2,
          3,
          4,
          5,
          6,
          7,
          8,
          9,
          10,
          11,
          12
         ],
         "xaxis": "x",
         "y": [
          19.4,
          20.4,
          21,
          21.8,
          22.4
         ],
         "yaxis": "y"
        },
        {
         "legendgroup": "ssp126",
         "line": {
          "color": "rgb(10, 10, 150)"
         },
         "mode": "lines",
         "name": "ssp1-2.6 (1 GCMs median)",
         "showlegend": false,
         "type": "scatter",
         "x": [
          1,
          2,
          3,
          4,
          5,
          6,
          7,
          8,
          9,
          10,
          11,
          12
         ],
         "xaxis": "x2",
         "y": [
          19.8,
          20.7,
          20.9,
          20.9,
          20.9
         ],
         "yaxis": "y2"
        },
        {
         "legendgroup": "ssp245",
         "line": {
          "color": "rgb(150, 10, 10)"
         },
         "mode": "lines",
         "name": "ssp2-4.5 (1 GCMs median)",
         "showlegend": false,
         "type": "scatter",
         "x": [
          1,
          2,
          3,
          4,
          5,
          6,
          7,
          8,
          9,
          10,
          11,
          12
         ],
         "xaxis": "x2",
         "y": [
          19.8,
          20.7,
          21.2,
          21.6,
          21.8
         ],
         "yaxis": "y2"
        },
        {
         "legendgroup": "ssp370",
         "line": {
          "color": "rgb(10, 150, 10)"
         },
         "mode": "lines",
         "name": "ssp3-7.0 (1 GCMs median)",
         "showlegend": false,
         "type": "scatter",
         "x": [
          1,
          2,
          3,
          4,
          5,
          6,
          7,
          8,
          9,
          10,
          11,
          12
         ],
         "xaxis": "x2",
         "y": [
          19.8,
          20.8,
          21.3,
          22,
          22.6
         ],
         "yaxis": "y2"
        },
        {
         "legendgroup": "ssp585",
         "line": {
          "color": "rgb(250, 170, 60)"
         },
         "mode": "lines",
         "name": "ssp5-8.5 (1 GCMs median)",
         "showlegend": false,
         "type": "scatter",
         "x": [
          1,
          2,
          3,
          4,
          5,
          6,
          7,
          8,
          9,
          10,
          11,
          12
         ],
         "xaxis": "x2",
         "y": [
          19.8,
          20.9,
          21.4,
          22.1,
          22.9
         ],
         "yaxis": "y2"
        },
        {
         "legendgroup": "ssp126",
         "line": {
          "color": "rgb(10, 10, 150)"
         },
         "mode": "lines",
         "name": "ssp1-2.6 (1 GCMs median)",
         "showlegend": false,
         "type": "scatter",
         "x": [
          1,
          2,
          3,
          4,
          5,
          6,
          7,
          8,
          9,
          10,
          11,
          12
         ],
         "xaxis": "x3",
         "y": [
          20.7,
          21.4,
          21.7,
          21.8,
          21.7
         ],
         "yaxis": "y3"
        },
        {
         "legendgroup": "ssp245",
         "line": {
          "color": "rgb(150, 10, 10)"
         },
         "mode": "lines",
         "name": "ssp2-4.5 (1 GCMs median)",
         "showlegend": false,
         "type": "scatter",
         "x": [
          1,
          2,
          3,
          4,
          5,
          6,
          7,
          8,
          9,
          10,
          11,
          12
         ],
         "xaxis": "x3",
         "y": [
          20.7,
          21.4,
          22,
          22.3,
          22.6
         ],
         "yaxis": "y3"
        },
        {
         "legendgroup": "ssp370",
         "line": {
          "color": "rgb(10, 150, 10)"
         },
         "mode": "lines",
         "name": "ssp3-7.0 (1 GCMs median)",
         "showlegend": false,
         "type": "scatter",
         "x": [
          1,
          2,
          3,
          4,
          5,
          6,
          7,
          8,
          9,
          10,
          11,
          12
         ],
         "xaxis": "x3",
         "y": [
          20.7,
          21.6,
          22.3,
          22.8,
          23.4
         ],
         "yaxis": "y3"
        },
        {
         "legendgroup": "ssp585",
         "line": {
          "color": "rgb(250, 170, 60)"
         },
         "mode": "lines",
         "name": "ssp5-8.5 (1 GCMs median)",
         "showlegend": false,
         "type": "scatter",
         "x": [
          1,
          2,
          3,
          4,
          5,
          6,
          7,
          8,
          9,
          10,
          11,
          12
         ],
         "xaxis": "x3",
         "y": [
          20.7,
          21.5,
          22.1,
          23.1,
          23.7
         ],
         "yaxis": "y3"
        },
        {
         "legendgroup": "ssp126",
         "line": {
          "color": "rgb(10, 10, 150)"
         },
         "mode": "lines",
         "name": "ssp1-2.6 (1 GCMs median)",
         "showlegend": false,
         "type": "scatter",
         "x": [
          1,
          2,
          3,
          4,
          5,
          6,
          7,
          8,
          9,
          10,
          11,
          12
         ],
         "xaxis": "x4",
         "y": [
          21.2,
          22.1,
          22.2,
          22.3,
          22.2
         ],
         "yaxis": "y4"
        },
        {
         "legendgroup": "ssp245",
         "line": {
          "color": "rgb(150, 10, 10)"
         },
         "mode": "lines",
         "name": "ssp2-4.5 (1 GCMs median)",
         "showlegend": false,
         "type": "scatter",
         "x": [
          1,
          2,
          3,
          4,
          5,
          6,
          7,
          8,
          9,
          10,
          11,
          12
         ],
         "xaxis": "x4",
         "y": [
          21.2,
          22,
          22.5,
          22.7,
          23.1
         ],
         "yaxis": "y4"
        },
        {
         "legendgroup": "ssp370",
         "line": {
          "color": "rgb(10, 150, 10)"
         },
         "mode": "lines",
         "name": "ssp3-7.0 (1 GCMs median)",
         "showlegend": false,
         "type": "scatter",
         "x": [
          1,
          2,
          3,
          4,
          5,
          6,
          7,
          8,
          9,
          10,
          11,
          12
         ],
         "xaxis": "x4",
         "y": [
          21.2,
          22.1,
          22.8,
          23.4,
          23.9
         ],
         "yaxis": "y4"
        },
        {
         "legendgroup": "ssp585",
         "line": {
          "color": "rgb(250, 170, 60)"
         },
         "mode": "lines",
         "name": "ssp5-8.5 (1 GCMs median)",
         "showlegend": false,
         "type": "scatter",
         "x": [
          1,
          2,
          3,
          4,
          5,
          6,
          7,
          8,
          9,
          10,
          11,
          12
         ],
         "xaxis": "x4",
         "y": [
          21.2,
          22.3,
          22.9,
          23.5,
          24.2
         ],
         "yaxis": "y4"
        },
        {
         "legendgroup": "ssp126",
         "line": {
          "color": "rgb(10, 10, 150)"
         },
         "mode": "lines",
         "name": "ssp1-2.6 (1 GCMs median)",
         "showlegend": false,
         "type": "scatter",
         "x": [
          1,
          2,
          3,
          4,
          5,
          6,
          7,
          8,
          9,
          10,
          11,
          12
         ],
         "xaxis": "x5",
         "y": [
          21.8,
          22.6,
          22.8,
          22.9,
          22.7
         ],
         "yaxis": "y5"
        },
        {
         "legendgroup": "ssp245",
         "line": {
          "color": "rgb(150, 10, 10)"
         },
         "mode": "lines",
         "name": "ssp2-4.5 (1 GCMs median)",
         "showlegend": false,
         "type": "scatter",
         "x": [
          1,
          2,
          3,
          4,
          5,
          6,
          7,
          8,
          9,
          10,
          11,
          12
         ],
         "xaxis": "x5",
         "y": [
          21.8,
          22.6,
          23,
          23.4,
          23.6
         ],
         "yaxis": "y5"
        },
        {
         "legendgroup": "ssp370",
         "line": {
          "color": "rgb(10, 150, 10)"
         },
         "mode": "lines",
         "name": "ssp3-7.0 (1 GCMs median)",
         "showlegend": false,
         "type": "scatter",
         "x": [
          1,
          2,
          3,
          4,
          5,
          6,
          7,
          8,
          9,
          10,
          11,
          12
         ],
         "xaxis": "x5",
         "y": [
          21.8,
          22.7,
          23.3,
          23.9,
          24.5
         ],
         "yaxis": "y5"
        },
        {
         "legendgroup": "ssp585",
         "line": {
          "color": "rgb(250, 170, 60)"
         },
         "mode": "lines",
         "name": "ssp5-8.5 (1 GCMs median)",
         "showlegend": false,
         "type": "scatter",
         "x": [
          1,
          2,
          3,
          4,
          5,
          6,
          7,
          8,
          9,
          10,
          11,
          12
         ],
         "xaxis": "x5",
         "y": [
          21.8,
          22.7,
          23.4,
          24.1,
          24.8
         ],
         "yaxis": "y5"
        },
        {
         "legendgroup": "ssp126",
         "line": {
          "color": "rgb(10, 10, 150)"
         },
         "mode": "lines",
         "name": "ssp1-2.6 (1 GCMs median)",
         "showlegend": false,
         "type": "scatter",
         "x": [
          1,
          2,
          3,
          4,
          5,
          6,
          7,
          8,
          9,
          10,
          11,
          12
         ],
         "xaxis": "x6",
         "y": [
          22.2,
          23,
          23.1,
          23.3,
          23.2
         ],
         "yaxis": "y6"
        },
        {
         "legendgroup": "ssp245",
         "line": {
          "color": "rgb(150, 10, 10)"
         },
         "mode": "lines",
         "name": "ssp2-4.5 (1 GCMs median)",
         "showlegend": false,
         "type": "scatter",
         "x": [
          1,
          2,
          3,
          4,
          5,
          6,
          7,
          8,
          9,
          10,
          11,
          12
         ],
         "xaxis": "x6",
         "y": [
          22.2,
          23.1,
          23.5,
          23.7,
          24.1
         ],
         "yaxis": "y6"
        },
        {
         "legendgroup": "ssp370",
         "line": {
          "color": "rgb(10, 150, 10)"
         },
         "mode": "lines",
         "name": "ssp3-7.0 (1 GCMs median)",
         "showlegend": false,
         "type": "scatter",
         "x": [
          1,
          2,
          3,
          4,
          5,
          6,
          7,
          8,
          9,
          10,
          11,
          12
         ],
         "xaxis": "x6",
         "y": [
          22.2,
          23.1,
          23.7,
          24.3,
          24.9
         ],
         "yaxis": "y6"
        },
        {
         "legendgroup": "ssp585",
         "line": {
          "color": "rgb(250, 170, 60)"
         },
         "mode": "lines",
         "name": "ssp5-8.5 (1 GCMs median)",
         "showlegend": false,
         "type": "scatter",
         "x": [
          1,
          2,
          3,
          4,
          5,
          6,
          7,
          8,
          9,
          10,
          11,
          12
         ],
         "xaxis": "x6",
         "y": [
          22.2,
          23.2,
          23.8,
          24.5,
          25.1
         ],
         "yaxis": "y6"
        },
        {
         "legendgroup": "ssp126",
         "line": {
          "color": "rgb(10, 10, 150)"
         },
         "mode": "lines",
         "name": "ssp1-2.6 (1 GCMs median)",
         "showlegend": false,
         "type": "scatter",
         "x": [
          1,
          2,
          3,
          4,
          5,
          6,
          7,
          8,
          9,
          10,
          11,
          12
         ],
         "xaxis": "x7",
         "y": [
          22.6,
          23.3,
          23.4,
          23.6,
          23.5
         ],
         "yaxis": "y7"
        },
        {
         "legendgroup": "ssp245",
         "line": {
          "color": "rgb(150, 10, 10)"
         },
         "mode": "lines",
         "name": "ssp2-4.5 (1 GCMs median)",
         "showlegend": false,
         "type": "scatter",
         "x": [
          1,
          2,
          3,
          4,
          5,
          6,
          7,
          8,
          9,
          10,
          11,
          12
         ],
         "xaxis": "x7",
         "y": [
          22.6,
          23.5,
          23.8,
          23.9,
          24.3
         ],
         "yaxis": "y7"
        },
        {
         "legendgroup": "ssp370",
         "line": {
          "color": "rgb(10, 150, 10)"
         },
         "mode": "lines",
         "name": "ssp3-7.0 (1 GCMs median)",
         "showlegend": false,
         "type": "scatter",
         "x": [
          1,
          2,
          3,
          4,
          5,
          6,
          7,
          8,
          9,
          10,
          11,
          12
         ],
         "xaxis": "x7",
         "y": [
          22.6,
          23.3,
          24,
          24.6,
          25.2
         ],
         "yaxis": "y7"
        },
        {
         "legendgroup": "ssp585",
         "line": {
          "color": "rgb(250, 170, 60)"
         },
         "mode": "lines",
         "name": "ssp5-8.5 (1 GCMs median)",
         "showlegend": false,
         "type": "scatter",
         "x": [
          1,
          2,
          3,
          4,
          5,
          6,
          7,
          8,
          9,
          10,
          11,
          12
         ],
         "xaxis": "x7",
         "y": [
          22.6,
          23.5,
          24,
          24.8,
          25.3
         ],
         "yaxis": "y7"
        },
        {
         "legendgroup": "ssp126",
         "line": {
          "color": "rgb(10, 10, 150)"
         },
         "mode": "lines",
         "name": "ssp1-2.6 (1 GCMs median)",
         "showlegend": false,
         "type": "scatter",
         "x": [
          1,
          2,
          3,
          4,
          5,
          6,
          7,
          8,
          9,
          10,
          11,
          12
         ],
         "xaxis": "x8",
         "y": [
          22.7,
          23.4,
          23.6,
          23.7,
          23.5
         ],
         "yaxis": "y8"
        },
        {
         "legendgroup": "ssp245",
         "line": {
          "color": "rgb(150, 10, 10)"
         },
         "mode": "lines",
         "name": "ssp2-4.5 (1 GCMs median)",
         "showlegend": false,
         "type": "scatter",
         "x": [
          1,
          2,
          3,
          4,
          5,
          6,
          7,
          8,
          9,
          10,
          11,
          12
         ],
         "xaxis": "x8",
         "y": [
          22.7,
          23.6,
          23.8,
          24.1,
          24.5
         ],
         "yaxis": "y8"
        },
        {
         "legendgroup": "ssp370",
         "line": {
          "color": "rgb(10, 150, 10)"
         },
         "mode": "lines",
         "name": "ssp3-7.0 (1 GCMs median)",
         "showlegend": false,
         "type": "scatter",
         "x": [
          1,
          2,
          3,
          4,
          5,
          6,
          7,
          8,
          9,
          10,
          11,
          12
         ],
         "xaxis": "x8",
         "y": [
          22.7,
          23.6,
          24.2,
          24.8,
          25.5
         ],
         "yaxis": "y8"
        },
        {
         "legendgroup": "ssp585",
         "line": {
          "color": "rgb(250, 170, 60)"
         },
         "mode": "lines",
         "name": "ssp5-8.5 (1 GCMs median)",
         "showlegend": false,
         "type": "scatter",
         "x": [
          1,
          2,
          3,
          4,
          5,
          6,
          7,
          8,
          9,
          10,
          11,
          12
         ],
         "xaxis": "x8",
         "y": [
          22.7,
          23.6,
          24.2,
          24.9,
          25.7
         ],
         "yaxis": "y8"
        },
        {
         "legendgroup": "ssp126",
         "line": {
          "color": "rgb(10, 10, 150)"
         },
         "mode": "lines",
         "name": "ssp1-2.6 (1 GCMs median)",
         "showlegend": false,
         "type": "scatter",
         "x": [
          1,
          2,
          3,
          4,
          5,
          6,
          7,
          8,
          9,
          10,
          11,
          12
         ],
         "xaxis": "x9",
         "y": [
          22.5,
          23.3,
          23.4,
          23.6,
          23.5
         ],
         "yaxis": "y9"
        },
        {
         "legendgroup": "ssp245",
         "line": {
          "color": "rgb(150, 10, 10)"
         },
         "mode": "lines",
         "name": "ssp2-4.5 (1 GCMs median)",
         "showlegend": false,
         "type": "scatter",
         "x": [
          1,
          2,
          3,
          4,
          5,
          6,
          7,
          8,
          9,
          10,
          11,
          12
         ],
         "xaxis": "x9",
         "y": [
          22.5,
          23.5,
          23.7,
          24.2,
          24.4
         ],
         "yaxis": "y9"
        },
        {
         "legendgroup": "ssp370",
         "line": {
          "color": "rgb(10, 150, 10)"
         },
         "mode": "lines",
         "name": "ssp3-7.0 (1 GCMs median)",
         "showlegend": false,
         "type": "scatter",
         "x": [
          1,
          2,
          3,
          4,
          5,
          6,
          7,
          8,
          9,
          10,
          11,
          12
         ],
         "xaxis": "x9",
         "y": [
          22.5,
          23.5,
          24.1,
          24.8,
          25.5
         ],
         "yaxis": "y9"
        },
        {
         "legendgroup": "ssp585",
         "line": {
          "color": "rgb(250, 170, 60)"
         },
         "mode": "lines",
         "name": "ssp5-8.5 (1 GCMs median)",
         "showlegend": false,
         "type": "scatter",
         "x": [
          1,
          2,
          3,
          4,
          5,
          6,
          7,
          8,
          9,
          10,
          11,
          12
         ],
         "xaxis": "x9",
         "y": [
          22.5,
          23.6,
          24.2,
          25,
          25.7
         ],
         "yaxis": "y9"
        },
        {
         "legendgroup": "ssp126",
         "line": {
          "color": "rgb(10, 10, 150)"
         },
         "mode": "lines",
         "name": "ssp1-2.6 (1 GCMs median)",
         "showlegend": false,
         "type": "scatter",
         "x": [
          1,
          2,
          3,
          4,
          5,
          6,
          7,
          8,
          9,
          10,
          11,
          12
         ],
         "xaxis": "x10",
         "y": [
          22,
          22.8,
          22.9,
          23.1,
          23
         ],
         "yaxis": "y10"
        },
        {
         "legendgroup": "ssp245",
         "line": {
          "color": "rgb(150, 10, 10)"
         },
         "mode": "lines",
         "name": "ssp2-4.5 (1 GCMs median)",
         "showlegend": false,
         "type": "scatter",
         "x": [
          1,
          2,
          3,
          4,
          5,
          6,
          7,
          8,
          9,
          10,
          11,
          12
         ],
         "xaxis": "x10",
         "y": [
          22,
          22.9,
          23.2,
          23.6,
          23.8
         ],
         "yaxis": "y10"
        },
        {
         "legendgroup": "ssp370",
         "line": {
          "color": "rgb(10, 150, 10)"
         },
         "mode": "lines",
         "name": "ssp3-7.0 (1 GCMs median)",
         "showlegend": false,
         "type": "scatter",
         "x": [
          1,
          2,
          3,
          4,
          5,
          6,
          7,
          8,
          9,
          10,
          11,
          12
         ],
         "xaxis": "x10",
         "y": [
          22,
          23,
          23.6,
          24.1,
          24.8
         ],
         "yaxis": "y10"
        },
        {
         "legendgroup": "ssp585",
         "line": {
          "color": "rgb(250, 170, 60)"
         },
         "mode": "lines",
         "name": "ssp5-8.5 (1 GCMs median)",
         "showlegend": false,
         "type": "scatter",
         "x": [
          1,
          2,
          3,
          4,
          5,
          6,
          7,
          8,
          9,
          10,
          11,
          12
         ],
         "xaxis": "x10",
         "y": [
          22,
          22.9,
          23.6,
          24.4,
          25.1
         ],
         "yaxis": "y10"
        },
        {
         "legendgroup": "ssp126",
         "line": {
          "color": "rgb(10, 10, 150)"
         },
         "mode": "lines",
         "name": "ssp1-2.6 (1 GCMs median)",
         "showlegend": false,
         "type": "scatter",
         "x": [
          1,
          2,
          3,
          4,
          5,
          6,
          7,
          8,
          9,
          10,
          11,
          12
         ],
         "xaxis": "x11",
         "y": [
          20.9,
          21.8,
          22,
          22.1,
          21.9
         ],
         "yaxis": "y11"
        },
        {
         "legendgroup": "ssp245",
         "line": {
          "color": "rgb(150, 10, 10)"
         },
         "mode": "lines",
         "name": "ssp2-4.5 (1 GCMs median)",
         "showlegend": false,
         "type": "scatter",
         "x": [
          1,
          2,
          3,
          4,
          5,
          6,
          7,
          8,
          9,
          10,
          11,
          12
         ],
         "xaxis": "x11",
         "y": [
          20.9,
          21.8,
          22.3,
          22.6,
          23
         ],
         "yaxis": "y11"
        },
        {
         "legendgroup": "ssp370",
         "line": {
          "color": "rgb(10, 150, 10)"
         },
         "mode": "lines",
         "name": "ssp3-7.0 (1 GCMs median)",
         "showlegend": false,
         "type": "scatter",
         "x": [
          1,
          2,
          3,
          4,
          5,
          6,
          7,
          8,
          9,
          10,
          11,
          12
         ],
         "xaxis": "x11",
         "y": [
          20.9,
          21.9,
          22.6,
          23.2,
          23.9
         ],
         "yaxis": "y11"
        },
        {
         "legendgroup": "ssp585",
         "line": {
          "color": "rgb(250, 170, 60)"
         },
         "mode": "lines",
         "name": "ssp5-8.5 (1 GCMs median)",
         "showlegend": false,
         "type": "scatter",
         "x": [
          1,
          2,
          3,
          4,
          5,
          6,
          7,
          8,
          9,
          10,
          11,
          12
         ],
         "xaxis": "x11",
         "y": [
          20.9,
          22,
          22.6,
          23.4,
          24
         ],
         "yaxis": "y11"
        },
        {
         "legendgroup": "ssp126",
         "line": {
          "color": "rgb(10, 10, 150)"
         },
         "mode": "lines",
         "name": "ssp1-2.6 (1 GCMs median)",
         "showlegend": false,
         "type": "scatter",
         "x": [
          1,
          2,
          3,
          4,
          5,
          6,
          7,
          8,
          9,
          10,
          11,
          12
         ],
         "xaxis": "x12",
         "y": [
          19.8,
          20.7,
          20.8,
          21,
          20.8
         ],
         "yaxis": "y12"
        },
        {
         "legendgroup": "ssp245",
         "line": {
          "color": "rgb(150, 10, 10)"
         },
         "mode": "lines",
         "name": "ssp2-4.5 (1 GCMs median)",
         "showlegend": false,
         "type": "scatter",
         "x": [
          1,
          2,
          3,
          4,
          5,
          6,
          7,
          8,
          9,
          10,
          11,
          12
         ],
         "xaxis": "x12",
         "y": [
          19.8,
          20.9,
          21.2,
          21.4,
          21.8
         ],
         "yaxis": "y12"
        },
        {
         "legendgroup": "ssp370",
         "line": {
          "color": "rgb(10, 150, 10)"
         },
         "mode": "lines",
         "name": "ssp3-7.0 (1 GCMs median)",
         "showlegend": false,
         "type": "scatter",
         "x": [
          1,
          2,
          3,
          4,
          5,
          6,
          7,
          8,
          9,
          10,
          11,
          12
         ],
         "xaxis": "x12",
         "y": [
          19.8,
          20.8,
          21.5,
          22.1,
          22.7
         ],
         "yaxis": "y12"
        },
        {
         "legendgroup": "ssp585",
         "line": {
          "color": "rgb(250, 170, 60)"
         },
         "mode": "lines",
         "name": "ssp5-8.5 (1 GCMs median)",
         "showlegend": false,
         "type": "scatter",
         "x": [
          1,
          2,
          3,
          4,
          5,
          6,
          7,
          8,
          9,
          10,
          11,
          12
         ],
         "xaxis": "x12",
         "y": [
          19.8,
          20.9,
          21.6,
          22.3,
          22.9
         ],
         "yaxis": "y12"
        }
       ],
       "layout": {
        "annotations": [
         {
          "font": {
           "size": 16
          },
          "showarrow": false,
          "text": "1",
          "x": 0.14444444444444446,
          "xanchor": "center",
          "xref": "paper",
          "y": 1,
          "yanchor": "bottom",
          "yref": "paper"
         },
         {
          "font": {
           "size": 16
          },
          "showarrow": false,
          "text": "2",
          "x": 0.5,
          "xanchor": "center",
          "xref": "paper",
          "y": 1,
          "yanchor": "bottom",
          "yref": "paper"
         },
         {
          "font": {
           "size": 16
          },
          "showarrow": false,
          "text": "3",
          "x": 0.8555555555555556,
          "xanchor": "center",
          "xref": "paper",
          "y": 1,
          "yanchor": "bottom",
          "yref": "paper"
         },
         {
          "font": {
           "size": 16
          },
          "showarrow": false,
          "text": "4",
          "x": 0.14444444444444446,
          "xanchor": "center",
          "xref": "paper",
          "y": 0.7375,
          "yanchor": "bottom",
          "yref": "paper"
         },
         {
          "font": {
           "size": 16
          },
          "showarrow": false,
          "text": "5",
          "x": 0.5,
          "xanchor": "center",
          "xref": "paper",
          "y": 0.7375,
          "yanchor": "bottom",
          "yref": "paper"
         },
         {
          "font": {
           "size": 16
          },
          "showarrow": false,
          "text": "6",
          "x": 0.8555555555555556,
          "xanchor": "center",
          "xref": "paper",
          "y": 0.7375,
          "yanchor": "bottom",
          "yref": "paper"
         },
         {
          "font": {
           "size": 16
          },
          "showarrow": false,
          "text": "7",
          "x": 0.14444444444444446,
          "xanchor": "center",
          "xref": "paper",
          "y": 0.475,
          "yanchor": "bottom",
          "yref": "paper"
         },
         {
          "font": {
           "size": 16
          },
          "showarrow": false,
          "text": "8",
          "x": 0.5,
          "xanchor": "center",
          "xref": "paper",
          "y": 0.475,
          "yanchor": "bottom",
          "yref": "paper"
         },
         {
          "font": {
           "size": 16
          },
          "showarrow": false,
          "text": "9",
          "x": 0.8555555555555556,
          "xanchor": "center",
          "xref": "paper",
          "y": 0.475,
          "yanchor": "bottom",
          "yref": "paper"
         },
         {
          "font": {
           "size": 16
          },
          "showarrow": false,
          "text": "10",
          "x": 0.14444444444444446,
          "xanchor": "center",
          "xref": "paper",
          "y": 0.2125,
          "yanchor": "bottom",
          "yref": "paper"
         },
         {
          "font": {
           "size": 16
          },
          "showarrow": false,
          "text": "11",
          "x": 0.5,
          "xanchor": "center",
          "xref": "paper",
          "y": 0.2125,
          "yanchor": "bottom",
          "yref": "paper"
         },
         {
          "font": {
           "size": 16
          },
          "showarrow": false,
          "text": "12",
          "x": 0.8555555555555556,
          "xanchor": "center",
          "xref": "paper",
          "y": 0.2125,
          "yanchor": "bottom",
          "yref": "paper"
         }
        ],
        "height": 800,
        "hovermode": "x",
        "showlegend": true,
        "template": {
         "data": {
          "bar": [
           {
            "error_x": {
             "color": "#2a3f5f"
            },
            "error_y": {
             "color": "#2a3f5f"
            },
            "marker": {
             "line": {
              "color": "#E5ECF6",
              "width": 0.5
             }
            },
            "type": "bar"
           }
          ],
          "barpolar": [
           {
            "marker": {
             "line": {
              "color": "#E5ECF6",
              "width": 0.5
             }
            },
            "type": "barpolar"
           }
          ],
          "carpet": [
           {
            "aaxis": {
             "endlinecolor": "#2a3f5f",
             "gridcolor": "white",
             "linecolor": "white",
             "minorgridcolor": "white",
             "startlinecolor": "#2a3f5f"
            },
            "baxis": {
             "endlinecolor": "#2a3f5f",
             "gridcolor": "white",
             "linecolor": "white",
             "minorgridcolor": "white",
             "startlinecolor": "#2a3f5f"
            },
            "type": "carpet"
           }
          ],
          "choropleth": [
           {
            "colorbar": {
             "outlinewidth": 0,
             "ticks": ""
            },
            "type": "choropleth"
           }
          ],
          "contour": [
           {
            "colorbar": {
             "outlinewidth": 0,
             "ticks": ""
            },
            "colorscale": [
             [
              0,
              "#0d0887"
             ],
             [
              0.1111111111111111,
              "#46039f"
             ],
             [
              0.2222222222222222,
              "#7201a8"
             ],
             [
              0.3333333333333333,
              "#9c179e"
             ],
             [
              0.4444444444444444,
              "#bd3786"
             ],
             [
              0.5555555555555556,
              "#d8576b"
             ],
             [
              0.6666666666666666,
              "#ed7953"
             ],
             [
              0.7777777777777778,
              "#fb9f3a"
             ],
             [
              0.8888888888888888,
              "#fdca26"
             ],
             [
              1,
              "#f0f921"
             ]
            ],
            "type": "contour"
           }
          ],
          "contourcarpet": [
           {
            "colorbar": {
             "outlinewidth": 0,
             "ticks": ""
            },
            "type": "contourcarpet"
           }
          ],
          "heatmap": [
           {
            "colorbar": {
             "outlinewidth": 0,
             "ticks": ""
            },
            "colorscale": [
             [
              0,
              "#0d0887"
             ],
             [
              0.1111111111111111,
              "#46039f"
             ],
             [
              0.2222222222222222,
              "#7201a8"
             ],
             [
              0.3333333333333333,
              "#9c179e"
             ],
             [
              0.4444444444444444,
              "#bd3786"
             ],
             [
              0.5555555555555556,
              "#d8576b"
             ],
             [
              0.6666666666666666,
              "#ed7953"
             ],
             [
              0.7777777777777778,
              "#fb9f3a"
             ],
             [
              0.8888888888888888,
              "#fdca26"
             ],
             [
              1,
              "#f0f921"
             ]
            ],
            "type": "heatmap"
           }
          ],
          "heatmapgl": [
           {
            "colorbar": {
             "outlinewidth": 0,
             "ticks": ""
            },
            "colorscale": [
             [
              0,
              "#0d0887"
             ],
             [
              0.1111111111111111,
              "#46039f"
             ],
             [
              0.2222222222222222,
              "#7201a8"
             ],
             [
              0.3333333333333333,
              "#9c179e"
             ],
             [
              0.4444444444444444,
              "#bd3786"
             ],
             [
              0.5555555555555556,
              "#d8576b"
             ],
             [
              0.6666666666666666,
              "#ed7953"
             ],
             [
              0.7777777777777778,
              "#fb9f3a"
             ],
             [
              0.8888888888888888,
              "#fdca26"
             ],
             [
              1,
              "#f0f921"
             ]
            ],
            "type": "heatmapgl"
           }
          ],
          "histogram": [
           {
            "marker": {
             "colorbar": {
              "outlinewidth": 0,
              "ticks": ""
             }
            },
            "type": "histogram"
           }
          ],
          "histogram2d": [
           {
            "colorbar": {
             "outlinewidth": 0,
             "ticks": ""
            },
            "colorscale": [
             [
              0,
              "#0d0887"
             ],
             [
              0.1111111111111111,
              "#46039f"
             ],
             [
              0.2222222222222222,
              "#7201a8"
             ],
             [
              0.3333333333333333,
              "#9c179e"
             ],
             [
              0.4444444444444444,
              "#bd3786"
             ],
             [
              0.5555555555555556,
              "#d8576b"
             ],
             [
              0.6666666666666666,
              "#ed7953"
             ],
             [
              0.7777777777777778,
              "#fb9f3a"
             ],
             [
              0.8888888888888888,
              "#fdca26"
             ],
             [
              1,
              "#f0f921"
             ]
            ],
            "type": "histogram2d"
           }
          ],
          "histogram2dcontour": [
           {
            "colorbar": {
             "outlinewidth": 0,
             "ticks": ""
            },
            "colorscale": [
             [
              0,
              "#0d0887"
             ],
             [
              0.1111111111111111,
              "#46039f"
             ],
             [
              0.2222222222222222,
              "#7201a8"
             ],
             [
              0.3333333333333333,
              "#9c179e"
             ],
             [
              0.4444444444444444,
              "#bd3786"
             ],
             [
              0.5555555555555556,
              "#d8576b"
             ],
             [
              0.6666666666666666,
              "#ed7953"
             ],
             [
              0.7777777777777778,
              "#fb9f3a"
             ],
             [
              0.8888888888888888,
              "#fdca26"
             ],
             [
              1,
              "#f0f921"
             ]
            ],
            "type": "histogram2dcontour"
           }
          ],
          "mesh3d": [
           {
            "colorbar": {
             "outlinewidth": 0,
             "ticks": ""
            },
            "type": "mesh3d"
           }
          ],
          "parcoords": [
           {
            "line": {
             "colorbar": {
              "outlinewidth": 0,
              "ticks": ""
             }
            },
            "type": "parcoords"
           }
          ],
          "pie": [
           {
            "automargin": true,
            "type": "pie"
           }
          ],
          "scatter": [
           {
            "marker": {
             "colorbar": {
              "outlinewidth": 0,
              "ticks": ""
             }
            },
            "type": "scatter"
           }
          ],
          "scatter3d": [
           {
            "line": {
             "colorbar": {
              "outlinewidth": 0,
              "ticks": ""
             }
            },
            "marker": {
             "colorbar": {
              "outlinewidth": 0,
              "ticks": ""
             }
            },
            "type": "scatter3d"
           }
          ],
          "scattercarpet": [
           {
            "marker": {
             "colorbar": {
              "outlinewidth": 0,
              "ticks": ""
             }
            },
            "type": "scattercarpet"
           }
          ],
          "scattergeo": [
           {
            "marker": {
             "colorbar": {
              "outlinewidth": 0,
              "ticks": ""
             }
            },
            "type": "scattergeo"
           }
          ],
          "scattergl": [
           {
            "marker": {
             "colorbar": {
              "outlinewidth": 0,
              "ticks": ""
             }
            },
            "type": "scattergl"
           }
          ],
          "scattermapbox": [
           {
            "marker": {
             "colorbar": {
              "outlinewidth": 0,
              "ticks": ""
             }
            },
            "type": "scattermapbox"
           }
          ],
          "scatterpolar": [
           {
            "marker": {
             "colorbar": {
              "outlinewidth": 0,
              "ticks": ""
             }
            },
            "type": "scatterpolar"
           }
          ],
          "scatterpolargl": [
           {
            "marker": {
             "colorbar": {
              "outlinewidth": 0,
              "ticks": ""
             }
            },
            "type": "scatterpolargl"
           }
          ],
          "scatterternary": [
           {
            "marker": {
             "colorbar": {
              "outlinewidth": 0,
              "ticks": ""
             }
            },
            "type": "scatterternary"
           }
          ],
          "surface": [
           {
            "colorbar": {
             "outlinewidth": 0,
             "ticks": ""
            },
            "colorscale": [
             [
              0,
              "#0d0887"
             ],
             [
              0.1111111111111111,
              "#46039f"
             ],
             [
              0.2222222222222222,
              "#7201a8"
             ],
             [
              0.3333333333333333,
              "#9c179e"
             ],
             [
              0.4444444444444444,
              "#bd3786"
             ],
             [
              0.5555555555555556,
              "#d8576b"
             ],
             [
              0.6666666666666666,
              "#ed7953"
             ],
             [
              0.7777777777777778,
              "#fb9f3a"
             ],
             [
              0.8888888888888888,
              "#fdca26"
             ],
             [
              1,
              "#f0f921"
             ]
            ],
            "type": "surface"
           }
          ],
          "table": [
           {
            "cells": {
             "fill": {
              "color": "#EBF0F8"
             },
             "line": {
              "color": "white"
             }
            },
            "header": {
             "fill": {
              "color": "#C8D4E3"
             },
             "line": {
              "color": "white"
             }
            },
            "type": "table"
           }
          ]
         },
         "layout": {
          "annotationdefaults": {
           "arrowcolor": "#2a3f5f",
           "arrowhead": 0,
           "arrowwidth": 1
          },
          "autotypenumbers": "strict",
          "coloraxis": {
           "colorbar": {
            "outlinewidth": 0,
            "ticks": ""
           }
          },
          "colorscale": {
           "diverging": [
            [
             0,
             "#8e0152"
            ],
            [
             0.1,
             "#c51b7d"
            ],
            [
             0.2,
             "#de77ae"
            ],
            [
             0.3,
             "#f1b6da"
            ],
            [
             0.4,
             "#fde0ef"
            ],
            [
             0.5,
             "#f7f7f7"
            ],
            [
             0.6,
             "#e6f5d0"
            ],
            [
             0.7,
             "#b8e186"
            ],
            [
             0.8,
             "#7fbc41"
            ],
            [
             0.9,
             "#4d9221"
            ],
            [
             1,
             "#276419"
            ]
           ],
           "sequential": [
            [
             0,
             "#0d0887"
            ],
            [
             0.1111111111111111,
             "#46039f"
            ],
            [
             0.2222222222222222,
             "#7201a8"
            ],
            [
             0.3333333333333333,
             "#9c179e"
            ],
            [
             0.4444444444444444,
             "#bd3786"
            ],
            [
             0.5555555555555556,
             "#d8576b"
            ],
            [
             0.6666666666666666,
             "#ed7953"
            ],
            [
             0.7777777777777778,
             "#fb9f3a"
            ],
            [
             0.8888888888888888,
             "#fdca26"
            ],
            [
             1,
             "#f0f921"
            ]
           ],
           "sequentialminus": [
            [
             0,
             "#0d0887"
            ],
            [
             0.1111111111111111,
             "#46039f"
            ],
            [
             0.2222222222222222,
             "#7201a8"
            ],
            [
             0.3333333333333333,
             "#9c179e"
            ],
            [
             0.4444444444444444,
             "#bd3786"
            ],
            [
             0.5555555555555556,
             "#d8576b"
            ],
            [
             0.6666666666666666,
             "#ed7953"
            ],
            [
             0.7777777777777778,
             "#fb9f3a"
            ],
            [
             0.8888888888888888,
             "#fdca26"
            ],
            [
             1,
             "#f0f921"
            ]
           ]
          },
          "colorway": [
           "#636efa",
           "#EF553B",
           "#00cc96",
           "#ab63fa",
           "#FFA15A",
           "#19d3f3",
           "#FF6692",
           "#B6E880",
           "#FF97FF",
           "#FECB52"
          ],
          "font": {
           "color": "#2a3f5f"
          },
          "geo": {
           "bgcolor": "white",
           "lakecolor": "white",
           "landcolor": "#E5ECF6",
           "showlakes": true,
           "showland": true,
           "subunitcolor": "white"
          },
          "hoverlabel": {
           "align": "left"
          },
          "hovermode": "closest",
          "mapbox": {
           "style": "light"
          },
          "paper_bgcolor": "white",
          "plot_bgcolor": "#E5ECF6",
          "polar": {
           "angularaxis": {
            "gridcolor": "white",
            "linecolor": "white",
            "ticks": ""
           },
           "bgcolor": "#E5ECF6",
           "radialaxis": {
            "gridcolor": "white",
            "linecolor": "white",
            "ticks": ""
           }
          },
          "scene": {
           "xaxis": {
            "backgroundcolor": "#E5ECF6",
            "gridcolor": "white",
            "gridwidth": 2,
            "linecolor": "white",
            "showbackground": true,
            "ticks": "",
            "zerolinecolor": "white"
           },
           "yaxis": {
            "backgroundcolor": "#E5ECF6",
            "gridcolor": "white",
            "gridwidth": 2,
            "linecolor": "white",
            "showbackground": true,
            "ticks": "",
            "zerolinecolor": "white"
           },
           "zaxis": {
            "backgroundcolor": "#E5ECF6",
            "gridcolor": "white",
            "gridwidth": 2,
            "linecolor": "white",
            "showbackground": true,
            "ticks": "",
            "zerolinecolor": "white"
           }
          },
          "shapedefaults": {
           "line": {
            "color": "#2a3f5f"
           }
          },
          "ternary": {
           "aaxis": {
            "gridcolor": "white",
            "linecolor": "white",
            "ticks": ""
           },
           "baxis": {
            "gridcolor": "white",
            "linecolor": "white",
            "ticks": ""
           },
           "bgcolor": "#E5ECF6",
           "caxis": {
            "gridcolor": "white",
            "linecolor": "white",
            "ticks": ""
           }
          },
          "title": {
           "x": 0.05
          },
          "xaxis": {
           "automargin": true,
           "gridcolor": "white",
           "linecolor": "white",
           "ticks": "",
           "title": {
            "standoff": 15
           },
           "zerolinecolor": "white",
           "zerolinewidth": 2
          },
          "yaxis": {
           "automargin": true,
           "gridcolor": "white",
           "linecolor": "white",
           "ticks": "",
           "title": {
            "standoff": 15
           },
           "zerolinecolor": "white",
           "zerolinewidth": 2
          }
         }
        },
        "title": {
         "text": "Evolution of future Monthly Temperature Climatology, according to 4 scenarios (median of 1 GCMs)"
        },
        "width": 1000,
        "xaxis": {
         "anchor": "y",
         "domain": [
          0,
          0.2888888888888889
         ],
         "matches": "x10",
         "showticklabels": false
        },
        "xaxis10": {
         "anchor": "y10",
         "domain": [
          0,
          0.2888888888888889
         ]
        },
        "xaxis11": {
         "anchor": "y11",
         "domain": [
          0.35555555555555557,
          0.6444444444444445
         ]
        },
        "xaxis12": {
         "anchor": "y12",
         "domain": [
          0.7111111111111111,
          1
         ]
        },
        "xaxis2": {
         "anchor": "y2",
         "domain": [
          0.35555555555555557,
          0.6444444444444445
         ],
         "matches": "x11",
         "showticklabels": false
        },
        "xaxis3": {
         "anchor": "y3",
         "domain": [
          0.7111111111111111,
          1
         ],
         "matches": "x12",
         "showticklabels": false
        },
        "xaxis4": {
         "anchor": "y4",
         "domain": [
          0,
          0.2888888888888889
         ],
         "matches": "x10",
         "showticklabels": false
        },
        "xaxis5": {
         "anchor": "y5",
         "domain": [
          0.35555555555555557,
          0.6444444444444445
         ],
         "matches": "x11",
         "showticklabels": false
        },
        "xaxis6": {
         "anchor": "y6",
         "domain": [
          0.7111111111111111,
          1
         ],
         "matches": "x12",
         "showticklabels": false
        },
        "xaxis7": {
         "anchor": "y7",
         "domain": [
          0,
          0.2888888888888889
         ],
         "matches": "x10",
         "showticklabels": false
        },
        "xaxis8": {
         "anchor": "y8",
         "domain": [
          0.35555555555555557,
          0.6444444444444445
         ],
         "matches": "x11",
         "showticklabels": false
        },
        "xaxis9": {
         "anchor": "y9",
         "domain": [
          0.7111111111111111,
          1
         ],
         "matches": "x12",
         "showticklabels": false
        },
        "yaxis": {
         "anchor": "x",
         "domain": [
          0.7875,
          1
         ],
         "title": {
          "text": "°C"
         }
        },
        "yaxis10": {
         "anchor": "x10",
         "domain": [
          0,
          0.2125
         ],
         "title": {
          "text": "°C"
         }
        },
        "yaxis11": {
         "anchor": "x11",
         "domain": [
          0,
          0.2125
         ]
        },
        "yaxis12": {
         "anchor": "x12",
         "domain": [
          0,
          0.2125
         ]
        },
        "yaxis2": {
         "anchor": "x2",
         "domain": [
          0.7875,
          1
         ]
        },
        "yaxis3": {
         "anchor": "x3",
         "domain": [
          0.7875,
          1
         ]
        },
        "yaxis4": {
         "anchor": "x4",
         "domain": [
          0.525,
          0.7375
         ],
         "title": {
          "text": "°C"
         }
        },
        "yaxis5": {
         "anchor": "x5",
         "domain": [
          0.525,
          0.7375
         ]
        },
        "yaxis6": {
         "anchor": "x6",
         "domain": [
          0.525,
          0.7375
         ]
        },
        "yaxis7": {
         "anchor": "x7",
         "domain": [
          0.2625,
          0.475
         ],
         "title": {
          "text": "°C"
         }
        },
        "yaxis8": {
         "anchor": "x8",
         "domain": [
          0.2625,
          0.475
         ]
        },
        "yaxis9": {
         "anchor": "x9",
         "domain": [
          0.2625,
          0.475
         ]
        }
       }
      },
      "text/html": [
       "<div>                            <div id=\"c558b072-03c2-441d-abdf-9298f65a8388\" class=\"plotly-graph-div\" style=\"height:800px; width:1000px;\"></div>            <script type=\"text/javascript\">                require([\"plotly\"], function(Plotly) {                    window.PLOTLYENV=window.PLOTLYENV || {};                                    if (document.getElementById(\"c558b072-03c2-441d-abdf-9298f65a8388\")) {                    Plotly.newPlot(                        \"c558b072-03c2-441d-abdf-9298f65a8388\",                        [{\"legendgroup\": \"ssp126\", \"line\": {\"color\": \"rgb(10, 10, 150)\"}, \"mode\": \"lines\", \"name\": \"ssp1-2.6 (1 GCMs median)\", \"showlegend\": true, \"type\": \"scatter\", \"x\": [1, 2, 3, 4, 5, 6, 7, 8, 9, 10, 11, 12], \"xaxis\": \"x\", \"y\": [19.4, 20.2, 20.5, 20.6, 20.3], \"yaxis\": \"y\"}, {\"legendgroup\": \"ssp245\", \"line\": {\"color\": \"rgb(150, 10, 10)\"}, \"mode\": \"lines\", \"name\": \"ssp2-4.5 (1 GCMs median)\", \"showlegend\": true, \"type\": \"scatter\", \"x\": [1, 2, 3, 4, 5, 6, 7, 8, 9, 10, 11, 12], \"xaxis\": \"x\", \"y\": [19.4, 20.3, 20.6, 21.0, 21.3], \"yaxis\": \"y\"}, {\"legendgroup\": \"ssp370\", \"line\": {\"color\": \"rgb(10, 150, 10)\"}, \"mode\": \"lines\", \"name\": \"ssp3-7.0 (1 GCMs median)\", \"showlegend\": true, \"type\": \"scatter\", \"x\": [1, 2, 3, 4, 5, 6, 7, 8, 9, 10, 11, 12], \"xaxis\": \"x\", \"y\": [19.4, 20.3, 21.0, 21.6, 22.1], \"yaxis\": \"y\"}, {\"legendgroup\": \"ssp585\", \"line\": {\"color\": \"rgb(250, 170, 60)\"}, \"mode\": \"lines\", \"name\": \"ssp5-8.5 (1 GCMs median)\", \"showlegend\": true, \"type\": \"scatter\", \"x\": [1, 2, 3, 4, 5, 6, 7, 8, 9, 10, 11, 12], \"xaxis\": \"x\", \"y\": [19.4, 20.4, 21.0, 21.8, 22.4], \"yaxis\": \"y\"}, {\"legendgroup\": \"ssp126\", \"line\": {\"color\": \"rgb(10, 10, 150)\"}, \"mode\": \"lines\", \"name\": \"ssp1-2.6 (1 GCMs median)\", \"showlegend\": false, \"type\": \"scatter\", \"x\": [1, 2, 3, 4, 5, 6, 7, 8, 9, 10, 11, 12], \"xaxis\": \"x2\", \"y\": [19.8, 20.7, 20.9, 20.9, 20.9], \"yaxis\": \"y2\"}, {\"legendgroup\": \"ssp245\", \"line\": {\"color\": \"rgb(150, 10, 10)\"}, \"mode\": \"lines\", \"name\": \"ssp2-4.5 (1 GCMs median)\", \"showlegend\": false, \"type\": \"scatter\", \"x\": [1, 2, 3, 4, 5, 6, 7, 8, 9, 10, 11, 12], \"xaxis\": \"x2\", \"y\": [19.8, 20.7, 21.2, 21.6, 21.8], \"yaxis\": \"y2\"}, {\"legendgroup\": \"ssp370\", \"line\": {\"color\": \"rgb(10, 150, 10)\"}, \"mode\": \"lines\", \"name\": \"ssp3-7.0 (1 GCMs median)\", \"showlegend\": false, \"type\": \"scatter\", \"x\": [1, 2, 3, 4, 5, 6, 7, 8, 9, 10, 11, 12], \"xaxis\": \"x2\", \"y\": [19.8, 20.8, 21.3, 22.0, 22.6], \"yaxis\": \"y2\"}, {\"legendgroup\": \"ssp585\", \"line\": {\"color\": \"rgb(250, 170, 60)\"}, \"mode\": \"lines\", \"name\": \"ssp5-8.5 (1 GCMs median)\", \"showlegend\": false, \"type\": \"scatter\", \"x\": [1, 2, 3, 4, 5, 6, 7, 8, 9, 10, 11, 12], \"xaxis\": \"x2\", \"y\": [19.8, 20.9, 21.4, 22.1, 22.9], \"yaxis\": \"y2\"}, {\"legendgroup\": \"ssp126\", \"line\": {\"color\": \"rgb(10, 10, 150)\"}, \"mode\": \"lines\", \"name\": \"ssp1-2.6 (1 GCMs median)\", \"showlegend\": false, \"type\": \"scatter\", \"x\": [1, 2, 3, 4, 5, 6, 7, 8, 9, 10, 11, 12], \"xaxis\": \"x3\", \"y\": [20.7, 21.4, 21.7, 21.8, 21.7], \"yaxis\": \"y3\"}, {\"legendgroup\": \"ssp245\", \"line\": {\"color\": \"rgb(150, 10, 10)\"}, \"mode\": \"lines\", \"name\": \"ssp2-4.5 (1 GCMs median)\", \"showlegend\": false, \"type\": \"scatter\", \"x\": [1, 2, 3, 4, 5, 6, 7, 8, 9, 10, 11, 12], \"xaxis\": \"x3\", \"y\": [20.7, 21.4, 22.0, 22.3, 22.6], \"yaxis\": \"y3\"}, {\"legendgroup\": \"ssp370\", \"line\": {\"color\": \"rgb(10, 150, 10)\"}, \"mode\": \"lines\", \"name\": \"ssp3-7.0 (1 GCMs median)\", \"showlegend\": false, \"type\": \"scatter\", \"x\": [1, 2, 3, 4, 5, 6, 7, 8, 9, 10, 11, 12], \"xaxis\": \"x3\", \"y\": [20.7, 21.6, 22.3, 22.8, 23.4], \"yaxis\": \"y3\"}, {\"legendgroup\": \"ssp585\", \"line\": {\"color\": \"rgb(250, 170, 60)\"}, \"mode\": \"lines\", \"name\": \"ssp5-8.5 (1 GCMs median)\", \"showlegend\": false, \"type\": \"scatter\", \"x\": [1, 2, 3, 4, 5, 6, 7, 8, 9, 10, 11, 12], \"xaxis\": \"x3\", \"y\": [20.7, 21.5, 22.1, 23.1, 23.7], \"yaxis\": \"y3\"}, {\"legendgroup\": \"ssp126\", \"line\": {\"color\": \"rgb(10, 10, 150)\"}, \"mode\": \"lines\", \"name\": \"ssp1-2.6 (1 GCMs median)\", \"showlegend\": false, \"type\": \"scatter\", \"x\": [1, 2, 3, 4, 5, 6, 7, 8, 9, 10, 11, 12], \"xaxis\": \"x4\", \"y\": [21.2, 22.1, 22.2, 22.3, 22.2], \"yaxis\": \"y4\"}, {\"legendgroup\": \"ssp245\", \"line\": {\"color\": \"rgb(150, 10, 10)\"}, \"mode\": \"lines\", \"name\": \"ssp2-4.5 (1 GCMs median)\", \"showlegend\": false, \"type\": \"scatter\", \"x\": [1, 2, 3, 4, 5, 6, 7, 8, 9, 10, 11, 12], \"xaxis\": \"x4\", \"y\": [21.2, 22.0, 22.5, 22.7, 23.1], \"yaxis\": \"y4\"}, {\"legendgroup\": \"ssp370\", \"line\": {\"color\": \"rgb(10, 150, 10)\"}, \"mode\": \"lines\", \"name\": \"ssp3-7.0 (1 GCMs median)\", \"showlegend\": false, \"type\": \"scatter\", \"x\": [1, 2, 3, 4, 5, 6, 7, 8, 9, 10, 11, 12], \"xaxis\": \"x4\", \"y\": [21.2, 22.1, 22.8, 23.4, 23.9], \"yaxis\": \"y4\"}, {\"legendgroup\": \"ssp585\", \"line\": {\"color\": \"rgb(250, 170, 60)\"}, \"mode\": \"lines\", \"name\": \"ssp5-8.5 (1 GCMs median)\", \"showlegend\": false, \"type\": \"scatter\", \"x\": [1, 2, 3, 4, 5, 6, 7, 8, 9, 10, 11, 12], \"xaxis\": \"x4\", \"y\": [21.2, 22.3, 22.9, 23.5, 24.2], \"yaxis\": \"y4\"}, {\"legendgroup\": \"ssp126\", \"line\": {\"color\": \"rgb(10, 10, 150)\"}, \"mode\": \"lines\", \"name\": \"ssp1-2.6 (1 GCMs median)\", \"showlegend\": false, \"type\": \"scatter\", \"x\": [1, 2, 3, 4, 5, 6, 7, 8, 9, 10, 11, 12], \"xaxis\": \"x5\", \"y\": [21.8, 22.6, 22.8, 22.9, 22.7], \"yaxis\": \"y5\"}, {\"legendgroup\": \"ssp245\", \"line\": {\"color\": \"rgb(150, 10, 10)\"}, \"mode\": \"lines\", \"name\": \"ssp2-4.5 (1 GCMs median)\", \"showlegend\": false, \"type\": \"scatter\", \"x\": [1, 2, 3, 4, 5, 6, 7, 8, 9, 10, 11, 12], \"xaxis\": \"x5\", \"y\": [21.8, 22.6, 23.0, 23.4, 23.6], \"yaxis\": \"y5\"}, {\"legendgroup\": \"ssp370\", \"line\": {\"color\": \"rgb(10, 150, 10)\"}, \"mode\": \"lines\", \"name\": \"ssp3-7.0 (1 GCMs median)\", \"showlegend\": false, \"type\": \"scatter\", \"x\": [1, 2, 3, 4, 5, 6, 7, 8, 9, 10, 11, 12], \"xaxis\": \"x5\", \"y\": [21.8, 22.7, 23.3, 23.9, 24.5], \"yaxis\": \"y5\"}, {\"legendgroup\": \"ssp585\", \"line\": {\"color\": \"rgb(250, 170, 60)\"}, \"mode\": \"lines\", \"name\": \"ssp5-8.5 (1 GCMs median)\", \"showlegend\": false, \"type\": \"scatter\", \"x\": [1, 2, 3, 4, 5, 6, 7, 8, 9, 10, 11, 12], \"xaxis\": \"x5\", \"y\": [21.8, 22.7, 23.4, 24.1, 24.8], \"yaxis\": \"y5\"}, {\"legendgroup\": \"ssp126\", \"line\": {\"color\": \"rgb(10, 10, 150)\"}, \"mode\": \"lines\", \"name\": \"ssp1-2.6 (1 GCMs median)\", \"showlegend\": false, \"type\": \"scatter\", \"x\": [1, 2, 3, 4, 5, 6, 7, 8, 9, 10, 11, 12], \"xaxis\": \"x6\", \"y\": [22.2, 23.0, 23.1, 23.3, 23.2], \"yaxis\": \"y6\"}, {\"legendgroup\": \"ssp245\", \"line\": {\"color\": \"rgb(150, 10, 10)\"}, \"mode\": \"lines\", \"name\": \"ssp2-4.5 (1 GCMs median)\", \"showlegend\": false, \"type\": \"scatter\", \"x\": [1, 2, 3, 4, 5, 6, 7, 8, 9, 10, 11, 12], \"xaxis\": \"x6\", \"y\": [22.2, 23.1, 23.5, 23.7, 24.1], \"yaxis\": \"y6\"}, {\"legendgroup\": \"ssp370\", \"line\": {\"color\": \"rgb(10, 150, 10)\"}, \"mode\": \"lines\", \"name\": \"ssp3-7.0 (1 GCMs median)\", \"showlegend\": false, \"type\": \"scatter\", \"x\": [1, 2, 3, 4, 5, 6, 7, 8, 9, 10, 11, 12], \"xaxis\": \"x6\", \"y\": [22.2, 23.1, 23.7, 24.3, 24.9], \"yaxis\": \"y6\"}, {\"legendgroup\": \"ssp585\", \"line\": {\"color\": \"rgb(250, 170, 60)\"}, \"mode\": \"lines\", \"name\": \"ssp5-8.5 (1 GCMs median)\", \"showlegend\": false, \"type\": \"scatter\", \"x\": [1, 2, 3, 4, 5, 6, 7, 8, 9, 10, 11, 12], \"xaxis\": \"x6\", \"y\": [22.2, 23.2, 23.8, 24.5, 25.1], \"yaxis\": \"y6\"}, {\"legendgroup\": \"ssp126\", \"line\": {\"color\": \"rgb(10, 10, 150)\"}, \"mode\": \"lines\", \"name\": \"ssp1-2.6 (1 GCMs median)\", \"showlegend\": false, \"type\": \"scatter\", \"x\": [1, 2, 3, 4, 5, 6, 7, 8, 9, 10, 11, 12], \"xaxis\": \"x7\", \"y\": [22.6, 23.3, 23.4, 23.6, 23.5], \"yaxis\": \"y7\"}, {\"legendgroup\": \"ssp245\", \"line\": {\"color\": \"rgb(150, 10, 10)\"}, \"mode\": \"lines\", \"name\": \"ssp2-4.5 (1 GCMs median)\", \"showlegend\": false, \"type\": \"scatter\", \"x\": [1, 2, 3, 4, 5, 6, 7, 8, 9, 10, 11, 12], \"xaxis\": \"x7\", \"y\": [22.6, 23.5, 23.8, 23.9, 24.3], \"yaxis\": \"y7\"}, {\"legendgroup\": \"ssp370\", \"line\": {\"color\": \"rgb(10, 150, 10)\"}, \"mode\": \"lines\", \"name\": \"ssp3-7.0 (1 GCMs median)\", \"showlegend\": false, \"type\": \"scatter\", \"x\": [1, 2, 3, 4, 5, 6, 7, 8, 9, 10, 11, 12], \"xaxis\": \"x7\", \"y\": [22.6, 23.3, 24.0, 24.6, 25.2], \"yaxis\": \"y7\"}, {\"legendgroup\": \"ssp585\", \"line\": {\"color\": \"rgb(250, 170, 60)\"}, \"mode\": \"lines\", \"name\": \"ssp5-8.5 (1 GCMs median)\", \"showlegend\": false, \"type\": \"scatter\", \"x\": [1, 2, 3, 4, 5, 6, 7, 8, 9, 10, 11, 12], \"xaxis\": \"x7\", \"y\": [22.6, 23.5, 24.0, 24.8, 25.3], \"yaxis\": \"y7\"}, {\"legendgroup\": \"ssp126\", \"line\": {\"color\": \"rgb(10, 10, 150)\"}, \"mode\": \"lines\", \"name\": \"ssp1-2.6 (1 GCMs median)\", \"showlegend\": false, \"type\": \"scatter\", \"x\": [1, 2, 3, 4, 5, 6, 7, 8, 9, 10, 11, 12], \"xaxis\": \"x8\", \"y\": [22.7, 23.4, 23.6, 23.7, 23.5], \"yaxis\": \"y8\"}, {\"legendgroup\": \"ssp245\", \"line\": {\"color\": \"rgb(150, 10, 10)\"}, \"mode\": \"lines\", \"name\": \"ssp2-4.5 (1 GCMs median)\", \"showlegend\": false, \"type\": \"scatter\", \"x\": [1, 2, 3, 4, 5, 6, 7, 8, 9, 10, 11, 12], \"xaxis\": \"x8\", \"y\": [22.7, 23.6, 23.8, 24.1, 24.5], \"yaxis\": \"y8\"}, {\"legendgroup\": \"ssp370\", \"line\": {\"color\": \"rgb(10, 150, 10)\"}, \"mode\": \"lines\", \"name\": \"ssp3-7.0 (1 GCMs median)\", \"showlegend\": false, \"type\": \"scatter\", \"x\": [1, 2, 3, 4, 5, 6, 7, 8, 9, 10, 11, 12], \"xaxis\": \"x8\", \"y\": [22.7, 23.6, 24.2, 24.8, 25.5], \"yaxis\": \"y8\"}, {\"legendgroup\": \"ssp585\", \"line\": {\"color\": \"rgb(250, 170, 60)\"}, \"mode\": \"lines\", \"name\": \"ssp5-8.5 (1 GCMs median)\", \"showlegend\": false, \"type\": \"scatter\", \"x\": [1, 2, 3, 4, 5, 6, 7, 8, 9, 10, 11, 12], \"xaxis\": \"x8\", \"y\": [22.7, 23.6, 24.2, 24.9, 25.7], \"yaxis\": \"y8\"}, {\"legendgroup\": \"ssp126\", \"line\": {\"color\": \"rgb(10, 10, 150)\"}, \"mode\": \"lines\", \"name\": \"ssp1-2.6 (1 GCMs median)\", \"showlegend\": false, \"type\": \"scatter\", \"x\": [1, 2, 3, 4, 5, 6, 7, 8, 9, 10, 11, 12], \"xaxis\": \"x9\", \"y\": [22.5, 23.3, 23.4, 23.6, 23.5], \"yaxis\": \"y9\"}, {\"legendgroup\": \"ssp245\", \"line\": {\"color\": \"rgb(150, 10, 10)\"}, \"mode\": \"lines\", \"name\": \"ssp2-4.5 (1 GCMs median)\", \"showlegend\": false, \"type\": \"scatter\", \"x\": [1, 2, 3, 4, 5, 6, 7, 8, 9, 10, 11, 12], \"xaxis\": \"x9\", \"y\": [22.5, 23.5, 23.7, 24.2, 24.4], \"yaxis\": \"y9\"}, {\"legendgroup\": \"ssp370\", \"line\": {\"color\": \"rgb(10, 150, 10)\"}, \"mode\": \"lines\", \"name\": \"ssp3-7.0 (1 GCMs median)\", \"showlegend\": false, \"type\": \"scatter\", \"x\": [1, 2, 3, 4, 5, 6, 7, 8, 9, 10, 11, 12], \"xaxis\": \"x9\", \"y\": [22.5, 23.5, 24.1, 24.8, 25.5], \"yaxis\": \"y9\"}, {\"legendgroup\": \"ssp585\", \"line\": {\"color\": \"rgb(250, 170, 60)\"}, \"mode\": \"lines\", \"name\": \"ssp5-8.5 (1 GCMs median)\", \"showlegend\": false, \"type\": \"scatter\", \"x\": [1, 2, 3, 4, 5, 6, 7, 8, 9, 10, 11, 12], \"xaxis\": \"x9\", \"y\": [22.5, 23.6, 24.2, 25.0, 25.7], \"yaxis\": \"y9\"}, {\"legendgroup\": \"ssp126\", \"line\": {\"color\": \"rgb(10, 10, 150)\"}, \"mode\": \"lines\", \"name\": \"ssp1-2.6 (1 GCMs median)\", \"showlegend\": false, \"type\": \"scatter\", \"x\": [1, 2, 3, 4, 5, 6, 7, 8, 9, 10, 11, 12], \"xaxis\": \"x10\", \"y\": [22.0, 22.8, 22.9, 23.1, 23.0], \"yaxis\": \"y10\"}, {\"legendgroup\": \"ssp245\", \"line\": {\"color\": \"rgb(150, 10, 10)\"}, \"mode\": \"lines\", \"name\": \"ssp2-4.5 (1 GCMs median)\", \"showlegend\": false, \"type\": \"scatter\", \"x\": [1, 2, 3, 4, 5, 6, 7, 8, 9, 10, 11, 12], \"xaxis\": \"x10\", \"y\": [22.0, 22.9, 23.2, 23.6, 23.8], \"yaxis\": \"y10\"}, {\"legendgroup\": \"ssp370\", \"line\": {\"color\": \"rgb(10, 150, 10)\"}, \"mode\": \"lines\", \"name\": \"ssp3-7.0 (1 GCMs median)\", \"showlegend\": false, \"type\": \"scatter\", \"x\": [1, 2, 3, 4, 5, 6, 7, 8, 9, 10, 11, 12], \"xaxis\": \"x10\", \"y\": [22.0, 23.0, 23.6, 24.1, 24.8], \"yaxis\": \"y10\"}, {\"legendgroup\": \"ssp585\", \"line\": {\"color\": \"rgb(250, 170, 60)\"}, \"mode\": \"lines\", \"name\": \"ssp5-8.5 (1 GCMs median)\", \"showlegend\": false, \"type\": \"scatter\", \"x\": [1, 2, 3, 4, 5, 6, 7, 8, 9, 10, 11, 12], \"xaxis\": \"x10\", \"y\": [22.0, 22.9, 23.6, 24.4, 25.1], \"yaxis\": \"y10\"}, {\"legendgroup\": \"ssp126\", \"line\": {\"color\": \"rgb(10, 10, 150)\"}, \"mode\": \"lines\", \"name\": \"ssp1-2.6 (1 GCMs median)\", \"showlegend\": false, \"type\": \"scatter\", \"x\": [1, 2, 3, 4, 5, 6, 7, 8, 9, 10, 11, 12], \"xaxis\": \"x11\", \"y\": [20.9, 21.8, 22.0, 22.1, 21.9], \"yaxis\": \"y11\"}, {\"legendgroup\": \"ssp245\", \"line\": {\"color\": \"rgb(150, 10, 10)\"}, \"mode\": \"lines\", \"name\": \"ssp2-4.5 (1 GCMs median)\", \"showlegend\": false, \"type\": \"scatter\", \"x\": [1, 2, 3, 4, 5, 6, 7, 8, 9, 10, 11, 12], \"xaxis\": \"x11\", \"y\": [20.9, 21.8, 22.3, 22.6, 23.0], \"yaxis\": \"y11\"}, {\"legendgroup\": \"ssp370\", \"line\": {\"color\": \"rgb(10, 150, 10)\"}, \"mode\": \"lines\", \"name\": \"ssp3-7.0 (1 GCMs median)\", \"showlegend\": false, \"type\": \"scatter\", \"x\": [1, 2, 3, 4, 5, 6, 7, 8, 9, 10, 11, 12], \"xaxis\": \"x11\", \"y\": [20.9, 21.9, 22.6, 23.2, 23.9], \"yaxis\": \"y11\"}, {\"legendgroup\": \"ssp585\", \"line\": {\"color\": \"rgb(250, 170, 60)\"}, \"mode\": \"lines\", \"name\": \"ssp5-8.5 (1 GCMs median)\", \"showlegend\": false, \"type\": \"scatter\", \"x\": [1, 2, 3, 4, 5, 6, 7, 8, 9, 10, 11, 12], \"xaxis\": \"x11\", \"y\": [20.9, 22.0, 22.6, 23.4, 24.0], \"yaxis\": \"y11\"}, {\"legendgroup\": \"ssp126\", \"line\": {\"color\": \"rgb(10, 10, 150)\"}, \"mode\": \"lines\", \"name\": \"ssp1-2.6 (1 GCMs median)\", \"showlegend\": false, \"type\": \"scatter\", \"x\": [1, 2, 3, 4, 5, 6, 7, 8, 9, 10, 11, 12], \"xaxis\": \"x12\", \"y\": [19.8, 20.7, 20.8, 21.0, 20.8], \"yaxis\": \"y12\"}, {\"legendgroup\": \"ssp245\", \"line\": {\"color\": \"rgb(150, 10, 10)\"}, \"mode\": \"lines\", \"name\": \"ssp2-4.5 (1 GCMs median)\", \"showlegend\": false, \"type\": \"scatter\", \"x\": [1, 2, 3, 4, 5, 6, 7, 8, 9, 10, 11, 12], \"xaxis\": \"x12\", \"y\": [19.8, 20.9, 21.2, 21.4, 21.8], \"yaxis\": \"y12\"}, {\"legendgroup\": \"ssp370\", \"line\": {\"color\": \"rgb(10, 150, 10)\"}, \"mode\": \"lines\", \"name\": \"ssp3-7.0 (1 GCMs median)\", \"showlegend\": false, \"type\": \"scatter\", \"x\": [1, 2, 3, 4, 5, 6, 7, 8, 9, 10, 11, 12], \"xaxis\": \"x12\", \"y\": [19.8, 20.8, 21.5, 22.1, 22.7], \"yaxis\": \"y12\"}, {\"legendgroup\": \"ssp585\", \"line\": {\"color\": \"rgb(250, 170, 60)\"}, \"mode\": \"lines\", \"name\": \"ssp5-8.5 (1 GCMs median)\", \"showlegend\": false, \"type\": \"scatter\", \"x\": [1, 2, 3, 4, 5, 6, 7, 8, 9, 10, 11, 12], \"xaxis\": \"x12\", \"y\": [19.8, 20.9, 21.6, 22.3, 22.9], \"yaxis\": \"y12\"}],                        {\"annotations\": [{\"font\": {\"size\": 16}, \"showarrow\": false, \"text\": \"1\", \"x\": 0.14444444444444446, \"xanchor\": \"center\", \"xref\": \"paper\", \"y\": 1.0, \"yanchor\": \"bottom\", \"yref\": \"paper\"}, {\"font\": {\"size\": 16}, \"showarrow\": false, \"text\": \"2\", \"x\": 0.5, \"xanchor\": \"center\", \"xref\": \"paper\", \"y\": 1.0, \"yanchor\": \"bottom\", \"yref\": \"paper\"}, {\"font\": {\"size\": 16}, \"showarrow\": false, \"text\": \"3\", \"x\": 0.8555555555555556, \"xanchor\": \"center\", \"xref\": \"paper\", \"y\": 1.0, \"yanchor\": \"bottom\", \"yref\": \"paper\"}, {\"font\": {\"size\": 16}, \"showarrow\": false, \"text\": \"4\", \"x\": 0.14444444444444446, \"xanchor\": \"center\", \"xref\": \"paper\", \"y\": 0.7375, \"yanchor\": \"bottom\", \"yref\": \"paper\"}, {\"font\": {\"size\": 16}, \"showarrow\": false, \"text\": \"5\", \"x\": 0.5, \"xanchor\": \"center\", \"xref\": \"paper\", \"y\": 0.7375, \"yanchor\": \"bottom\", \"yref\": \"paper\"}, {\"font\": {\"size\": 16}, \"showarrow\": false, \"text\": \"6\", \"x\": 0.8555555555555556, \"xanchor\": \"center\", \"xref\": \"paper\", \"y\": 0.7375, \"yanchor\": \"bottom\", \"yref\": \"paper\"}, {\"font\": {\"size\": 16}, \"showarrow\": false, \"text\": \"7\", \"x\": 0.14444444444444446, \"xanchor\": \"center\", \"xref\": \"paper\", \"y\": 0.475, \"yanchor\": \"bottom\", \"yref\": \"paper\"}, {\"font\": {\"size\": 16}, \"showarrow\": false, \"text\": \"8\", \"x\": 0.5, \"xanchor\": \"center\", \"xref\": \"paper\", \"y\": 0.475, \"yanchor\": \"bottom\", \"yref\": \"paper\"}, {\"font\": {\"size\": 16}, \"showarrow\": false, \"text\": \"9\", \"x\": 0.8555555555555556, \"xanchor\": \"center\", \"xref\": \"paper\", \"y\": 0.475, \"yanchor\": \"bottom\", \"yref\": \"paper\"}, {\"font\": {\"size\": 16}, \"showarrow\": false, \"text\": \"10\", \"x\": 0.14444444444444446, \"xanchor\": \"center\", \"xref\": \"paper\", \"y\": 0.2125, \"yanchor\": \"bottom\", \"yref\": \"paper\"}, {\"font\": {\"size\": 16}, \"showarrow\": false, \"text\": \"11\", \"x\": 0.5, \"xanchor\": \"center\", \"xref\": \"paper\", \"y\": 0.2125, \"yanchor\": \"bottom\", \"yref\": \"paper\"}, {\"font\": {\"size\": 16}, \"showarrow\": false, \"text\": \"12\", \"x\": 0.8555555555555556, \"xanchor\": \"center\", \"xref\": \"paper\", \"y\": 0.2125, \"yanchor\": \"bottom\", \"yref\": \"paper\"}], \"height\": 800, \"hovermode\": \"x\", \"showlegend\": true, \"template\": {\"data\": {\"bar\": [{\"error_x\": {\"color\": \"#2a3f5f\"}, \"error_y\": {\"color\": \"#2a3f5f\"}, \"marker\": {\"line\": {\"color\": \"#E5ECF6\", \"width\": 0.5}}, \"type\": \"bar\"}], \"barpolar\": [{\"marker\": {\"line\": {\"color\": \"#E5ECF6\", \"width\": 0.5}}, \"type\": \"barpolar\"}], \"carpet\": [{\"aaxis\": {\"endlinecolor\": \"#2a3f5f\", \"gridcolor\": \"white\", \"linecolor\": \"white\", \"minorgridcolor\": \"white\", \"startlinecolor\": \"#2a3f5f\"}, \"baxis\": {\"endlinecolor\": \"#2a3f5f\", \"gridcolor\": \"white\", \"linecolor\": \"white\", \"minorgridcolor\": \"white\", \"startlinecolor\": \"#2a3f5f\"}, \"type\": \"carpet\"}], \"choropleth\": [{\"colorbar\": {\"outlinewidth\": 0, \"ticks\": \"\"}, \"type\": \"choropleth\"}], \"contour\": [{\"colorbar\": {\"outlinewidth\": 0, \"ticks\": \"\"}, \"colorscale\": [[0.0, \"#0d0887\"], [0.1111111111111111, \"#46039f\"], [0.2222222222222222, \"#7201a8\"], [0.3333333333333333, \"#9c179e\"], [0.4444444444444444, \"#bd3786\"], [0.5555555555555556, \"#d8576b\"], [0.6666666666666666, \"#ed7953\"], [0.7777777777777778, \"#fb9f3a\"], [0.8888888888888888, \"#fdca26\"], [1.0, \"#f0f921\"]], \"type\": \"contour\"}], \"contourcarpet\": [{\"colorbar\": {\"outlinewidth\": 0, \"ticks\": \"\"}, \"type\": \"contourcarpet\"}], \"heatmap\": [{\"colorbar\": {\"outlinewidth\": 0, \"ticks\": \"\"}, \"colorscale\": [[0.0, \"#0d0887\"], [0.1111111111111111, \"#46039f\"], [0.2222222222222222, \"#7201a8\"], [0.3333333333333333, \"#9c179e\"], [0.4444444444444444, \"#bd3786\"], [0.5555555555555556, \"#d8576b\"], [0.6666666666666666, \"#ed7953\"], [0.7777777777777778, \"#fb9f3a\"], [0.8888888888888888, \"#fdca26\"], [1.0, \"#f0f921\"]], \"type\": \"heatmap\"}], \"heatmapgl\": [{\"colorbar\": {\"outlinewidth\": 0, \"ticks\": \"\"}, \"colorscale\": [[0.0, \"#0d0887\"], [0.1111111111111111, \"#46039f\"], [0.2222222222222222, \"#7201a8\"], [0.3333333333333333, \"#9c179e\"], [0.4444444444444444, \"#bd3786\"], [0.5555555555555556, \"#d8576b\"], [0.6666666666666666, \"#ed7953\"], [0.7777777777777778, \"#fb9f3a\"], [0.8888888888888888, \"#fdca26\"], [1.0, \"#f0f921\"]], \"type\": \"heatmapgl\"}], \"histogram\": [{\"marker\": {\"colorbar\": {\"outlinewidth\": 0, \"ticks\": \"\"}}, \"type\": \"histogram\"}], \"histogram2d\": [{\"colorbar\": {\"outlinewidth\": 0, \"ticks\": \"\"}, \"colorscale\": [[0.0, \"#0d0887\"], [0.1111111111111111, \"#46039f\"], [0.2222222222222222, \"#7201a8\"], [0.3333333333333333, \"#9c179e\"], [0.4444444444444444, \"#bd3786\"], [0.5555555555555556, \"#d8576b\"], [0.6666666666666666, \"#ed7953\"], [0.7777777777777778, \"#fb9f3a\"], [0.8888888888888888, \"#fdca26\"], [1.0, \"#f0f921\"]], \"type\": \"histogram2d\"}], \"histogram2dcontour\": [{\"colorbar\": {\"outlinewidth\": 0, \"ticks\": \"\"}, \"colorscale\": [[0.0, \"#0d0887\"], [0.1111111111111111, \"#46039f\"], [0.2222222222222222, \"#7201a8\"], [0.3333333333333333, \"#9c179e\"], [0.4444444444444444, \"#bd3786\"], [0.5555555555555556, \"#d8576b\"], [0.6666666666666666, \"#ed7953\"], [0.7777777777777778, \"#fb9f3a\"], [0.8888888888888888, \"#fdca26\"], [1.0, \"#f0f921\"]], \"type\": \"histogram2dcontour\"}], \"mesh3d\": [{\"colorbar\": {\"outlinewidth\": 0, \"ticks\": \"\"}, \"type\": \"mesh3d\"}], \"parcoords\": [{\"line\": {\"colorbar\": {\"outlinewidth\": 0, \"ticks\": \"\"}}, \"type\": \"parcoords\"}], \"pie\": [{\"automargin\": true, \"type\": \"pie\"}], \"scatter\": [{\"marker\": {\"colorbar\": {\"outlinewidth\": 0, \"ticks\": \"\"}}, \"type\": \"scatter\"}], \"scatter3d\": [{\"line\": {\"colorbar\": {\"outlinewidth\": 0, \"ticks\": \"\"}}, \"marker\": {\"colorbar\": {\"outlinewidth\": 0, \"ticks\": \"\"}}, \"type\": \"scatter3d\"}], \"scattercarpet\": [{\"marker\": {\"colorbar\": {\"outlinewidth\": 0, \"ticks\": \"\"}}, \"type\": \"scattercarpet\"}], \"scattergeo\": [{\"marker\": {\"colorbar\": {\"outlinewidth\": 0, \"ticks\": \"\"}}, \"type\": \"scattergeo\"}], \"scattergl\": [{\"marker\": {\"colorbar\": {\"outlinewidth\": 0, \"ticks\": \"\"}}, \"type\": \"scattergl\"}], \"scattermapbox\": [{\"marker\": {\"colorbar\": {\"outlinewidth\": 0, \"ticks\": \"\"}}, \"type\": \"scattermapbox\"}], \"scatterpolar\": [{\"marker\": {\"colorbar\": {\"outlinewidth\": 0, \"ticks\": \"\"}}, \"type\": \"scatterpolar\"}], \"scatterpolargl\": [{\"marker\": {\"colorbar\": {\"outlinewidth\": 0, \"ticks\": \"\"}}, \"type\": \"scatterpolargl\"}], \"scatterternary\": [{\"marker\": {\"colorbar\": {\"outlinewidth\": 0, \"ticks\": \"\"}}, \"type\": \"scatterternary\"}], \"surface\": [{\"colorbar\": {\"outlinewidth\": 0, \"ticks\": \"\"}, \"colorscale\": [[0.0, \"#0d0887\"], [0.1111111111111111, \"#46039f\"], [0.2222222222222222, \"#7201a8\"], [0.3333333333333333, \"#9c179e\"], [0.4444444444444444, \"#bd3786\"], [0.5555555555555556, \"#d8576b\"], [0.6666666666666666, \"#ed7953\"], [0.7777777777777778, \"#fb9f3a\"], [0.8888888888888888, \"#fdca26\"], [1.0, \"#f0f921\"]], \"type\": \"surface\"}], \"table\": [{\"cells\": {\"fill\": {\"color\": \"#EBF0F8\"}, \"line\": {\"color\": \"white\"}}, \"header\": {\"fill\": {\"color\": \"#C8D4E3\"}, \"line\": {\"color\": \"white\"}}, \"type\": \"table\"}]}, \"layout\": {\"annotationdefaults\": {\"arrowcolor\": \"#2a3f5f\", \"arrowhead\": 0, \"arrowwidth\": 1}, \"autotypenumbers\": \"strict\", \"coloraxis\": {\"colorbar\": {\"outlinewidth\": 0, \"ticks\": \"\"}}, \"colorscale\": {\"diverging\": [[0, \"#8e0152\"], [0.1, \"#c51b7d\"], [0.2, \"#de77ae\"], [0.3, \"#f1b6da\"], [0.4, \"#fde0ef\"], [0.5, \"#f7f7f7\"], [0.6, \"#e6f5d0\"], [0.7, \"#b8e186\"], [0.8, \"#7fbc41\"], [0.9, \"#4d9221\"], [1, \"#276419\"]], \"sequential\": [[0.0, \"#0d0887\"], [0.1111111111111111, \"#46039f\"], [0.2222222222222222, \"#7201a8\"], [0.3333333333333333, \"#9c179e\"], [0.4444444444444444, \"#bd3786\"], [0.5555555555555556, \"#d8576b\"], [0.6666666666666666, \"#ed7953\"], [0.7777777777777778, \"#fb9f3a\"], [0.8888888888888888, \"#fdca26\"], [1.0, \"#f0f921\"]], \"sequentialminus\": [[0.0, \"#0d0887\"], [0.1111111111111111, \"#46039f\"], [0.2222222222222222, \"#7201a8\"], [0.3333333333333333, \"#9c179e\"], [0.4444444444444444, \"#bd3786\"], [0.5555555555555556, \"#d8576b\"], [0.6666666666666666, \"#ed7953\"], [0.7777777777777778, \"#fb9f3a\"], [0.8888888888888888, \"#fdca26\"], [1.0, \"#f0f921\"]]}, \"colorway\": [\"#636efa\", \"#EF553B\", \"#00cc96\", \"#ab63fa\", \"#FFA15A\", \"#19d3f3\", \"#FF6692\", \"#B6E880\", \"#FF97FF\", \"#FECB52\"], \"font\": {\"color\": \"#2a3f5f\"}, \"geo\": {\"bgcolor\": \"white\", \"lakecolor\": \"white\", \"landcolor\": \"#E5ECF6\", \"showlakes\": true, \"showland\": true, \"subunitcolor\": \"white\"}, \"hoverlabel\": {\"align\": \"left\"}, \"hovermode\": \"closest\", \"mapbox\": {\"style\": \"light\"}, \"paper_bgcolor\": \"white\", \"plot_bgcolor\": \"#E5ECF6\", \"polar\": {\"angularaxis\": {\"gridcolor\": \"white\", \"linecolor\": \"white\", \"ticks\": \"\"}, \"bgcolor\": \"#E5ECF6\", \"radialaxis\": {\"gridcolor\": \"white\", \"linecolor\": \"white\", \"ticks\": \"\"}}, \"scene\": {\"xaxis\": {\"backgroundcolor\": \"#E5ECF6\", \"gridcolor\": \"white\", \"gridwidth\": 2, \"linecolor\": \"white\", \"showbackground\": true, \"ticks\": \"\", \"zerolinecolor\": \"white\"}, \"yaxis\": {\"backgroundcolor\": \"#E5ECF6\", \"gridcolor\": \"white\", \"gridwidth\": 2, \"linecolor\": \"white\", \"showbackground\": true, \"ticks\": \"\", \"zerolinecolor\": \"white\"}, \"zaxis\": {\"backgroundcolor\": \"#E5ECF6\", \"gridcolor\": \"white\", \"gridwidth\": 2, \"linecolor\": \"white\", \"showbackground\": true, \"ticks\": \"\", \"zerolinecolor\": \"white\"}}, \"shapedefaults\": {\"line\": {\"color\": \"#2a3f5f\"}}, \"ternary\": {\"aaxis\": {\"gridcolor\": \"white\", \"linecolor\": \"white\", \"ticks\": \"\"}, \"baxis\": {\"gridcolor\": \"white\", \"linecolor\": \"white\", \"ticks\": \"\"}, \"bgcolor\": \"#E5ECF6\", \"caxis\": {\"gridcolor\": \"white\", \"linecolor\": \"white\", \"ticks\": \"\"}}, \"title\": {\"x\": 0.05}, \"xaxis\": {\"automargin\": true, \"gridcolor\": \"white\", \"linecolor\": \"white\", \"ticks\": \"\", \"title\": {\"standoff\": 15}, \"zerolinecolor\": \"white\", \"zerolinewidth\": 2}, \"yaxis\": {\"automargin\": true, \"gridcolor\": \"white\", \"linecolor\": \"white\", \"ticks\": \"\", \"title\": {\"standoff\": 15}, \"zerolinecolor\": \"white\", \"zerolinewidth\": 2}}}, \"title\": {\"text\": \"Evolution of future Monthly Temperature Climatology, according to 4 scenarios (median of 1 GCMs)\"}, \"width\": 1000, \"xaxis\": {\"anchor\": \"y\", \"domain\": [0.0, 0.2888888888888889], \"matches\": \"x10\", \"showticklabels\": false}, \"xaxis10\": {\"anchor\": \"y10\", \"domain\": [0.0, 0.2888888888888889]}, \"xaxis11\": {\"anchor\": \"y11\", \"domain\": [0.35555555555555557, 0.6444444444444445]}, \"xaxis12\": {\"anchor\": \"y12\", \"domain\": [0.7111111111111111, 1.0]}, \"xaxis2\": {\"anchor\": \"y2\", \"domain\": [0.35555555555555557, 0.6444444444444445], \"matches\": \"x11\", \"showticklabels\": false}, \"xaxis3\": {\"anchor\": \"y3\", \"domain\": [0.7111111111111111, 1.0], \"matches\": \"x12\", \"showticklabels\": false}, \"xaxis4\": {\"anchor\": \"y4\", \"domain\": [0.0, 0.2888888888888889], \"matches\": \"x10\", \"showticklabels\": false}, \"xaxis5\": {\"anchor\": \"y5\", \"domain\": [0.35555555555555557, 0.6444444444444445], \"matches\": \"x11\", \"showticklabels\": false}, \"xaxis6\": {\"anchor\": \"y6\", \"domain\": [0.7111111111111111, 1.0], \"matches\": \"x12\", \"showticklabels\": false}, \"xaxis7\": {\"anchor\": \"y7\", \"domain\": [0.0, 0.2888888888888889], \"matches\": \"x10\", \"showticklabels\": false}, \"xaxis8\": {\"anchor\": \"y8\", \"domain\": [0.35555555555555557, 0.6444444444444445], \"matches\": \"x11\", \"showticklabels\": false}, \"xaxis9\": {\"anchor\": \"y9\", \"domain\": [0.7111111111111111, 1.0], \"matches\": \"x12\", \"showticklabels\": false}, \"yaxis\": {\"anchor\": \"x\", \"domain\": [0.7875, 1.0], \"title\": {\"text\": \"\\u00b0C\"}}, \"yaxis10\": {\"anchor\": \"x10\", \"domain\": [0.0, 0.2125], \"title\": {\"text\": \"\\u00b0C\"}}, \"yaxis11\": {\"anchor\": \"x11\", \"domain\": [0.0, 0.2125]}, \"yaxis12\": {\"anchor\": \"x12\", \"domain\": [0.0, 0.2125]}, \"yaxis2\": {\"anchor\": \"x2\", \"domain\": [0.7875, 1.0]}, \"yaxis3\": {\"anchor\": \"x3\", \"domain\": [0.7875, 1.0]}, \"yaxis4\": {\"anchor\": \"x4\", \"domain\": [0.525, 0.7375], \"title\": {\"text\": \"\\u00b0C\"}}, \"yaxis5\": {\"anchor\": \"x5\", \"domain\": [0.525, 0.7375]}, \"yaxis6\": {\"anchor\": \"x6\", \"domain\": [0.525, 0.7375]}, \"yaxis7\": {\"anchor\": \"x7\", \"domain\": [0.2625, 0.475], \"title\": {\"text\": \"\\u00b0C\"}}, \"yaxis8\": {\"anchor\": \"x8\", \"domain\": [0.2625, 0.475]}, \"yaxis9\": {\"anchor\": \"x9\", \"domain\": [0.2625, 0.475]}},                        {\"responsive\": true}                    ).then(function(){\n",
       "                            \n",
       "var gd = document.getElementById('c558b072-03c2-441d-abdf-9298f65a8388');\n",
       "var x = new MutationObserver(function (mutations, observer) {{\n",
       "        var display = window.getComputedStyle(gd).display;\n",
       "        if (!display || display === 'none') {{\n",
       "            console.log([gd, 'removed!']);\n",
       "            Plotly.purge(gd);\n",
       "            observer.disconnect();\n",
       "        }}\n",
       "}});\n",
       "\n",
       "// Listen for the removal of the full notebook cells\n",
       "var notebookContainer = gd.closest('#notebook-container');\n",
       "if (notebookContainer) {{\n",
       "    x.observe(notebookContainer, {childList: true});\n",
       "}}\n",
       "\n",
       "// Listen for the clearing of the current output cell\n",
       "var outputEl = gd.closest('.output');\n",
       "if (outputEl) {{\n",
       "    x.observe(outputEl, {childList: true});\n",
       "}}\n",
       "\n",
       "                        })                };                });            </script>        </div>"
      ]
     },
     "metadata": {},
     "output_type": "display_data"
    }
   ],
   "source": [
    "import plotly.subplots as ps\n",
    "\n",
    "fig = ps.make_subplots(rows= 4, cols= 3,\n",
    "                       shared_xaxes=True,\n",
    "                       vertical_spacing=0.05,\n",
    "                       subplot_titles= range(1, 13)\n",
    "                      )\n",
    "\n",
    "month= 0\n",
    "for rw in range(1, 5):\n",
    "    for cl in range(1, 4):\n",
    "        showlegend= True if month== 0 else False\n",
    "        month = month + 1\n",
    "        for scenario, scenario_long, rgb, rgba in zip(ssp_list, ssp_list_long, rgb_list, rgba_list):\n",
    "            test= (df_total.index.get_level_values('Scenario') == scenario) | (df_total.index.get_level_values('Scenario') =='Historical')\n",
    "            group = df_total[test ][month].groupby(by= 'Period')\n",
    "\n",
    "            fig.add_trace(\n",
    "                go.Scatter(\n",
    "                    name= scenario_long + ' (' + str(len(gcm_list)) + ' GCMs median)',\n",
    "                    x= x,\n",
    "                    y= group.median(),\n",
    "                    mode= 'lines',\n",
    "                    line= dict(color= rgb),\n",
    "                    legendgroup= scenario,\n",
    "                    showlegend= showlegend,\n",
    "#                    yaxis= dict(range= [df_total[test ][month].min(), df_total[test ][month].max()]),\n",
    "                        ),\n",
    "                    row= rw, col= cl\n",
    "                    )\n",
    "\n",
    "fig.update_layout(\n",
    "    height= 800, width= 1000,\n",
    "    yaxis_title= unit,\n",
    "    title= 'Evolution of future Monthly ' + variable +  ' Climatology, according to ' + str(len(ssp_list)) + ' scenarios (median of ' + str(len(gcm_list)) + ' GCMs)',\n",
    "    template= \"plotly\", # \"plotly\", \"plotly_white\", \"plotly_dark\", \"ggplot2\", \"seaborn\", \"simple_white\", \"none\"\n",
    "    hovermode= \"x\",\n",
    "#    yaxis_range= [df_total.min().max(), df_total.max().max()],\n",
    "#    legend= dict(orientation= 'h', yanchor= \"top\", y= -0.1, xanchor= \"left\", x= 0.05),\n",
    "    showlegend= True,\n",
    "    )\n",
    "for ax in fig['layout']:\n",
    "    if ax[:5]== 'yaxis':\n",
    "        if ax[5:] in ['1', '4', '7', '10']:\n",
    "            fig['layout'][ax]['title']= unit\n",
    "file_future_by_month= 'WorldClim - future by month.png'\n",
    "fig.write_image(os.path.join(fld_out, file_future_by_month))# needs installation of \"plotly-orca\" or \"kaleido\"\n",
    "fig.show()"
   ]
  },
  {
   "cell_type": "markdown",
   "metadata": {},
   "source": [
    "### <a name=section07></a>7) Create a dataframe with statistics"
   ]
  },
  {
   "cell_type": "code",
   "execution_count": 40,
   "metadata": {
    "scrolled": true
   },
   "outputs": [
    {
     "data": {
      "text/html": [
       "<div>\n",
       "<style scoped>\n",
       "    .dataframe tbody tr th:only-of-type {\n",
       "        vertical-align: middle;\n",
       "    }\n",
       "\n",
       "    .dataframe tbody tr th {\n",
       "        vertical-align: top;\n",
       "    }\n",
       "\n",
       "    .dataframe thead th {\n",
       "        text-align: right;\n",
       "    }\n",
       "</style>\n",
       "<table border=\"1\" class=\"dataframe\">\n",
       "  <thead>\n",
       "    <tr style=\"text-align: right;\">\n",
       "      <th></th>\n",
       "      <th></th>\n",
       "      <th></th>\n",
       "      <th>1</th>\n",
       "      <th>2</th>\n",
       "      <th>3</th>\n",
       "      <th>4</th>\n",
       "      <th>5</th>\n",
       "      <th>6</th>\n",
       "      <th>7</th>\n",
       "      <th>8</th>\n",
       "      <th>9</th>\n",
       "      <th>10</th>\n",
       "      <th>11</th>\n",
       "      <th>12</th>\n",
       "      <th>Annual</th>\n",
       "    </tr>\n",
       "    <tr>\n",
       "      <th>Model</th>\n",
       "      <th>Scenario</th>\n",
       "      <th>Period</th>\n",
       "      <th></th>\n",
       "      <th></th>\n",
       "      <th></th>\n",
       "      <th></th>\n",
       "      <th></th>\n",
       "      <th></th>\n",
       "      <th></th>\n",
       "      <th></th>\n",
       "      <th></th>\n",
       "      <th></th>\n",
       "      <th></th>\n",
       "      <th></th>\n",
       "      <th></th>\n",
       "    </tr>\n",
       "  </thead>\n",
       "  <tbody>\n",
       "    <tr>\n",
       "      <th rowspan=\"16\" valign=\"top\">Max</th>\n",
       "      <th rowspan=\"4\" valign=\"top\">ssp126</th>\n",
       "      <th>2021-2040</th>\n",
       "      <td>20.2</td>\n",
       "      <td>20.7</td>\n",
       "      <td>21.4</td>\n",
       "      <td>22.1</td>\n",
       "      <td>22.6</td>\n",
       "      <td>23.0</td>\n",
       "      <td>23.3</td>\n",
       "      <td>23.4</td>\n",
       "      <td>23.3</td>\n",
       "      <td>22.8</td>\n",
       "      <td>21.8</td>\n",
       "      <td>20.7</td>\n",
       "      <td>22.1</td>\n",
       "    </tr>\n",
       "    <tr>\n",
       "      <th>2041-2060</th>\n",
       "      <td>20.5</td>\n",
       "      <td>20.9</td>\n",
       "      <td>21.7</td>\n",
       "      <td>22.2</td>\n",
       "      <td>22.8</td>\n",
       "      <td>23.1</td>\n",
       "      <td>23.4</td>\n",
       "      <td>23.6</td>\n",
       "      <td>23.4</td>\n",
       "      <td>22.9</td>\n",
       "      <td>22.0</td>\n",
       "      <td>20.8</td>\n",
       "      <td>22.3</td>\n",
       "    </tr>\n",
       "    <tr>\n",
       "      <th>2061-2080</th>\n",
       "      <td>20.6</td>\n",
       "      <td>20.9</td>\n",
       "      <td>21.8</td>\n",
       "      <td>22.3</td>\n",
       "      <td>22.9</td>\n",
       "      <td>23.3</td>\n",
       "      <td>23.6</td>\n",
       "      <td>23.7</td>\n",
       "      <td>23.6</td>\n",
       "      <td>23.1</td>\n",
       "      <td>22.1</td>\n",
       "      <td>21.0</td>\n",
       "      <td>22.4</td>\n",
       "    </tr>\n",
       "    <tr>\n",
       "      <th>2081-2100</th>\n",
       "      <td>20.3</td>\n",
       "      <td>20.9</td>\n",
       "      <td>21.7</td>\n",
       "      <td>22.2</td>\n",
       "      <td>22.7</td>\n",
       "      <td>23.2</td>\n",
       "      <td>23.5</td>\n",
       "      <td>23.5</td>\n",
       "      <td>23.5</td>\n",
       "      <td>23.0</td>\n",
       "      <td>21.9</td>\n",
       "      <td>20.8</td>\n",
       "      <td>22.3</td>\n",
       "    </tr>\n",
       "    <tr>\n",
       "      <th rowspan=\"4\" valign=\"top\">ssp245</th>\n",
       "      <th>2021-2040</th>\n",
       "      <td>20.3</td>\n",
       "      <td>20.7</td>\n",
       "      <td>21.4</td>\n",
       "      <td>22.0</td>\n",
       "      <td>22.6</td>\n",
       "      <td>23.1</td>\n",
       "      <td>23.5</td>\n",
       "      <td>23.6</td>\n",
       "      <td>23.5</td>\n",
       "      <td>22.9</td>\n",
       "      <td>21.8</td>\n",
       "      <td>20.9</td>\n",
       "      <td>22.2</td>\n",
       "    </tr>\n",
       "    <tr>\n",
       "      <th>2041-2060</th>\n",
       "      <td>20.6</td>\n",
       "      <td>21.2</td>\n",
       "      <td>22.0</td>\n",
       "      <td>22.5</td>\n",
       "      <td>23.0</td>\n",
       "      <td>23.5</td>\n",
       "      <td>23.8</td>\n",
       "      <td>23.8</td>\n",
       "      <td>23.7</td>\n",
       "      <td>23.2</td>\n",
       "      <td>22.3</td>\n",
       "      <td>21.2</td>\n",
       "      <td>22.6</td>\n",
       "    </tr>\n",
       "    <tr>\n",
       "      <th>2061-2080</th>\n",
       "      <td>21.0</td>\n",
       "      <td>21.6</td>\n",
       "      <td>22.3</td>\n",
       "      <td>22.7</td>\n",
       "      <td>23.4</td>\n",
       "      <td>23.7</td>\n",
       "      <td>23.9</td>\n",
       "      <td>24.1</td>\n",
       "      <td>24.2</td>\n",
       "      <td>23.6</td>\n",
       "      <td>22.6</td>\n",
       "      <td>21.4</td>\n",
       "      <td>22.9</td>\n",
       "    </tr>\n",
       "    <tr>\n",
       "      <th>2081-2100</th>\n",
       "      <td>21.3</td>\n",
       "      <td>21.8</td>\n",
       "      <td>22.6</td>\n",
       "      <td>23.1</td>\n",
       "      <td>23.6</td>\n",
       "      <td>24.1</td>\n",
       "      <td>24.3</td>\n",
       "      <td>24.5</td>\n",
       "      <td>24.4</td>\n",
       "      <td>23.8</td>\n",
       "      <td>23.0</td>\n",
       "      <td>21.8</td>\n",
       "      <td>23.2</td>\n",
       "    </tr>\n",
       "    <tr>\n",
       "      <th rowspan=\"4\" valign=\"top\">ssp370</th>\n",
       "      <th>2021-2040</th>\n",
       "      <td>20.3</td>\n",
       "      <td>20.8</td>\n",
       "      <td>21.6</td>\n",
       "      <td>22.1</td>\n",
       "      <td>22.7</td>\n",
       "      <td>23.1</td>\n",
       "      <td>23.3</td>\n",
       "      <td>23.6</td>\n",
       "      <td>23.5</td>\n",
       "      <td>23.0</td>\n",
       "      <td>21.9</td>\n",
       "      <td>20.8</td>\n",
       "      <td>22.2</td>\n",
       "    </tr>\n",
       "    <tr>\n",
       "      <th>2041-2060</th>\n",
       "      <td>21.0</td>\n",
       "      <td>21.3</td>\n",
       "      <td>22.3</td>\n",
       "      <td>22.8</td>\n",
       "      <td>23.3</td>\n",
       "      <td>23.7</td>\n",
       "      <td>24.0</td>\n",
       "      <td>24.2</td>\n",
       "      <td>24.1</td>\n",
       "      <td>23.6</td>\n",
       "      <td>22.6</td>\n",
       "      <td>21.5</td>\n",
       "      <td>22.9</td>\n",
       "    </tr>\n",
       "    <tr>\n",
       "      <th>2061-2080</th>\n",
       "      <td>21.6</td>\n",
       "      <td>22.0</td>\n",
       "      <td>22.8</td>\n",
       "      <td>23.4</td>\n",
       "      <td>23.9</td>\n",
       "      <td>24.3</td>\n",
       "      <td>24.6</td>\n",
       "      <td>24.8</td>\n",
       "      <td>24.8</td>\n",
       "      <td>24.1</td>\n",
       "      <td>23.2</td>\n",
       "      <td>22.1</td>\n",
       "      <td>23.5</td>\n",
       "    </tr>\n",
       "    <tr>\n",
       "      <th>2081-2100</th>\n",
       "      <td>22.1</td>\n",
       "      <td>22.6</td>\n",
       "      <td>23.4</td>\n",
       "      <td>23.9</td>\n",
       "      <td>24.5</td>\n",
       "      <td>24.9</td>\n",
       "      <td>25.2</td>\n",
       "      <td>25.5</td>\n",
       "      <td>25.5</td>\n",
       "      <td>24.8</td>\n",
       "      <td>23.9</td>\n",
       "      <td>22.7</td>\n",
       "      <td>24.1</td>\n",
       "    </tr>\n",
       "    <tr>\n",
       "      <th rowspan=\"4\" valign=\"top\">ssp585</th>\n",
       "      <th>2021-2040</th>\n",
       "      <td>20.4</td>\n",
       "      <td>20.9</td>\n",
       "      <td>21.5</td>\n",
       "      <td>22.3</td>\n",
       "      <td>22.7</td>\n",
       "      <td>23.2</td>\n",
       "      <td>23.5</td>\n",
       "      <td>23.6</td>\n",
       "      <td>23.6</td>\n",
       "      <td>22.9</td>\n",
       "      <td>22.0</td>\n",
       "      <td>20.9</td>\n",
       "      <td>22.3</td>\n",
       "    </tr>\n",
       "    <tr>\n",
       "      <th>2041-2060</th>\n",
       "      <td>21.0</td>\n",
       "      <td>21.4</td>\n",
       "      <td>22.1</td>\n",
       "      <td>22.9</td>\n",
       "      <td>23.4</td>\n",
       "      <td>23.8</td>\n",
       "      <td>24.0</td>\n",
       "      <td>24.2</td>\n",
       "      <td>24.2</td>\n",
       "      <td>23.6</td>\n",
       "      <td>22.6</td>\n",
       "      <td>21.6</td>\n",
       "      <td>22.9</td>\n",
       "    </tr>\n",
       "    <tr>\n",
       "      <th>2061-2080</th>\n",
       "      <td>21.8</td>\n",
       "      <td>22.1</td>\n",
       "      <td>23.1</td>\n",
       "      <td>23.5</td>\n",
       "      <td>24.1</td>\n",
       "      <td>24.5</td>\n",
       "      <td>24.8</td>\n",
       "      <td>24.9</td>\n",
       "      <td>25.0</td>\n",
       "      <td>24.4</td>\n",
       "      <td>23.4</td>\n",
       "      <td>22.3</td>\n",
       "      <td>23.7</td>\n",
       "    </tr>\n",
       "    <tr>\n",
       "      <th>2081-2100</th>\n",
       "      <td>22.4</td>\n",
       "      <td>22.9</td>\n",
       "      <td>23.7</td>\n",
       "      <td>24.2</td>\n",
       "      <td>24.8</td>\n",
       "      <td>25.1</td>\n",
       "      <td>25.3</td>\n",
       "      <td>25.7</td>\n",
       "      <td>25.7</td>\n",
       "      <td>25.1</td>\n",
       "      <td>24.0</td>\n",
       "      <td>22.9</td>\n",
       "      <td>24.3</td>\n",
       "    </tr>\n",
       "    <tr>\n",
       "      <th rowspan=\"16\" valign=\"top\">Median</th>\n",
       "      <th rowspan=\"4\" valign=\"top\">ssp126</th>\n",
       "      <th>2021-2040</th>\n",
       "      <td>20.2</td>\n",
       "      <td>20.7</td>\n",
       "      <td>21.4</td>\n",
       "      <td>22.1</td>\n",
       "      <td>22.6</td>\n",
       "      <td>23.0</td>\n",
       "      <td>23.3</td>\n",
       "      <td>23.4</td>\n",
       "      <td>23.3</td>\n",
       "      <td>22.8</td>\n",
       "      <td>21.8</td>\n",
       "      <td>20.7</td>\n",
       "      <td>22.1</td>\n",
       "    </tr>\n",
       "    <tr>\n",
       "      <th>2041-2060</th>\n",
       "      <td>20.5</td>\n",
       "      <td>20.9</td>\n",
       "      <td>21.7</td>\n",
       "      <td>22.2</td>\n",
       "      <td>22.8</td>\n",
       "      <td>23.1</td>\n",
       "      <td>23.4</td>\n",
       "      <td>23.6</td>\n",
       "      <td>23.4</td>\n",
       "      <td>22.9</td>\n",
       "      <td>22.0</td>\n",
       "      <td>20.8</td>\n",
       "      <td>22.3</td>\n",
       "    </tr>\n",
       "    <tr>\n",
       "      <th>2061-2080</th>\n",
       "      <td>20.6</td>\n",
       "      <td>20.9</td>\n",
       "      <td>21.8</td>\n",
       "      <td>22.3</td>\n",
       "      <td>22.9</td>\n",
       "      <td>23.3</td>\n",
       "      <td>23.6</td>\n",
       "      <td>23.7</td>\n",
       "      <td>23.6</td>\n",
       "      <td>23.1</td>\n",
       "      <td>22.1</td>\n",
       "      <td>21.0</td>\n",
       "      <td>22.4</td>\n",
       "    </tr>\n",
       "    <tr>\n",
       "      <th>2081-2100</th>\n",
       "      <td>20.3</td>\n",
       "      <td>20.9</td>\n",
       "      <td>21.7</td>\n",
       "      <td>22.2</td>\n",
       "      <td>22.7</td>\n",
       "      <td>23.2</td>\n",
       "      <td>23.5</td>\n",
       "      <td>23.5</td>\n",
       "      <td>23.5</td>\n",
       "      <td>23.0</td>\n",
       "      <td>21.9</td>\n",
       "      <td>20.8</td>\n",
       "      <td>22.3</td>\n",
       "    </tr>\n",
       "    <tr>\n",
       "      <th rowspan=\"4\" valign=\"top\">ssp245</th>\n",
       "      <th>2021-2040</th>\n",
       "      <td>20.3</td>\n",
       "      <td>20.7</td>\n",
       "      <td>21.4</td>\n",
       "      <td>22.0</td>\n",
       "      <td>22.6</td>\n",
       "      <td>23.1</td>\n",
       "      <td>23.5</td>\n",
       "      <td>23.6</td>\n",
       "      <td>23.5</td>\n",
       "      <td>22.9</td>\n",
       "      <td>21.8</td>\n",
       "      <td>20.9</td>\n",
       "      <td>22.2</td>\n",
       "    </tr>\n",
       "    <tr>\n",
       "      <th>2041-2060</th>\n",
       "      <td>20.6</td>\n",
       "      <td>21.2</td>\n",
       "      <td>22.0</td>\n",
       "      <td>22.5</td>\n",
       "      <td>23.0</td>\n",
       "      <td>23.5</td>\n",
       "      <td>23.8</td>\n",
       "      <td>23.8</td>\n",
       "      <td>23.7</td>\n",
       "      <td>23.2</td>\n",
       "      <td>22.3</td>\n",
       "      <td>21.2</td>\n",
       "      <td>22.6</td>\n",
       "    </tr>\n",
       "    <tr>\n",
       "      <th>2061-2080</th>\n",
       "      <td>21.0</td>\n",
       "      <td>21.6</td>\n",
       "      <td>22.3</td>\n",
       "      <td>22.7</td>\n",
       "      <td>23.4</td>\n",
       "      <td>23.7</td>\n",
       "      <td>23.9</td>\n",
       "      <td>24.1</td>\n",
       "      <td>24.2</td>\n",
       "      <td>23.6</td>\n",
       "      <td>22.6</td>\n",
       "      <td>21.4</td>\n",
       "      <td>22.9</td>\n",
       "    </tr>\n",
       "    <tr>\n",
       "      <th>2081-2100</th>\n",
       "      <td>21.3</td>\n",
       "      <td>21.8</td>\n",
       "      <td>22.6</td>\n",
       "      <td>23.1</td>\n",
       "      <td>23.6</td>\n",
       "      <td>24.1</td>\n",
       "      <td>24.3</td>\n",
       "      <td>24.5</td>\n",
       "      <td>24.4</td>\n",
       "      <td>23.8</td>\n",
       "      <td>23.0</td>\n",
       "      <td>21.8</td>\n",
       "      <td>23.2</td>\n",
       "    </tr>\n",
       "    <tr>\n",
       "      <th rowspan=\"4\" valign=\"top\">ssp370</th>\n",
       "      <th>2021-2040</th>\n",
       "      <td>20.3</td>\n",
       "      <td>20.8</td>\n",
       "      <td>21.6</td>\n",
       "      <td>22.1</td>\n",
       "      <td>22.7</td>\n",
       "      <td>23.1</td>\n",
       "      <td>23.3</td>\n",
       "      <td>23.6</td>\n",
       "      <td>23.5</td>\n",
       "      <td>23.0</td>\n",
       "      <td>21.9</td>\n",
       "      <td>20.8</td>\n",
       "      <td>22.2</td>\n",
       "    </tr>\n",
       "    <tr>\n",
       "      <th>2041-2060</th>\n",
       "      <td>21.0</td>\n",
       "      <td>21.3</td>\n",
       "      <td>22.3</td>\n",
       "      <td>22.8</td>\n",
       "      <td>23.3</td>\n",
       "      <td>23.7</td>\n",
       "      <td>24.0</td>\n",
       "      <td>24.2</td>\n",
       "      <td>24.1</td>\n",
       "      <td>23.6</td>\n",
       "      <td>22.6</td>\n",
       "      <td>21.5</td>\n",
       "      <td>22.9</td>\n",
       "    </tr>\n",
       "    <tr>\n",
       "      <th>2061-2080</th>\n",
       "      <td>21.6</td>\n",
       "      <td>22.0</td>\n",
       "      <td>22.8</td>\n",
       "      <td>23.4</td>\n",
       "      <td>23.9</td>\n",
       "      <td>24.3</td>\n",
       "      <td>24.6</td>\n",
       "      <td>24.8</td>\n",
       "      <td>24.8</td>\n",
       "      <td>24.1</td>\n",
       "      <td>23.2</td>\n",
       "      <td>22.1</td>\n",
       "      <td>23.5</td>\n",
       "    </tr>\n",
       "    <tr>\n",
       "      <th>2081-2100</th>\n",
       "      <td>22.1</td>\n",
       "      <td>22.6</td>\n",
       "      <td>23.4</td>\n",
       "      <td>23.9</td>\n",
       "      <td>24.5</td>\n",
       "      <td>24.9</td>\n",
       "      <td>25.2</td>\n",
       "      <td>25.5</td>\n",
       "      <td>25.5</td>\n",
       "      <td>24.8</td>\n",
       "      <td>23.9</td>\n",
       "      <td>22.7</td>\n",
       "      <td>24.1</td>\n",
       "    </tr>\n",
       "    <tr>\n",
       "      <th rowspan=\"4\" valign=\"top\">ssp585</th>\n",
       "      <th>2021-2040</th>\n",
       "      <td>20.4</td>\n",
       "      <td>20.9</td>\n",
       "      <td>21.5</td>\n",
       "      <td>22.3</td>\n",
       "      <td>22.7</td>\n",
       "      <td>23.2</td>\n",
       "      <td>23.5</td>\n",
       "      <td>23.6</td>\n",
       "      <td>23.6</td>\n",
       "      <td>22.9</td>\n",
       "      <td>22.0</td>\n",
       "      <td>20.9</td>\n",
       "      <td>22.3</td>\n",
       "    </tr>\n",
       "    <tr>\n",
       "      <th>2041-2060</th>\n",
       "      <td>21.0</td>\n",
       "      <td>21.4</td>\n",
       "      <td>22.1</td>\n",
       "      <td>22.9</td>\n",
       "      <td>23.4</td>\n",
       "      <td>23.8</td>\n",
       "      <td>24.0</td>\n",
       "      <td>24.2</td>\n",
       "      <td>24.2</td>\n",
       "      <td>23.6</td>\n",
       "      <td>22.6</td>\n",
       "      <td>21.6</td>\n",
       "      <td>22.9</td>\n",
       "    </tr>\n",
       "    <tr>\n",
       "      <th>2061-2080</th>\n",
       "      <td>21.8</td>\n",
       "      <td>22.1</td>\n",
       "      <td>23.1</td>\n",
       "      <td>23.5</td>\n",
       "      <td>24.1</td>\n",
       "      <td>24.5</td>\n",
       "      <td>24.8</td>\n",
       "      <td>24.9</td>\n",
       "      <td>25.0</td>\n",
       "      <td>24.4</td>\n",
       "      <td>23.4</td>\n",
       "      <td>22.3</td>\n",
       "      <td>23.7</td>\n",
       "    </tr>\n",
       "    <tr>\n",
       "      <th>2081-2100</th>\n",
       "      <td>22.4</td>\n",
       "      <td>22.9</td>\n",
       "      <td>23.7</td>\n",
       "      <td>24.2</td>\n",
       "      <td>24.8</td>\n",
       "      <td>25.1</td>\n",
       "      <td>25.3</td>\n",
       "      <td>25.7</td>\n",
       "      <td>25.7</td>\n",
       "      <td>25.1</td>\n",
       "      <td>24.0</td>\n",
       "      <td>22.9</td>\n",
       "      <td>24.3</td>\n",
       "    </tr>\n",
       "    <tr>\n",
       "      <th rowspan=\"16\" valign=\"top\">Min</th>\n",
       "      <th rowspan=\"4\" valign=\"top\">ssp126</th>\n",
       "      <th>2021-2040</th>\n",
       "      <td>20.2</td>\n",
       "      <td>20.7</td>\n",
       "      <td>21.4</td>\n",
       "      <td>22.1</td>\n",
       "      <td>22.6</td>\n",
       "      <td>23.0</td>\n",
       "      <td>23.3</td>\n",
       "      <td>23.4</td>\n",
       "      <td>23.3</td>\n",
       "      <td>22.8</td>\n",
       "      <td>21.8</td>\n",
       "      <td>20.7</td>\n",
       "      <td>22.1</td>\n",
       "    </tr>\n",
       "    <tr>\n",
       "      <th>2041-2060</th>\n",
       "      <td>20.5</td>\n",
       "      <td>20.9</td>\n",
       "      <td>21.7</td>\n",
       "      <td>22.2</td>\n",
       "      <td>22.8</td>\n",
       "      <td>23.1</td>\n",
       "      <td>23.4</td>\n",
       "      <td>23.6</td>\n",
       "      <td>23.4</td>\n",
       "      <td>22.9</td>\n",
       "      <td>22.0</td>\n",
       "      <td>20.8</td>\n",
       "      <td>22.3</td>\n",
       "    </tr>\n",
       "    <tr>\n",
       "      <th>2061-2080</th>\n",
       "      <td>20.6</td>\n",
       "      <td>20.9</td>\n",
       "      <td>21.8</td>\n",
       "      <td>22.3</td>\n",
       "      <td>22.9</td>\n",
       "      <td>23.3</td>\n",
       "      <td>23.6</td>\n",
       "      <td>23.7</td>\n",
       "      <td>23.6</td>\n",
       "      <td>23.1</td>\n",
       "      <td>22.1</td>\n",
       "      <td>21.0</td>\n",
       "      <td>22.4</td>\n",
       "    </tr>\n",
       "    <tr>\n",
       "      <th>2081-2100</th>\n",
       "      <td>20.3</td>\n",
       "      <td>20.9</td>\n",
       "      <td>21.7</td>\n",
       "      <td>22.2</td>\n",
       "      <td>22.7</td>\n",
       "      <td>23.2</td>\n",
       "      <td>23.5</td>\n",
       "      <td>23.5</td>\n",
       "      <td>23.5</td>\n",
       "      <td>23.0</td>\n",
       "      <td>21.9</td>\n",
       "      <td>20.8</td>\n",
       "      <td>22.3</td>\n",
       "    </tr>\n",
       "    <tr>\n",
       "      <th rowspan=\"4\" valign=\"top\">ssp245</th>\n",
       "      <th>2021-2040</th>\n",
       "      <td>20.3</td>\n",
       "      <td>20.7</td>\n",
       "      <td>21.4</td>\n",
       "      <td>22.0</td>\n",
       "      <td>22.6</td>\n",
       "      <td>23.1</td>\n",
       "      <td>23.5</td>\n",
       "      <td>23.6</td>\n",
       "      <td>23.5</td>\n",
       "      <td>22.9</td>\n",
       "      <td>21.8</td>\n",
       "      <td>20.9</td>\n",
       "      <td>22.2</td>\n",
       "    </tr>\n",
       "    <tr>\n",
       "      <th>2041-2060</th>\n",
       "      <td>20.6</td>\n",
       "      <td>21.2</td>\n",
       "      <td>22.0</td>\n",
       "      <td>22.5</td>\n",
       "      <td>23.0</td>\n",
       "      <td>23.5</td>\n",
       "      <td>23.8</td>\n",
       "      <td>23.8</td>\n",
       "      <td>23.7</td>\n",
       "      <td>23.2</td>\n",
       "      <td>22.3</td>\n",
       "      <td>21.2</td>\n",
       "      <td>22.6</td>\n",
       "    </tr>\n",
       "    <tr>\n",
       "      <th>2061-2080</th>\n",
       "      <td>21.0</td>\n",
       "      <td>21.6</td>\n",
       "      <td>22.3</td>\n",
       "      <td>22.7</td>\n",
       "      <td>23.4</td>\n",
       "      <td>23.7</td>\n",
       "      <td>23.9</td>\n",
       "      <td>24.1</td>\n",
       "      <td>24.2</td>\n",
       "      <td>23.6</td>\n",
       "      <td>22.6</td>\n",
       "      <td>21.4</td>\n",
       "      <td>22.9</td>\n",
       "    </tr>\n",
       "    <tr>\n",
       "      <th>2081-2100</th>\n",
       "      <td>21.3</td>\n",
       "      <td>21.8</td>\n",
       "      <td>22.6</td>\n",
       "      <td>23.1</td>\n",
       "      <td>23.6</td>\n",
       "      <td>24.1</td>\n",
       "      <td>24.3</td>\n",
       "      <td>24.5</td>\n",
       "      <td>24.4</td>\n",
       "      <td>23.8</td>\n",
       "      <td>23.0</td>\n",
       "      <td>21.8</td>\n",
       "      <td>23.2</td>\n",
       "    </tr>\n",
       "    <tr>\n",
       "      <th rowspan=\"4\" valign=\"top\">ssp370</th>\n",
       "      <th>2021-2040</th>\n",
       "      <td>20.3</td>\n",
       "      <td>20.8</td>\n",
       "      <td>21.6</td>\n",
       "      <td>22.1</td>\n",
       "      <td>22.7</td>\n",
       "      <td>23.1</td>\n",
       "      <td>23.3</td>\n",
       "      <td>23.6</td>\n",
       "      <td>23.5</td>\n",
       "      <td>23.0</td>\n",
       "      <td>21.9</td>\n",
       "      <td>20.8</td>\n",
       "      <td>22.2</td>\n",
       "    </tr>\n",
       "    <tr>\n",
       "      <th>2041-2060</th>\n",
       "      <td>21.0</td>\n",
       "      <td>21.3</td>\n",
       "      <td>22.3</td>\n",
       "      <td>22.8</td>\n",
       "      <td>23.3</td>\n",
       "      <td>23.7</td>\n",
       "      <td>24.0</td>\n",
       "      <td>24.2</td>\n",
       "      <td>24.1</td>\n",
       "      <td>23.6</td>\n",
       "      <td>22.6</td>\n",
       "      <td>21.5</td>\n",
       "      <td>22.9</td>\n",
       "    </tr>\n",
       "    <tr>\n",
       "      <th>2061-2080</th>\n",
       "      <td>21.6</td>\n",
       "      <td>22.0</td>\n",
       "      <td>22.8</td>\n",
       "      <td>23.4</td>\n",
       "      <td>23.9</td>\n",
       "      <td>24.3</td>\n",
       "      <td>24.6</td>\n",
       "      <td>24.8</td>\n",
       "      <td>24.8</td>\n",
       "      <td>24.1</td>\n",
       "      <td>23.2</td>\n",
       "      <td>22.1</td>\n",
       "      <td>23.5</td>\n",
       "    </tr>\n",
       "    <tr>\n",
       "      <th>2081-2100</th>\n",
       "      <td>22.1</td>\n",
       "      <td>22.6</td>\n",
       "      <td>23.4</td>\n",
       "      <td>23.9</td>\n",
       "      <td>24.5</td>\n",
       "      <td>24.9</td>\n",
       "      <td>25.2</td>\n",
       "      <td>25.5</td>\n",
       "      <td>25.5</td>\n",
       "      <td>24.8</td>\n",
       "      <td>23.9</td>\n",
       "      <td>22.7</td>\n",
       "      <td>24.1</td>\n",
       "    </tr>\n",
       "    <tr>\n",
       "      <th rowspan=\"4\" valign=\"top\">ssp585</th>\n",
       "      <th>2021-2040</th>\n",
       "      <td>20.4</td>\n",
       "      <td>20.9</td>\n",
       "      <td>21.5</td>\n",
       "      <td>22.3</td>\n",
       "      <td>22.7</td>\n",
       "      <td>23.2</td>\n",
       "      <td>23.5</td>\n",
       "      <td>23.6</td>\n",
       "      <td>23.6</td>\n",
       "      <td>22.9</td>\n",
       "      <td>22.0</td>\n",
       "      <td>20.9</td>\n",
       "      <td>22.3</td>\n",
       "    </tr>\n",
       "    <tr>\n",
       "      <th>2041-2060</th>\n",
       "      <td>21.0</td>\n",
       "      <td>21.4</td>\n",
       "      <td>22.1</td>\n",
       "      <td>22.9</td>\n",
       "      <td>23.4</td>\n",
       "      <td>23.8</td>\n",
       "      <td>24.0</td>\n",
       "      <td>24.2</td>\n",
       "      <td>24.2</td>\n",
       "      <td>23.6</td>\n",
       "      <td>22.6</td>\n",
       "      <td>21.6</td>\n",
       "      <td>22.9</td>\n",
       "    </tr>\n",
       "    <tr>\n",
       "      <th>2061-2080</th>\n",
       "      <td>21.8</td>\n",
       "      <td>22.1</td>\n",
       "      <td>23.1</td>\n",
       "      <td>23.5</td>\n",
       "      <td>24.1</td>\n",
       "      <td>24.5</td>\n",
       "      <td>24.8</td>\n",
       "      <td>24.9</td>\n",
       "      <td>25.0</td>\n",
       "      <td>24.4</td>\n",
       "      <td>23.4</td>\n",
       "      <td>22.3</td>\n",
       "      <td>23.7</td>\n",
       "    </tr>\n",
       "    <tr>\n",
       "      <th>2081-2100</th>\n",
       "      <td>22.4</td>\n",
       "      <td>22.9</td>\n",
       "      <td>23.7</td>\n",
       "      <td>24.2</td>\n",
       "      <td>24.8</td>\n",
       "      <td>25.1</td>\n",
       "      <td>25.3</td>\n",
       "      <td>25.7</td>\n",
       "      <td>25.7</td>\n",
       "      <td>25.1</td>\n",
       "      <td>24.0</td>\n",
       "      <td>22.9</td>\n",
       "      <td>24.3</td>\n",
       "    </tr>\n",
       "  </tbody>\n",
       "</table>\n",
       "</div>"
      ],
      "text/plain": [
       "                              1     2     3     4     5     6     7     8  \\\n",
       "Model  Scenario Period                                                      \n",
       "Max    ssp126   2021-2040  20.2  20.7  21.4  22.1  22.6  23.0  23.3  23.4   \n",
       "                2041-2060  20.5  20.9  21.7  22.2  22.8  23.1  23.4  23.6   \n",
       "                2061-2080  20.6  20.9  21.8  22.3  22.9  23.3  23.6  23.7   \n",
       "                2081-2100  20.3  20.9  21.7  22.2  22.7  23.2  23.5  23.5   \n",
       "       ssp245   2021-2040  20.3  20.7  21.4  22.0  22.6  23.1  23.5  23.6   \n",
       "                2041-2060  20.6  21.2  22.0  22.5  23.0  23.5  23.8  23.8   \n",
       "                2061-2080  21.0  21.6  22.3  22.7  23.4  23.7  23.9  24.1   \n",
       "                2081-2100  21.3  21.8  22.6  23.1  23.6  24.1  24.3  24.5   \n",
       "       ssp370   2021-2040  20.3  20.8  21.6  22.1  22.7  23.1  23.3  23.6   \n",
       "                2041-2060  21.0  21.3  22.3  22.8  23.3  23.7  24.0  24.2   \n",
       "                2061-2080  21.6  22.0  22.8  23.4  23.9  24.3  24.6  24.8   \n",
       "                2081-2100  22.1  22.6  23.4  23.9  24.5  24.9  25.2  25.5   \n",
       "       ssp585   2021-2040  20.4  20.9  21.5  22.3  22.7  23.2  23.5  23.6   \n",
       "                2041-2060  21.0  21.4  22.1  22.9  23.4  23.8  24.0  24.2   \n",
       "                2061-2080  21.8  22.1  23.1  23.5  24.1  24.5  24.8  24.9   \n",
       "                2081-2100  22.4  22.9  23.7  24.2  24.8  25.1  25.3  25.7   \n",
       "Median ssp126   2021-2040  20.2  20.7  21.4  22.1  22.6  23.0  23.3  23.4   \n",
       "                2041-2060  20.5  20.9  21.7  22.2  22.8  23.1  23.4  23.6   \n",
       "                2061-2080  20.6  20.9  21.8  22.3  22.9  23.3  23.6  23.7   \n",
       "                2081-2100  20.3  20.9  21.7  22.2  22.7  23.2  23.5  23.5   \n",
       "       ssp245   2021-2040  20.3  20.7  21.4  22.0  22.6  23.1  23.5  23.6   \n",
       "                2041-2060  20.6  21.2  22.0  22.5  23.0  23.5  23.8  23.8   \n",
       "                2061-2080  21.0  21.6  22.3  22.7  23.4  23.7  23.9  24.1   \n",
       "                2081-2100  21.3  21.8  22.6  23.1  23.6  24.1  24.3  24.5   \n",
       "       ssp370   2021-2040  20.3  20.8  21.6  22.1  22.7  23.1  23.3  23.6   \n",
       "                2041-2060  21.0  21.3  22.3  22.8  23.3  23.7  24.0  24.2   \n",
       "                2061-2080  21.6  22.0  22.8  23.4  23.9  24.3  24.6  24.8   \n",
       "                2081-2100  22.1  22.6  23.4  23.9  24.5  24.9  25.2  25.5   \n",
       "       ssp585   2021-2040  20.4  20.9  21.5  22.3  22.7  23.2  23.5  23.6   \n",
       "                2041-2060  21.0  21.4  22.1  22.9  23.4  23.8  24.0  24.2   \n",
       "                2061-2080  21.8  22.1  23.1  23.5  24.1  24.5  24.8  24.9   \n",
       "                2081-2100  22.4  22.9  23.7  24.2  24.8  25.1  25.3  25.7   \n",
       "Min    ssp126   2021-2040  20.2  20.7  21.4  22.1  22.6  23.0  23.3  23.4   \n",
       "                2041-2060  20.5  20.9  21.7  22.2  22.8  23.1  23.4  23.6   \n",
       "                2061-2080  20.6  20.9  21.8  22.3  22.9  23.3  23.6  23.7   \n",
       "                2081-2100  20.3  20.9  21.7  22.2  22.7  23.2  23.5  23.5   \n",
       "       ssp245   2021-2040  20.3  20.7  21.4  22.0  22.6  23.1  23.5  23.6   \n",
       "                2041-2060  20.6  21.2  22.0  22.5  23.0  23.5  23.8  23.8   \n",
       "                2061-2080  21.0  21.6  22.3  22.7  23.4  23.7  23.9  24.1   \n",
       "                2081-2100  21.3  21.8  22.6  23.1  23.6  24.1  24.3  24.5   \n",
       "       ssp370   2021-2040  20.3  20.8  21.6  22.1  22.7  23.1  23.3  23.6   \n",
       "                2041-2060  21.0  21.3  22.3  22.8  23.3  23.7  24.0  24.2   \n",
       "                2061-2080  21.6  22.0  22.8  23.4  23.9  24.3  24.6  24.8   \n",
       "                2081-2100  22.1  22.6  23.4  23.9  24.5  24.9  25.2  25.5   \n",
       "       ssp585   2021-2040  20.4  20.9  21.5  22.3  22.7  23.2  23.5  23.6   \n",
       "                2041-2060  21.0  21.4  22.1  22.9  23.4  23.8  24.0  24.2   \n",
       "                2061-2080  21.8  22.1  23.1  23.5  24.1  24.5  24.8  24.9   \n",
       "                2081-2100  22.4  22.9  23.7  24.2  24.8  25.1  25.3  25.7   \n",
       "\n",
       "                              9    10    11    12  Annual  \n",
       "Model  Scenario Period                                     \n",
       "Max    ssp126   2021-2040  23.3  22.8  21.8  20.7    22.1  \n",
       "                2041-2060  23.4  22.9  22.0  20.8    22.3  \n",
       "                2061-2080  23.6  23.1  22.1  21.0    22.4  \n",
       "                2081-2100  23.5  23.0  21.9  20.8    22.3  \n",
       "       ssp245   2021-2040  23.5  22.9  21.8  20.9    22.2  \n",
       "                2041-2060  23.7  23.2  22.3  21.2    22.6  \n",
       "                2061-2080  24.2  23.6  22.6  21.4    22.9  \n",
       "                2081-2100  24.4  23.8  23.0  21.8    23.2  \n",
       "       ssp370   2021-2040  23.5  23.0  21.9  20.8    22.2  \n",
       "                2041-2060  24.1  23.6  22.6  21.5    22.9  \n",
       "                2061-2080  24.8  24.1  23.2  22.1    23.5  \n",
       "                2081-2100  25.5  24.8  23.9  22.7    24.1  \n",
       "       ssp585   2021-2040  23.6  22.9  22.0  20.9    22.3  \n",
       "                2041-2060  24.2  23.6  22.6  21.6    22.9  \n",
       "                2061-2080  25.0  24.4  23.4  22.3    23.7  \n",
       "                2081-2100  25.7  25.1  24.0  22.9    24.3  \n",
       "Median ssp126   2021-2040  23.3  22.8  21.8  20.7    22.1  \n",
       "                2041-2060  23.4  22.9  22.0  20.8    22.3  \n",
       "                2061-2080  23.6  23.1  22.1  21.0    22.4  \n",
       "                2081-2100  23.5  23.0  21.9  20.8    22.3  \n",
       "       ssp245   2021-2040  23.5  22.9  21.8  20.9    22.2  \n",
       "                2041-2060  23.7  23.2  22.3  21.2    22.6  \n",
       "                2061-2080  24.2  23.6  22.6  21.4    22.9  \n",
       "                2081-2100  24.4  23.8  23.0  21.8    23.2  \n",
       "       ssp370   2021-2040  23.5  23.0  21.9  20.8    22.2  \n",
       "                2041-2060  24.1  23.6  22.6  21.5    22.9  \n",
       "                2061-2080  24.8  24.1  23.2  22.1    23.5  \n",
       "                2081-2100  25.5  24.8  23.9  22.7    24.1  \n",
       "       ssp585   2021-2040  23.6  22.9  22.0  20.9    22.3  \n",
       "                2041-2060  24.2  23.6  22.6  21.6    22.9  \n",
       "                2061-2080  25.0  24.4  23.4  22.3    23.7  \n",
       "                2081-2100  25.7  25.1  24.0  22.9    24.3  \n",
       "Min    ssp126   2021-2040  23.3  22.8  21.8  20.7    22.1  \n",
       "                2041-2060  23.4  22.9  22.0  20.8    22.3  \n",
       "                2061-2080  23.6  23.1  22.1  21.0    22.4  \n",
       "                2081-2100  23.5  23.0  21.9  20.8    22.3  \n",
       "       ssp245   2021-2040  23.5  22.9  21.8  20.9    22.2  \n",
       "                2041-2060  23.7  23.2  22.3  21.2    22.6  \n",
       "                2061-2080  24.2  23.6  22.6  21.4    22.9  \n",
       "                2081-2100  24.4  23.8  23.0  21.8    23.2  \n",
       "       ssp370   2021-2040  23.5  23.0  21.9  20.8    22.2  \n",
       "                2041-2060  24.1  23.6  22.6  21.5    22.9  \n",
       "                2061-2080  24.8  24.1  23.2  22.1    23.5  \n",
       "                2081-2100  25.5  24.8  23.9  22.7    24.1  \n",
       "       ssp585   2021-2040  23.6  22.9  22.0  20.9    22.3  \n",
       "                2041-2060  24.2  23.6  22.6  21.6    22.9  \n",
       "                2061-2080  25.0  24.4  23.4  22.3    23.7  \n",
       "                2081-2100  25.7  25.1  24.0  22.9    24.3  "
      ]
     },
     "execution_count": 40,
     "metadata": {},
     "output_type": "execute_result"
    }
   ],
   "source": [
    "\"\"\"\n",
    "Created on February 2021\n",
    "@author: Loïc Duffar\n",
    "\"\"\"\n",
    "import plotly.graph_objects as go\n",
    "\n",
    "#============== Customization\n",
    "#------------ \n",
    "\n",
    "\n",
    "#============== Process\n",
    "df = df_total[0:0]\n",
    "#display(df)\n",
    "    \n",
    "for scenario in ssp_list:\n",
    "    test= (df_total.index.get_level_values('Scenario') == scenario) \n",
    "    group = df_total[test ].groupby(by= ['Period'])\n",
    "    df_median= group.median().round(1)\n",
    "#    display(scenario, df_median.reset_index(drop= True))\n",
    "    df_min= group.min().round(1)\n",
    "    df_max= group.max().round(1)\n",
    "    temp= [[scenario, scenario, scenario, scenario], [period_list[0], period_list[1], period_list[2], period_list[3]] ]\n",
    "    temp= [['Max', 'Max', 'Max', 'Max']] + temp\n",
    "#    print(temp)\n",
    "    df= df.append(pd.DataFrame(df_max.values, index= [['Max', 'Max', 'Max', 'Max'], [scenario, scenario, scenario, scenario], [period_list[0], period_list[1], period_list[2], period_list[3]] ] ))\n",
    "    df= df.append(pd.DataFrame(df_median.values, index= [['Median', 'Median', 'Median', 'Median'], [scenario, scenario, scenario, scenario], [period_list[0], period_list[1], period_list[2], period_list[3]] ]))\n",
    "    df= df.append(pd.DataFrame(df_min.values, index= [['Min', 'Min', 'Min', 'Min'], [scenario, scenario, scenario, scenario], [period_list[0], period_list[1], period_list[2], period_list[3]] ] ))\n",
    "df_stat= df.sort_index().copy()\n",
    "df_stat.drop(columns= annual_label, inplace= True)\n",
    "df_stat.rename(columns= {0:1, 1:2,2:3, 3:4, 4:5, 5:6, 6:7, 7:8, 8:9, 9:10, 10:11, 11:12, 12:annual_label}, inplace= True)\n",
    "#df_stat= df_future.append(df_historical)\n",
    "df_stat"
   ]
  },
  {
   "cell_type": "markdown",
   "metadata": {},
   "source": [
    "### <a name=section07></a>8) Plot montly projections (all scenarios and GCMs)"
   ]
  },
  {
   "cell_type": "code",
   "execution_count": 44,
   "metadata": {},
   "outputs": [
    {
     "data": {
      "application/vnd.plotly.v1+json": {
       "config": {
        "plotlyServerURL": "https://plot.ly"
       },
       "data": [
        {
         "legendgroup": "1970-2000 Mean",
         "line": {
          "color": "rgba(0,0,0,0.5)"
         },
         "marker": {
          "color": "rgba(0,0,0,0)",
          "line": {
           "color": "rgba(0,0,0,0.5)",
           "width": 1
          }
         },
         "mode": "lines+markers",
         "name": "1970-2000 Mean",
         "showlegend": true,
         "type": "scatter",
         "x": [
          1,
          2,
          3,
          4,
          5,
          6,
          7,
          8,
          9,
          10,
          11,
          12
         ],
         "xaxis": "x",
         "y": [
          19.4,
          19.8,
          20.7,
          21.2,
          21.8,
          22.2,
          22.6,
          22.7,
          22.5,
          22,
          20.9,
          19.8
         ],
         "yaxis": "y"
        },
        {
         "legendgroup": "2021-2040",
         "line": {
          "color": "rgba(10, 10, 150,1)"
         },
         "mode": "lines",
         "name": "2021-2040 ssp126",
         "showlegend": true,
         "type": "scatter",
         "x": [
          1,
          2,
          3,
          4,
          5,
          6,
          7,
          8,
          9,
          10,
          11,
          12
         ],
         "xaxis": "x",
         "y": [
          20.2,
          20.7,
          21.4,
          22.1,
          22.6,
          23,
          23.3,
          23.4,
          23.3,
          22.8,
          21.8,
          20.7
         ],
         "yaxis": "y"
        },
        {
         "legendgroup": "2041-2060",
         "line": {
          "color": "rgba(10, 10, 150,0.75)"
         },
         "mode": "lines",
         "name": "2041-2060 ssp126",
         "showlegend": true,
         "type": "scatter",
         "x": [
          1,
          2,
          3,
          4,
          5,
          6,
          7,
          8,
          9,
          10,
          11,
          12
         ],
         "xaxis": "x",
         "y": [
          20.5,
          20.9,
          21.7,
          22.2,
          22.8,
          23.1,
          23.4,
          23.6,
          23.4,
          22.9,
          22,
          20.8
         ],
         "yaxis": "y"
        },
        {
         "legendgroup": "2061-2080",
         "line": {
          "color": "rgba(10, 10, 150,0.5)"
         },
         "mode": "lines",
         "name": "2061-2080 ssp126",
         "showlegend": true,
         "type": "scatter",
         "x": [
          1,
          2,
          3,
          4,
          5,
          6,
          7,
          8,
          9,
          10,
          11,
          12
         ],
         "xaxis": "x",
         "y": [
          20.6,
          20.9,
          21.8,
          22.3,
          22.9,
          23.3,
          23.6,
          23.7,
          23.6,
          23.1,
          22.1,
          21
         ],
         "yaxis": "y"
        },
        {
         "legendgroup": "2081-2100",
         "line": {
          "color": "rgba(10, 10, 150,0.3)"
         },
         "mode": "lines",
         "name": "2081-2100 ssp126",
         "showlegend": true,
         "type": "scatter",
         "x": [
          1,
          2,
          3,
          4,
          5,
          6,
          7,
          8,
          9,
          10,
          11,
          12
         ],
         "xaxis": "x",
         "y": [
          20.3,
          20.9,
          21.7,
          22.2,
          22.7,
          23.2,
          23.5,
          23.5,
          23.5,
          23,
          21.9,
          20.8
         ],
         "yaxis": "y"
        },
        {
         "legendgroup": "1970-2000 Mean",
         "line": {
          "color": "rgba(0,0,0,0.5)"
         },
         "marker": {
          "color": "rgba(0,0,0,0)",
          "line": {
           "color": "rgba(0,0,0,0.5)",
           "width": 1
          }
         },
         "mode": "lines+markers",
         "name": "1970-2000 Mean",
         "showlegend": false,
         "type": "scatter",
         "x": [
          1,
          2,
          3,
          4,
          5,
          6,
          7,
          8,
          9,
          10,
          11,
          12
         ],
         "xaxis": "x2",
         "y": [
          19.4,
          19.8,
          20.7,
          21.2,
          21.8,
          22.2,
          22.6,
          22.7,
          22.5,
          22,
          20.9,
          19.8
         ],
         "yaxis": "y2"
        },
        {
         "legendgroup": "2021-2040",
         "line": {
          "color": "rgba(150, 10, 10,1)"
         },
         "mode": "lines",
         "name": "2021-2040 ssp245",
         "showlegend": true,
         "type": "scatter",
         "x": [
          1,
          2,
          3,
          4,
          5,
          6,
          7,
          8,
          9,
          10,
          11,
          12
         ],
         "xaxis": "x2",
         "y": [
          20.3,
          20.7,
          21.4,
          22,
          22.6,
          23.1,
          23.5,
          23.6,
          23.5,
          22.9,
          21.8,
          20.9
         ],
         "yaxis": "y2"
        },
        {
         "legendgroup": "2041-2060",
         "line": {
          "color": "rgba(150, 10, 10,0.75)"
         },
         "mode": "lines",
         "name": "2041-2060 ssp245",
         "showlegend": true,
         "type": "scatter",
         "x": [
          1,
          2,
          3,
          4,
          5,
          6,
          7,
          8,
          9,
          10,
          11,
          12
         ],
         "xaxis": "x2",
         "y": [
          20.6,
          21.2,
          22,
          22.5,
          23,
          23.5,
          23.8,
          23.8,
          23.7,
          23.2,
          22.3,
          21.2
         ],
         "yaxis": "y2"
        },
        {
         "legendgroup": "2061-2080",
         "line": {
          "color": "rgba(150, 10, 10,0.5)"
         },
         "mode": "lines",
         "name": "2061-2080 ssp245",
         "showlegend": true,
         "type": "scatter",
         "x": [
          1,
          2,
          3,
          4,
          5,
          6,
          7,
          8,
          9,
          10,
          11,
          12
         ],
         "xaxis": "x2",
         "y": [
          21,
          21.6,
          22.3,
          22.7,
          23.4,
          23.7,
          23.9,
          24.1,
          24.2,
          23.6,
          22.6,
          21.4
         ],
         "yaxis": "y2"
        },
        {
         "legendgroup": "2081-2100",
         "line": {
          "color": "rgba(150, 10, 10,0.3)"
         },
         "mode": "lines",
         "name": "2081-2100 ssp245",
         "showlegend": true,
         "type": "scatter",
         "x": [
          1,
          2,
          3,
          4,
          5,
          6,
          7,
          8,
          9,
          10,
          11,
          12
         ],
         "xaxis": "x2",
         "y": [
          21.3,
          21.8,
          22.6,
          23.1,
          23.6,
          24.1,
          24.3,
          24.5,
          24.4,
          23.8,
          23,
          21.8
         ],
         "yaxis": "y2"
        },
        {
         "legendgroup": "1970-2000 Mean",
         "line": {
          "color": "rgba(0,0,0,0.5)"
         },
         "marker": {
          "color": "rgba(0,0,0,0)",
          "line": {
           "color": "rgba(0,0,0,0.5)",
           "width": 1
          }
         },
         "mode": "lines+markers",
         "name": "1970-2000 Mean",
         "showlegend": false,
         "type": "scatter",
         "x": [
          1,
          2,
          3,
          4,
          5,
          6,
          7,
          8,
          9,
          10,
          11,
          12
         ],
         "xaxis": "x3",
         "y": [
          19.4,
          19.8,
          20.7,
          21.2,
          21.8,
          22.2,
          22.6,
          22.7,
          22.5,
          22,
          20.9,
          19.8
         ],
         "yaxis": "y3"
        },
        {
         "legendgroup": "2021-2040",
         "line": {
          "color": "rgba(10, 150, 10,1)"
         },
         "mode": "lines",
         "name": "2021-2040 ssp370",
         "showlegend": true,
         "type": "scatter",
         "x": [
          1,
          2,
          3,
          4,
          5,
          6,
          7,
          8,
          9,
          10,
          11,
          12
         ],
         "xaxis": "x3",
         "y": [
          20.3,
          20.8,
          21.6,
          22.1,
          22.7,
          23.1,
          23.3,
          23.6,
          23.5,
          23,
          21.9,
          20.8
         ],
         "yaxis": "y3"
        },
        {
         "legendgroup": "2041-2060",
         "line": {
          "color": "rgba(10, 150, 10,0.75)"
         },
         "mode": "lines",
         "name": "2041-2060 ssp370",
         "showlegend": true,
         "type": "scatter",
         "x": [
          1,
          2,
          3,
          4,
          5,
          6,
          7,
          8,
          9,
          10,
          11,
          12
         ],
         "xaxis": "x3",
         "y": [
          21,
          21.3,
          22.3,
          22.8,
          23.3,
          23.7,
          24,
          24.2,
          24.1,
          23.6,
          22.6,
          21.5
         ],
         "yaxis": "y3"
        },
        {
         "legendgroup": "2061-2080",
         "line": {
          "color": "rgba(10, 150, 10,0.5)"
         },
         "mode": "lines",
         "name": "2061-2080 ssp370",
         "showlegend": true,
         "type": "scatter",
         "x": [
          1,
          2,
          3,
          4,
          5,
          6,
          7,
          8,
          9,
          10,
          11,
          12
         ],
         "xaxis": "x3",
         "y": [
          21.6,
          22,
          22.8,
          23.4,
          23.9,
          24.3,
          24.6,
          24.8,
          24.8,
          24.1,
          23.2,
          22.1
         ],
         "yaxis": "y3"
        },
        {
         "legendgroup": "2081-2100",
         "line": {
          "color": "rgba(10, 150, 10,0.3)"
         },
         "mode": "lines",
         "name": "2081-2100 ssp370",
         "showlegend": true,
         "type": "scatter",
         "x": [
          1,
          2,
          3,
          4,
          5,
          6,
          7,
          8,
          9,
          10,
          11,
          12
         ],
         "xaxis": "x3",
         "y": [
          22.1,
          22.6,
          23.4,
          23.9,
          24.5,
          24.9,
          25.2,
          25.5,
          25.5,
          24.8,
          23.9,
          22.7
         ],
         "yaxis": "y3"
        },
        {
         "legendgroup": "1970-2000 Mean",
         "line": {
          "color": "rgba(0,0,0,0.5)"
         },
         "marker": {
          "color": "rgba(0,0,0,0)",
          "line": {
           "color": "rgba(0,0,0,0.5)",
           "width": 1
          }
         },
         "mode": "lines+markers",
         "name": "1970-2000 Mean",
         "showlegend": false,
         "type": "scatter",
         "x": [
          1,
          2,
          3,
          4,
          5,
          6,
          7,
          8,
          9,
          10,
          11,
          12
         ],
         "xaxis": "x4",
         "y": [
          19.4,
          19.8,
          20.7,
          21.2,
          21.8,
          22.2,
          22.6,
          22.7,
          22.5,
          22,
          20.9,
          19.8
         ],
         "yaxis": "y4"
        },
        {
         "legendgroup": "2021-2040",
         "line": {
          "color": "rgba(250, 170, 60,1)"
         },
         "mode": "lines",
         "name": "2021-2040 ssp585",
         "showlegend": true,
         "type": "scatter",
         "x": [
          1,
          2,
          3,
          4,
          5,
          6,
          7,
          8,
          9,
          10,
          11,
          12
         ],
         "xaxis": "x4",
         "y": [
          20.4,
          20.9,
          21.5,
          22.3,
          22.7,
          23.2,
          23.5,
          23.6,
          23.6,
          22.9,
          22,
          20.9
         ],
         "yaxis": "y4"
        },
        {
         "legendgroup": "2041-2060",
         "line": {
          "color": "rgba(250, 170, 60,0.75)"
         },
         "mode": "lines",
         "name": "2041-2060 ssp585",
         "showlegend": true,
         "type": "scatter",
         "x": [
          1,
          2,
          3,
          4,
          5,
          6,
          7,
          8,
          9,
          10,
          11,
          12
         ],
         "xaxis": "x4",
         "y": [
          21,
          21.4,
          22.1,
          22.9,
          23.4,
          23.8,
          24,
          24.2,
          24.2,
          23.6,
          22.6,
          21.6
         ],
         "yaxis": "y4"
        },
        {
         "legendgroup": "2061-2080",
         "line": {
          "color": "rgba(250, 170, 60,0.5)"
         },
         "mode": "lines",
         "name": "2061-2080 ssp585",
         "showlegend": true,
         "type": "scatter",
         "x": [
          1,
          2,
          3,
          4,
          5,
          6,
          7,
          8,
          9,
          10,
          11,
          12
         ],
         "xaxis": "x4",
         "y": [
          21.8,
          22.1,
          23.1,
          23.5,
          24.1,
          24.5,
          24.8,
          24.9,
          25,
          24.4,
          23.4,
          22.3
         ],
         "yaxis": "y4"
        },
        {
         "legendgroup": "2081-2100",
         "line": {
          "color": "rgba(250, 170, 60,0.3)"
         },
         "mode": "lines",
         "name": "2081-2100 ssp585",
         "showlegend": true,
         "type": "scatter",
         "x": [
          1,
          2,
          3,
          4,
          5,
          6,
          7,
          8,
          9,
          10,
          11,
          12
         ],
         "xaxis": "x4",
         "y": [
          22.4,
          22.9,
          23.7,
          24.2,
          24.8,
          25.1,
          25.3,
          25.7,
          25.7,
          25.1,
          24,
          22.9
         ],
         "yaxis": "y4"
        }
       ],
       "layout": {
        "annotations": [
         {
          "font": {
           "size": 16
          },
          "showarrow": false,
          "text": "ssp1-2.6",
          "x": 0.5,
          "xanchor": "center",
          "xref": "paper",
          "y": 1,
          "yanchor": "bottom",
          "yref": "paper"
         },
         {
          "font": {
           "size": 16
          },
          "showarrow": false,
          "text": "ssp2-4.5",
          "x": 0.5,
          "xanchor": "center",
          "xref": "paper",
          "y": 0.7375,
          "yanchor": "bottom",
          "yref": "paper"
         },
         {
          "font": {
           "size": 16
          },
          "showarrow": false,
          "text": "ssp3-7.0",
          "x": 0.5,
          "xanchor": "center",
          "xref": "paper",
          "y": 0.475,
          "yanchor": "bottom",
          "yref": "paper"
         },
         {
          "font": {
           "size": 16
          },
          "showarrow": false,
          "text": "ssp5-8.5",
          "x": 0.5,
          "xanchor": "center",
          "xref": "paper",
          "y": 0.2125,
          "yanchor": "bottom",
          "yref": "paper"
         }
        ],
        "height": 900,
        "hovermode": "x",
        "showlegend": true,
        "template": {
         "data": {
          "bar": [
           {
            "error_x": {
             "color": "#2a3f5f"
            },
            "error_y": {
             "color": "#2a3f5f"
            },
            "marker": {
             "line": {
              "color": "#E5ECF6",
              "width": 0.5
             }
            },
            "type": "bar"
           }
          ],
          "barpolar": [
           {
            "marker": {
             "line": {
              "color": "#E5ECF6",
              "width": 0.5
             }
            },
            "type": "barpolar"
           }
          ],
          "carpet": [
           {
            "aaxis": {
             "endlinecolor": "#2a3f5f",
             "gridcolor": "white",
             "linecolor": "white",
             "minorgridcolor": "white",
             "startlinecolor": "#2a3f5f"
            },
            "baxis": {
             "endlinecolor": "#2a3f5f",
             "gridcolor": "white",
             "linecolor": "white",
             "minorgridcolor": "white",
             "startlinecolor": "#2a3f5f"
            },
            "type": "carpet"
           }
          ],
          "choropleth": [
           {
            "colorbar": {
             "outlinewidth": 0,
             "ticks": ""
            },
            "type": "choropleth"
           }
          ],
          "contour": [
           {
            "colorbar": {
             "outlinewidth": 0,
             "ticks": ""
            },
            "colorscale": [
             [
              0,
              "#0d0887"
             ],
             [
              0.1111111111111111,
              "#46039f"
             ],
             [
              0.2222222222222222,
              "#7201a8"
             ],
             [
              0.3333333333333333,
              "#9c179e"
             ],
             [
              0.4444444444444444,
              "#bd3786"
             ],
             [
              0.5555555555555556,
              "#d8576b"
             ],
             [
              0.6666666666666666,
              "#ed7953"
             ],
             [
              0.7777777777777778,
              "#fb9f3a"
             ],
             [
              0.8888888888888888,
              "#fdca26"
             ],
             [
              1,
              "#f0f921"
             ]
            ],
            "type": "contour"
           }
          ],
          "contourcarpet": [
           {
            "colorbar": {
             "outlinewidth": 0,
             "ticks": ""
            },
            "type": "contourcarpet"
           }
          ],
          "heatmap": [
           {
            "colorbar": {
             "outlinewidth": 0,
             "ticks": ""
            },
            "colorscale": [
             [
              0,
              "#0d0887"
             ],
             [
              0.1111111111111111,
              "#46039f"
             ],
             [
              0.2222222222222222,
              "#7201a8"
             ],
             [
              0.3333333333333333,
              "#9c179e"
             ],
             [
              0.4444444444444444,
              "#bd3786"
             ],
             [
              0.5555555555555556,
              "#d8576b"
             ],
             [
              0.6666666666666666,
              "#ed7953"
             ],
             [
              0.7777777777777778,
              "#fb9f3a"
             ],
             [
              0.8888888888888888,
              "#fdca26"
             ],
             [
              1,
              "#f0f921"
             ]
            ],
            "type": "heatmap"
           }
          ],
          "heatmapgl": [
           {
            "colorbar": {
             "outlinewidth": 0,
             "ticks": ""
            },
            "colorscale": [
             [
              0,
              "#0d0887"
             ],
             [
              0.1111111111111111,
              "#46039f"
             ],
             [
              0.2222222222222222,
              "#7201a8"
             ],
             [
              0.3333333333333333,
              "#9c179e"
             ],
             [
              0.4444444444444444,
              "#bd3786"
             ],
             [
              0.5555555555555556,
              "#d8576b"
             ],
             [
              0.6666666666666666,
              "#ed7953"
             ],
             [
              0.7777777777777778,
              "#fb9f3a"
             ],
             [
              0.8888888888888888,
              "#fdca26"
             ],
             [
              1,
              "#f0f921"
             ]
            ],
            "type": "heatmapgl"
           }
          ],
          "histogram": [
           {
            "marker": {
             "colorbar": {
              "outlinewidth": 0,
              "ticks": ""
             }
            },
            "type": "histogram"
           }
          ],
          "histogram2d": [
           {
            "colorbar": {
             "outlinewidth": 0,
             "ticks": ""
            },
            "colorscale": [
             [
              0,
              "#0d0887"
             ],
             [
              0.1111111111111111,
              "#46039f"
             ],
             [
              0.2222222222222222,
              "#7201a8"
             ],
             [
              0.3333333333333333,
              "#9c179e"
             ],
             [
              0.4444444444444444,
              "#bd3786"
             ],
             [
              0.5555555555555556,
              "#d8576b"
             ],
             [
              0.6666666666666666,
              "#ed7953"
             ],
             [
              0.7777777777777778,
              "#fb9f3a"
             ],
             [
              0.8888888888888888,
              "#fdca26"
             ],
             [
              1,
              "#f0f921"
             ]
            ],
            "type": "histogram2d"
           }
          ],
          "histogram2dcontour": [
           {
            "colorbar": {
             "outlinewidth": 0,
             "ticks": ""
            },
            "colorscale": [
             [
              0,
              "#0d0887"
             ],
             [
              0.1111111111111111,
              "#46039f"
             ],
             [
              0.2222222222222222,
              "#7201a8"
             ],
             [
              0.3333333333333333,
              "#9c179e"
             ],
             [
              0.4444444444444444,
              "#bd3786"
             ],
             [
              0.5555555555555556,
              "#d8576b"
             ],
             [
              0.6666666666666666,
              "#ed7953"
             ],
             [
              0.7777777777777778,
              "#fb9f3a"
             ],
             [
              0.8888888888888888,
              "#fdca26"
             ],
             [
              1,
              "#f0f921"
             ]
            ],
            "type": "histogram2dcontour"
           }
          ],
          "mesh3d": [
           {
            "colorbar": {
             "outlinewidth": 0,
             "ticks": ""
            },
            "type": "mesh3d"
           }
          ],
          "parcoords": [
           {
            "line": {
             "colorbar": {
              "outlinewidth": 0,
              "ticks": ""
             }
            },
            "type": "parcoords"
           }
          ],
          "pie": [
           {
            "automargin": true,
            "type": "pie"
           }
          ],
          "scatter": [
           {
            "marker": {
             "colorbar": {
              "outlinewidth": 0,
              "ticks": ""
             }
            },
            "type": "scatter"
           }
          ],
          "scatter3d": [
           {
            "line": {
             "colorbar": {
              "outlinewidth": 0,
              "ticks": ""
             }
            },
            "marker": {
             "colorbar": {
              "outlinewidth": 0,
              "ticks": ""
             }
            },
            "type": "scatter3d"
           }
          ],
          "scattercarpet": [
           {
            "marker": {
             "colorbar": {
              "outlinewidth": 0,
              "ticks": ""
             }
            },
            "type": "scattercarpet"
           }
          ],
          "scattergeo": [
           {
            "marker": {
             "colorbar": {
              "outlinewidth": 0,
              "ticks": ""
             }
            },
            "type": "scattergeo"
           }
          ],
          "scattergl": [
           {
            "marker": {
             "colorbar": {
              "outlinewidth": 0,
              "ticks": ""
             }
            },
            "type": "scattergl"
           }
          ],
          "scattermapbox": [
           {
            "marker": {
             "colorbar": {
              "outlinewidth": 0,
              "ticks": ""
             }
            },
            "type": "scattermapbox"
           }
          ],
          "scatterpolar": [
           {
            "marker": {
             "colorbar": {
              "outlinewidth": 0,
              "ticks": ""
             }
            },
            "type": "scatterpolar"
           }
          ],
          "scatterpolargl": [
           {
            "marker": {
             "colorbar": {
              "outlinewidth": 0,
              "ticks": ""
             }
            },
            "type": "scatterpolargl"
           }
          ],
          "scatterternary": [
           {
            "marker": {
             "colorbar": {
              "outlinewidth": 0,
              "ticks": ""
             }
            },
            "type": "scatterternary"
           }
          ],
          "surface": [
           {
            "colorbar": {
             "outlinewidth": 0,
             "ticks": ""
            },
            "colorscale": [
             [
              0,
              "#0d0887"
             ],
             [
              0.1111111111111111,
              "#46039f"
             ],
             [
              0.2222222222222222,
              "#7201a8"
             ],
             [
              0.3333333333333333,
              "#9c179e"
             ],
             [
              0.4444444444444444,
              "#bd3786"
             ],
             [
              0.5555555555555556,
              "#d8576b"
             ],
             [
              0.6666666666666666,
              "#ed7953"
             ],
             [
              0.7777777777777778,
              "#fb9f3a"
             ],
             [
              0.8888888888888888,
              "#fdca26"
             ],
             [
              1,
              "#f0f921"
             ]
            ],
            "type": "surface"
           }
          ],
          "table": [
           {
            "cells": {
             "fill": {
              "color": "#EBF0F8"
             },
             "line": {
              "color": "white"
             }
            },
            "header": {
             "fill": {
              "color": "#C8D4E3"
             },
             "line": {
              "color": "white"
             }
            },
            "type": "table"
           }
          ]
         },
         "layout": {
          "annotationdefaults": {
           "arrowcolor": "#2a3f5f",
           "arrowhead": 0,
           "arrowwidth": 1
          },
          "autotypenumbers": "strict",
          "coloraxis": {
           "colorbar": {
            "outlinewidth": 0,
            "ticks": ""
           }
          },
          "colorscale": {
           "diverging": [
            [
             0,
             "#8e0152"
            ],
            [
             0.1,
             "#c51b7d"
            ],
            [
             0.2,
             "#de77ae"
            ],
            [
             0.3,
             "#f1b6da"
            ],
            [
             0.4,
             "#fde0ef"
            ],
            [
             0.5,
             "#f7f7f7"
            ],
            [
             0.6,
             "#e6f5d0"
            ],
            [
             0.7,
             "#b8e186"
            ],
            [
             0.8,
             "#7fbc41"
            ],
            [
             0.9,
             "#4d9221"
            ],
            [
             1,
             "#276419"
            ]
           ],
           "sequential": [
            [
             0,
             "#0d0887"
            ],
            [
             0.1111111111111111,
             "#46039f"
            ],
            [
             0.2222222222222222,
             "#7201a8"
            ],
            [
             0.3333333333333333,
             "#9c179e"
            ],
            [
             0.4444444444444444,
             "#bd3786"
            ],
            [
             0.5555555555555556,
             "#d8576b"
            ],
            [
             0.6666666666666666,
             "#ed7953"
            ],
            [
             0.7777777777777778,
             "#fb9f3a"
            ],
            [
             0.8888888888888888,
             "#fdca26"
            ],
            [
             1,
             "#f0f921"
            ]
           ],
           "sequentialminus": [
            [
             0,
             "#0d0887"
            ],
            [
             0.1111111111111111,
             "#46039f"
            ],
            [
             0.2222222222222222,
             "#7201a8"
            ],
            [
             0.3333333333333333,
             "#9c179e"
            ],
            [
             0.4444444444444444,
             "#bd3786"
            ],
            [
             0.5555555555555556,
             "#d8576b"
            ],
            [
             0.6666666666666666,
             "#ed7953"
            ],
            [
             0.7777777777777778,
             "#fb9f3a"
            ],
            [
             0.8888888888888888,
             "#fdca26"
            ],
            [
             1,
             "#f0f921"
            ]
           ]
          },
          "colorway": [
           "#636efa",
           "#EF553B",
           "#00cc96",
           "#ab63fa",
           "#FFA15A",
           "#19d3f3",
           "#FF6692",
           "#B6E880",
           "#FF97FF",
           "#FECB52"
          ],
          "font": {
           "color": "#2a3f5f"
          },
          "geo": {
           "bgcolor": "white",
           "lakecolor": "white",
           "landcolor": "#E5ECF6",
           "showlakes": true,
           "showland": true,
           "subunitcolor": "white"
          },
          "hoverlabel": {
           "align": "left"
          },
          "hovermode": "closest",
          "mapbox": {
           "style": "light"
          },
          "paper_bgcolor": "white",
          "plot_bgcolor": "#E5ECF6",
          "polar": {
           "angularaxis": {
            "gridcolor": "white",
            "linecolor": "white",
            "ticks": ""
           },
           "bgcolor": "#E5ECF6",
           "radialaxis": {
            "gridcolor": "white",
            "linecolor": "white",
            "ticks": ""
           }
          },
          "scene": {
           "xaxis": {
            "backgroundcolor": "#E5ECF6",
            "gridcolor": "white",
            "gridwidth": 2,
            "linecolor": "white",
            "showbackground": true,
            "ticks": "",
            "zerolinecolor": "white"
           },
           "yaxis": {
            "backgroundcolor": "#E5ECF6",
            "gridcolor": "white",
            "gridwidth": 2,
            "linecolor": "white",
            "showbackground": true,
            "ticks": "",
            "zerolinecolor": "white"
           },
           "zaxis": {
            "backgroundcolor": "#E5ECF6",
            "gridcolor": "white",
            "gridwidth": 2,
            "linecolor": "white",
            "showbackground": true,
            "ticks": "",
            "zerolinecolor": "white"
           }
          },
          "shapedefaults": {
           "line": {
            "color": "#2a3f5f"
           }
          },
          "ternary": {
           "aaxis": {
            "gridcolor": "white",
            "linecolor": "white",
            "ticks": ""
           },
           "baxis": {
            "gridcolor": "white",
            "linecolor": "white",
            "ticks": ""
           },
           "bgcolor": "#E5ECF6",
           "caxis": {
            "gridcolor": "white",
            "linecolor": "white",
            "ticks": ""
           }
          },
          "title": {
           "x": 0.05
          },
          "xaxis": {
           "automargin": true,
           "gridcolor": "white",
           "linecolor": "white",
           "ticks": "",
           "title": {
            "standoff": 15
           },
           "zerolinecolor": "white",
           "zerolinewidth": 2
          },
          "yaxis": {
           "automargin": true,
           "gridcolor": "white",
           "linecolor": "white",
           "ticks": "",
           "title": {
            "standoff": 15
           },
           "zerolinecolor": "white",
           "zerolinewidth": 2
          }
         }
        },
        "title": {
         "text": "Monthly projections for each future period and each scenario (median of 1 GCMs)"
        },
        "width": 800,
        "xaxis": {
         "anchor": "y",
         "domain": [
          0,
          1
         ],
         "tickvals": [
          1,
          2,
          3,
          4,
          5,
          6,
          7,
          8,
          9,
          10,
          11,
          12
         ]
        },
        "xaxis2": {
         "anchor": "y2",
         "domain": [
          0,
          1
         ],
         "tickvals": [
          1,
          2,
          3,
          4,
          5,
          6,
          7,
          8,
          9,
          10,
          11,
          12
         ]
        },
        "xaxis3": {
         "anchor": "y3",
         "domain": [
          0,
          1
         ],
         "tickvals": [
          1,
          2,
          3,
          4,
          5,
          6,
          7,
          8,
          9,
          10,
          11,
          12
         ]
        },
        "xaxis4": {
         "anchor": "y4",
         "domain": [
          0,
          1
         ],
         "tickvals": [
          1,
          2,
          3,
          4,
          5,
          6,
          7,
          8,
          9,
          10,
          11,
          12
         ]
        },
        "yaxis": {
         "anchor": "x",
         "domain": [
          0.7875,
          1
         ],
         "title": {
          "text": "°C"
         }
        },
        "yaxis2": {
         "anchor": "x2",
         "domain": [
          0.525,
          0.7375
         ],
         "title": {
          "text": "°C"
         }
        },
        "yaxis3": {
         "anchor": "x3",
         "domain": [
          0.2625,
          0.475
         ],
         "title": {
          "text": "°C"
         }
        },
        "yaxis4": {
         "anchor": "x4",
         "domain": [
          0,
          0.2125
         ],
         "title": {
          "text": "°C"
         }
        }
       }
      },
      "text/html": [
       "<div>                            <div id=\"71cf36d3-b8ec-4db9-9198-7cab7190ec46\" class=\"plotly-graph-div\" style=\"height:900px; width:800px;\"></div>            <script type=\"text/javascript\">                require([\"plotly\"], function(Plotly) {                    window.PLOTLYENV=window.PLOTLYENV || {};                                    if (document.getElementById(\"71cf36d3-b8ec-4db9-9198-7cab7190ec46\")) {                    Plotly.newPlot(                        \"71cf36d3-b8ec-4db9-9198-7cab7190ec46\",                        [{\"legendgroup\": \"1970-2000 Mean\", \"line\": {\"color\": \"rgba(0,0,0,0.5)\"}, \"marker\": {\"color\": \"rgba(0,0,0,0)\", \"line\": {\"color\": \"rgba(0,0,0,0.5)\", \"width\": 1}}, \"mode\": \"lines+markers\", \"name\": \"1970-2000 Mean\", \"showlegend\": true, \"type\": \"scatter\", \"x\": [1, 2, 3, 4, 5, 6, 7, 8, 9, 10, 11, 12], \"xaxis\": \"x\", \"y\": [19.4, 19.8, 20.7, 21.2, 21.8, 22.2, 22.6, 22.7, 22.5, 22.0, 20.9, 19.8], \"yaxis\": \"y\"}, {\"legendgroup\": \"2021-2040\", \"line\": {\"color\": \"rgba(10, 10, 150,1)\"}, \"mode\": \"lines\", \"name\": \"2021-2040 ssp126\", \"showlegend\": true, \"type\": \"scatter\", \"x\": [1, 2, 3, 4, 5, 6, 7, 8, 9, 10, 11, 12], \"xaxis\": \"x\", \"y\": [20.2, 20.7, 21.4, 22.1, 22.6, 23.0, 23.3, 23.4, 23.3, 22.8, 21.8, 20.7], \"yaxis\": \"y\"}, {\"legendgroup\": \"2041-2060\", \"line\": {\"color\": \"rgba(10, 10, 150,0.75)\"}, \"mode\": \"lines\", \"name\": \"2041-2060 ssp126\", \"showlegend\": true, \"type\": \"scatter\", \"x\": [1, 2, 3, 4, 5, 6, 7, 8, 9, 10, 11, 12], \"xaxis\": \"x\", \"y\": [20.5, 20.9, 21.7, 22.2, 22.8, 23.1, 23.4, 23.6, 23.4, 22.9, 22.0, 20.8], \"yaxis\": \"y\"}, {\"legendgroup\": \"2061-2080\", \"line\": {\"color\": \"rgba(10, 10, 150,0.5)\"}, \"mode\": \"lines\", \"name\": \"2061-2080 ssp126\", \"showlegend\": true, \"type\": \"scatter\", \"x\": [1, 2, 3, 4, 5, 6, 7, 8, 9, 10, 11, 12], \"xaxis\": \"x\", \"y\": [20.6, 20.9, 21.8, 22.3, 22.9, 23.3, 23.6, 23.7, 23.6, 23.1, 22.1, 21.0], \"yaxis\": \"y\"}, {\"legendgroup\": \"2081-2100\", \"line\": {\"color\": \"rgba(10, 10, 150,0.3)\"}, \"mode\": \"lines\", \"name\": \"2081-2100 ssp126\", \"showlegend\": true, \"type\": \"scatter\", \"x\": [1, 2, 3, 4, 5, 6, 7, 8, 9, 10, 11, 12], \"xaxis\": \"x\", \"y\": [20.3, 20.9, 21.7, 22.2, 22.7, 23.2, 23.5, 23.5, 23.5, 23.0, 21.9, 20.8], \"yaxis\": \"y\"}, {\"legendgroup\": \"1970-2000 Mean\", \"line\": {\"color\": \"rgba(0,0,0,0.5)\"}, \"marker\": {\"color\": \"rgba(0,0,0,0)\", \"line\": {\"color\": \"rgba(0,0,0,0.5)\", \"width\": 1}}, \"mode\": \"lines+markers\", \"name\": \"1970-2000 Mean\", \"showlegend\": false, \"type\": \"scatter\", \"x\": [1, 2, 3, 4, 5, 6, 7, 8, 9, 10, 11, 12], \"xaxis\": \"x2\", \"y\": [19.4, 19.8, 20.7, 21.2, 21.8, 22.2, 22.6, 22.7, 22.5, 22.0, 20.9, 19.8], \"yaxis\": \"y2\"}, {\"legendgroup\": \"2021-2040\", \"line\": {\"color\": \"rgba(150, 10, 10,1)\"}, \"mode\": \"lines\", \"name\": \"2021-2040 ssp245\", \"showlegend\": true, \"type\": \"scatter\", \"x\": [1, 2, 3, 4, 5, 6, 7, 8, 9, 10, 11, 12], \"xaxis\": \"x2\", \"y\": [20.3, 20.7, 21.4, 22.0, 22.6, 23.1, 23.5, 23.6, 23.5, 22.9, 21.8, 20.9], \"yaxis\": \"y2\"}, {\"legendgroup\": \"2041-2060\", \"line\": {\"color\": \"rgba(150, 10, 10,0.75)\"}, \"mode\": \"lines\", \"name\": \"2041-2060 ssp245\", \"showlegend\": true, \"type\": \"scatter\", \"x\": [1, 2, 3, 4, 5, 6, 7, 8, 9, 10, 11, 12], \"xaxis\": \"x2\", \"y\": [20.6, 21.2, 22.0, 22.5, 23.0, 23.5, 23.8, 23.8, 23.7, 23.2, 22.3, 21.2], \"yaxis\": \"y2\"}, {\"legendgroup\": \"2061-2080\", \"line\": {\"color\": \"rgba(150, 10, 10,0.5)\"}, \"mode\": \"lines\", \"name\": \"2061-2080 ssp245\", \"showlegend\": true, \"type\": \"scatter\", \"x\": [1, 2, 3, 4, 5, 6, 7, 8, 9, 10, 11, 12], \"xaxis\": \"x2\", \"y\": [21.0, 21.6, 22.3, 22.7, 23.4, 23.7, 23.9, 24.1, 24.2, 23.6, 22.6, 21.4], \"yaxis\": \"y2\"}, {\"legendgroup\": \"2081-2100\", \"line\": {\"color\": \"rgba(150, 10, 10,0.3)\"}, \"mode\": \"lines\", \"name\": \"2081-2100 ssp245\", \"showlegend\": true, \"type\": \"scatter\", \"x\": [1, 2, 3, 4, 5, 6, 7, 8, 9, 10, 11, 12], \"xaxis\": \"x2\", \"y\": [21.3, 21.8, 22.6, 23.1, 23.6, 24.1, 24.3, 24.5, 24.4, 23.8, 23.0, 21.8], \"yaxis\": \"y2\"}, {\"legendgroup\": \"1970-2000 Mean\", \"line\": {\"color\": \"rgba(0,0,0,0.5)\"}, \"marker\": {\"color\": \"rgba(0,0,0,0)\", \"line\": {\"color\": \"rgba(0,0,0,0.5)\", \"width\": 1}}, \"mode\": \"lines+markers\", \"name\": \"1970-2000 Mean\", \"showlegend\": false, \"type\": \"scatter\", \"x\": [1, 2, 3, 4, 5, 6, 7, 8, 9, 10, 11, 12], \"xaxis\": \"x3\", \"y\": [19.4, 19.8, 20.7, 21.2, 21.8, 22.2, 22.6, 22.7, 22.5, 22.0, 20.9, 19.8], \"yaxis\": \"y3\"}, {\"legendgroup\": \"2021-2040\", \"line\": {\"color\": \"rgba(10, 150, 10,1)\"}, \"mode\": \"lines\", \"name\": \"2021-2040 ssp370\", \"showlegend\": true, \"type\": \"scatter\", \"x\": [1, 2, 3, 4, 5, 6, 7, 8, 9, 10, 11, 12], \"xaxis\": \"x3\", \"y\": [20.3, 20.8, 21.6, 22.1, 22.7, 23.1, 23.3, 23.6, 23.5, 23.0, 21.9, 20.8], \"yaxis\": \"y3\"}, {\"legendgroup\": \"2041-2060\", \"line\": {\"color\": \"rgba(10, 150, 10,0.75)\"}, \"mode\": \"lines\", \"name\": \"2041-2060 ssp370\", \"showlegend\": true, \"type\": \"scatter\", \"x\": [1, 2, 3, 4, 5, 6, 7, 8, 9, 10, 11, 12], \"xaxis\": \"x3\", \"y\": [21.0, 21.3, 22.3, 22.8, 23.3, 23.7, 24.0, 24.2, 24.1, 23.6, 22.6, 21.5], \"yaxis\": \"y3\"}, {\"legendgroup\": \"2061-2080\", \"line\": {\"color\": \"rgba(10, 150, 10,0.5)\"}, \"mode\": \"lines\", \"name\": \"2061-2080 ssp370\", \"showlegend\": true, \"type\": \"scatter\", \"x\": [1, 2, 3, 4, 5, 6, 7, 8, 9, 10, 11, 12], \"xaxis\": \"x3\", \"y\": [21.6, 22.0, 22.8, 23.4, 23.9, 24.3, 24.6, 24.8, 24.8, 24.1, 23.2, 22.1], \"yaxis\": \"y3\"}, {\"legendgroup\": \"2081-2100\", \"line\": {\"color\": \"rgba(10, 150, 10,0.3)\"}, \"mode\": \"lines\", \"name\": \"2081-2100 ssp370\", \"showlegend\": true, \"type\": \"scatter\", \"x\": [1, 2, 3, 4, 5, 6, 7, 8, 9, 10, 11, 12], \"xaxis\": \"x3\", \"y\": [22.1, 22.6, 23.4, 23.9, 24.5, 24.9, 25.2, 25.5, 25.5, 24.8, 23.9, 22.7], \"yaxis\": \"y3\"}, {\"legendgroup\": \"1970-2000 Mean\", \"line\": {\"color\": \"rgba(0,0,0,0.5)\"}, \"marker\": {\"color\": \"rgba(0,0,0,0)\", \"line\": {\"color\": \"rgba(0,0,0,0.5)\", \"width\": 1}}, \"mode\": \"lines+markers\", \"name\": \"1970-2000 Mean\", \"showlegend\": false, \"type\": \"scatter\", \"x\": [1, 2, 3, 4, 5, 6, 7, 8, 9, 10, 11, 12], \"xaxis\": \"x4\", \"y\": [19.4, 19.8, 20.7, 21.2, 21.8, 22.2, 22.6, 22.7, 22.5, 22.0, 20.9, 19.8], \"yaxis\": \"y4\"}, {\"legendgroup\": \"2021-2040\", \"line\": {\"color\": \"rgba(250, 170, 60,1)\"}, \"mode\": \"lines\", \"name\": \"2021-2040 ssp585\", \"showlegend\": true, \"type\": \"scatter\", \"x\": [1, 2, 3, 4, 5, 6, 7, 8, 9, 10, 11, 12], \"xaxis\": \"x4\", \"y\": [20.4, 20.9, 21.5, 22.3, 22.7, 23.2, 23.5, 23.6, 23.6, 22.9, 22.0, 20.9], \"yaxis\": \"y4\"}, {\"legendgroup\": \"2041-2060\", \"line\": {\"color\": \"rgba(250, 170, 60,0.75)\"}, \"mode\": \"lines\", \"name\": \"2041-2060 ssp585\", \"showlegend\": true, \"type\": \"scatter\", \"x\": [1, 2, 3, 4, 5, 6, 7, 8, 9, 10, 11, 12], \"xaxis\": \"x4\", \"y\": [21.0, 21.4, 22.1, 22.9, 23.4, 23.8, 24.0, 24.2, 24.2, 23.6, 22.6, 21.6], \"yaxis\": \"y4\"}, {\"legendgroup\": \"2061-2080\", \"line\": {\"color\": \"rgba(250, 170, 60,0.5)\"}, \"mode\": \"lines\", \"name\": \"2061-2080 ssp585\", \"showlegend\": true, \"type\": \"scatter\", \"x\": [1, 2, 3, 4, 5, 6, 7, 8, 9, 10, 11, 12], \"xaxis\": \"x4\", \"y\": [21.8, 22.1, 23.1, 23.5, 24.1, 24.5, 24.8, 24.9, 25.0, 24.4, 23.4, 22.3], \"yaxis\": \"y4\"}, {\"legendgroup\": \"2081-2100\", \"line\": {\"color\": \"rgba(250, 170, 60,0.3)\"}, \"mode\": \"lines\", \"name\": \"2081-2100 ssp585\", \"showlegend\": true, \"type\": \"scatter\", \"x\": [1, 2, 3, 4, 5, 6, 7, 8, 9, 10, 11, 12], \"xaxis\": \"x4\", \"y\": [22.4, 22.9, 23.7, 24.2, 24.8, 25.1, 25.3, 25.7, 25.7, 25.1, 24.0, 22.9], \"yaxis\": \"y4\"}],                        {\"annotations\": [{\"font\": {\"size\": 16}, \"showarrow\": false, \"text\": \"ssp1-2.6\", \"x\": 0.5, \"xanchor\": \"center\", \"xref\": \"paper\", \"y\": 1.0, \"yanchor\": \"bottom\", \"yref\": \"paper\"}, {\"font\": {\"size\": 16}, \"showarrow\": false, \"text\": \"ssp2-4.5\", \"x\": 0.5, \"xanchor\": \"center\", \"xref\": \"paper\", \"y\": 0.7375, \"yanchor\": \"bottom\", \"yref\": \"paper\"}, {\"font\": {\"size\": 16}, \"showarrow\": false, \"text\": \"ssp3-7.0\", \"x\": 0.5, \"xanchor\": \"center\", \"xref\": \"paper\", \"y\": 0.475, \"yanchor\": \"bottom\", \"yref\": \"paper\"}, {\"font\": {\"size\": 16}, \"showarrow\": false, \"text\": \"ssp5-8.5\", \"x\": 0.5, \"xanchor\": \"center\", \"xref\": \"paper\", \"y\": 0.2125, \"yanchor\": \"bottom\", \"yref\": \"paper\"}], \"height\": 900, \"hovermode\": \"x\", \"showlegend\": true, \"template\": {\"data\": {\"bar\": [{\"error_x\": {\"color\": \"#2a3f5f\"}, \"error_y\": {\"color\": \"#2a3f5f\"}, \"marker\": {\"line\": {\"color\": \"#E5ECF6\", \"width\": 0.5}}, \"type\": \"bar\"}], \"barpolar\": [{\"marker\": {\"line\": {\"color\": \"#E5ECF6\", \"width\": 0.5}}, \"type\": \"barpolar\"}], \"carpet\": [{\"aaxis\": {\"endlinecolor\": \"#2a3f5f\", \"gridcolor\": \"white\", \"linecolor\": \"white\", \"minorgridcolor\": \"white\", \"startlinecolor\": \"#2a3f5f\"}, \"baxis\": {\"endlinecolor\": \"#2a3f5f\", \"gridcolor\": \"white\", \"linecolor\": \"white\", \"minorgridcolor\": \"white\", \"startlinecolor\": \"#2a3f5f\"}, \"type\": \"carpet\"}], \"choropleth\": [{\"colorbar\": {\"outlinewidth\": 0, \"ticks\": \"\"}, \"type\": \"choropleth\"}], \"contour\": [{\"colorbar\": {\"outlinewidth\": 0, \"ticks\": \"\"}, \"colorscale\": [[0.0, \"#0d0887\"], [0.1111111111111111, \"#46039f\"], [0.2222222222222222, \"#7201a8\"], [0.3333333333333333, \"#9c179e\"], [0.4444444444444444, \"#bd3786\"], [0.5555555555555556, \"#d8576b\"], [0.6666666666666666, \"#ed7953\"], [0.7777777777777778, \"#fb9f3a\"], [0.8888888888888888, \"#fdca26\"], [1.0, \"#f0f921\"]], \"type\": \"contour\"}], \"contourcarpet\": [{\"colorbar\": {\"outlinewidth\": 0, \"ticks\": \"\"}, \"type\": \"contourcarpet\"}], \"heatmap\": [{\"colorbar\": {\"outlinewidth\": 0, \"ticks\": \"\"}, \"colorscale\": [[0.0, \"#0d0887\"], [0.1111111111111111, \"#46039f\"], [0.2222222222222222, \"#7201a8\"], [0.3333333333333333, \"#9c179e\"], [0.4444444444444444, \"#bd3786\"], [0.5555555555555556, \"#d8576b\"], [0.6666666666666666, \"#ed7953\"], [0.7777777777777778, \"#fb9f3a\"], [0.8888888888888888, \"#fdca26\"], [1.0, \"#f0f921\"]], \"type\": \"heatmap\"}], \"heatmapgl\": [{\"colorbar\": {\"outlinewidth\": 0, \"ticks\": \"\"}, \"colorscale\": [[0.0, \"#0d0887\"], [0.1111111111111111, \"#46039f\"], [0.2222222222222222, \"#7201a8\"], [0.3333333333333333, \"#9c179e\"], [0.4444444444444444, \"#bd3786\"], [0.5555555555555556, \"#d8576b\"], [0.6666666666666666, \"#ed7953\"], [0.7777777777777778, \"#fb9f3a\"], [0.8888888888888888, \"#fdca26\"], [1.0, \"#f0f921\"]], \"type\": \"heatmapgl\"}], \"histogram\": [{\"marker\": {\"colorbar\": {\"outlinewidth\": 0, \"ticks\": \"\"}}, \"type\": \"histogram\"}], \"histogram2d\": [{\"colorbar\": {\"outlinewidth\": 0, \"ticks\": \"\"}, \"colorscale\": [[0.0, \"#0d0887\"], [0.1111111111111111, \"#46039f\"], [0.2222222222222222, \"#7201a8\"], [0.3333333333333333, \"#9c179e\"], [0.4444444444444444, \"#bd3786\"], [0.5555555555555556, \"#d8576b\"], [0.6666666666666666, \"#ed7953\"], [0.7777777777777778, \"#fb9f3a\"], [0.8888888888888888, \"#fdca26\"], [1.0, \"#f0f921\"]], \"type\": \"histogram2d\"}], \"histogram2dcontour\": [{\"colorbar\": {\"outlinewidth\": 0, \"ticks\": \"\"}, \"colorscale\": [[0.0, \"#0d0887\"], [0.1111111111111111, \"#46039f\"], [0.2222222222222222, \"#7201a8\"], [0.3333333333333333, \"#9c179e\"], [0.4444444444444444, \"#bd3786\"], [0.5555555555555556, \"#d8576b\"], [0.6666666666666666, \"#ed7953\"], [0.7777777777777778, \"#fb9f3a\"], [0.8888888888888888, \"#fdca26\"], [1.0, \"#f0f921\"]], \"type\": \"histogram2dcontour\"}], \"mesh3d\": [{\"colorbar\": {\"outlinewidth\": 0, \"ticks\": \"\"}, \"type\": \"mesh3d\"}], \"parcoords\": [{\"line\": {\"colorbar\": {\"outlinewidth\": 0, \"ticks\": \"\"}}, \"type\": \"parcoords\"}], \"pie\": [{\"automargin\": true, \"type\": \"pie\"}], \"scatter\": [{\"marker\": {\"colorbar\": {\"outlinewidth\": 0, \"ticks\": \"\"}}, \"type\": \"scatter\"}], \"scatter3d\": [{\"line\": {\"colorbar\": {\"outlinewidth\": 0, \"ticks\": \"\"}}, \"marker\": {\"colorbar\": {\"outlinewidth\": 0, \"ticks\": \"\"}}, \"type\": \"scatter3d\"}], \"scattercarpet\": [{\"marker\": {\"colorbar\": {\"outlinewidth\": 0, \"ticks\": \"\"}}, \"type\": \"scattercarpet\"}], \"scattergeo\": [{\"marker\": {\"colorbar\": {\"outlinewidth\": 0, \"ticks\": \"\"}}, \"type\": \"scattergeo\"}], \"scattergl\": [{\"marker\": {\"colorbar\": {\"outlinewidth\": 0, \"ticks\": \"\"}}, \"type\": \"scattergl\"}], \"scattermapbox\": [{\"marker\": {\"colorbar\": {\"outlinewidth\": 0, \"ticks\": \"\"}}, \"type\": \"scattermapbox\"}], \"scatterpolar\": [{\"marker\": {\"colorbar\": {\"outlinewidth\": 0, \"ticks\": \"\"}}, \"type\": \"scatterpolar\"}], \"scatterpolargl\": [{\"marker\": {\"colorbar\": {\"outlinewidth\": 0, \"ticks\": \"\"}}, \"type\": \"scatterpolargl\"}], \"scatterternary\": [{\"marker\": {\"colorbar\": {\"outlinewidth\": 0, \"ticks\": \"\"}}, \"type\": \"scatterternary\"}], \"surface\": [{\"colorbar\": {\"outlinewidth\": 0, \"ticks\": \"\"}, \"colorscale\": [[0.0, \"#0d0887\"], [0.1111111111111111, \"#46039f\"], [0.2222222222222222, \"#7201a8\"], [0.3333333333333333, \"#9c179e\"], [0.4444444444444444, \"#bd3786\"], [0.5555555555555556, \"#d8576b\"], [0.6666666666666666, \"#ed7953\"], [0.7777777777777778, \"#fb9f3a\"], [0.8888888888888888, \"#fdca26\"], [1.0, \"#f0f921\"]], \"type\": \"surface\"}], \"table\": [{\"cells\": {\"fill\": {\"color\": \"#EBF0F8\"}, \"line\": {\"color\": \"white\"}}, \"header\": {\"fill\": {\"color\": \"#C8D4E3\"}, \"line\": {\"color\": \"white\"}}, \"type\": \"table\"}]}, \"layout\": {\"annotationdefaults\": {\"arrowcolor\": \"#2a3f5f\", \"arrowhead\": 0, \"arrowwidth\": 1}, \"autotypenumbers\": \"strict\", \"coloraxis\": {\"colorbar\": {\"outlinewidth\": 0, \"ticks\": \"\"}}, \"colorscale\": {\"diverging\": [[0, \"#8e0152\"], [0.1, \"#c51b7d\"], [0.2, \"#de77ae\"], [0.3, \"#f1b6da\"], [0.4, \"#fde0ef\"], [0.5, \"#f7f7f7\"], [0.6, \"#e6f5d0\"], [0.7, \"#b8e186\"], [0.8, \"#7fbc41\"], [0.9, \"#4d9221\"], [1, \"#276419\"]], \"sequential\": [[0.0, \"#0d0887\"], [0.1111111111111111, \"#46039f\"], [0.2222222222222222, \"#7201a8\"], [0.3333333333333333, \"#9c179e\"], [0.4444444444444444, \"#bd3786\"], [0.5555555555555556, \"#d8576b\"], [0.6666666666666666, \"#ed7953\"], [0.7777777777777778, \"#fb9f3a\"], [0.8888888888888888, \"#fdca26\"], [1.0, \"#f0f921\"]], \"sequentialminus\": [[0.0, \"#0d0887\"], [0.1111111111111111, \"#46039f\"], [0.2222222222222222, \"#7201a8\"], [0.3333333333333333, \"#9c179e\"], [0.4444444444444444, \"#bd3786\"], [0.5555555555555556, \"#d8576b\"], [0.6666666666666666, \"#ed7953\"], [0.7777777777777778, \"#fb9f3a\"], [0.8888888888888888, \"#fdca26\"], [1.0, \"#f0f921\"]]}, \"colorway\": [\"#636efa\", \"#EF553B\", \"#00cc96\", \"#ab63fa\", \"#FFA15A\", \"#19d3f3\", \"#FF6692\", \"#B6E880\", \"#FF97FF\", \"#FECB52\"], \"font\": {\"color\": \"#2a3f5f\"}, \"geo\": {\"bgcolor\": \"white\", \"lakecolor\": \"white\", \"landcolor\": \"#E5ECF6\", \"showlakes\": true, \"showland\": true, \"subunitcolor\": \"white\"}, \"hoverlabel\": {\"align\": \"left\"}, \"hovermode\": \"closest\", \"mapbox\": {\"style\": \"light\"}, \"paper_bgcolor\": \"white\", \"plot_bgcolor\": \"#E5ECF6\", \"polar\": {\"angularaxis\": {\"gridcolor\": \"white\", \"linecolor\": \"white\", \"ticks\": \"\"}, \"bgcolor\": \"#E5ECF6\", \"radialaxis\": {\"gridcolor\": \"white\", \"linecolor\": \"white\", \"ticks\": \"\"}}, \"scene\": {\"xaxis\": {\"backgroundcolor\": \"#E5ECF6\", \"gridcolor\": \"white\", \"gridwidth\": 2, \"linecolor\": \"white\", \"showbackground\": true, \"ticks\": \"\", \"zerolinecolor\": \"white\"}, \"yaxis\": {\"backgroundcolor\": \"#E5ECF6\", \"gridcolor\": \"white\", \"gridwidth\": 2, \"linecolor\": \"white\", \"showbackground\": true, \"ticks\": \"\", \"zerolinecolor\": \"white\"}, \"zaxis\": {\"backgroundcolor\": \"#E5ECF6\", \"gridcolor\": \"white\", \"gridwidth\": 2, \"linecolor\": \"white\", \"showbackground\": true, \"ticks\": \"\", \"zerolinecolor\": \"white\"}}, \"shapedefaults\": {\"line\": {\"color\": \"#2a3f5f\"}}, \"ternary\": {\"aaxis\": {\"gridcolor\": \"white\", \"linecolor\": \"white\", \"ticks\": \"\"}, \"baxis\": {\"gridcolor\": \"white\", \"linecolor\": \"white\", \"ticks\": \"\"}, \"bgcolor\": \"#E5ECF6\", \"caxis\": {\"gridcolor\": \"white\", \"linecolor\": \"white\", \"ticks\": \"\"}}, \"title\": {\"x\": 0.05}, \"xaxis\": {\"automargin\": true, \"gridcolor\": \"white\", \"linecolor\": \"white\", \"ticks\": \"\", \"title\": {\"standoff\": 15}, \"zerolinecolor\": \"white\", \"zerolinewidth\": 2}, \"yaxis\": {\"automargin\": true, \"gridcolor\": \"white\", \"linecolor\": \"white\", \"ticks\": \"\", \"title\": {\"standoff\": 15}, \"zerolinecolor\": \"white\", \"zerolinewidth\": 2}}}, \"title\": {\"text\": \"Monthly projections for each future period and each scenario (median of 1 GCMs)\"}, \"width\": 800, \"xaxis\": {\"anchor\": \"y\", \"domain\": [0.0, 1.0], \"tickvals\": [1, 2, 3, 4, 5, 6, 7, 8, 9, 10, 11, 12]}, \"xaxis2\": {\"anchor\": \"y2\", \"domain\": [0.0, 1.0], \"tickvals\": [1, 2, 3, 4, 5, 6, 7, 8, 9, 10, 11, 12]}, \"xaxis3\": {\"anchor\": \"y3\", \"domain\": [0.0, 1.0], \"tickvals\": [1, 2, 3, 4, 5, 6, 7, 8, 9, 10, 11, 12]}, \"xaxis4\": {\"anchor\": \"y4\", \"domain\": [0.0, 1.0], \"tickvals\": [1, 2, 3, 4, 5, 6, 7, 8, 9, 10, 11, 12]}, \"yaxis\": {\"anchor\": \"x\", \"domain\": [0.7875, 1.0], \"title\": {\"text\": \"\\u00b0C\"}}, \"yaxis2\": {\"anchor\": \"x2\", \"domain\": [0.525, 0.7375], \"title\": {\"text\": \"\\u00b0C\"}}, \"yaxis3\": {\"anchor\": \"x3\", \"domain\": [0.2625, 0.475], \"title\": {\"text\": \"\\u00b0C\"}}, \"yaxis4\": {\"anchor\": \"x4\", \"domain\": [0.0, 0.2125], \"title\": {\"text\": \"\\u00b0C\"}}},                        {\"responsive\": true}                    ).then(function(){\n",
       "                            \n",
       "var gd = document.getElementById('71cf36d3-b8ec-4db9-9198-7cab7190ec46');\n",
       "var x = new MutationObserver(function (mutations, observer) {{\n",
       "        var display = window.getComputedStyle(gd).display;\n",
       "        if (!display || display === 'none') {{\n",
       "            console.log([gd, 'removed!']);\n",
       "            Plotly.purge(gd);\n",
       "            observer.disconnect();\n",
       "        }}\n",
       "}});\n",
       "\n",
       "// Listen for the removal of the full notebook cells\n",
       "var notebookContainer = gd.closest('#notebook-container');\n",
       "if (notebookContainer) {{\n",
       "    x.observe(notebookContainer, {childList: true});\n",
       "}}\n",
       "\n",
       "// Listen for the clearing of the current output cell\n",
       "var outputEl = gd.closest('.output');\n",
       "if (outputEl) {{\n",
       "    x.observe(outputEl, {childList: true});\n",
       "}}\n",
       "\n",
       "                        })                };                });            </script>        </div>"
      ]
     },
     "metadata": {},
     "output_type": "display_data"
    }
   ],
   "source": [
    "\"\"\"\n",
    "Created on February 2021\n",
    "@author: Loïc Duffar\n",
    "\"\"\"\n",
    "# Initialisation\n",
    "showlegend= True\n",
    "alpha_list=[1, 0.75, 0.5, 0.3, 0.1]\n",
    "\n",
    "# Plot\n",
    "x= df_stat.columns.to_list()[:-1]\n",
    "y_historical= df_historical[:].values[0][:-1]\n",
    "\n",
    "fig = ps.make_subplots(rows= 4, cols= 1,\n",
    "                       shared_xaxes= False,\n",
    "                       vertical_spacing= 0.05,\n",
    "                       subplot_titles= ssp_list_long\n",
    "                      )\n",
    "\n",
    "rw= 0\n",
    "for scenario, rgb, rgba in zip(ssp_list, rgb_list, rgba_list):\n",
    "    showlegend_historical= True if rw==0 else False\n",
    "    rw= rw + 1\n",
    "    fig.add_trace(\n",
    "        go.Scatter(\n",
    "                    name= baseline_label,\n",
    "                    x= x,\n",
    "                    y= y_historical,\n",
    "                    mode= 'lines+markers',\n",
    "                    line= dict(color= 'rgba(0,0,0,0.5)'),\n",
    "                    marker= dict(color= 'rgba(0,0,0,0)', line= dict(color='rgba(0,0,0,0.5)', width= 1)),\n",
    "                    legendgroup= baseline_label,\n",
    "                    showlegend= showlegend_historical,\n",
    "        #            yaxis= dict(range= [df_total[test ][month].min(), df_total[test ][month].max()]),\n",
    "                        ),\n",
    "                    row= rw, col= 1\n",
    "                    )\n",
    "\n",
    "    for period, alpha in zip(period_list, alpha_list):\n",
    "        rgba= 'rgba' + rgb[3:-1] + ',' + str(alpha) + ')'\n",
    "        y= df_stat.loc[('Median', scenario, period)].values[:-1]\n",
    "        fig.add_trace(\n",
    "            go.Scatter(\n",
    "                        name= period + ' ' + scenario,\n",
    "                        x= x,\n",
    "                        y= y,\n",
    "                        mode= 'lines',\n",
    "                        line= dict(color= rgba),\n",
    "                        legendgroup= period,\n",
    "                        showlegend= showlegend,\n",
    "        #                yaxis= dict(range= [df_total[test ][month].min(), df_total[test ][month].max()]),\n",
    "                            ),        \n",
    "                        row= rw, col= 1\n",
    "                        )\n",
    "\n",
    "fig.update_layout(\n",
    "    height= 900, width= 800,\n",
    "    yaxis_title= unit,\n",
    "    title= 'Monthly projections for each future period and each scenario (median of ' + str(len(gcm_list)) +' GCMs)',\n",
    "    template= \"plotly\", # \"plotly\", \"plotly_white\", \"plotly_dark\", \"ggplot2\", \"seaborn\", \"simple_white\", \"none\"\n",
    "    hovermode= \"x\",\n",
    "#    xaxis1 = dict(tickvals = x), xaxis2 = dict(tickvals = x), xaxis3 = dict(tickvals = x), xaxis4 = dict(tickvals = x), \n",
    "#    yaxis_range= [df_total.min().max(), df_total.max().max()],\n",
    "#    legend= dict(orientation= 'h', yanchor= \"top\", y= -0.1, xanchor= \"left\", x= 0.05),\n",
    "    showlegend= True,\n",
    "    )\n",
    "\n",
    "for ax in fig['layout']:\n",
    "    if ax[:5]== 'xaxis':\n",
    "        fig['layout'][ax]['tickvals']= x\n",
    "    if ax[:5]== 'yaxis':\n",
    "        fig['layout'][ax]['title']= unit\n",
    "\n",
    "file_future_by_scenario= 'WorldClim - future by scenario.png'\n",
    "fig.write_image(os.path.join(fld_out, file_future_by_scenario))# needs installation of \"plotly-orca\" or \"kaleido\"\n",
    "fig.show()"
   ]
  },
  {
   "cell_type": "markdown",
   "metadata": {},
   "source": [
    "### <a name=section08></a>9) Store outputs in excel file"
   ]
  },
  {
   "cell_type": "code",
   "execution_count": 9,
   "metadata": {},
   "outputs": [],
   "source": [
    "\n",
    "writer = pd.ExcelWriter(os.path.join(fld_out, 'worldclim - output.xlsx'), engine= 'xlsxwriter')\n",
    "workbook  = writer.book\n",
    "df_total.to_excel(writer, sheet_name='Data')\n",
    "df_stat.to_excel(writer, sheet_name='Stat')\n",
    "worksheet = writer.sheets['Data']\n",
    "if os.path.exists(os.path.join(fld_out, file_historical)):\n",
    "    worksheet.insert_image('R1', os.path.join(fld_out, file_historical))\n",
    "\n",
    "worksheet = workbook.add_worksheet('Graph')\n",
    "if os.path.exists(os.path.join(fld_out, file_future_by_year)):\n",
    "    worksheet.insert_image('A1', os.path.join(fld_out, file_future_by_year))\n",
    "if os.path.exists(os.path.join(fld_out, file_future_by_month)):\n",
    "    worksheet.insert_image('P1', os.path.join(fld_out, file_future_by_month))\n",
    "if os.path.exists(os.path.join(fld_out, file_future_by_scenario)):\n",
    "    worksheet.insert_image('A36', os.path.join(fld_out, file_future_by_scenario))\n",
    "writer.save()"
   ]
  },
  {
   "cell_type": "code",
   "execution_count": null,
   "metadata": {},
   "outputs": [],
   "source": []
  }
 ],
 "metadata": {
  "kernelspec": {
   "display_name": "Python 3",
   "language": "python",
   "name": "python3"
  },
  "language_info": {
   "codemirror_mode": {
    "name": "ipython",
    "version": 3
   },
   "file_extension": ".py",
   "mimetype": "text/x-python",
   "name": "python",
   "nbconvert_exporter": "python",
   "pygments_lexer": "ipython3",
   "version": "3.7.9"
  }
 },
 "nbformat": 4,
 "nbformat_minor": 2
}
